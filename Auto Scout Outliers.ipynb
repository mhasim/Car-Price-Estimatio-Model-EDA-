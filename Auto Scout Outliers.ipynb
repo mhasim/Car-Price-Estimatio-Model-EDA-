{
 "cells": [
  {
   "cell_type": "markdown",
   "id": "b4476efc",
   "metadata": {},
   "source": [
    "# CAR PRICE ESTIMATION MODEL PROJECT - OUTLIERS"
   ]
  },
  {
   "cell_type": "markdown",
   "id": "2724f096",
   "metadata": {},
   "source": [
    "## IMPORTING THE LIBRARIES"
   ]
  },
  {
   "cell_type": "code",
   "execution_count": 1,
   "id": "932249ec",
   "metadata": {},
   "outputs": [],
   "source": [
    "import matplotlib.pyplot as plt\n",
    "%matplotlib inline\n",
    "import numpy as np\n",
    "import pandas as pd\n",
    "from scipy import stats\n",
    "import seaborn as sns\n",
    "import warnings;\n",
    "warnings.filterwarnings(\"ignore\")\n",
    "import re\n",
    "pd.set_option(\"display.max_columns\",None)"
   ]
  },
  {
   "cell_type": "code",
   "execution_count": 2,
   "id": "0362247d",
   "metadata": {},
   "outputs": [],
   "source": [
    "auto = pd.read_csv('auto_scout_filled.csv')\n",
    "df = auto.copy()"
   ]
  },
  {
   "cell_type": "code",
   "execution_count": 3,
   "id": "22eaa1fe",
   "metadata": {},
   "outputs": [
    {
     "name": "stdout",
     "output_type": "stream",
     "text": [
      "<class 'pandas.core.frame.DataFrame'>\n",
      "RangeIndex: 15919 entries, 0 to 15918\n",
      "Data columns (total 31 columns):\n",
      " #   Column                 Non-Null Count  Dtype  \n",
      "---  ------                 --------------  -----  \n",
      " 0   Unnamed: 0             15919 non-null  int64  \n",
      " 1   make_model             15919 non-null  object \n",
      " 2   price                  15919 non-null  float64\n",
      " 3   vat                    15919 non-null  object \n",
      " 4   km                     15919 non-null  float64\n",
      " 5   registration           15919 non-null  float64\n",
      " 6   prev_owner             15919 non-null  float64\n",
      " 7   hp                     15919 non-null  float64\n",
      " 8   Type                   15919 non-null  object \n",
      " 9   Inspection new         15919 non-null  object \n",
      " 10  Warranty(months)       15919 non-null  float64\n",
      " 11  Body Color             15919 non-null  object \n",
      " 12  Paint Type             15919 non-null  object \n",
      " 13  Body                   15919 non-null  object \n",
      " 14  Nr. of Doors           15919 non-null  float64\n",
      " 15  Nr. of Seats           15919 non-null  float64\n",
      " 16  Gearing Type           15919 non-null  object \n",
      " 17  Displacement           15919 non-null  float64\n",
      " 18  Cylinders              15919 non-null  float64\n",
      " 19  Weight                 15919 non-null  float64\n",
      " 20  Drive chain            15919 non-null  object \n",
      " 21  Fuel                   15919 non-null  object \n",
      " 22  CO2 Emission           15919 non-null  float64\n",
      " 23  Emission Class         15919 non-null  object \n",
      " 24  Gears                  15919 non-null  float64\n",
      " 25  Upholstery_Texture     15919 non-null  object \n",
      " 26  Consumption_combined   15919 non-null  float64\n",
      " 27  Extras                 15919 non-null  float64\n",
      " 28  Safety & Security      15919 non-null  float64\n",
      " 29  Entertainment & Media  15919 non-null  float64\n",
      " 30  Comfort & Convenience  15919 non-null  float64\n",
      "dtypes: float64(18), int64(1), object(12)\n",
      "memory usage: 3.8+ MB\n"
     ]
    }
   ],
   "source": [
    "df.info()"
   ]
  },
  {
   "cell_type": "code",
   "execution_count": 4,
   "id": "6a84c0ff",
   "metadata": {},
   "outputs": [],
   "source": [
    "df.drop(columns = ['Unnamed: 0'], inplace=True)"
   ]
  },
  {
   "cell_type": "markdown",
   "id": "38a45121",
   "metadata": {},
   "source": [
    "## CLEANING OUTLIERS"
   ]
  },
  {
   "cell_type": "code",
   "execution_count": 6,
   "id": "d2356ae5",
   "metadata": {},
   "outputs": [
    {
     "data": {
      "text/html": [
       "<div>\n",
       "<style scoped>\n",
       "    .dataframe tbody tr th:only-of-type {\n",
       "        vertical-align: middle;\n",
       "    }\n",
       "\n",
       "    .dataframe tbody tr th {\n",
       "        vertical-align: top;\n",
       "    }\n",
       "\n",
       "    .dataframe thead th {\n",
       "        text-align: right;\n",
       "    }\n",
       "</style>\n",
       "<table border=\"1\" class=\"dataframe\">\n",
       "  <thead>\n",
       "    <tr style=\"text-align: right;\">\n",
       "      <th></th>\n",
       "      <th>price</th>\n",
       "      <th>km</th>\n",
       "      <th>registration</th>\n",
       "      <th>prev_owner</th>\n",
       "      <th>hp</th>\n",
       "      <th>Warranty(months)</th>\n",
       "      <th>Nr. of Doors</th>\n",
       "      <th>Nr. of Seats</th>\n",
       "      <th>Displacement</th>\n",
       "      <th>Cylinders</th>\n",
       "      <th>Weight</th>\n",
       "      <th>CO2 Emission</th>\n",
       "      <th>Gears</th>\n",
       "      <th>Consumption_combined</th>\n",
       "      <th>Extras</th>\n",
       "      <th>Safety &amp; Security</th>\n",
       "      <th>Entertainment &amp; Media</th>\n",
       "      <th>Comfort &amp; Convenience</th>\n",
       "    </tr>\n",
       "  </thead>\n",
       "  <tbody>\n",
       "    <tr>\n",
       "      <th>count</th>\n",
       "      <td>15919.000000</td>\n",
       "      <td>15919.000000</td>\n",
       "      <td>15919.000000</td>\n",
       "      <td>15919.000000</td>\n",
       "      <td>15919.000000</td>\n",
       "      <td>15919.000000</td>\n",
       "      <td>15919.000000</td>\n",
       "      <td>15919.000000</td>\n",
       "      <td>15919.000000</td>\n",
       "      <td>15919.000000</td>\n",
       "      <td>15919.000000</td>\n",
       "      <td>15919.000000</td>\n",
       "      <td>15919.000000</td>\n",
       "      <td>15919.000000</td>\n",
       "      <td>15919.000000</td>\n",
       "      <td>15919.000000</td>\n",
       "      <td>15919.000000</td>\n",
       "      <td>15919.000000</td>\n",
       "    </tr>\n",
       "    <tr>\n",
       "      <th>mean</th>\n",
       "      <td>18019.896727</td>\n",
       "      <td>32104.561016</td>\n",
       "      <td>2017.605377</td>\n",
       "      <td>0.998115</td>\n",
       "      <td>88.385012</td>\n",
       "      <td>6.684654</td>\n",
       "      <td>4.660657</td>\n",
       "      <td>4.952258</td>\n",
       "      <td>1426.641498</td>\n",
       "      <td>3.785162</td>\n",
       "      <td>1343.689616</td>\n",
       "      <td>117.583579</td>\n",
       "      <td>5.939820</td>\n",
       "      <td>4.879594</td>\n",
       "      <td>2.042779</td>\n",
       "      <td>12.004020</td>\n",
       "      <td>4.283435</td>\n",
       "      <td>11.567686</td>\n",
       "    </tr>\n",
       "    <tr>\n",
       "      <th>std</th>\n",
       "      <td>7386.169409</td>\n",
       "      <td>36971.241562</td>\n",
       "      <td>1.122170</td>\n",
       "      <td>0.327945</td>\n",
       "      <td>26.840402</td>\n",
       "      <td>13.330917</td>\n",
       "      <td>0.642198</td>\n",
       "      <td>0.476599</td>\n",
       "      <td>313.985143</td>\n",
       "      <td>0.419201</td>\n",
       "      <td>211.579031</td>\n",
       "      <td>19.966895</td>\n",
       "      <td>0.791983</td>\n",
       "      <td>1.556867</td>\n",
       "      <td>1.695131</td>\n",
       "      <td>5.001606</td>\n",
       "      <td>2.324816</td>\n",
       "      <td>6.455813</td>\n",
       "    </tr>\n",
       "    <tr>\n",
       "      <th>min</th>\n",
       "      <td>13.000000</td>\n",
       "      <td>0.000000</td>\n",
       "      <td>2016.000000</td>\n",
       "      <td>0.000000</td>\n",
       "      <td>1.000000</td>\n",
       "      <td>0.000000</td>\n",
       "      <td>1.000000</td>\n",
       "      <td>2.000000</td>\n",
       "      <td>1.000000</td>\n",
       "      <td>1.000000</td>\n",
       "      <td>1.000000</td>\n",
       "      <td>0.000000</td>\n",
       "      <td>1.000000</td>\n",
       "      <td>0.000000</td>\n",
       "      <td>0.000000</td>\n",
       "      <td>0.000000</td>\n",
       "      <td>0.000000</td>\n",
       "      <td>0.000000</td>\n",
       "    </tr>\n",
       "    <tr>\n",
       "      <th>25%</th>\n",
       "      <td>12850.000000</td>\n",
       "      <td>2558.013043</td>\n",
       "      <td>2017.000000</td>\n",
       "      <td>1.000000</td>\n",
       "      <td>66.000000</td>\n",
       "      <td>0.000000</td>\n",
       "      <td>4.000000</td>\n",
       "      <td>5.000000</td>\n",
       "      <td>1229.000000</td>\n",
       "      <td>4.000000</td>\n",
       "      <td>1163.000000</td>\n",
       "      <td>104.000000</td>\n",
       "      <td>5.000000</td>\n",
       "      <td>4.100000</td>\n",
       "      <td>1.000000</td>\n",
       "      <td>10.000000</td>\n",
       "      <td>2.000000</td>\n",
       "      <td>6.000000</td>\n",
       "    </tr>\n",
       "    <tr>\n",
       "      <th>50%</th>\n",
       "      <td>16900.000000</td>\n",
       "      <td>20436.000000</td>\n",
       "      <td>2018.000000</td>\n",
       "      <td>1.000000</td>\n",
       "      <td>85.000000</td>\n",
       "      <td>0.000000</td>\n",
       "      <td>5.000000</td>\n",
       "      <td>5.000000</td>\n",
       "      <td>1461.000000</td>\n",
       "      <td>4.000000</td>\n",
       "      <td>1279.000000</td>\n",
       "      <td>117.000000</td>\n",
       "      <td>6.000000</td>\n",
       "      <td>4.800000</td>\n",
       "      <td>2.000000</td>\n",
       "      <td>13.000000</td>\n",
       "      <td>5.000000</td>\n",
       "      <td>12.000000</td>\n",
       "    </tr>\n",
       "    <tr>\n",
       "      <th>75%</th>\n",
       "      <td>21900.000000</td>\n",
       "      <td>46914.000000</td>\n",
       "      <td>2019.000000</td>\n",
       "      <td>1.000000</td>\n",
       "      <td>101.000000</td>\n",
       "      <td>12.000000</td>\n",
       "      <td>5.000000</td>\n",
       "      <td>5.000000</td>\n",
       "      <td>1598.000000</td>\n",
       "      <td>4.000000</td>\n",
       "      <td>1485.000000</td>\n",
       "      <td>128.000000</td>\n",
       "      <td>6.000000</td>\n",
       "      <td>5.400000</td>\n",
       "      <td>3.000000</td>\n",
       "      <td>15.000000</td>\n",
       "      <td>6.000000</td>\n",
       "      <td>16.000000</td>\n",
       "    </tr>\n",
       "    <tr>\n",
       "      <th>max</th>\n",
       "      <td>74600.000000</td>\n",
       "      <td>317000.000000</td>\n",
       "      <td>2019.000000</td>\n",
       "      <td>4.000000</td>\n",
       "      <td>294.000000</td>\n",
       "      <td>72.000000</td>\n",
       "      <td>7.000000</td>\n",
       "      <td>7.000000</td>\n",
       "      <td>16000.000000</td>\n",
       "      <td>8.000000</td>\n",
       "      <td>2471.000000</td>\n",
       "      <td>990.000000</td>\n",
       "      <td>50.000000</td>\n",
       "      <td>55.000000</td>\n",
       "      <td>10.000000</td>\n",
       "      <td>29.000000</td>\n",
       "      <td>10.000000</td>\n",
       "      <td>33.000000</td>\n",
       "    </tr>\n",
       "  </tbody>\n",
       "</table>\n",
       "</div>"
      ],
      "text/plain": [
       "              price             km  registration    prev_owner            hp  \\\n",
       "count  15919.000000   15919.000000  15919.000000  15919.000000  15919.000000   \n",
       "mean   18019.896727   32104.561016   2017.605377      0.998115     88.385012   \n",
       "std     7386.169409   36971.241562      1.122170      0.327945     26.840402   \n",
       "min       13.000000       0.000000   2016.000000      0.000000      1.000000   \n",
       "25%    12850.000000    2558.013043   2017.000000      1.000000     66.000000   \n",
       "50%    16900.000000   20436.000000   2018.000000      1.000000     85.000000   \n",
       "75%    21900.000000   46914.000000   2019.000000      1.000000    101.000000   \n",
       "max    74600.000000  317000.000000   2019.000000      4.000000    294.000000   \n",
       "\n",
       "       Warranty(months)  Nr. of Doors  Nr. of Seats  Displacement  \\\n",
       "count      15919.000000  15919.000000  15919.000000  15919.000000   \n",
       "mean           6.684654      4.660657      4.952258   1426.641498   \n",
       "std           13.330917      0.642198      0.476599    313.985143   \n",
       "min            0.000000      1.000000      2.000000      1.000000   \n",
       "25%            0.000000      4.000000      5.000000   1229.000000   \n",
       "50%            0.000000      5.000000      5.000000   1461.000000   \n",
       "75%           12.000000      5.000000      5.000000   1598.000000   \n",
       "max           72.000000      7.000000      7.000000  16000.000000   \n",
       "\n",
       "          Cylinders        Weight  CO2 Emission         Gears  \\\n",
       "count  15919.000000  15919.000000  15919.000000  15919.000000   \n",
       "mean       3.785162   1343.689616    117.583579      5.939820   \n",
       "std        0.419201    211.579031     19.966895      0.791983   \n",
       "min        1.000000      1.000000      0.000000      1.000000   \n",
       "25%        4.000000   1163.000000    104.000000      5.000000   \n",
       "50%        4.000000   1279.000000    117.000000      6.000000   \n",
       "75%        4.000000   1485.000000    128.000000      6.000000   \n",
       "max        8.000000   2471.000000    990.000000     50.000000   \n",
       "\n",
       "       Consumption_combined        Extras  Safety & Security  \\\n",
       "count          15919.000000  15919.000000       15919.000000   \n",
       "mean               4.879594      2.042779          12.004020   \n",
       "std                1.556867      1.695131           5.001606   \n",
       "min                0.000000      0.000000           0.000000   \n",
       "25%                4.100000      1.000000          10.000000   \n",
       "50%                4.800000      2.000000          13.000000   \n",
       "75%                5.400000      3.000000          15.000000   \n",
       "max               55.000000     10.000000          29.000000   \n",
       "\n",
       "       Entertainment & Media  Comfort & Convenience  \n",
       "count           15919.000000           15919.000000  \n",
       "mean                4.283435              11.567686  \n",
       "std                 2.324816               6.455813  \n",
       "min                 0.000000               0.000000  \n",
       "25%                 2.000000               6.000000  \n",
       "50%                 5.000000              12.000000  \n",
       "75%                 6.000000              16.000000  \n",
       "max                10.000000              33.000000  "
      ]
     },
     "execution_count": 6,
     "metadata": {},
     "output_type": "execute_result"
    }
   ],
   "source": [
    "df.describe()"
   ]
  },
  {
   "cell_type": "markdown",
   "id": "93a53205",
   "metadata": {},
   "source": [
    "### Column 2: Price"
   ]
  },
  {
   "cell_type": "code",
   "execution_count": 7,
   "id": "d847ee0c",
   "metadata": {},
   "outputs": [
    {
     "data": {
      "image/png": "[encoded data removed]",
      "text/plain": [
       "<Figure size 432x288 with 1 Axes>"
      ]
     },
     "metadata": {},
     "output_type": "display_data"
    }
   ],
   "source": [
    "sns.set_theme(style=\"whitegrid\")\n",
    "ax = sns.boxplot(x=df[\"price\"])"
   ]
  },
  {
   "cell_type": "markdown",
   "id": "25adbe90",
   "metadata": {},
   "source": [
    "According to our boxplot, cars with prices more than 35k are outliers. Yet, a high price is not an unlikely situation in real life. Instead, lower prices, particularly the ones closer to the zero, are more unlikely."
   ]
  },
  {
   "cell_type": "code",
   "execution_count": 10,
   "id": "eb6e22be",
   "metadata": {},
   "outputs": [
    {
     "data": {
      "image/png": "[encoded data removed]",
      "text/plain": [
       "<Figure size 1080x432 with 1 Axes>"
      ]
     },
     "metadata": {},
     "output_type": "display_data"
    }
   ],
   "source": [
    "plt.figure(figsize=(15,6))\n",
    "sns.boxplot(y='price',data=df, x='make_model');"
   ]
  },
  {
   "cell_type": "code",
   "execution_count": 11,
   "id": "2554e7e8",
   "metadata": {},
   "outputs": [],
   "source": [
    "#Drop the values less than 4000\n",
    "df.drop((df[df.price < 4000].price.index), axis=0, inplace=True)"
   ]
  },
  {
   "cell_type": "markdown",
   "id": "424fb068",
   "metadata": {},
   "source": [
    "### Column : km"
   ]
  },
  {
   "cell_type": "code",
   "execution_count": 12,
   "id": "84430195",
   "metadata": {},
   "outputs": [
    {
     "data": {
      "image/png": "[encoded data removed]",
      "text/plain": [
       "<Figure size 432x288 with 1 Axes>"
      ]
     },
     "metadata": {},
     "output_type": "display_data"
    }
   ],
   "source": [
    "sns.scatterplot(data=df, x=\"registration\", y=\"km\");"
   ]
  },
  {
   "cell_type": "markdown",
   "id": "3237c30a",
   "metadata": {},
   "source": [
    "There are some cars with too high and too low kilometers. Yet, this is not an unlikely situation in real life. Thus, we do not make any change in this column."
   ]
  },
  {
   "cell_type": "markdown",
   "id": "1c2dc48e",
   "metadata": {},
   "source": [
    "### Column: registration"
   ]
  },
  {
   "cell_type": "code",
   "execution_count": 13,
   "id": "362139c1",
   "metadata": {},
   "outputs": [
    {
     "data": {
      "text/plain": [
       "2018.0    4523\n",
       "2019.0    4409\n",
       "2016.0    3710\n",
       "2017.0    3273\n",
       "Name: registration, dtype: int64"
      ]
     },
     "execution_count": 13,
     "metadata": {},
     "output_type": "execute_result"
    }
   ],
   "source": [
    "#This column has only 4 values.\n",
    "df.registration.value_counts()"
   ]
  },
  {
   "cell_type": "code",
   "execution_count": 14,
   "id": "4493c7d3",
   "metadata": {},
   "outputs": [],
   "source": [
    "#We can convert this column from year to age which is a healthier feature for price estimation\n",
    "df.registration = 2019 - df.registration"
   ]
  },
  {
   "cell_type": "markdown",
   "id": "6bc8bbb7",
   "metadata": {},
   "source": [
    "### Column: pre_owner"
   ]
  },
  {
   "cell_type": "code",
   "execution_count": 15,
   "id": "14c4012b",
   "metadata": {},
   "outputs": [
    {
     "data": {
      "text/plain": [
       "1.0    14270\n",
       "0.0      848\n",
       "2.0      778\n",
       "3.0       17\n",
       "4.0        2\n",
       "Name: prev_owner, dtype: int64"
      ]
     },
     "execution_count": 15,
     "metadata": {},
     "output_type": "execute_result"
    }
   ],
   "source": [
    "#There are 5 different values in this column.\n",
    "df.prev_owner.value_counts(dropna=False)"
   ]
  },
  {
   "cell_type": "markdown",
   "id": "60265146",
   "metadata": {},
   "source": [
    "### Column: hp"
   ]
  },
  {
   "cell_type": "code",
   "execution_count": 18,
   "id": "167706a4",
   "metadata": {},
   "outputs": [
    {
     "data": {
      "image/png": "[encoded data removed]",
      "text/plain": [
       "<Figure size 432x288 with 1 Axes>"
      ]
     },
     "metadata": {},
     "output_type": "display_data"
    }
   ],
   "source": [
    "sns.scatterplot(data=df, x=\"hp\", y=\"price\");"
   ]
  },
  {
   "cell_type": "code",
   "execution_count": 17,
   "id": "73f5b827",
   "metadata": {
    "scrolled": false
   },
   "outputs": [
    {
     "data": {
      "image/png": "[encoded data removed]",
      "text/plain": [
       "<Figure size 1080x432 with 1 Axes>"
      ]
     },
     "metadata": {},
     "output_type": "display_data"
    }
   ],
   "source": [
    "plt.figure(figsize=(15,6))\n",
    "sns.boxplot(y='hp',data=df, x='make_model');"
   ]
  },
  {
   "cell_type": "markdown",
   "id": "0168d2bb",
   "metadata": {},
   "source": [
    "Some cars seem to have almost zero horse power."
   ]
  },
  {
   "cell_type": "code",
   "execution_count": 20,
   "id": "94156a95",
   "metadata": {},
   "outputs": [
    {
     "data": {
      "text/plain": [
       "1.0     20\n",
       "40.0     2\n",
       "44.0     1\n",
       "4.0      1\n",
       "9.0      1\n",
       "Name: hp, dtype: int64"
      ]
     },
     "execution_count": 20,
     "metadata": {},
     "output_type": "execute_result"
    }
   ],
   "source": [
    "#Cars with less than 50 horse power\n",
    "df[df['hp'] < 50].hp.value_counts(dropna=False)"
   ]
  },
  {
   "cell_type": "code",
   "execution_count": 21,
   "id": "482f0264",
   "metadata": {},
   "outputs": [],
   "source": [
    "#We will convert these values first to NULL and then re-fill them according to our model\n",
    "df.loc[df['hp']<50,'hp'] = np.nan"
   ]
  },
  {
   "cell_type": "code",
   "execution_count": 22,
   "id": "11763481",
   "metadata": {},
   "outputs": [],
   "source": [
    "mode_hp = df.groupby(['make_model','Body','Displacement'])['hp']\\\n",
    "              .transform(lambda x: x.mode()[0] if list(x.mode()) != [] else np.nan)\n",
    "\n",
    "df[\"hp\"] = df[\"hp\"].fillna(mode_hp)\n",
    "\n",
    "mode_hp1 = df.groupby(['make_model','Displacement'])['hp']\\\n",
    "              .transform(lambda x: x.mode()[0] if list(x.mode()) != [] else np.nan)\n",
    "\n",
    "df[\"hp\"] = df[\"hp\"].fillna(mode_hp1)\n",
    "\n",
    "mode_hp2 = df.groupby(['make_model','Body'])['hp']\\\n",
    "              .transform(lambda x: x.mode()[0] if list(x.mode()) != [] else np.nan)\n",
    "\n",
    "df[\"hp\"] = df[\"hp\"].fillna(mode_hp2)"
   ]
  },
  {
   "cell_type": "code",
   "execution_count": 23,
   "id": "aabe30a4",
   "metadata": {},
   "outputs": [
    {
     "data": {
      "text/plain": [
       "0"
      ]
     },
     "execution_count": 23,
     "metadata": {},
     "output_type": "execute_result"
    }
   ],
   "source": [
    "df.hp.isnull().sum()"
   ]
  },
  {
   "cell_type": "markdown",
   "id": "7e34f0d0",
   "metadata": {},
   "source": [
    "### Column: Warranty(months)"
   ]
  },
  {
   "cell_type": "code",
   "execution_count": 26,
   "id": "f3a9f8b0",
   "metadata": {},
   "outputs": [
    {
     "data": {
      "text/plain": [
       "count    15915.000000\n",
       "mean         6.686334\n",
       "std         13.332171\n",
       "min          0.000000\n",
       "25%          0.000000\n",
       "50%          0.000000\n",
       "75%         12.000000\n",
       "max         72.000000\n",
       "Name: Warranty(months), dtype: float64"
      ]
     },
     "execution_count": 26,
     "metadata": {},
     "output_type": "execute_result"
    }
   ],
   "source": [
    "df['Warranty(months)'].describe()"
   ]
  },
  {
   "cell_type": "code",
   "execution_count": 27,
   "id": "df22e86f",
   "metadata": {},
   "outputs": [
    {
     "data": {
      "image/png": "[encoded data removed]",
      "text/plain": [
       "<Figure size 432x288 with 1 Axes>"
      ]
     },
     "metadata": {},
     "output_type": "display_data"
    }
   ],
   "source": [
    "sns.scatterplot(data=df, x=\"Warranty(months)\", y=\"price\");"
   ]
  },
  {
   "cell_type": "markdown",
   "id": "263f1a61",
   "metadata": {},
   "source": [
    "The values seem normal in this column"
   ]
  },
  {
   "cell_type": "markdown",
   "id": "5ad1ee7f",
   "metadata": {},
   "source": [
    "### Column: Nr. of Doors"
   ]
  },
  {
   "cell_type": "code",
   "execution_count": 28,
   "id": "4a48a729",
   "metadata": {},
   "outputs": [
    {
     "data": {
      "text/plain": [
       "5.0    11784\n",
       "4.0     3079\n",
       "3.0      831\n",
       "2.0      219\n",
       "7.0        1\n",
       "1.0        1\n",
       "Name: Nr. of Doors, dtype: int64"
      ]
     },
     "execution_count": 28,
     "metadata": {},
     "output_type": "execute_result"
    }
   ],
   "source": [
    "#There are some cars with 1 and 7 doors\n",
    "df['Nr. of Doors'].value_counts(dropna=False)"
   ]
  },
  {
   "cell_type": "code",
   "execution_count": 31,
   "id": "b6db7f65",
   "metadata": {},
   "outputs": [
    {
     "data": {
      "text/html": [
       "<div>\n",
       "<style scoped>\n",
       "    .dataframe tbody tr th:only-of-type {\n",
       "        vertical-align: middle;\n",
       "    }\n",
       "\n",
       "    .dataframe tbody tr th {\n",
       "        vertical-align: top;\n",
       "    }\n",
       "\n",
       "    .dataframe thead th {\n",
       "        text-align: right;\n",
       "    }\n",
       "</style>\n",
       "<table border=\"1\" class=\"dataframe\">\n",
       "  <thead>\n",
       "    <tr style=\"text-align: right;\">\n",
       "      <th></th>\n",
       "      <th>make_model</th>\n",
       "      <th>price</th>\n",
       "      <th>vat</th>\n",
       "      <th>km</th>\n",
       "      <th>registration</th>\n",
       "      <th>prev_owner</th>\n",
       "      <th>hp</th>\n",
       "      <th>Type</th>\n",
       "      <th>Inspection new</th>\n",
       "      <th>Warranty(months)</th>\n",
       "      <th>Body Color</th>\n",
       "      <th>Paint Type</th>\n",
       "      <th>Body</th>\n",
       "      <th>Nr. of Doors</th>\n",
       "      <th>Nr. of Seats</th>\n",
       "      <th>Gearing Type</th>\n",
       "      <th>Displacement</th>\n",
       "      <th>Cylinders</th>\n",
       "      <th>Weight</th>\n",
       "      <th>Drive chain</th>\n",
       "      <th>Fuel</th>\n",
       "      <th>CO2 Emission</th>\n",
       "      <th>Emission Class</th>\n",
       "      <th>Gears</th>\n",
       "      <th>Upholstery_Texture</th>\n",
       "      <th>Consumption_combined</th>\n",
       "      <th>Extras</th>\n",
       "      <th>Safety &amp; Security</th>\n",
       "      <th>Entertainment &amp; Media</th>\n",
       "      <th>Comfort &amp; Convenience</th>\n",
       "    </tr>\n",
       "  </thead>\n",
       "  <tbody>\n",
       "    <tr>\n",
       "      <th>13782</th>\n",
       "      <td>Renault Clio</td>\n",
       "      <td>8500.0</td>\n",
       "      <td>VAT deductible</td>\n",
       "      <td>41493.0</td>\n",
       "      <td>3.0</td>\n",
       "      <td>1.0</td>\n",
       "      <td>55.0</td>\n",
       "      <td>Used</td>\n",
       "      <td>unknown</td>\n",
       "      <td>12.0</td>\n",
       "      <td>White</td>\n",
       "      <td>unknown</td>\n",
       "      <td>Compact</td>\n",
       "      <td>1.0</td>\n",
       "      <td>5.0</td>\n",
       "      <td>Manual</td>\n",
       "      <td>1461.0</td>\n",
       "      <td>4.0</td>\n",
       "      <td>1071.0</td>\n",
       "      <td>front</td>\n",
       "      <td>Diesel</td>\n",
       "      <td>85.0</td>\n",
       "      <td>unknown</td>\n",
       "      <td>5.0</td>\n",
       "      <td>unknown</td>\n",
       "      <td>3.3</td>\n",
       "      <td>0.0</td>\n",
       "      <td>0.0</td>\n",
       "      <td>0.0</td>\n",
       "      <td>0.0</td>\n",
       "    </tr>\n",
       "    <tr>\n",
       "      <th>15202</th>\n",
       "      <td>Renault Espace</td>\n",
       "      <td>21600.0</td>\n",
       "      <td>Price negotiable</td>\n",
       "      <td>78000.0</td>\n",
       "      <td>3.0</td>\n",
       "      <td>1.0</td>\n",
       "      <td>118.0</td>\n",
       "      <td>Used</td>\n",
       "      <td>unknown</td>\n",
       "      <td>0.0</td>\n",
       "      <td>Brown</td>\n",
       "      <td>Metallic</td>\n",
       "      <td>Van</td>\n",
       "      <td>7.0</td>\n",
       "      <td>5.0</td>\n",
       "      <td>Automatic</td>\n",
       "      <td>1598.0</td>\n",
       "      <td>4.0</td>\n",
       "      <td>1734.0</td>\n",
       "      <td>front</td>\n",
       "      <td>Diesel</td>\n",
       "      <td>120.0</td>\n",
       "      <td>Euro 6</td>\n",
       "      <td>6.0</td>\n",
       "      <td>Full leather</td>\n",
       "      <td>4.6</td>\n",
       "      <td>2.0</td>\n",
       "      <td>18.0</td>\n",
       "      <td>7.0</td>\n",
       "      <td>27.0</td>\n",
       "    </tr>\n",
       "  </tbody>\n",
       "</table>\n",
       "</div>"
      ],
      "text/plain": [
       "           make_model    price               vat       km  registration  \\\n",
       "13782    Renault Clio   8500.0    VAT deductible  41493.0           3.0   \n",
       "15202  Renault Espace  21600.0  Price negotiable  78000.0           3.0   \n",
       "\n",
       "       prev_owner     hp  Type Inspection new  Warranty(months) Body Color  \\\n",
       "13782         1.0   55.0  Used        unknown              12.0      White   \n",
       "15202         1.0  118.0  Used        unknown               0.0      Brown   \n",
       "\n",
       "      Paint Type     Body  Nr. of Doors  Nr. of Seats Gearing Type  \\\n",
       "13782    unknown  Compact           1.0           5.0       Manual   \n",
       "15202   Metallic      Van           7.0           5.0    Automatic   \n",
       "\n",
       "       Displacement  Cylinders  Weight Drive chain    Fuel  CO2 Emission  \\\n",
       "13782        1461.0        4.0  1071.0       front  Diesel          85.0   \n",
       "15202        1598.0        4.0  1734.0       front  Diesel         120.0   \n",
       "\n",
       "      Emission Class  Gears Upholstery_Texture  Consumption_combined  Extras  \\\n",
       "13782        unknown    5.0            unknown                   3.3     0.0   \n",
       "15202         Euro 6    6.0       Full leather                   4.6     2.0   \n",
       "\n",
       "       Safety & Security  Entertainment & Media  Comfort & Convenience  \n",
       "13782                0.0                    0.0                    0.0  \n",
       "15202               18.0                    7.0                   27.0  "
      ]
     },
     "execution_count": 31,
     "metadata": {},
     "output_type": "execute_result"
    }
   ],
   "source": [
    "df[(df['Nr. of Doors'] == 7.0) | (df['Nr. of Doors'] == 1.0)]"
   ]
  },
  {
   "cell_type": "code",
   "execution_count": 33,
   "id": "c3589c48",
   "metadata": {},
   "outputs": [
    {
     "data": {
      "text/plain": [
       "Nr. of Doors\n",
       "5.0             712\n",
       "4.0              90\n",
       "7.0               1\n",
       "dtype: int64"
      ]
     },
     "execution_count": 33,
     "metadata": {},
     "output_type": "execute_result"
    }
   ],
   "source": [
    "#Renault Espace Vans have mostly 4 or 5 doors\n",
    "df.loc[(df['make_model'] == 'Renault Espace') & (df['Body'] == 'Van'), ['Nr. of Doors']].value_counts()"
   ]
  },
  {
   "cell_type": "code",
   "execution_count": 34,
   "id": "1fef7b23",
   "metadata": {},
   "outputs": [
    {
     "data": {
      "text/plain": [
       "Nr. of Doors\n",
       "5.0             313\n",
       "4.0             170\n",
       "1.0               1\n",
       "dtype: int64"
      ]
     },
     "execution_count": 34,
     "metadata": {},
     "output_type": "execute_result"
    }
   ],
   "source": [
    "#Renault Clio COmpacts have mostly 4 or 5 doors\n",
    "df.loc[(df['make_model'] == 'Renault Clio') & (df['Body'] == 'Compact'), ['Nr. of Doors']].value_counts()"
   ]
  },
  {
   "cell_type": "code",
   "execution_count": 35,
   "id": "f19a2275",
   "metadata": {},
   "outputs": [],
   "source": [
    "#I will convert both values to 5 which seems more likely\n",
    "df.loc[df['Nr. of Doors']==1,'Nr. of Doors'] = 5"
   ]
  },
  {
   "cell_type": "code",
   "execution_count": 36,
   "id": "2243ec50",
   "metadata": {},
   "outputs": [],
   "source": [
    "df.loc[df['Nr. of Doors']==7,'Nr. of Doors'] = 5"
   ]
  },
  {
   "cell_type": "markdown",
   "id": "836c9e60",
   "metadata": {},
   "source": [
    "### Column: Nr. of Seats"
   ]
  },
  {
   "cell_type": "code",
   "execution_count": 63,
   "id": "a2f50a91",
   "metadata": {},
   "outputs": [
    {
     "data": {
      "text/plain": [
       "5.0    14304\n",
       "4.0     1127\n",
       "7.0      362\n",
       "2.0      119\n",
       "6.0        2\n",
       "3.0        1\n",
       "Name: Nr. of Seats, dtype: int64"
      ]
     },
     "execution_count": 63,
     "metadata": {},
     "output_type": "execute_result"
    }
   ],
   "source": [
    "#Three cars have unlikely seat numbers, 6 and 3.\n",
    "df['Nr. of Seats'].value_counts(dropna=False)"
   ]
  },
  {
   "cell_type": "code",
   "execution_count": 38,
   "id": "cf858acd",
   "metadata": {},
   "outputs": [
    {
     "data": {
      "text/html": [
       "<div>\n",
       "<style scoped>\n",
       "    .dataframe tbody tr th:only-of-type {\n",
       "        vertical-align: middle;\n",
       "    }\n",
       "\n",
       "    .dataframe tbody tr th {\n",
       "        vertical-align: top;\n",
       "    }\n",
       "\n",
       "    .dataframe thead th {\n",
       "        text-align: right;\n",
       "    }\n",
       "</style>\n",
       "<table border=\"1\" class=\"dataframe\">\n",
       "  <thead>\n",
       "    <tr style=\"text-align: right;\">\n",
       "      <th></th>\n",
       "      <th>make_model</th>\n",
       "      <th>price</th>\n",
       "      <th>vat</th>\n",
       "      <th>km</th>\n",
       "      <th>registration</th>\n",
       "      <th>prev_owner</th>\n",
       "      <th>hp</th>\n",
       "      <th>Type</th>\n",
       "      <th>Inspection new</th>\n",
       "      <th>Warranty(months)</th>\n",
       "      <th>Body Color</th>\n",
       "      <th>Paint Type</th>\n",
       "      <th>Body</th>\n",
       "      <th>Nr. of Doors</th>\n",
       "      <th>Nr. of Seats</th>\n",
       "      <th>Gearing Type</th>\n",
       "      <th>Displacement</th>\n",
       "      <th>Cylinders</th>\n",
       "      <th>Weight</th>\n",
       "      <th>Drive chain</th>\n",
       "      <th>Fuel</th>\n",
       "      <th>CO2 Emission</th>\n",
       "      <th>Emission Class</th>\n",
       "      <th>Gears</th>\n",
       "      <th>Upholstery_Texture</th>\n",
       "      <th>Consumption_combined</th>\n",
       "      <th>Extras</th>\n",
       "      <th>Safety &amp; Security</th>\n",
       "      <th>Entertainment &amp; Media</th>\n",
       "      <th>Comfort &amp; Convenience</th>\n",
       "    </tr>\n",
       "  </thead>\n",
       "  <tbody>\n",
       "    <tr>\n",
       "      <th>582</th>\n",
       "      <td>Audi A1</td>\n",
       "      <td>13500.0</td>\n",
       "      <td>VAT deductible</td>\n",
       "      <td>100000.000000</td>\n",
       "      <td>2.0</td>\n",
       "      <td>1.0</td>\n",
       "      <td>70.0</td>\n",
       "      <td>Used</td>\n",
       "      <td>unknown</td>\n",
       "      <td>12.0</td>\n",
       "      <td>White</td>\n",
       "      <td>Metallic</td>\n",
       "      <td>Compact</td>\n",
       "      <td>5.0</td>\n",
       "      <td>6.0</td>\n",
       "      <td>Manual</td>\n",
       "      <td>1000.0</td>\n",
       "      <td>4.0</td>\n",
       "      <td>1500.0</td>\n",
       "      <td>front</td>\n",
       "      <td>Benzine</td>\n",
       "      <td>97.0</td>\n",
       "      <td>Euro 6</td>\n",
       "      <td>5.0</td>\n",
       "      <td>unknown</td>\n",
       "      <td>4.2</td>\n",
       "      <td>1.0</td>\n",
       "      <td>1.0</td>\n",
       "      <td>1.0</td>\n",
       "      <td>1.0</td>\n",
       "    </tr>\n",
       "    <tr>\n",
       "      <th>1636</th>\n",
       "      <td>Audi A1</td>\n",
       "      <td>23090.0</td>\n",
       "      <td>VAT non-deductible</td>\n",
       "      <td>9821.000000</td>\n",
       "      <td>1.0</td>\n",
       "      <td>1.0</td>\n",
       "      <td>141.0</td>\n",
       "      <td>Used</td>\n",
       "      <td>Yes</td>\n",
       "      <td>0.0</td>\n",
       "      <td>Black</td>\n",
       "      <td>Metallic</td>\n",
       "      <td>Compact</td>\n",
       "      <td>2.0</td>\n",
       "      <td>3.0</td>\n",
       "      <td>Automatic</td>\n",
       "      <td>1798.0</td>\n",
       "      <td>4.0</td>\n",
       "      <td>1280.0</td>\n",
       "      <td>front</td>\n",
       "      <td>Benzine</td>\n",
       "      <td>134.0</td>\n",
       "      <td>Euro 6</td>\n",
       "      <td>7.0</td>\n",
       "      <td>Part leather</td>\n",
       "      <td>5.8</td>\n",
       "      <td>6.0</td>\n",
       "      <td>14.0</td>\n",
       "      <td>9.0</td>\n",
       "      <td>19.0</td>\n",
       "    </tr>\n",
       "    <tr>\n",
       "      <th>15890</th>\n",
       "      <td>Renault Espace</td>\n",
       "      <td>42490.0</td>\n",
       "      <td>VAT deductible</td>\n",
       "      <td>1144.411765</td>\n",
       "      <td>0.0</td>\n",
       "      <td>1.0</td>\n",
       "      <td>147.0</td>\n",
       "      <td>New</td>\n",
       "      <td>unknown</td>\n",
       "      <td>0.0</td>\n",
       "      <td>Black</td>\n",
       "      <td>unknown</td>\n",
       "      <td>Station wagon</td>\n",
       "      <td>5.0</td>\n",
       "      <td>6.0</td>\n",
       "      <td>Automatic</td>\n",
       "      <td>1997.0</td>\n",
       "      <td>4.0</td>\n",
       "      <td>1840.0</td>\n",
       "      <td>front</td>\n",
       "      <td>Diesel</td>\n",
       "      <td>168.0</td>\n",
       "      <td>Euro 6</td>\n",
       "      <td>6.0</td>\n",
       "      <td>Cloth</td>\n",
       "      <td>5.7</td>\n",
       "      <td>2.0</td>\n",
       "      <td>16.0</td>\n",
       "      <td>5.0</td>\n",
       "      <td>14.0</td>\n",
       "    </tr>\n",
       "  </tbody>\n",
       "</table>\n",
       "</div>"
      ],
      "text/plain": [
       "           make_model    price                 vat             km  \\\n",
       "582           Audi A1  13500.0      VAT deductible  100000.000000   \n",
       "1636          Audi A1  23090.0  VAT non-deductible    9821.000000   \n",
       "15890  Renault Espace  42490.0      VAT deductible    1144.411765   \n",
       "\n",
       "       registration  prev_owner     hp  Type Inspection new  Warranty(months)  \\\n",
       "582             2.0         1.0   70.0  Used        unknown              12.0   \n",
       "1636            1.0         1.0  141.0  Used            Yes               0.0   \n",
       "15890           0.0         1.0  147.0   New        unknown               0.0   \n",
       "\n",
       "      Body Color Paint Type           Body  Nr. of Doors  Nr. of Seats  \\\n",
       "582        White   Metallic        Compact           5.0           6.0   \n",
       "1636       Black   Metallic        Compact           2.0           3.0   \n",
       "15890      Black    unknown  Station wagon           5.0           6.0   \n",
       "\n",
       "      Gearing Type  Displacement  Cylinders  Weight Drive chain     Fuel  \\\n",
       "582         Manual        1000.0        4.0  1500.0       front  Benzine   \n",
       "1636     Automatic        1798.0        4.0  1280.0       front  Benzine   \n",
       "15890    Automatic        1997.0        4.0  1840.0       front   Diesel   \n",
       "\n",
       "       CO2 Emission Emission Class  Gears Upholstery_Texture  \\\n",
       "582            97.0         Euro 6    5.0            unknown   \n",
       "1636          134.0         Euro 6    7.0       Part leather   \n",
       "15890         168.0         Euro 6    6.0              Cloth   \n",
       "\n",
       "       Consumption_combined  Extras  Safety & Security  Entertainment & Media  \\\n",
       "582                     4.2     1.0                1.0                    1.0   \n",
       "1636                    5.8     6.0               14.0                    9.0   \n",
       "15890                   5.7     2.0               16.0                    5.0   \n",
       "\n",
       "       Comfort & Convenience  \n",
       "582                      1.0  \n",
       "1636                    19.0  \n",
       "15890                   14.0  "
      ]
     },
     "execution_count": 38,
     "metadata": {},
     "output_type": "execute_result"
    }
   ],
   "source": [
    "df[(df['Nr. of Seats']==6)|(df['Nr. of Seats']==3)]"
   ]
  },
  {
   "cell_type": "code",
   "execution_count": 39,
   "id": "23c0d976",
   "metadata": {},
   "outputs": [
    {
     "data": {
      "text/plain": [
       "Nr. of Seats\n",
       "5.0             606\n",
       "4.0             431\n",
       "3.0               1\n",
       "6.0               1\n",
       "dtype: int64"
      ]
     },
     "execution_count": 39,
     "metadata": {},
     "output_type": "execute_result"
    }
   ],
   "source": [
    "#Check these models' number of seats\n",
    "df.loc[(df['make_model'] == 'Audi A1') & (df['Body'] == 'Compact'), ['Nr. of Seats']].value_counts()"
   ]
  },
  {
   "cell_type": "code",
   "execution_count": 40,
   "id": "1318baf1",
   "metadata": {},
   "outputs": [
    {
     "data": {
      "text/plain": [
       "Nr. of Seats\n",
       "5.0             71\n",
       "7.0             19\n",
       "6.0              1\n",
       "dtype: int64"
      ]
     },
     "execution_count": 40,
     "metadata": {},
     "output_type": "execute_result"
    }
   ],
   "source": [
    "df.loc[(df['make_model'] == 'Renault Espace') & (df['Body'] == 'Station wagon'), ['Nr. of Seats']].value_counts()"
   ]
  },
  {
   "cell_type": "code",
   "execution_count": 48,
   "id": "2e5e9c69",
   "metadata": {},
   "outputs": [],
   "source": [
    "#I will convert 3 and 6 values to 5\n",
    "df.loc[df['Nr. of Seats']==3,'Nr. of Seats'] = 5\n",
    "df.loc[df['Nr. of Seats']==6,'Nr. of Seats'] = 5"
   ]
  },
  {
   "cell_type": "markdown",
   "id": "8fb33064",
   "metadata": {},
   "source": [
    "### Column: Displacement"
   ]
  },
  {
   "cell_type": "code",
   "execution_count": 49,
   "id": "17ad039e",
   "metadata": {},
   "outputs": [
    {
     "data": {
      "image/png": "[encoded data removed]",
      "text/plain": [
       "<Figure size 432x288 with 1 Axes>"
      ]
     },
     "metadata": {},
     "output_type": "display_data"
    }
   ],
   "source": [
    "sns.boxplot(y='Displacement',data=df, x='make_model')\n",
    "plt.xticks(rotation=45);"
   ]
  },
  {
   "cell_type": "markdown",
   "id": "27a73bd4",
   "metadata": {},
   "source": [
    "There are some too high and too low values"
   ]
  },
  {
   "cell_type": "code",
   "execution_count": 55,
   "id": "88d0b17e",
   "metadata": {},
   "outputs": [],
   "source": [
    "#We assume that this value was given mistakenly by the users. So, we can assign the model displacement mean to this value\n",
    "audi_a1_disp = df.loc[(df['make_model'] == 'Audi A1'), ['Displacement']].mean()"
   ]
  },
  {
   "cell_type": "code",
   "execution_count": 56,
   "id": "fd2e0810",
   "metadata": {},
   "outputs": [],
   "source": [
    "df.loc[(df['Displacement'] > 5000) & (df['make_model'] == 'Audi A1'),'Displacement'] = audi_a1_disp"
   ]
  },
  {
   "cell_type": "code",
   "execution_count": 60,
   "id": "d7fcb3f7",
   "metadata": {},
   "outputs": [],
   "source": [
    "#We'll apply same method to Opel Insignia\n",
    "insignia_disp = df.loc[(df['make_model'] == 'Opel Insignia'), ['Displacement']].mean()"
   ]
  },
  {
   "cell_type": "code",
   "execution_count": 61,
   "id": "f3ae0e78",
   "metadata": {},
   "outputs": [],
   "source": [
    "df.loc[(df['Displacement'] > 5000) & (df['make_model'] == 'Opel Insignia'),'Displacement'] = insignia_disp"
   ]
  },
  {
   "cell_type": "code",
   "execution_count": 62,
   "id": "f2094a21",
   "metadata": {},
   "outputs": [],
   "source": [
    "#I will convert too low displacement values first to NULL and refill them with our filling method.\n",
    "df[df.Displacement < 600].Displacement = np.nan"
   ]
  },
  {
   "cell_type": "code",
   "execution_count": 63,
   "id": "783b5a4e",
   "metadata": {},
   "outputs": [],
   "source": [
    "mode_disp = df.groupby(['make_model','Body','hp'])['Displacement']\\\n",
    "              .transform(lambda x: x.mode()[0] if list(x.mode()) != [] else np.nan)\n",
    "\n",
    "df[\"Displacement\"] = df[\"Displacement\"].fillna(mode_disp)"
   ]
  },
  {
   "cell_type": "code",
   "execution_count": 64,
   "id": "4d74674a",
   "metadata": {},
   "outputs": [
    {
     "data": {
      "text/plain": [
       "0"
      ]
     },
     "execution_count": 64,
     "metadata": {},
     "output_type": "execute_result"
    }
   ],
   "source": [
    "df.Displacement.isnull().sum()"
   ]
  },
  {
   "cell_type": "markdown",
   "id": "1bc89dc7",
   "metadata": {},
   "source": [
    "### Column: Cylinders"
   ]
  },
  {
   "cell_type": "code",
   "execution_count": 65,
   "id": "10de232b",
   "metadata": {},
   "outputs": [
    {
     "data": {
      "image/png": "[encoded data removed]",
      "text/plain": [
       "<Figure size 432x288 with 1 Axes>"
      ]
     },
     "metadata": {},
     "output_type": "display_data"
    }
   ],
   "source": [
    "sns.boxplot(y='Cylinders',data=df, x='make_model')\n",
    "plt.xticks(rotation=45);"
   ]
  },
  {
   "cell_type": "code",
   "execution_count": 67,
   "id": "f9a53ea3",
   "metadata": {},
   "outputs": [],
   "source": [
    "#I will convert 8s to 4 which is general average\n",
    "df.loc[df.Cylinders == 8.0, 'Cylinders'] = 4"
   ]
  },
  {
   "cell_type": "code",
   "execution_count": 68,
   "id": "ffd57718",
   "metadata": {},
   "outputs": [
    {
     "data": {
      "text/plain": [
       "4.0    12440\n",
       "3.0     3447\n",
       "5.0       22\n",
       "6.0        3\n",
       "2.0        2\n",
       "1.0        1\n",
       "Name: Cylinders, dtype: int64"
      ]
     },
     "execution_count": 68,
     "metadata": {},
     "output_type": "execute_result"
    }
   ],
   "source": [
    "df.Cylinders.value_counts(dropna=False)"
   ]
  },
  {
   "cell_type": "code",
   "execution_count": 69,
   "id": "79e0df02",
   "metadata": {},
   "outputs": [
    {
     "data": {
      "text/html": [
       "<div>\n",
       "<style scoped>\n",
       "    .dataframe tbody tr th:only-of-type {\n",
       "        vertical-align: middle;\n",
       "    }\n",
       "\n",
       "    .dataframe tbody tr th {\n",
       "        vertical-align: top;\n",
       "    }\n",
       "\n",
       "    .dataframe thead th {\n",
       "        text-align: right;\n",
       "    }\n",
       "</style>\n",
       "<table border=\"1\" class=\"dataframe\">\n",
       "  <thead>\n",
       "    <tr style=\"text-align: right;\">\n",
       "      <th></th>\n",
       "      <th>make_model</th>\n",
       "      <th>price</th>\n",
       "      <th>vat</th>\n",
       "      <th>km</th>\n",
       "      <th>registration</th>\n",
       "      <th>prev_owner</th>\n",
       "      <th>hp</th>\n",
       "      <th>Type</th>\n",
       "      <th>Inspection new</th>\n",
       "      <th>Warranty(months)</th>\n",
       "      <th>Body Color</th>\n",
       "      <th>Paint Type</th>\n",
       "      <th>Body</th>\n",
       "      <th>Nr. of Doors</th>\n",
       "      <th>Nr. of Seats</th>\n",
       "      <th>Gearing Type</th>\n",
       "      <th>Displacement</th>\n",
       "      <th>Cylinders</th>\n",
       "      <th>Weight</th>\n",
       "      <th>Drive chain</th>\n",
       "      <th>Fuel</th>\n",
       "      <th>CO2 Emission</th>\n",
       "      <th>Emission Class</th>\n",
       "      <th>Gears</th>\n",
       "      <th>Upholstery_Texture</th>\n",
       "      <th>Consumption_combined</th>\n",
       "      <th>Extras</th>\n",
       "      <th>Safety &amp; Security</th>\n",
       "      <th>Entertainment &amp; Media</th>\n",
       "      <th>Comfort &amp; Convenience</th>\n",
       "    </tr>\n",
       "  </thead>\n",
       "  <tbody>\n",
       "    <tr>\n",
       "      <th>9956</th>\n",
       "      <td>Opel Corsa</td>\n",
       "      <td>16625.0</td>\n",
       "      <td>VAT deductible</td>\n",
       "      <td>100.0</td>\n",
       "      <td>0.0</td>\n",
       "      <td>1.0</td>\n",
       "      <td>66.0</td>\n",
       "      <td>Pre-registered</td>\n",
       "      <td>unknown</td>\n",
       "      <td>0.0</td>\n",
       "      <td>Black</td>\n",
       "      <td>Metallic</td>\n",
       "      <td>Compact</td>\n",
       "      <td>3.0</td>\n",
       "      <td>5.0</td>\n",
       "      <td>Automatic</td>\n",
       "      <td>1398.0</td>\n",
       "      <td>1.0</td>\n",
       "      <td>1163.0</td>\n",
       "      <td>front</td>\n",
       "      <td>Benzine</td>\n",
       "      <td>140.0</td>\n",
       "      <td>Euro 6</td>\n",
       "      <td>6.0</td>\n",
       "      <td>Cloth</td>\n",
       "      <td>6.0</td>\n",
       "      <td>2.0</td>\n",
       "      <td>13.0</td>\n",
       "      <td>6.0</td>\n",
       "      <td>18.0</td>\n",
       "    </tr>\n",
       "    <tr>\n",
       "      <th>11342</th>\n",
       "      <td>Opel Insignia</td>\n",
       "      <td>21900.0</td>\n",
       "      <td>VAT deductible</td>\n",
       "      <td>13600.0</td>\n",
       "      <td>1.0</td>\n",
       "      <td>1.0</td>\n",
       "      <td>100.0</td>\n",
       "      <td>Employee's car</td>\n",
       "      <td>unknown</td>\n",
       "      <td>0.0</td>\n",
       "      <td>Grey</td>\n",
       "      <td>Metallic</td>\n",
       "      <td>Station wagon</td>\n",
       "      <td>5.0</td>\n",
       "      <td>5.0</td>\n",
       "      <td>Automatic</td>\n",
       "      <td>1598.0</td>\n",
       "      <td>2.0</td>\n",
       "      <td>1503.0</td>\n",
       "      <td>front</td>\n",
       "      <td>Diesel</td>\n",
       "      <td>114.0</td>\n",
       "      <td>unknown</td>\n",
       "      <td>6.0</td>\n",
       "      <td>Part leather</td>\n",
       "      <td>5.0</td>\n",
       "      <td>4.0</td>\n",
       "      <td>18.0</td>\n",
       "      <td>6.0</td>\n",
       "      <td>19.0</td>\n",
       "    </tr>\n",
       "    <tr>\n",
       "      <th>15835</th>\n",
       "      <td>Renault Espace</td>\n",
       "      <td>47590.0</td>\n",
       "      <td>VAT deductible</td>\n",
       "      <td>6000.0</td>\n",
       "      <td>0.0</td>\n",
       "      <td>1.0</td>\n",
       "      <td>147.0</td>\n",
       "      <td>Employee's car</td>\n",
       "      <td>unknown</td>\n",
       "      <td>0.0</td>\n",
       "      <td>Black</td>\n",
       "      <td>Metallic</td>\n",
       "      <td>Van</td>\n",
       "      <td>5.0</td>\n",
       "      <td>7.0</td>\n",
       "      <td>Automatic</td>\n",
       "      <td>1997.0</td>\n",
       "      <td>2.0</td>\n",
       "      <td>1840.0</td>\n",
       "      <td>front</td>\n",
       "      <td>Diesel</td>\n",
       "      <td>139.0</td>\n",
       "      <td>Euro 6</td>\n",
       "      <td>6.0</td>\n",
       "      <td>Full leather</td>\n",
       "      <td>5.3</td>\n",
       "      <td>1.0</td>\n",
       "      <td>15.0</td>\n",
       "      <td>4.0</td>\n",
       "      <td>16.0</td>\n",
       "    </tr>\n",
       "  </tbody>\n",
       "</table>\n",
       "</div>"
      ],
      "text/plain": [
       "           make_model    price             vat       km  registration  \\\n",
       "9956       Opel Corsa  16625.0  VAT deductible    100.0           0.0   \n",
       "11342   Opel Insignia  21900.0  VAT deductible  13600.0           1.0   \n",
       "15835  Renault Espace  47590.0  VAT deductible   6000.0           0.0   \n",
       "\n",
       "       prev_owner     hp            Type Inspection new  Warranty(months)  \\\n",
       "9956          1.0   66.0  Pre-registered        unknown               0.0   \n",
       "11342         1.0  100.0  Employee's car        unknown               0.0   \n",
       "15835         1.0  147.0  Employee's car        unknown               0.0   \n",
       "\n",
       "      Body Color Paint Type           Body  Nr. of Doors  Nr. of Seats  \\\n",
       "9956       Black   Metallic        Compact           3.0           5.0   \n",
       "11342       Grey   Metallic  Station wagon           5.0           5.0   \n",
       "15835      Black   Metallic            Van           5.0           7.0   \n",
       "\n",
       "      Gearing Type  Displacement  Cylinders  Weight Drive chain     Fuel  \\\n",
       "9956     Automatic        1398.0        1.0  1163.0       front  Benzine   \n",
       "11342    Automatic        1598.0        2.0  1503.0       front   Diesel   \n",
       "15835    Automatic        1997.0        2.0  1840.0       front   Diesel   \n",
       "\n",
       "       CO2 Emission Emission Class  Gears Upholstery_Texture  \\\n",
       "9956          140.0         Euro 6    6.0              Cloth   \n",
       "11342         114.0        unknown    6.0       Part leather   \n",
       "15835         139.0         Euro 6    6.0       Full leather   \n",
       "\n",
       "       Consumption_combined  Extras  Safety & Security  Entertainment & Media  \\\n",
       "9956                    6.0     2.0               13.0                    6.0   \n",
       "11342                   5.0     4.0               18.0                    6.0   \n",
       "15835                   5.3     1.0               15.0                    4.0   \n",
       "\n",
       "       Comfort & Convenience  \n",
       "9956                    18.0  \n",
       "11342                   19.0  \n",
       "15835                   16.0  "
      ]
     },
     "execution_count": 69,
     "metadata": {},
     "output_type": "execute_result"
    }
   ],
   "source": [
    "#Check the values with too low cylinders\n",
    "df[(df.Cylinders == 2.0) | (df.Cylinders == 1.0)]"
   ]
  },
  {
   "cell_type": "code",
   "execution_count": 70,
   "id": "9784aae7",
   "metadata": {},
   "outputs": [],
   "source": [
    "#I will make them 4\n",
    "df.loc[df.Cylinders == 2.0, 'Cylinders'] = 4"
   ]
  },
  {
   "cell_type": "code",
   "execution_count": 71,
   "id": "6250787d",
   "metadata": {},
   "outputs": [],
   "source": [
    "df.loc[df.Cylinders == 1.0, 'Cylinders'] = 4"
   ]
  },
  {
   "cell_type": "code",
   "execution_count": 72,
   "id": "cc302a8a",
   "metadata": {},
   "outputs": [
    {
     "data": {
      "text/plain": [
       "4.0    12443\n",
       "3.0     3447\n",
       "5.0       22\n",
       "6.0        3\n",
       "Name: Cylinders, dtype: int64"
      ]
     },
     "execution_count": 72,
     "metadata": {},
     "output_type": "execute_result"
    }
   ],
   "source": [
    "df.Cylinders.value_counts(dropna=False)"
   ]
  },
  {
   "cell_type": "markdown",
   "id": "db38ce34",
   "metadata": {},
   "source": [
    "### Column: Weight(kg)"
   ]
  },
  {
   "cell_type": "code",
   "execution_count": 74,
   "id": "7ba1fcfe",
   "metadata": {},
   "outputs": [
    {
     "data": {
      "text/plain": [
       "count    15915.000000\n",
       "mean      1343.725353\n",
       "std        211.585256\n",
       "min          1.000000\n",
       "25%       1163.000000\n",
       "50%       1279.000000\n",
       "75%       1485.000000\n",
       "max       2471.000000\n",
       "Name: Weight, dtype: float64"
      ]
     },
     "execution_count": 74,
     "metadata": {},
     "output_type": "execute_result"
    }
   ],
   "source": [
    "#There are some too low numbers for a car\n",
    "df['Weight'].describe()"
   ]
  },
  {
   "cell_type": "code",
   "execution_count": 76,
   "id": "814024ec",
   "metadata": {},
   "outputs": [
    {
     "data": {
      "image/png": "[encoded data removed]",
      "text/plain": [
       "<Figure size 432x288 with 1 Axes>"
      ]
     },
     "metadata": {},
     "output_type": "display_data"
    }
   ],
   "source": [
    "sns.boxplot(y='Weight',data=df, x='make_model')\n",
    "plt.xticks(rotation=45);"
   ]
  },
  {
   "cell_type": "code",
   "execution_count": 77,
   "id": "4e9622d0",
   "metadata": {},
   "outputs": [
    {
     "data": {
      "text/html": [
       "<div>\n",
       "<style scoped>\n",
       "    .dataframe tbody tr th:only-of-type {\n",
       "        vertical-align: middle;\n",
       "    }\n",
       "\n",
       "    .dataframe tbody tr th {\n",
       "        vertical-align: top;\n",
       "    }\n",
       "\n",
       "    .dataframe thead th {\n",
       "        text-align: right;\n",
       "    }\n",
       "</style>\n",
       "<table border=\"1\" class=\"dataframe\">\n",
       "  <thead>\n",
       "    <tr style=\"text-align: right;\">\n",
       "      <th></th>\n",
       "      <th>make_model</th>\n",
       "      <th>price</th>\n",
       "      <th>vat</th>\n",
       "      <th>km</th>\n",
       "      <th>registration</th>\n",
       "      <th>prev_owner</th>\n",
       "      <th>hp</th>\n",
       "      <th>Type</th>\n",
       "      <th>Inspection new</th>\n",
       "      <th>Warranty(months)</th>\n",
       "      <th>Body Color</th>\n",
       "      <th>Paint Type</th>\n",
       "      <th>Body</th>\n",
       "      <th>Nr. of Doors</th>\n",
       "      <th>Nr. of Seats</th>\n",
       "      <th>Gearing Type</th>\n",
       "      <th>Displacement</th>\n",
       "      <th>Cylinders</th>\n",
       "      <th>Weight</th>\n",
       "      <th>Drive chain</th>\n",
       "      <th>Fuel</th>\n",
       "      <th>CO2 Emission</th>\n",
       "      <th>Emission Class</th>\n",
       "      <th>Gears</th>\n",
       "      <th>Upholstery_Texture</th>\n",
       "      <th>Consumption_combined</th>\n",
       "      <th>Extras</th>\n",
       "      <th>Safety &amp; Security</th>\n",
       "      <th>Entertainment &amp; Media</th>\n",
       "      <th>Comfort &amp; Convenience</th>\n",
       "    </tr>\n",
       "  </thead>\n",
       "  <tbody>\n",
       "    <tr>\n",
       "      <th>1143</th>\n",
       "      <td>Audi A1</td>\n",
       "      <td>19229.0</td>\n",
       "      <td>VAT deductible</td>\n",
       "      <td>8263.0</td>\n",
       "      <td>1.0</td>\n",
       "      <td>1.0</td>\n",
       "      <td>70.0</td>\n",
       "      <td>Used</td>\n",
       "      <td>Yes</td>\n",
       "      <td>36.0</td>\n",
       "      <td>Beige</td>\n",
       "      <td>Metallic</td>\n",
       "      <td>Compact</td>\n",
       "      <td>5.0</td>\n",
       "      <td>4.0</td>\n",
       "      <td>Automatic</td>\n",
       "      <td>999.0</td>\n",
       "      <td>3.0</td>\n",
       "      <td>102.0</td>\n",
       "      <td>front</td>\n",
       "      <td>Benzine</td>\n",
       "      <td>102.0</td>\n",
       "      <td>Euro 6</td>\n",
       "      <td>7.0</td>\n",
       "      <td>Cloth</td>\n",
       "      <td>4.6</td>\n",
       "      <td>5.0</td>\n",
       "      <td>13.0</td>\n",
       "      <td>7.0</td>\n",
       "      <td>15.0</td>\n",
       "    </tr>\n",
       "    <tr>\n",
       "      <th>8355</th>\n",
       "      <td>Opel Corsa</td>\n",
       "      <td>12945.0</td>\n",
       "      <td>VAT non-deductible</td>\n",
       "      <td>2015.0</td>\n",
       "      <td>1.0</td>\n",
       "      <td>1.0</td>\n",
       "      <td>66.0</td>\n",
       "      <td>Used</td>\n",
       "      <td>Yes</td>\n",
       "      <td>0.0</td>\n",
       "      <td>Silver</td>\n",
       "      <td>Metallic</td>\n",
       "      <td>Compact</td>\n",
       "      <td>5.0</td>\n",
       "      <td>5.0</td>\n",
       "      <td>Automatic</td>\n",
       "      <td>1398.0</td>\n",
       "      <td>4.0</td>\n",
       "      <td>1.0</td>\n",
       "      <td>front</td>\n",
       "      <td>Benzine</td>\n",
       "      <td>112.0</td>\n",
       "      <td>Euro 6</td>\n",
       "      <td>5.0</td>\n",
       "      <td>Cloth</td>\n",
       "      <td>4.8</td>\n",
       "      <td>1.0</td>\n",
       "      <td>12.0</td>\n",
       "      <td>1.0</td>\n",
       "      <td>5.0</td>\n",
       "    </tr>\n",
       "    <tr>\n",
       "      <th>12779</th>\n",
       "      <td>Opel Insignia</td>\n",
       "      <td>39299.0</td>\n",
       "      <td>VAT deductible</td>\n",
       "      <td>10.0</td>\n",
       "      <td>0.0</td>\n",
       "      <td>1.0</td>\n",
       "      <td>121.0</td>\n",
       "      <td>New</td>\n",
       "      <td>unknown</td>\n",
       "      <td>0.0</td>\n",
       "      <td>Black</td>\n",
       "      <td>unknown</td>\n",
       "      <td>Station wagon</td>\n",
       "      <td>5.0</td>\n",
       "      <td>5.0</td>\n",
       "      <td>Manual</td>\n",
       "      <td>1500.0</td>\n",
       "      <td>4.0</td>\n",
       "      <td>1.0</td>\n",
       "      <td>front</td>\n",
       "      <td>Benzine</td>\n",
       "      <td>140.0</td>\n",
       "      <td>unknown</td>\n",
       "      <td>6.0</td>\n",
       "      <td>Cloth</td>\n",
       "      <td>6.0</td>\n",
       "      <td>0.0</td>\n",
       "      <td>2.0</td>\n",
       "      <td>0.0</td>\n",
       "      <td>6.0</td>\n",
       "    </tr>\n",
       "  </tbody>\n",
       "</table>\n",
       "</div>"
      ],
      "text/plain": [
       "          make_model    price                 vat      km  registration  \\\n",
       "1143         Audi A1  19229.0      VAT deductible  8263.0           1.0   \n",
       "8355      Opel Corsa  12945.0  VAT non-deductible  2015.0           1.0   \n",
       "12779  Opel Insignia  39299.0      VAT deductible    10.0           0.0   \n",
       "\n",
       "       prev_owner     hp  Type Inspection new  Warranty(months) Body Color  \\\n",
       "1143          1.0   70.0  Used            Yes              36.0      Beige   \n",
       "8355          1.0   66.0  Used            Yes               0.0     Silver   \n",
       "12779         1.0  121.0   New        unknown               0.0      Black   \n",
       "\n",
       "      Paint Type           Body  Nr. of Doors  Nr. of Seats Gearing Type  \\\n",
       "1143    Metallic        Compact           5.0           4.0    Automatic   \n",
       "8355    Metallic        Compact           5.0           5.0    Automatic   \n",
       "12779    unknown  Station wagon           5.0           5.0       Manual   \n",
       "\n",
       "       Displacement  Cylinders  Weight Drive chain     Fuel  CO2 Emission  \\\n",
       "1143          999.0        3.0   102.0       front  Benzine         102.0   \n",
       "8355         1398.0        4.0     1.0       front  Benzine         112.0   \n",
       "12779        1500.0        4.0     1.0       front  Benzine         140.0   \n",
       "\n",
       "      Emission Class  Gears Upholstery_Texture  Consumption_combined  Extras  \\\n",
       "1143          Euro 6    7.0              Cloth                   4.6     5.0   \n",
       "8355          Euro 6    5.0              Cloth                   4.8     1.0   \n",
       "12779        unknown    6.0              Cloth                   6.0     0.0   \n",
       "\n",
       "       Safety & Security  Entertainment & Media  Comfort & Convenience  \n",
       "1143                13.0                    7.0                   15.0  \n",
       "8355                12.0                    1.0                    5.0  \n",
       "12779                2.0                    0.0                    6.0  "
      ]
     },
     "execution_count": 77,
     "metadata": {},
     "output_type": "execute_result"
    }
   ],
   "source": [
    "df[df['Weight']<500]"
   ]
  },
  {
   "cell_type": "code",
   "execution_count": 79,
   "id": "c608cc9d",
   "metadata": {},
   "outputs": [],
   "source": [
    "#I will assign model weight means to outliers\n",
    "audi_weight = df[df['make_model'] == 'Audi A1']['Weight'].mean()"
   ]
  },
  {
   "cell_type": "code",
   "execution_count": 80,
   "id": "2a6dc3aa",
   "metadata": {},
   "outputs": [],
   "source": [
    "df.loc[1143, 'Weight'] = audi_weight"
   ]
  },
  {
   "cell_type": "code",
   "execution_count": 82,
   "id": "5fb5c9f9",
   "metadata": {},
   "outputs": [],
   "source": [
    "opel_corsa_weight = df[df['make_model'] == 'Opel Corsa']['Weight'].mean()"
   ]
  },
  {
   "cell_type": "code",
   "execution_count": 83,
   "id": "e64cdec2",
   "metadata": {},
   "outputs": [],
   "source": [
    "df.loc[8355, 'Weight'] = opel_corsa_weight"
   ]
  },
  {
   "cell_type": "code",
   "execution_count": 85,
   "id": "f4c8a44e",
   "metadata": {},
   "outputs": [],
   "source": [
    "opel_insignia_weight = df[df['make_model'] == 'Opel Insignia']['Weight'].mean()"
   ]
  },
  {
   "cell_type": "code",
   "execution_count": 86,
   "id": "3c99a3bc",
   "metadata": {},
   "outputs": [],
   "source": [
    "df.loc[12779, 'Weight'] = opel_insignia_weight"
   ]
  },
  {
   "cell_type": "code",
   "execution_count": 88,
   "id": "e85efd27",
   "metadata": {},
   "outputs": [
    {
     "data": {
      "text/html": [
       "<div>\n",
       "<style scoped>\n",
       "    .dataframe tbody tr th:only-of-type {\n",
       "        vertical-align: middle;\n",
       "    }\n",
       "\n",
       "    .dataframe tbody tr th {\n",
       "        vertical-align: top;\n",
       "    }\n",
       "\n",
       "    .dataframe thead th {\n",
       "        text-align: right;\n",
       "    }\n",
       "</style>\n",
       "<table border=\"1\" class=\"dataframe\">\n",
       "  <thead>\n",
       "    <tr style=\"text-align: right;\">\n",
       "      <th></th>\n",
       "      <th>make_model</th>\n",
       "      <th>price</th>\n",
       "      <th>vat</th>\n",
       "      <th>km</th>\n",
       "      <th>registration</th>\n",
       "      <th>prev_owner</th>\n",
       "      <th>hp</th>\n",
       "      <th>Type</th>\n",
       "      <th>Inspection new</th>\n",
       "      <th>Warranty(months)</th>\n",
       "      <th>Body Color</th>\n",
       "      <th>Paint Type</th>\n",
       "      <th>Body</th>\n",
       "      <th>Nr. of Doors</th>\n",
       "      <th>Nr. of Seats</th>\n",
       "      <th>Gearing Type</th>\n",
       "      <th>Displacement</th>\n",
       "      <th>Cylinders</th>\n",
       "      <th>Weight</th>\n",
       "      <th>Drive chain</th>\n",
       "      <th>Fuel</th>\n",
       "      <th>CO2 Emission</th>\n",
       "      <th>Emission Class</th>\n",
       "      <th>Gears</th>\n",
       "      <th>Upholstery_Texture</th>\n",
       "      <th>Consumption_combined</th>\n",
       "      <th>Extras</th>\n",
       "      <th>Safety &amp; Security</th>\n",
       "      <th>Entertainment &amp; Media</th>\n",
       "      <th>Comfort &amp; Convenience</th>\n",
       "    </tr>\n",
       "  </thead>\n",
       "  <tbody>\n",
       "  </tbody>\n",
       "</table>\n",
       "</div>"
      ],
      "text/plain": [
       "Empty DataFrame\n",
       "Columns: [make_model, price, vat, km, registration, prev_owner, hp, Type, Inspection new, Warranty(months), Body Color, Paint Type, Body, Nr. of Doors, Nr. of Seats, Gearing Type, Displacement, Cylinders, Weight, Drive chain, Fuel, CO2 Emission, Emission Class, Gears, Upholstery_Texture, Consumption_combined, Extras, Safety & Security, Entertainment & Media, Comfort & Convenience]\n",
       "Index: []"
      ]
     },
     "execution_count": 88,
     "metadata": {},
     "output_type": "execute_result"
    }
   ],
   "source": [
    "df[df['Weight']<500]"
   ]
  },
  {
   "cell_type": "markdown",
   "id": "8722d7ae",
   "metadata": {},
   "source": [
    "### Column: CO2 Emission"
   ]
  },
  {
   "cell_type": "code",
   "execution_count": 90,
   "id": "72b3bd1d",
   "metadata": {},
   "outputs": [
    {
     "data": {
      "image/png": "[encoded data removed]",
      "text/plain": [
       "<Figure size 432x288 with 1 Axes>"
      ]
     },
     "metadata": {},
     "output_type": "display_data"
    }
   ],
   "source": [
    "sns.boxplot(y='CO2 Emission',data=df, x='make_model')\n",
    "plt.xticks(rotation=45);"
   ]
  },
  {
   "cell_type": "code",
   "execution_count": 91,
   "id": "95023e3f",
   "metadata": {},
   "outputs": [
    {
     "data": {
      "text/html": [
       "<div>\n",
       "<style scoped>\n",
       "    .dataframe tbody tr th:only-of-type {\n",
       "        vertical-align: middle;\n",
       "    }\n",
       "\n",
       "    .dataframe tbody tr th {\n",
       "        vertical-align: top;\n",
       "    }\n",
       "\n",
       "    .dataframe thead th {\n",
       "        text-align: right;\n",
       "    }\n",
       "</style>\n",
       "<table border=\"1\" class=\"dataframe\">\n",
       "  <thead>\n",
       "    <tr style=\"text-align: right;\">\n",
       "      <th></th>\n",
       "      <th>make_model</th>\n",
       "      <th>price</th>\n",
       "      <th>vat</th>\n",
       "      <th>km</th>\n",
       "      <th>registration</th>\n",
       "      <th>prev_owner</th>\n",
       "      <th>hp</th>\n",
       "      <th>Type</th>\n",
       "      <th>Inspection new</th>\n",
       "      <th>Warranty(months)</th>\n",
       "      <th>Body Color</th>\n",
       "      <th>Paint Type</th>\n",
       "      <th>Body</th>\n",
       "      <th>Nr. of Doors</th>\n",
       "      <th>Nr. of Seats</th>\n",
       "      <th>Gearing Type</th>\n",
       "      <th>Displacement</th>\n",
       "      <th>Cylinders</th>\n",
       "      <th>Weight</th>\n",
       "      <th>Drive chain</th>\n",
       "      <th>Fuel</th>\n",
       "      <th>CO2 Emission</th>\n",
       "      <th>Emission Class</th>\n",
       "      <th>Gears</th>\n",
       "      <th>Upholstery_Texture</th>\n",
       "      <th>Consumption_combined</th>\n",
       "      <th>Extras</th>\n",
       "      <th>Safety &amp; Security</th>\n",
       "      <th>Entertainment &amp; Media</th>\n",
       "      <th>Comfort &amp; Convenience</th>\n",
       "    </tr>\n",
       "  </thead>\n",
       "  <tbody>\n",
       "    <tr>\n",
       "      <th>535</th>\n",
       "      <td>Audi A1</td>\n",
       "      <td>12990.0</td>\n",
       "      <td>VAT non-deductible</td>\n",
       "      <td>41200.0</td>\n",
       "      <td>3.0</td>\n",
       "      <td>1.0</td>\n",
       "      <td>70.0</td>\n",
       "      <td>Used</td>\n",
       "      <td>Yes</td>\n",
       "      <td>0.0</td>\n",
       "      <td>Silver</td>\n",
       "      <td>unknown</td>\n",
       "      <td>Compact</td>\n",
       "      <td>5.0</td>\n",
       "      <td>5.0</td>\n",
       "      <td>Manual</td>\n",
       "      <td>999.0</td>\n",
       "      <td>4.0</td>\n",
       "      <td>1135.0</td>\n",
       "      <td>front</td>\n",
       "      <td>Benzine</td>\n",
       "      <td>331.0</td>\n",
       "      <td>Euro 4</td>\n",
       "      <td>5.0</td>\n",
       "      <td>Cloth</td>\n",
       "      <td>13.0</td>\n",
       "      <td>2.0</td>\n",
       "      <td>11.0</td>\n",
       "      <td>0.0</td>\n",
       "      <td>5.0</td>\n",
       "    </tr>\n",
       "    <tr>\n",
       "      <th>4556</th>\n",
       "      <td>Audi A3</td>\n",
       "      <td>23500.0</td>\n",
       "      <td>VAT deductible</td>\n",
       "      <td>27815.0</td>\n",
       "      <td>1.0</td>\n",
       "      <td>1.0</td>\n",
       "      <td>81.0</td>\n",
       "      <td>Used</td>\n",
       "      <td>unknown</td>\n",
       "      <td>0.0</td>\n",
       "      <td>Grey</td>\n",
       "      <td>unknown</td>\n",
       "      <td>Sedans</td>\n",
       "      <td>5.0</td>\n",
       "      <td>5.0</td>\n",
       "      <td>Automatic</td>\n",
       "      <td>1598.0</td>\n",
       "      <td>4.0</td>\n",
       "      <td>1360.0</td>\n",
       "      <td>front</td>\n",
       "      <td>Diesel</td>\n",
       "      <td>990.0</td>\n",
       "      <td>unknown</td>\n",
       "      <td>7.0</td>\n",
       "      <td>Other</td>\n",
       "      <td>38.0</td>\n",
       "      <td>0.0</td>\n",
       "      <td>5.0</td>\n",
       "      <td>1.0</td>\n",
       "      <td>3.0</td>\n",
       "    </tr>\n",
       "  </tbody>\n",
       "</table>\n",
       "</div>"
      ],
      "text/plain": [
       "     make_model    price                 vat       km  registration  \\\n",
       "535     Audi A1  12990.0  VAT non-deductible  41200.0           3.0   \n",
       "4556    Audi A3  23500.0      VAT deductible  27815.0           1.0   \n",
       "\n",
       "      prev_owner    hp  Type Inspection new  Warranty(months) Body Color  \\\n",
       "535          1.0  70.0  Used            Yes               0.0     Silver   \n",
       "4556         1.0  81.0  Used        unknown               0.0       Grey   \n",
       "\n",
       "     Paint Type     Body  Nr. of Doors  Nr. of Seats Gearing Type  \\\n",
       "535     unknown  Compact           5.0           5.0       Manual   \n",
       "4556    unknown   Sedans           5.0           5.0    Automatic   \n",
       "\n",
       "      Displacement  Cylinders  Weight Drive chain     Fuel  CO2 Emission  \\\n",
       "535          999.0        4.0  1135.0       front  Benzine         331.0   \n",
       "4556        1598.0        4.0  1360.0       front   Diesel         990.0   \n",
       "\n",
       "     Emission Class  Gears Upholstery_Texture  Consumption_combined  Extras  \\\n",
       "535          Euro 4    5.0              Cloth                  13.0     2.0   \n",
       "4556        unknown    7.0              Other                  38.0     0.0   \n",
       "\n",
       "      Safety & Security  Entertainment & Media  Comfort & Convenience  \n",
       "535                11.0                    0.0                    5.0  \n",
       "4556                5.0                    1.0                    3.0  "
      ]
     },
     "execution_count": 91,
     "metadata": {},
     "output_type": "execute_result"
    }
   ],
   "source": [
    "df[df['CO2 Emission']>300]"
   ]
  },
  {
   "cell_type": "code",
   "execution_count": 92,
   "id": "c73d64d1",
   "metadata": {},
   "outputs": [],
   "source": [
    "#I will convert high values first to NULL and refill them with our filling method\n",
    "df.loc[[535, 4556], 'CO2 Emission'] = np.nan"
   ]
  },
  {
   "cell_type": "code",
   "execution_count": 94,
   "id": "b03249da",
   "metadata": {},
   "outputs": [
    {
     "data": {
      "text/html": [
       "<div>\n",
       "<style scoped>\n",
       "    .dataframe tbody tr th:only-of-type {\n",
       "        vertical-align: middle;\n",
       "    }\n",
       "\n",
       "    .dataframe tbody tr th {\n",
       "        vertical-align: top;\n",
       "    }\n",
       "\n",
       "    .dataframe thead th {\n",
       "        text-align: right;\n",
       "    }\n",
       "</style>\n",
       "<table border=\"1\" class=\"dataframe\">\n",
       "  <thead>\n",
       "    <tr style=\"text-align: right;\">\n",
       "      <th></th>\n",
       "      <th>make_model</th>\n",
       "      <th>price</th>\n",
       "      <th>vat</th>\n",
       "      <th>km</th>\n",
       "      <th>registration</th>\n",
       "      <th>prev_owner</th>\n",
       "      <th>hp</th>\n",
       "      <th>Type</th>\n",
       "      <th>Inspection new</th>\n",
       "      <th>Warranty(months)</th>\n",
       "      <th>Body Color</th>\n",
       "      <th>Paint Type</th>\n",
       "      <th>Body</th>\n",
       "      <th>Nr. of Doors</th>\n",
       "      <th>Nr. of Seats</th>\n",
       "      <th>Gearing Type</th>\n",
       "      <th>Displacement</th>\n",
       "      <th>Cylinders</th>\n",
       "      <th>Weight</th>\n",
       "      <th>Drive chain</th>\n",
       "      <th>Fuel</th>\n",
       "      <th>CO2 Emission</th>\n",
       "      <th>Emission Class</th>\n",
       "      <th>Gears</th>\n",
       "      <th>Upholstery_Texture</th>\n",
       "      <th>Consumption_combined</th>\n",
       "      <th>Extras</th>\n",
       "      <th>Safety &amp; Security</th>\n",
       "      <th>Entertainment &amp; Media</th>\n",
       "      <th>Comfort &amp; Convenience</th>\n",
       "    </tr>\n",
       "  </thead>\n",
       "  <tbody>\n",
       "    <tr>\n",
       "      <th>3612</th>\n",
       "      <td>Audi A3</td>\n",
       "      <td>38450.0</td>\n",
       "      <td>Price negotiable</td>\n",
       "      <td>13800.000000</td>\n",
       "      <td>1.0</td>\n",
       "      <td>1.0</td>\n",
       "      <td>110.0</td>\n",
       "      <td>Used</td>\n",
       "      <td>unknown</td>\n",
       "      <td>0.0</td>\n",
       "      <td>Black</td>\n",
       "      <td>Metallic</td>\n",
       "      <td>Sedans</td>\n",
       "      <td>5.0</td>\n",
       "      <td>5.0</td>\n",
       "      <td>Semi-automatic</td>\n",
       "      <td>1395.0</td>\n",
       "      <td>4.0</td>\n",
       "      <td>1615.0</td>\n",
       "      <td>front</td>\n",
       "      <td>Benzine</td>\n",
       "      <td>36.0</td>\n",
       "      <td>Euro 6</td>\n",
       "      <td>6.0</td>\n",
       "      <td>Cloth</td>\n",
       "      <td>1.60</td>\n",
       "      <td>4.0</td>\n",
       "      <td>22.0</td>\n",
       "      <td>10.0</td>\n",
       "      <td>16.0</td>\n",
       "    </tr>\n",
       "    <tr>\n",
       "      <th>3615</th>\n",
       "      <td>Audi A3</td>\n",
       "      <td>35899.0</td>\n",
       "      <td>VAT non-deductible</td>\n",
       "      <td>20880.000000</td>\n",
       "      <td>1.0</td>\n",
       "      <td>1.0</td>\n",
       "      <td>110.0</td>\n",
       "      <td>Used</td>\n",
       "      <td>unknown</td>\n",
       "      <td>0.0</td>\n",
       "      <td>White</td>\n",
       "      <td>unknown</td>\n",
       "      <td>Sedans</td>\n",
       "      <td>5.0</td>\n",
       "      <td>5.0</td>\n",
       "      <td>Semi-automatic</td>\n",
       "      <td>1395.0</td>\n",
       "      <td>4.0</td>\n",
       "      <td>1615.0</td>\n",
       "      <td>front</td>\n",
       "      <td>Benzine</td>\n",
       "      <td>36.0</td>\n",
       "      <td>Euro 6</td>\n",
       "      <td>6.0</td>\n",
       "      <td>unknown</td>\n",
       "      <td>1.60</td>\n",
       "      <td>1.0</td>\n",
       "      <td>9.0</td>\n",
       "      <td>2.0</td>\n",
       "      <td>4.0</td>\n",
       "    </tr>\n",
       "    <tr>\n",
       "      <th>3617</th>\n",
       "      <td>Audi A3</td>\n",
       "      <td>38000.0</td>\n",
       "      <td>Price negotiable</td>\n",
       "      <td>12000.000000</td>\n",
       "      <td>1.0</td>\n",
       "      <td>1.0</td>\n",
       "      <td>110.0</td>\n",
       "      <td>Used</td>\n",
       "      <td>unknown</td>\n",
       "      <td>0.0</td>\n",
       "      <td>Grey</td>\n",
       "      <td>Metallic</td>\n",
       "      <td>Sedans</td>\n",
       "      <td>5.0</td>\n",
       "      <td>5.0</td>\n",
       "      <td>Semi-automatic</td>\n",
       "      <td>1395.0</td>\n",
       "      <td>4.0</td>\n",
       "      <td>1615.0</td>\n",
       "      <td>front</td>\n",
       "      <td>Benzine</td>\n",
       "      <td>36.0</td>\n",
       "      <td>Euro 6</td>\n",
       "      <td>6.0</td>\n",
       "      <td>Part leather</td>\n",
       "      <td>1.60</td>\n",
       "      <td>6.0</td>\n",
       "      <td>24.0</td>\n",
       "      <td>9.0</td>\n",
       "      <td>17.0</td>\n",
       "    </tr>\n",
       "    <tr>\n",
       "      <th>4089</th>\n",
       "      <td>Audi A3</td>\n",
       "      <td>19500.0</td>\n",
       "      <td>VAT deductible</td>\n",
       "      <td>23644.000000</td>\n",
       "      <td>1.0</td>\n",
       "      <td>1.0</td>\n",
       "      <td>85.0</td>\n",
       "      <td>Used</td>\n",
       "      <td>unknown</td>\n",
       "      <td>0.0</td>\n",
       "      <td>Blue</td>\n",
       "      <td>unknown</td>\n",
       "      <td>Sedans</td>\n",
       "      <td>5.0</td>\n",
       "      <td>5.0</td>\n",
       "      <td>Manual</td>\n",
       "      <td>1598.0</td>\n",
       "      <td>4.0</td>\n",
       "      <td>1360.0</td>\n",
       "      <td>front</td>\n",
       "      <td>Diesel</td>\n",
       "      <td>1.0</td>\n",
       "      <td>unknown</td>\n",
       "      <td>6.0</td>\n",
       "      <td>Other</td>\n",
       "      <td>40.00</td>\n",
       "      <td>0.0</td>\n",
       "      <td>5.0</td>\n",
       "      <td>2.0</td>\n",
       "      <td>0.0</td>\n",
       "    </tr>\n",
       "    <tr>\n",
       "      <th>5818</th>\n",
       "      <td>Opel Astra</td>\n",
       "      <td>14990.0</td>\n",
       "      <td>VAT deductible</td>\n",
       "      <td>85182.000000</td>\n",
       "      <td>3.0</td>\n",
       "      <td>1.0</td>\n",
       "      <td>110.0</td>\n",
       "      <td>Used</td>\n",
       "      <td>unknown</td>\n",
       "      <td>0.0</td>\n",
       "      <td>Brown</td>\n",
       "      <td>Metallic</td>\n",
       "      <td>Sedans</td>\n",
       "      <td>5.0</td>\n",
       "      <td>5.0</td>\n",
       "      <td>Automatic</td>\n",
       "      <td>1399.0</td>\n",
       "      <td>4.0</td>\n",
       "      <td>1278.0</td>\n",
       "      <td>front</td>\n",
       "      <td>Benzine</td>\n",
       "      <td>12.0</td>\n",
       "      <td>Euro 6</td>\n",
       "      <td>6.0</td>\n",
       "      <td>Cloth</td>\n",
       "      <td>5.10</td>\n",
       "      <td>2.0</td>\n",
       "      <td>19.0</td>\n",
       "      <td>6.0</td>\n",
       "      <td>17.0</td>\n",
       "    </tr>\n",
       "    <tr>\n",
       "      <th>6397</th>\n",
       "      <td>Opel Astra</td>\n",
       "      <td>6950.0</td>\n",
       "      <td>VAT non-deductible</td>\n",
       "      <td>88000.000000</td>\n",
       "      <td>0.0</td>\n",
       "      <td>1.0</td>\n",
       "      <td>81.0</td>\n",
       "      <td>Used</td>\n",
       "      <td>unknown</td>\n",
       "      <td>0.0</td>\n",
       "      <td>Grey</td>\n",
       "      <td>unknown</td>\n",
       "      <td>Sedans</td>\n",
       "      <td>5.0</td>\n",
       "      <td>5.0</td>\n",
       "      <td>Manual</td>\n",
       "      <td>1700.0</td>\n",
       "      <td>4.0</td>\n",
       "      <td>1425.0</td>\n",
       "      <td>front</td>\n",
       "      <td>Diesel</td>\n",
       "      <td>5.0</td>\n",
       "      <td>unknown</td>\n",
       "      <td>6.0</td>\n",
       "      <td>unknown</td>\n",
       "      <td>4.50</td>\n",
       "      <td>1.0</td>\n",
       "      <td>9.0</td>\n",
       "      <td>1.0</td>\n",
       "      <td>5.0</td>\n",
       "    </tr>\n",
       "    <tr>\n",
       "      <th>6578</th>\n",
       "      <td>Opel Astra</td>\n",
       "      <td>17850.0</td>\n",
       "      <td>VAT deductible</td>\n",
       "      <td>29900.000000</td>\n",
       "      <td>1.0</td>\n",
       "      <td>1.0</td>\n",
       "      <td>110.0</td>\n",
       "      <td>Used</td>\n",
       "      <td>Yes</td>\n",
       "      <td>0.0</td>\n",
       "      <td>Green</td>\n",
       "      <td>Metallic</td>\n",
       "      <td>Station wagon</td>\n",
       "      <td>5.0</td>\n",
       "      <td>5.0</td>\n",
       "      <td>Automatic</td>\n",
       "      <td>1399.0</td>\n",
       "      <td>4.0</td>\n",
       "      <td>1278.0</td>\n",
       "      <td>front</td>\n",
       "      <td>Benzine</td>\n",
       "      <td>12.0</td>\n",
       "      <td>Euro 6</td>\n",
       "      <td>6.0</td>\n",
       "      <td>Cloth</td>\n",
       "      <td>5.10</td>\n",
       "      <td>4.0</td>\n",
       "      <td>14.0</td>\n",
       "      <td>5.0</td>\n",
       "      <td>19.0</td>\n",
       "    </tr>\n",
       "    <tr>\n",
       "      <th>6579</th>\n",
       "      <td>Opel Astra</td>\n",
       "      <td>17850.0</td>\n",
       "      <td>VAT deductible</td>\n",
       "      <td>29900.000000</td>\n",
       "      <td>1.0</td>\n",
       "      <td>1.0</td>\n",
       "      <td>110.0</td>\n",
       "      <td>Used</td>\n",
       "      <td>Yes</td>\n",
       "      <td>0.0</td>\n",
       "      <td>Green</td>\n",
       "      <td>Metallic</td>\n",
       "      <td>Station wagon</td>\n",
       "      <td>5.0</td>\n",
       "      <td>5.0</td>\n",
       "      <td>Automatic</td>\n",
       "      <td>1399.0</td>\n",
       "      <td>4.0</td>\n",
       "      <td>1278.0</td>\n",
       "      <td>front</td>\n",
       "      <td>Benzine</td>\n",
       "      <td>12.0</td>\n",
       "      <td>Euro 6</td>\n",
       "      <td>6.0</td>\n",
       "      <td>Cloth</td>\n",
       "      <td>5.10</td>\n",
       "      <td>4.0</td>\n",
       "      <td>14.0</td>\n",
       "      <td>5.0</td>\n",
       "      <td>19.0</td>\n",
       "    </tr>\n",
       "    <tr>\n",
       "      <th>8110</th>\n",
       "      <td>Opel Astra</td>\n",
       "      <td>18380.0</td>\n",
       "      <td>VAT deductible</td>\n",
       "      <td>1020.000000</td>\n",
       "      <td>0.0</td>\n",
       "      <td>1.0</td>\n",
       "      <td>77.0</td>\n",
       "      <td>Used</td>\n",
       "      <td>Yes</td>\n",
       "      <td>60.0</td>\n",
       "      <td>Silver</td>\n",
       "      <td>Metallic</td>\n",
       "      <td>Station wagon</td>\n",
       "      <td>5.0</td>\n",
       "      <td>5.0</td>\n",
       "      <td>Manual</td>\n",
       "      <td>999.0</td>\n",
       "      <td>3.0</td>\n",
       "      <td>1273.0</td>\n",
       "      <td>front</td>\n",
       "      <td>Benzine</td>\n",
       "      <td>14.0</td>\n",
       "      <td>unknown</td>\n",
       "      <td>5.0</td>\n",
       "      <td>Cloth</td>\n",
       "      <td>5.00</td>\n",
       "      <td>1.0</td>\n",
       "      <td>14.0</td>\n",
       "      <td>6.0</td>\n",
       "      <td>18.0</td>\n",
       "    </tr>\n",
       "    <tr>\n",
       "      <th>8217</th>\n",
       "      <td>Opel Astra</td>\n",
       "      <td>17850.0</td>\n",
       "      <td>VAT deductible</td>\n",
       "      <td>4500.000000</td>\n",
       "      <td>0.0</td>\n",
       "      <td>1.0</td>\n",
       "      <td>92.0</td>\n",
       "      <td>Employee's car</td>\n",
       "      <td>Yes</td>\n",
       "      <td>0.0</td>\n",
       "      <td>Red</td>\n",
       "      <td>unknown</td>\n",
       "      <td>Sedans</td>\n",
       "      <td>5.0</td>\n",
       "      <td>5.0</td>\n",
       "      <td>Manual</td>\n",
       "      <td>1399.0</td>\n",
       "      <td>4.0</td>\n",
       "      <td>1278.0</td>\n",
       "      <td>front</td>\n",
       "      <td>Benzine</td>\n",
       "      <td>0.0</td>\n",
       "      <td>Euro 6</td>\n",
       "      <td>6.0</td>\n",
       "      <td>Cloth</td>\n",
       "      <td>0.00</td>\n",
       "      <td>2.0</td>\n",
       "      <td>15.0</td>\n",
       "      <td>6.0</td>\n",
       "      <td>16.0</td>\n",
       "    </tr>\n",
       "    <tr>\n",
       "      <th>8542</th>\n",
       "      <td>Opel Corsa</td>\n",
       "      <td>10950.0</td>\n",
       "      <td>VAT deductible</td>\n",
       "      <td>34800.000000</td>\n",
       "      <td>3.0</td>\n",
       "      <td>2.0</td>\n",
       "      <td>66.0</td>\n",
       "      <td>Used</td>\n",
       "      <td>unknown</td>\n",
       "      <td>12.0</td>\n",
       "      <td>Blue</td>\n",
       "      <td>unknown</td>\n",
       "      <td>Compact</td>\n",
       "      <td>3.0</td>\n",
       "      <td>5.0</td>\n",
       "      <td>Automatic</td>\n",
       "      <td>1398.0</td>\n",
       "      <td>4.0</td>\n",
       "      <td>1163.0</td>\n",
       "      <td>front</td>\n",
       "      <td>Benzine</td>\n",
       "      <td>12.0</td>\n",
       "      <td>Euro 6</td>\n",
       "      <td>6.0</td>\n",
       "      <td>Cloth</td>\n",
       "      <td>5.20</td>\n",
       "      <td>2.0</td>\n",
       "      <td>12.0</td>\n",
       "      <td>6.0</td>\n",
       "      <td>13.0</td>\n",
       "    </tr>\n",
       "    <tr>\n",
       "      <th>9798</th>\n",
       "      <td>Opel Corsa</td>\n",
       "      <td>9900.0</td>\n",
       "      <td>VAT non-deductible</td>\n",
       "      <td>19800.000000</td>\n",
       "      <td>1.0</td>\n",
       "      <td>2.0</td>\n",
       "      <td>55.0</td>\n",
       "      <td>Used</td>\n",
       "      <td>unknown</td>\n",
       "      <td>12.0</td>\n",
       "      <td>Silver</td>\n",
       "      <td>Metallic</td>\n",
       "      <td>Compact</td>\n",
       "      <td>5.0</td>\n",
       "      <td>5.0</td>\n",
       "      <td>Manual</td>\n",
       "      <td>1398.0</td>\n",
       "      <td>4.0</td>\n",
       "      <td>1163.0</td>\n",
       "      <td>front</td>\n",
       "      <td>Benzine</td>\n",
       "      <td>51.0</td>\n",
       "      <td>Euro 6</td>\n",
       "      <td>5.0</td>\n",
       "      <td>Cloth</td>\n",
       "      <td>5.45</td>\n",
       "      <td>1.0</td>\n",
       "      <td>11.0</td>\n",
       "      <td>7.0</td>\n",
       "      <td>12.0</td>\n",
       "    </tr>\n",
       "    <tr>\n",
       "      <th>10566</th>\n",
       "      <td>Opel Insignia</td>\n",
       "      <td>16900.0</td>\n",
       "      <td>VAT deductible</td>\n",
       "      <td>59800.000000</td>\n",
       "      <td>2.0</td>\n",
       "      <td>1.0</td>\n",
       "      <td>125.0</td>\n",
       "      <td>Used</td>\n",
       "      <td>Yes</td>\n",
       "      <td>12.0</td>\n",
       "      <td>Black</td>\n",
       "      <td>Metallic</td>\n",
       "      <td>Station wagon</td>\n",
       "      <td>5.0</td>\n",
       "      <td>5.0</td>\n",
       "      <td>Automatic</td>\n",
       "      <td>1956.0</td>\n",
       "      <td>4.0</td>\n",
       "      <td>1733.0</td>\n",
       "      <td>front</td>\n",
       "      <td>Diesel</td>\n",
       "      <td>0.0</td>\n",
       "      <td>unknown</td>\n",
       "      <td>6.0</td>\n",
       "      <td>Part leather</td>\n",
       "      <td>0.00</td>\n",
       "      <td>2.0</td>\n",
       "      <td>15.0</td>\n",
       "      <td>2.0</td>\n",
       "      <td>14.0</td>\n",
       "    </tr>\n",
       "    <tr>\n",
       "      <th>11553</th>\n",
       "      <td>Opel Insignia</td>\n",
       "      <td>18900.0</td>\n",
       "      <td>VAT non-deductible</td>\n",
       "      <td>34386.000000</td>\n",
       "      <td>1.0</td>\n",
       "      <td>1.0</td>\n",
       "      <td>125.0</td>\n",
       "      <td>Used</td>\n",
       "      <td>unknown</td>\n",
       "      <td>24.0</td>\n",
       "      <td>Grey</td>\n",
       "      <td>unknown</td>\n",
       "      <td>Station wagon</td>\n",
       "      <td>5.0</td>\n",
       "      <td>5.0</td>\n",
       "      <td>Manual</td>\n",
       "      <td>1956.0</td>\n",
       "      <td>4.0</td>\n",
       "      <td>1633.0</td>\n",
       "      <td>front</td>\n",
       "      <td>Diesel</td>\n",
       "      <td>5.0</td>\n",
       "      <td>unknown</td>\n",
       "      <td>6.0</td>\n",
       "      <td>unknown</td>\n",
       "      <td>4.40</td>\n",
       "      <td>0.0</td>\n",
       "      <td>0.0</td>\n",
       "      <td>0.0</td>\n",
       "      <td>0.0</td>\n",
       "    </tr>\n",
       "    <tr>\n",
       "      <th>11888</th>\n",
       "      <td>Opel Insignia</td>\n",
       "      <td>22990.0</td>\n",
       "      <td>VAT deductible</td>\n",
       "      <td>25583.000000</td>\n",
       "      <td>1.0</td>\n",
       "      <td>1.0</td>\n",
       "      <td>121.0</td>\n",
       "      <td>Used</td>\n",
       "      <td>unknown</td>\n",
       "      <td>12.0</td>\n",
       "      <td>Grey</td>\n",
       "      <td>Metallic</td>\n",
       "      <td>Station wagon</td>\n",
       "      <td>5.0</td>\n",
       "      <td>5.0</td>\n",
       "      <td>Automatic</td>\n",
       "      <td>1490.0</td>\n",
       "      <td>4.0</td>\n",
       "      <td>1487.0</td>\n",
       "      <td>front</td>\n",
       "      <td>Benzine</td>\n",
       "      <td>14.0</td>\n",
       "      <td>Euro 6</td>\n",
       "      <td>6.0</td>\n",
       "      <td>Cloth</td>\n",
       "      <td>6.10</td>\n",
       "      <td>2.0</td>\n",
       "      <td>20.0</td>\n",
       "      <td>5.0</td>\n",
       "      <td>21.0</td>\n",
       "    </tr>\n",
       "    <tr>\n",
       "      <th>12343</th>\n",
       "      <td>Opel Insignia</td>\n",
       "      <td>19950.0</td>\n",
       "      <td>VAT deductible</td>\n",
       "      <td>15018.000000</td>\n",
       "      <td>1.0</td>\n",
       "      <td>1.0</td>\n",
       "      <td>103.0</td>\n",
       "      <td>Used</td>\n",
       "      <td>unknown</td>\n",
       "      <td>12.0</td>\n",
       "      <td>White</td>\n",
       "      <td>unknown</td>\n",
       "      <td>Sedans</td>\n",
       "      <td>5.0</td>\n",
       "      <td>5.0</td>\n",
       "      <td>Manual</td>\n",
       "      <td>1490.0</td>\n",
       "      <td>4.0</td>\n",
       "      <td>1487.0</td>\n",
       "      <td>front</td>\n",
       "      <td>Benzine</td>\n",
       "      <td>13.0</td>\n",
       "      <td>unknown</td>\n",
       "      <td>6.0</td>\n",
       "      <td>Cloth</td>\n",
       "      <td>5.90</td>\n",
       "      <td>4.0</td>\n",
       "      <td>14.0</td>\n",
       "      <td>5.0</td>\n",
       "      <td>16.0</td>\n",
       "    </tr>\n",
       "    <tr>\n",
       "      <th>12547</th>\n",
       "      <td>Opel Insignia</td>\n",
       "      <td>33950.0</td>\n",
       "      <td>VAT deductible</td>\n",
       "      <td>10.000000</td>\n",
       "      <td>0.0</td>\n",
       "      <td>1.0</td>\n",
       "      <td>147.0</td>\n",
       "      <td>New</td>\n",
       "      <td>unknown</td>\n",
       "      <td>0.0</td>\n",
       "      <td>Black</td>\n",
       "      <td>Metallic</td>\n",
       "      <td>Sedans</td>\n",
       "      <td>4.0</td>\n",
       "      <td>5.0</td>\n",
       "      <td>Automatic</td>\n",
       "      <td>1600.0</td>\n",
       "      <td>4.0</td>\n",
       "      <td>1503.0</td>\n",
       "      <td>front</td>\n",
       "      <td>Benzine</td>\n",
       "      <td>45.0</td>\n",
       "      <td>Euro 6</td>\n",
       "      <td>6.0</td>\n",
       "      <td>Full leather</td>\n",
       "      <td>6.30</td>\n",
       "      <td>6.0</td>\n",
       "      <td>20.0</td>\n",
       "      <td>6.0</td>\n",
       "      <td>22.0</td>\n",
       "    </tr>\n",
       "    <tr>\n",
       "      <th>13008</th>\n",
       "      <td>Opel Insignia</td>\n",
       "      <td>24700.0</td>\n",
       "      <td>VAT non-deductible</td>\n",
       "      <td>9800.000000</td>\n",
       "      <td>0.0</td>\n",
       "      <td>1.0</td>\n",
       "      <td>100.0</td>\n",
       "      <td>Used</td>\n",
       "      <td>unknown</td>\n",
       "      <td>0.0</td>\n",
       "      <td>Blue</td>\n",
       "      <td>Metallic</td>\n",
       "      <td>Other</td>\n",
       "      <td>5.0</td>\n",
       "      <td>5.0</td>\n",
       "      <td>Manual</td>\n",
       "      <td>1598.0</td>\n",
       "      <td>4.0</td>\n",
       "      <td>1503.0</td>\n",
       "      <td>front</td>\n",
       "      <td>Diesel</td>\n",
       "      <td>5.0</td>\n",
       "      <td>unknown</td>\n",
       "      <td>6.0</td>\n",
       "      <td>unknown</td>\n",
       "      <td>4.20</td>\n",
       "      <td>0.0</td>\n",
       "      <td>0.0</td>\n",
       "      <td>0.0</td>\n",
       "      <td>0.0</td>\n",
       "    </tr>\n",
       "    <tr>\n",
       "      <th>14902</th>\n",
       "      <td>Renault Duster</td>\n",
       "      <td>10850.0</td>\n",
       "      <td>VAT non-deductible</td>\n",
       "      <td>2192.289803</td>\n",
       "      <td>0.0</td>\n",
       "      <td>0.0</td>\n",
       "      <td>77.0</td>\n",
       "      <td>New</td>\n",
       "      <td>unknown</td>\n",
       "      <td>0.0</td>\n",
       "      <td>White</td>\n",
       "      <td>unknown</td>\n",
       "      <td>Off-Road</td>\n",
       "      <td>5.0</td>\n",
       "      <td>5.0</td>\n",
       "      <td>Manual</td>\n",
       "      <td>1598.0</td>\n",
       "      <td>4.0</td>\n",
       "      <td>1487.0</td>\n",
       "      <td>4WD</td>\n",
       "      <td>Benzine</td>\n",
       "      <td>1.0</td>\n",
       "      <td>unknown</td>\n",
       "      <td>6.0</td>\n",
       "      <td>Cloth</td>\n",
       "      <td>1.00</td>\n",
       "      <td>0.0</td>\n",
       "      <td>6.0</td>\n",
       "      <td>2.0</td>\n",
       "      <td>2.0</td>\n",
       "    </tr>\n",
       "  </tbody>\n",
       "</table>\n",
       "</div>"
      ],
      "text/plain": [
       "           make_model    price                 vat            km  \\\n",
       "3612          Audi A3  38450.0    Price negotiable  13800.000000   \n",
       "3615          Audi A3  35899.0  VAT non-deductible  20880.000000   \n",
       "3617          Audi A3  38000.0    Price negotiable  12000.000000   \n",
       "4089          Audi A3  19500.0      VAT deductible  23644.000000   \n",
       "5818       Opel Astra  14990.0      VAT deductible  85182.000000   \n",
       "6397       Opel Astra   6950.0  VAT non-deductible  88000.000000   \n",
       "6578       Opel Astra  17850.0      VAT deductible  29900.000000   \n",
       "6579       Opel Astra  17850.0      VAT deductible  29900.000000   \n",
       "8110       Opel Astra  18380.0      VAT deductible   1020.000000   \n",
       "8217       Opel Astra  17850.0      VAT deductible   4500.000000   \n",
       "8542       Opel Corsa  10950.0      VAT deductible  34800.000000   \n",
       "9798       Opel Corsa   9900.0  VAT non-deductible  19800.000000   \n",
       "10566   Opel Insignia  16900.0      VAT deductible  59800.000000   \n",
       "11553   Opel Insignia  18900.0  VAT non-deductible  34386.000000   \n",
       "11888   Opel Insignia  22990.0      VAT deductible  25583.000000   \n",
       "12343   Opel Insignia  19950.0      VAT deductible  15018.000000   \n",
       "12547   Opel Insignia  33950.0      VAT deductible     10.000000   \n",
       "13008   Opel Insignia  24700.0  VAT non-deductible   9800.000000   \n",
       "14902  Renault Duster  10850.0  VAT non-deductible   2192.289803   \n",
       "\n",
       "       registration  prev_owner     hp            Type Inspection new  \\\n",
       "3612            1.0         1.0  110.0            Used        unknown   \n",
       "3615            1.0         1.0  110.0            Used        unknown   \n",
       "3617            1.0         1.0  110.0            Used        unknown   \n",
       "4089            1.0         1.0   85.0            Used        unknown   \n",
       "5818            3.0         1.0  110.0            Used        unknown   \n",
       "6397            0.0         1.0   81.0            Used        unknown   \n",
       "6578            1.0         1.0  110.0            Used            Yes   \n",
       "6579            1.0         1.0  110.0            Used            Yes   \n",
       "8110            0.0         1.0   77.0            Used            Yes   \n",
       "8217            0.0         1.0   92.0  Employee's car            Yes   \n",
       "8542            3.0         2.0   66.0            Used        unknown   \n",
       "9798            1.0         2.0   55.0            Used        unknown   \n",
       "10566           2.0         1.0  125.0            Used            Yes   \n",
       "11553           1.0         1.0  125.0            Used        unknown   \n",
       "11888           1.0         1.0  121.0            Used        unknown   \n",
       "12343           1.0         1.0  103.0            Used        unknown   \n",
       "12547           0.0         1.0  147.0             New        unknown   \n",
       "13008           0.0         1.0  100.0            Used        unknown   \n",
       "14902           0.0         0.0   77.0             New        unknown   \n",
       "\n",
       "       Warranty(months) Body Color Paint Type           Body  Nr. of Doors  \\\n",
       "3612                0.0      Black   Metallic         Sedans           5.0   \n",
       "3615                0.0      White    unknown         Sedans           5.0   \n",
       "3617                0.0       Grey   Metallic         Sedans           5.0   \n",
       "4089                0.0       Blue    unknown         Sedans           5.0   \n",
       "5818                0.0      Brown   Metallic         Sedans           5.0   \n",
       "6397                0.0       Grey    unknown         Sedans           5.0   \n",
       "6578                0.0      Green   Metallic  Station wagon           5.0   \n",
       "6579                0.0      Green   Metallic  Station wagon           5.0   \n",
       "8110               60.0     Silver   Metallic  Station wagon           5.0   \n",
       "8217                0.0        Red    unknown         Sedans           5.0   \n",
       "8542               12.0       Blue    unknown        Compact           3.0   \n",
       "9798               12.0     Silver   Metallic        Compact           5.0   \n",
       "10566              12.0      Black   Metallic  Station wagon           5.0   \n",
       "11553              24.0       Grey    unknown  Station wagon           5.0   \n",
       "11888              12.0       Grey   Metallic  Station wagon           5.0   \n",
       "12343              12.0      White    unknown         Sedans           5.0   \n",
       "12547               0.0      Black   Metallic         Sedans           4.0   \n",
       "13008               0.0       Blue   Metallic          Other           5.0   \n",
       "14902               0.0      White    unknown       Off-Road           5.0   \n",
       "\n",
       "       Nr. of Seats    Gearing Type  Displacement  Cylinders  Weight  \\\n",
       "3612            5.0  Semi-automatic        1395.0        4.0  1615.0   \n",
       "3615            5.0  Semi-automatic        1395.0        4.0  1615.0   \n",
       "3617            5.0  Semi-automatic        1395.0        4.0  1615.0   \n",
       "4089            5.0          Manual        1598.0        4.0  1360.0   \n",
       "5818            5.0       Automatic        1399.0        4.0  1278.0   \n",
       "6397            5.0          Manual        1700.0        4.0  1425.0   \n",
       "6578            5.0       Automatic        1399.0        4.0  1278.0   \n",
       "6579            5.0       Automatic        1399.0        4.0  1278.0   \n",
       "8110            5.0          Manual         999.0        3.0  1273.0   \n",
       "8217            5.0          Manual        1399.0        4.0  1278.0   \n",
       "8542            5.0       Automatic        1398.0        4.0  1163.0   \n",
       "9798            5.0          Manual        1398.0        4.0  1163.0   \n",
       "10566           5.0       Automatic        1956.0        4.0  1733.0   \n",
       "11553           5.0          Manual        1956.0        4.0  1633.0   \n",
       "11888           5.0       Automatic        1490.0        4.0  1487.0   \n",
       "12343           5.0          Manual        1490.0        4.0  1487.0   \n",
       "12547           5.0       Automatic        1600.0        4.0  1503.0   \n",
       "13008           5.0          Manual        1598.0        4.0  1503.0   \n",
       "14902           5.0          Manual        1598.0        4.0  1487.0   \n",
       "\n",
       "      Drive chain     Fuel  CO2 Emission Emission Class  Gears  \\\n",
       "3612        front  Benzine          36.0         Euro 6    6.0   \n",
       "3615        front  Benzine          36.0         Euro 6    6.0   \n",
       "3617        front  Benzine          36.0         Euro 6    6.0   \n",
       "4089        front   Diesel           1.0        unknown    6.0   \n",
       "5818        front  Benzine          12.0         Euro 6    6.0   \n",
       "6397        front   Diesel           5.0        unknown    6.0   \n",
       "6578        front  Benzine          12.0         Euro 6    6.0   \n",
       "6579        front  Benzine          12.0         Euro 6    6.0   \n",
       "8110        front  Benzine          14.0        unknown    5.0   \n",
       "8217        front  Benzine           0.0         Euro 6    6.0   \n",
       "8542        front  Benzine          12.0         Euro 6    6.0   \n",
       "9798        front  Benzine          51.0         Euro 6    5.0   \n",
       "10566       front   Diesel           0.0        unknown    6.0   \n",
       "11553       front   Diesel           5.0        unknown    6.0   \n",
       "11888       front  Benzine          14.0         Euro 6    6.0   \n",
       "12343       front  Benzine          13.0        unknown    6.0   \n",
       "12547       front  Benzine          45.0         Euro 6    6.0   \n",
       "13008       front   Diesel           5.0        unknown    6.0   \n",
       "14902         4WD  Benzine           1.0        unknown    6.0   \n",
       "\n",
       "      Upholstery_Texture  Consumption_combined  Extras  Safety & Security  \\\n",
       "3612               Cloth                  1.60     4.0               22.0   \n",
       "3615             unknown                  1.60     1.0                9.0   \n",
       "3617        Part leather                  1.60     6.0               24.0   \n",
       "4089               Other                 40.00     0.0                5.0   \n",
       "5818               Cloth                  5.10     2.0               19.0   \n",
       "6397             unknown                  4.50     1.0                9.0   \n",
       "6578               Cloth                  5.10     4.0               14.0   \n",
       "6579               Cloth                  5.10     4.0               14.0   \n",
       "8110               Cloth                  5.00     1.0               14.0   \n",
       "8217               Cloth                  0.00     2.0               15.0   \n",
       "8542               Cloth                  5.20     2.0               12.0   \n",
       "9798               Cloth                  5.45     1.0               11.0   \n",
       "10566       Part leather                  0.00     2.0               15.0   \n",
       "11553            unknown                  4.40     0.0                0.0   \n",
       "11888              Cloth                  6.10     2.0               20.0   \n",
       "12343              Cloth                  5.90     4.0               14.0   \n",
       "12547       Full leather                  6.30     6.0               20.0   \n",
       "13008            unknown                  4.20     0.0                0.0   \n",
       "14902              Cloth                  1.00     0.0                6.0   \n",
       "\n",
       "       Entertainment & Media  Comfort & Convenience  \n",
       "3612                    10.0                   16.0  \n",
       "3615                     2.0                    4.0  \n",
       "3617                     9.0                   17.0  \n",
       "4089                     2.0                    0.0  \n",
       "5818                     6.0                   17.0  \n",
       "6397                     1.0                    5.0  \n",
       "6578                     5.0                   19.0  \n",
       "6579                     5.0                   19.0  \n",
       "8110                     6.0                   18.0  \n",
       "8217                     6.0                   16.0  \n",
       "8542                     6.0                   13.0  \n",
       "9798                     7.0                   12.0  \n",
       "10566                    2.0                   14.0  \n",
       "11553                    0.0                    0.0  \n",
       "11888                    5.0                   21.0  \n",
       "12343                    5.0                   16.0  \n",
       "12547                    6.0                   22.0  \n",
       "13008                    0.0                    0.0  \n",
       "14902                    2.0                    2.0  "
      ]
     },
     "execution_count": 94,
     "metadata": {},
     "output_type": "execute_result"
    }
   ],
   "source": [
    "#Check the too low values\n",
    "df[df['CO2 Emission']<70]"
   ]
  },
  {
   "cell_type": "code",
   "execution_count": 96,
   "id": "66c63bdb",
   "metadata": {},
   "outputs": [],
   "source": [
    "#Convert them to NULL\n",
    "df.loc[df[df['CO2 Emission']<70].index, 'CO2 Emission'] = np.nan"
   ]
  },
  {
   "cell_type": "code",
   "execution_count": 97,
   "id": "ef34801a",
   "metadata": {},
   "outputs": [],
   "source": [
    "mode_CO2 = df.groupby(['make_model','Displacement'])['CO2 Emission']\\\n",
    "              .transform(lambda x: x.mode()[0] if list(x.mode()) != [] else np.nan)\n",
    "df['CO2 Emission'] = df['CO2 Emission'].fillna(mode_CO2)\n",
    "mode_CO2_1 = df.groupby(['make_model'])['CO2 Emission']\\\n",
    "              .transform(lambda x: x.mode()[0] if list(x.mode()) != [] else np.nan)\n",
    "df['CO2 Emission'] = df['CO2 Emission'].fillna(mode_CO2_1)\n",
    "mode_CO2_2 = df.groupby(['Body'])['CO2 Emission']\\\n",
    "              .transform(lambda x: x.mode()[0] if list(x.mode()) != [] else np.nan)\n",
    "df['CO2 Emission'] = df['CO2 Emission'].fillna(mode_CO2_2)"
   ]
  },
  {
   "cell_type": "code",
   "execution_count": 98,
   "id": "4fd6fbac",
   "metadata": {},
   "outputs": [
    {
     "data": {
      "text/plain": [
       "0"
      ]
     },
     "execution_count": 98,
     "metadata": {},
     "output_type": "execute_result"
    }
   ],
   "source": [
    "df['CO2 Emission'].isnull().sum()"
   ]
  },
  {
   "cell_type": "markdown",
   "id": "e2840631",
   "metadata": {},
   "source": [
    "### Column: Gears"
   ]
  },
  {
   "cell_type": "code",
   "execution_count": 99,
   "id": "9148e16a",
   "metadata": {},
   "outputs": [
    {
     "data": {
      "text/plain": [
       "6.0     8614\n",
       "5.0     4253\n",
       "7.0     2810\n",
       "8.0      224\n",
       "9.0        6\n",
       "4.0        2\n",
       "1.0        2\n",
       "3.0        2\n",
       "50.0       1\n",
       "2.0        1\n",
       "Name: Gears, dtype: int64"
      ]
     },
     "execution_count": 99,
     "metadata": {},
     "output_type": "execute_result"
    }
   ],
   "source": [
    "#The values less than 5 is not normal for cars with registration date 2016 and more\n",
    "df.Gears.value_counts(dropna=False)"
   ]
  },
  {
   "cell_type": "code",
   "execution_count": 100,
   "id": "441bddb0",
   "metadata": {},
   "outputs": [],
   "source": [
    "#I will change them as 5\n",
    "df.loc[df[df['Gears']<5].index, 'Gears'] = 5"
   ]
  },
  {
   "cell_type": "code",
   "execution_count": 103,
   "id": "8145cdc8",
   "metadata": {},
   "outputs": [],
   "source": [
    "#50 is more likely to be 5\n",
    "df.loc[df[df['Gears']==50.0].index, 'Gears'] = 5"
   ]
  },
  {
   "cell_type": "markdown",
   "id": "975f4782",
   "metadata": {},
   "source": [
    "### Column: Consumption_combined"
   ]
  },
  {
   "cell_type": "code",
   "execution_count": 104,
   "id": "d423c309",
   "metadata": {},
   "outputs": [
    {
     "data": {
      "image/png": "[encoded data removed]",
      "text/plain": [
       "<Figure size 432x288 with 1 Axes>"
      ]
     },
     "metadata": {},
     "output_type": "display_data"
    }
   ],
   "source": [
    "sns.boxplot(y='Consumption_combined',data=df, x='make_model')\n",
    "plt.xticks(rotation=45);"
   ]
  },
  {
   "cell_type": "code",
   "execution_count": 105,
   "id": "e277c3bf",
   "metadata": {},
   "outputs": [],
   "source": [
    "#Convert too low and too high values to NULL and refill them with our filling method\n",
    "df.loc[(df['Consumption_combined']>20)|(df['Consumption_combined']<3), 'Consumption_combined'] = np.nan"
   ]
  },
  {
   "cell_type": "code",
   "execution_count": 106,
   "id": "68b8d2d0",
   "metadata": {},
   "outputs": [
    {
     "data": {
      "text/plain": [
       "22"
      ]
     },
     "execution_count": 106,
     "metadata": {},
     "output_type": "execute_result"
    }
   ],
   "source": [
    "df['Consumption_combined'].isnull().sum()"
   ]
  },
  {
   "cell_type": "code",
   "execution_count": 107,
   "id": "35ae70c4",
   "metadata": {},
   "outputs": [],
   "source": [
    "mode_Cons= df.groupby(['CO2 Emission'])['Consumption_combined']\\\n",
    "              .transform(lambda x: x.mode()[0] if list(x.mode()) != [] else np.nan)\n",
    "df['Consumption_combined'] = df['Consumption_combined'].fillna(mode_Cons)\n",
    "mode_Cons1= df.groupby(['Displacement'])['Consumption_combined']\\\n",
    "              .transform(lambda x: x.mode()[0] if list(x.mode()) != [] else np.nan)\n",
    "df['Consumption_combined'] = df['Consumption_combined'].fillna(mode_Cons1)\n",
    "mode_Cons2= df.groupby(['make_model'])['Consumption_combined']\\\n",
    "              .transform(lambda x: x.mode()[0] if list(x.mode()) != [] else np.nan)\n",
    "df['Consumption_combined'] = df['Consumption_combined'].fillna(mode_Cons2)"
   ]
  },
  {
   "cell_type": "code",
   "execution_count": 108,
   "id": "54265bae",
   "metadata": {},
   "outputs": [
    {
     "data": {
      "text/plain": [
       "0"
      ]
     },
     "execution_count": 108,
     "metadata": {},
     "output_type": "execute_result"
    }
   ],
   "source": [
    "df['Consumption_combined'].isnull().sum()"
   ]
  },
  {
   "cell_type": "markdown",
   "id": "dd36e7f4",
   "metadata": {},
   "source": [
    "### Feature Columns"
   ]
  },
  {
   "cell_type": "markdown",
   "id": "bcfe35d3",
   "metadata": {},
   "source": [
    "Extras, Safety & Security, Entertainment & Media, and Comfort & Convenience columns consist of number of features. So, it is not unlikely to see them vary between a large range."
   ]
  },
  {
   "cell_type": "code",
   "execution_count": 112,
   "id": "f5b89bcb",
   "metadata": {},
   "outputs": [
    {
     "data": {
      "image/png": "[encoded data removed]",
      "text/plain": [
       "<Figure size 432x288 with 1 Axes>"
      ]
     },
     "metadata": {},
     "output_type": "display_data"
    }
   ],
   "source": [
    "sns.scatterplot(data=df, x=\"Extras\", y=\"price\");"
   ]
  },
  {
   "cell_type": "code",
   "execution_count": 113,
   "id": "5df08418",
   "metadata": {},
   "outputs": [
    {
     "data": {
      "image/png": "[encoded data removed]",
      "text/plain": [
       "<Figure size 432x288 with 1 Axes>"
      ]
     },
     "metadata": {},
     "output_type": "display_data"
    }
   ],
   "source": [
    "sns.scatterplot(data=df, x=\"Safety & Security\", y=\"price\");"
   ]
  },
  {
   "cell_type": "code",
   "execution_count": 114,
   "id": "77540570",
   "metadata": {},
   "outputs": [
    {
     "data": {
      "image/png": "[encoded data removed]",
      "text/plain": [
       "<Figure size 432x288 with 1 Axes>"
      ]
     },
     "metadata": {},
     "output_type": "display_data"
    }
   ],
   "source": [
    "sns.scatterplot(data=df, x=\"Entertainment & Media\", y=\"price\");"
   ]
  },
  {
   "cell_type": "code",
   "execution_count": 115,
   "id": "915ffcb0",
   "metadata": {},
   "outputs": [
    {
     "data": {
      "image/png": "[encoded data removed]",
      "text/plain": [
       "<Figure size 432x288 with 1 Axes>"
      ]
     },
     "metadata": {},
     "output_type": "display_data"
    }
   ],
   "source": [
    "sns.scatterplot(data=df, x=\"Comfort & Convenience\", y=\"price\");"
   ]
  },
  {
   "cell_type": "markdown",
   "id": "fb90de1e",
   "metadata": {},
   "source": [
    "### Some Additional Changes in Type Column"
   ]
  },
  {
   "cell_type": "code",
   "execution_count": 109,
   "id": "9f053293",
   "metadata": {},
   "outputs": [],
   "source": [
    "#There are some values with age more than zero but still seems as New. I will convert them to 'Used'\n",
    "df.loc[df[(df.registration > 0) & (df.Type == 'New')].index, 'Type'] = 'Used'"
   ]
  },
  {
   "cell_type": "code",
   "execution_count": 110,
   "id": "463574e6",
   "metadata": {},
   "outputs": [
    {
     "data": {
      "text/html": [
       "<div>\n",
       "<style scoped>\n",
       "    .dataframe tbody tr th:only-of-type {\n",
       "        vertical-align: middle;\n",
       "    }\n",
       "\n",
       "    .dataframe tbody tr th {\n",
       "        vertical-align: top;\n",
       "    }\n",
       "\n",
       "    .dataframe thead th {\n",
       "        text-align: right;\n",
       "    }\n",
       "</style>\n",
       "<table border=\"1\" class=\"dataframe\">\n",
       "  <thead>\n",
       "    <tr style=\"text-align: right;\">\n",
       "      <th></th>\n",
       "      <th>price</th>\n",
       "      <th>km</th>\n",
       "      <th>registration</th>\n",
       "      <th>prev_owner</th>\n",
       "      <th>hp</th>\n",
       "      <th>Warranty(months)</th>\n",
       "      <th>Nr. of Doors</th>\n",
       "      <th>Nr. of Seats</th>\n",
       "      <th>Displacement</th>\n",
       "      <th>Cylinders</th>\n",
       "      <th>Weight</th>\n",
       "      <th>CO2 Emission</th>\n",
       "      <th>Gears</th>\n",
       "      <th>Consumption_combined</th>\n",
       "      <th>Extras</th>\n",
       "      <th>Safety &amp; Security</th>\n",
       "      <th>Entertainment &amp; Media</th>\n",
       "      <th>Comfort &amp; Convenience</th>\n",
       "    </tr>\n",
       "  </thead>\n",
       "  <tbody>\n",
       "    <tr>\n",
       "      <th>count</th>\n",
       "      <td>15915.000000</td>\n",
       "      <td>15915.000000</td>\n",
       "      <td>15915.000000</td>\n",
       "      <td>15915.000000</td>\n",
       "      <td>15915.000000</td>\n",
       "      <td>15915.000000</td>\n",
       "      <td>15915.000000</td>\n",
       "      <td>15915.000000</td>\n",
       "      <td>15915.000000</td>\n",
       "      <td>15915.000000</td>\n",
       "      <td>15915.000000</td>\n",
       "      <td>15915.000000</td>\n",
       "      <td>15915.000000</td>\n",
       "      <td>15915.000000</td>\n",
       "      <td>15915.000000</td>\n",
       "      <td>15915.000000</td>\n",
       "      <td>15915.000000</td>\n",
       "      <td>15915.000000</td>\n",
       "    </tr>\n",
       "    <tr>\n",
       "      <th>mean</th>\n",
       "      <td>18024.380584</td>\n",
       "      <td>32112.271368</td>\n",
       "      <td>1.394848</td>\n",
       "      <td>0.998115</td>\n",
       "      <td>88.508828</td>\n",
       "      <td>6.686334</td>\n",
       "      <td>4.660823</td>\n",
       "      <td>4.952246</td>\n",
       "      <td>1425.228338</td>\n",
       "      <td>3.785171</td>\n",
       "      <td>1343.967862</td>\n",
       "      <td>117.649890</td>\n",
       "      <td>5.938109</td>\n",
       "      <td>4.843396</td>\n",
       "      <td>2.042915</td>\n",
       "      <td>12.004084</td>\n",
       "      <td>4.283380</td>\n",
       "      <td>11.568080</td>\n",
       "    </tr>\n",
       "    <tr>\n",
       "      <th>std</th>\n",
       "      <td>7381.679318</td>\n",
       "      <td>36972.668616</td>\n",
       "      <td>1.122193</td>\n",
       "      <td>0.327986</td>\n",
       "      <td>26.658493</td>\n",
       "      <td>13.332171</td>\n",
       "      <td>0.641214</td>\n",
       "      <td>0.476262</td>\n",
       "      <td>284.335192</td>\n",
       "      <td>0.415432</td>\n",
       "      <td>210.835890</td>\n",
       "      <td>18.334517</td>\n",
       "      <td>0.707242</td>\n",
       "      <td>0.927613</td>\n",
       "      <td>1.695303</td>\n",
       "      <td>5.002090</td>\n",
       "      <td>2.324957</td>\n",
       "      <td>6.456547</td>\n",
       "    </tr>\n",
       "    <tr>\n",
       "      <th>min</th>\n",
       "      <td>4950.000000</td>\n",
       "      <td>0.000000</td>\n",
       "      <td>0.000000</td>\n",
       "      <td>0.000000</td>\n",
       "      <td>51.000000</td>\n",
       "      <td>0.000000</td>\n",
       "      <td>2.000000</td>\n",
       "      <td>2.000000</td>\n",
       "      <td>1.000000</td>\n",
       "      <td>3.000000</td>\n",
       "      <td>840.000000</td>\n",
       "      <td>80.000000</td>\n",
       "      <td>5.000000</td>\n",
       "      <td>3.000000</td>\n",
       "      <td>0.000000</td>\n",
       "      <td>0.000000</td>\n",
       "      <td>0.000000</td>\n",
       "      <td>0.000000</td>\n",
       "    </tr>\n",
       "    <tr>\n",
       "      <th>25%</th>\n",
       "      <td>12850.000000</td>\n",
       "      <td>2558.013043</td>\n",
       "      <td>0.000000</td>\n",
       "      <td>1.000000</td>\n",
       "      <td>66.000000</td>\n",
       "      <td>0.000000</td>\n",
       "      <td>4.000000</td>\n",
       "      <td>5.000000</td>\n",
       "      <td>1229.000000</td>\n",
       "      <td>4.000000</td>\n",
       "      <td>1163.000000</td>\n",
       "      <td>104.000000</td>\n",
       "      <td>5.000000</td>\n",
       "      <td>4.100000</td>\n",
       "      <td>1.000000</td>\n",
       "      <td>10.000000</td>\n",
       "      <td>2.000000</td>\n",
       "      <td>6.000000</td>\n",
       "    </tr>\n",
       "    <tr>\n",
       "      <th>50%</th>\n",
       "      <td>16900.000000</td>\n",
       "      <td>20450.000000</td>\n",
       "      <td>1.000000</td>\n",
       "      <td>1.000000</td>\n",
       "      <td>85.000000</td>\n",
       "      <td>0.000000</td>\n",
       "      <td>5.000000</td>\n",
       "      <td>5.000000</td>\n",
       "      <td>1461.000000</td>\n",
       "      <td>4.000000</td>\n",
       "      <td>1279.000000</td>\n",
       "      <td>117.000000</td>\n",
       "      <td>6.000000</td>\n",
       "      <td>4.800000</td>\n",
       "      <td>2.000000</td>\n",
       "      <td>13.000000</td>\n",
       "      <td>5.000000</td>\n",
       "      <td>12.000000</td>\n",
       "    </tr>\n",
       "    <tr>\n",
       "      <th>75%</th>\n",
       "      <td>21900.000000</td>\n",
       "      <td>46928.000000</td>\n",
       "      <td>2.000000</td>\n",
       "      <td>1.000000</td>\n",
       "      <td>103.000000</td>\n",
       "      <td>12.000000</td>\n",
       "      <td>5.000000</td>\n",
       "      <td>5.000000</td>\n",
       "      <td>1598.000000</td>\n",
       "      <td>4.000000</td>\n",
       "      <td>1485.000000</td>\n",
       "      <td>128.000000</td>\n",
       "      <td>6.000000</td>\n",
       "      <td>5.400000</td>\n",
       "      <td>3.000000</td>\n",
       "      <td>15.000000</td>\n",
       "      <td>6.000000</td>\n",
       "      <td>16.000000</td>\n",
       "    </tr>\n",
       "    <tr>\n",
       "      <th>max</th>\n",
       "      <td>74600.000000</td>\n",
       "      <td>317000.000000</td>\n",
       "      <td>3.000000</td>\n",
       "      <td>4.000000</td>\n",
       "      <td>294.000000</td>\n",
       "      <td>72.000000</td>\n",
       "      <td>5.000000</td>\n",
       "      <td>7.000000</td>\n",
       "      <td>2967.000000</td>\n",
       "      <td>6.000000</td>\n",
       "      <td>2471.000000</td>\n",
       "      <td>253.000000</td>\n",
       "      <td>9.000000</td>\n",
       "      <td>13.000000</td>\n",
       "      <td>10.000000</td>\n",
       "      <td>29.000000</td>\n",
       "      <td>10.000000</td>\n",
       "      <td>33.000000</td>\n",
       "    </tr>\n",
       "  </tbody>\n",
       "</table>\n",
       "</div>"
      ],
      "text/plain": [
       "              price             km  registration    prev_owner            hp  \\\n",
       "count  15915.000000   15915.000000  15915.000000  15915.000000  15915.000000   \n",
       "mean   18024.380584   32112.271368      1.394848      0.998115     88.508828   \n",
       "std     7381.679318   36972.668616      1.122193      0.327986     26.658493   \n",
       "min     4950.000000       0.000000      0.000000      0.000000     51.000000   \n",
       "25%    12850.000000    2558.013043      0.000000      1.000000     66.000000   \n",
       "50%    16900.000000   20450.000000      1.000000      1.000000     85.000000   \n",
       "75%    21900.000000   46928.000000      2.000000      1.000000    103.000000   \n",
       "max    74600.000000  317000.000000      3.000000      4.000000    294.000000   \n",
       "\n",
       "       Warranty(months)  Nr. of Doors  Nr. of Seats  Displacement  \\\n",
       "count      15915.000000  15915.000000  15915.000000  15915.000000   \n",
       "mean           6.686334      4.660823      4.952246   1425.228338   \n",
       "std           13.332171      0.641214      0.476262    284.335192   \n",
       "min            0.000000      2.000000      2.000000      1.000000   \n",
       "25%            0.000000      4.000000      5.000000   1229.000000   \n",
       "50%            0.000000      5.000000      5.000000   1461.000000   \n",
       "75%           12.000000      5.000000      5.000000   1598.000000   \n",
       "max           72.000000      5.000000      7.000000   2967.000000   \n",
       "\n",
       "          Cylinders        Weight  CO2 Emission         Gears  \\\n",
       "count  15915.000000  15915.000000  15915.000000  15915.000000   \n",
       "mean       3.785171   1343.967862    117.649890      5.938109   \n",
       "std        0.415432    210.835890     18.334517      0.707242   \n",
       "min        3.000000    840.000000     80.000000      5.000000   \n",
       "25%        4.000000   1163.000000    104.000000      5.000000   \n",
       "50%        4.000000   1279.000000    117.000000      6.000000   \n",
       "75%        4.000000   1485.000000    128.000000      6.000000   \n",
       "max        6.000000   2471.000000    253.000000      9.000000   \n",
       "\n",
       "       Consumption_combined        Extras  Safety & Security  \\\n",
       "count          15915.000000  15915.000000       15915.000000   \n",
       "mean               4.843396      2.042915          12.004084   \n",
       "std                0.927613      1.695303           5.002090   \n",
       "min                3.000000      0.000000           0.000000   \n",
       "25%                4.100000      1.000000          10.000000   \n",
       "50%                4.800000      2.000000          13.000000   \n",
       "75%                5.400000      3.000000          15.000000   \n",
       "max               13.000000     10.000000          29.000000   \n",
       "\n",
       "       Entertainment & Media  Comfort & Convenience  \n",
       "count           15915.000000           15915.000000  \n",
       "mean                4.283380              11.568080  \n",
       "std                 2.324957               6.456547  \n",
       "min                 0.000000               0.000000  \n",
       "25%                 2.000000               6.000000  \n",
       "50%                 5.000000              12.000000  \n",
       "75%                 6.000000              16.000000  \n",
       "max                10.000000              33.000000  "
      ]
     },
     "execution_count": 110,
     "metadata": {},
     "output_type": "execute_result"
    }
   ],
   "source": [
    "df.describe()"
   ]
  },
  {
   "cell_type": "code",
   "execution_count": 111,
   "id": "035e6525",
   "metadata": {},
   "outputs": [],
   "source": [
    "df.to_csv('auto_scout_normalized.csv', index = False)"
   ]
  },
  {
   "cell_type": "code",
   "execution_count": null,
   "id": "f752e5ec",
   "metadata": {},
   "outputs": [],
   "source": []
  }
 ],
 "metadata": {
  "kernelspec": {
   "display_name": "Python 3",
   "language": "python",
   "name": "python3"
  },
  "language_info": {
   "codemirror_mode": {
    "name": "ipython",
    "version": 3
   },
   "file_extension": ".py",
   "mimetype": "text/x-python",
   "name": "python",
   "nbconvert_exporter": "python",
   "pygments_lexer": "ipython3",
   "version": "3.8.8"
  }
 },
 "nbformat": 4,
 "nbformat_minor": 5
}
