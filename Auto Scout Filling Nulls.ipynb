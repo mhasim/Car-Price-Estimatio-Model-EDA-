{
 "cells": [
  {
   "cell_type": "markdown",
   "id": "aa2aa9a8",
   "metadata": {},
   "source": [
    "# CAR PRICE ESTIMATION MODEL (EDA - FILLING NULL VALUES)"
   ]
  },
  {
   "cell_type": "markdown",
   "id": "c5bbb86e",
   "metadata": {},
   "source": [
    "## IMPORTING LIBRARIES"
   ]
  },
  {
   "cell_type": "code",
   "execution_count": 1,
   "id": "db7d72c1",
   "metadata": {},
   "outputs": [],
   "source": [
    "import matplotlib.pyplot as plt\n",
    "%matplotlib inline\n",
    "import numpy as np\n",
    "import pandas as pd\n",
    "import seaborn as sns\n",
    "import warnings;\n",
    "warnings.filterwarnings(\"ignore\")\n",
    "import re\n",
    "#pd.set_option(\"display.max_columns\",None)\n",
    "#pd.set_option(\"display.max_rows\",None)"
   ]
  },
  {
   "cell_type": "markdown",
   "id": "5f0572c8",
   "metadata": {},
   "source": [
    "## IMPORTING THE DATAFRAME"
   ]
  },
  {
   "cell_type": "code",
   "execution_count": 2,
   "id": "78328d3f",
   "metadata": {},
   "outputs": [],
   "source": [
    "auto = pd.read_csv('auto_scout_cleaned.csv')\n",
    "df = auto.copy()"
   ]
  },
  {
   "cell_type": "code",
   "execution_count": 3,
   "id": "c65fa6a6",
   "metadata": {},
   "outputs": [
    {
     "name": "stdout",
     "output_type": "stream",
     "text": [
      "<class 'pandas.core.frame.DataFrame'>\n",
      "RangeIndex: 15919 entries, 0 to 15918\n",
      "Data columns (total 37 columns):\n",
      " #   Column                 Non-Null Count  Dtype  \n",
      "---  ------                 --------------  -----  \n",
      " 0   Unnamed: 0             15919 non-null  int64  \n",
      " 1   make_model             15919 non-null  object \n",
      " 2   price                  15919 non-null  float64\n",
      " 3   vat                    11406 non-null  object \n",
      " 4   km                     14895 non-null  float64\n",
      " 5   registration           14322 non-null  float64\n",
      " 6   prev_owner             9254 non-null   float64\n",
      " 7   hp                     15831 non-null  float64\n",
      " 8   Type                   15917 non-null  object \n",
      " 9   Next Inspection        3535 non-null   float64\n",
      " 10  Inspection new         15919 non-null  object \n",
      " 11  Warranty(months)       4853 non-null   float64\n",
      " 12  Body Color             15322 non-null  object \n",
      " 13  Paint Type             15919 non-null  object \n",
      " 14  Body Color Original    15904 non-null  object \n",
      " 15  Body                   15859 non-null  object \n",
      " 16  Nr. of Doors           15707 non-null  float64\n",
      " 17  Nr. of Seats           14942 non-null  float64\n",
      " 18  Gearing Type           15919 non-null  object \n",
      " 19  Displacement           15739 non-null  float64\n",
      " 20  Cylinders              10239 non-null  float64\n",
      " 21  Weight                 8945 non-null   float64\n",
      " 22  Drive chain            9061 non-null   object \n",
      " 23  Fuel                   15919 non-null  object \n",
      " 24  CO2 Emission           13483 non-null  float64\n",
      " 25  Emission Class         15919 non-null  object \n",
      " 26  Gears                  11207 non-null  float64\n",
      " 27  Country version        15919 non-null  object \n",
      " 28  Upholstery_Texture     15919 non-null  object \n",
      " 29  Upholstery_Color       10841 non-null  object \n",
      " 30  Consumption_city       13483 non-null  float64\n",
      " 31  Consumption_country    13543 non-null  float64\n",
      " 32  Consumption_combined   13886 non-null  float64\n",
      " 33  Extras                 12957 non-null  float64\n",
      " 34  Safety & Security      14937 non-null  float64\n",
      " 35  Entertainment & Media  14545 non-null  float64\n",
      " 36  Comfort & Convenience  14999 non-null  float64\n",
      "dtypes: float64(21), int64(1), object(15)\n",
      "memory usage: 4.5+ MB\n"
     ]
    }
   ],
   "source": [
    "df.info()"
   ]
  },
  {
   "cell_type": "markdown",
   "id": "9659f950",
   "metadata": {},
   "source": [
    "## FILLING NULL VALUES"
   ]
  },
  {
   "cell_type": "markdown",
   "id": "d7316dad",
   "metadata": {},
   "source": [
    "### Column 0: Unnamed: 0 "
   ]
  },
  {
   "cell_type": "code",
   "execution_count": 4,
   "id": "be0080c2",
   "metadata": {},
   "outputs": [],
   "source": [
    "df.drop(columns = ['Unnamed: 0'], inplace=True)"
   ]
  },
  {
   "cell_type": "markdown",
   "id": "b95ffa03",
   "metadata": {},
   "source": [
    "### Column 3: vat"
   ]
  },
  {
   "cell_type": "code",
   "execution_count": 5,
   "id": "7b4555c0",
   "metadata": {},
   "outputs": [
    {
     "data": {
      "text/plain": [
       "VAT deductible      10980\n",
       "NaN                  4513\n",
       "Price negotiable      426\n",
       "Name: vat, dtype: int64"
      ]
     },
     "execution_count": 5,
     "metadata": {},
     "output_type": "execute_result"
    }
   ],
   "source": [
    "df.vat.value_counts(dropna=False)"
   ]
  },
  {
   "cell_type": "code",
   "execution_count": 6,
   "id": "f6591c53",
   "metadata": {},
   "outputs": [],
   "source": [
    "df['vat'] = df['vat'].fillna('VAT non-deductible')"
   ]
  },
  {
   "cell_type": "code",
   "execution_count": 7,
   "id": "e4f07c32",
   "metadata": {},
   "outputs": [
    {
     "data": {
      "text/plain": [
       "VAT deductible        10980\n",
       "VAT non-deductible     4513\n",
       "Price negotiable        426\n",
       "Name: vat, dtype: int64"
      ]
     },
     "execution_count": 7,
     "metadata": {},
     "output_type": "execute_result"
    }
   ],
   "source": [
    "df[\"vat\"].value_counts(dropna=False)"
   ]
  },
  {
   "cell_type": "markdown",
   "id": "d4700ce9",
   "metadata": {},
   "source": [
    "### Column 15: Body"
   ]
  },
  {
   "cell_type": "code",
   "execution_count": 8,
   "id": "11e67889",
   "metadata": {},
   "outputs": [
    {
     "data": {
      "text/plain": [
       "make_model      Body         \n",
       "Audi A1         Sedans           1538\n",
       "                Compact          1039\n",
       "                Station wagon      21\n",
       "                Other              13\n",
       "                Coupe               2\n",
       "                Van                 1\n",
       "Audi A2         Off-Road            1\n",
       "Audi A3         Sedans           2598\n",
       "                Station wagon     282\n",
       "                Compact           182\n",
       "                Other              16\n",
       "                Convertible         8\n",
       "                NaN                 7\n",
       "                Coupe               4\n",
       "Opel Astra      Station wagon    1211\n",
       "                Sedans           1053\n",
       "                Compact           185\n",
       "                Other              67\n",
       "                NaN                 7\n",
       "                Coupe               2\n",
       "                Off-Road            1\n",
       "Opel Corsa      Compact          1230\n",
       "                Sedans            875\n",
       "                Other              87\n",
       "                Coupe              13\n",
       "                Transporter         7\n",
       "                Off-Road            3\n",
       "                NaN                 2\n",
       "                Van                 2\n",
       "Opel Insignia   Station wagon    1611\n",
       "                Sedans            900\n",
       "                Other              48\n",
       "                Compact            27\n",
       "                Off-Road            7\n",
       "                NaN                 3\n",
       "                Coupe               1\n",
       "                Van                 1\n",
       "Renault Clio    Sedans            918\n",
       "                Compact           484\n",
       "                Station wagon     337\n",
       "                Other              51\n",
       "                Transporter        29\n",
       "                NaN                15\n",
       "                Off-Road            2\n",
       "                Van                 2\n",
       "                Coupe               1\n",
       "Renault Duster  Off-Road           34\n",
       "Renault Espace  Van               777\n",
       "                Station wagon      91\n",
       "                Transporter        52\n",
       "                NaN                26\n",
       "                Sedans             21\n",
       "                Off-Road            8\n",
       "                Other               8\n",
       "                Compact             6\n",
       "                Coupe               2\n",
       "Name: Body, dtype: int64"
      ]
     },
     "execution_count": 8,
     "metadata": {},
     "output_type": "execute_result"
    }
   ],
   "source": [
    "df.groupby('make_model')['Body'].value_counts(dropna=False)"
   ]
  },
  {
   "cell_type": "code",
   "execution_count": 9,
   "id": "e00c58f5",
   "metadata": {},
   "outputs": [],
   "source": [
    "#Fill the column according to make_model column\n",
    "df[\"Body\"].fillna(df.groupby('make_model')['Body'].transform(lambda x: x.mode()[0]), inplace=True)"
   ]
  },
  {
   "cell_type": "markdown",
   "id": "cc7ea1c9",
   "metadata": {},
   "source": [
    "### Column 8: type"
   ]
  },
  {
   "cell_type": "code",
   "execution_count": 12,
   "id": "ce43944a",
   "metadata": {},
   "outputs": [],
   "source": [
    "#Fill Null values as 'Used'\n",
    "df['Type'] = df['Type'].fillna('Used')"
   ]
  },
  {
   "cell_type": "markdown",
   "id": "2b8c075c",
   "metadata": {},
   "source": [
    "### Column 5: registration"
   ]
  },
  {
   "cell_type": "code",
   "execution_count": 10,
   "id": "887eebd5",
   "metadata": {},
   "outputs": [
    {
     "data": {
      "text/plain": [
       "2018.0    4522\n",
       "2016.0    3674\n",
       "2017.0    3273\n",
       "2019.0    2853\n",
       "NaN       1597\n",
       "Name: registration, dtype: int64"
      ]
     },
     "execution_count": 10,
     "metadata": {},
     "output_type": "execute_result"
    }
   ],
   "source": [
    "df.registration.value_counts(dropna=False)"
   ]
  },
  {
   "cell_type": "code",
   "execution_count": 13,
   "id": "c10df7d7",
   "metadata": {},
   "outputs": [],
   "source": [
    "df['registration']=df['registration'].fillna(df.groupby('Type')['registration'].transform(lambda x:x.mode()[0]))"
   ]
  },
  {
   "cell_type": "code",
   "execution_count": 14,
   "id": "c0f1623b",
   "metadata": {},
   "outputs": [
    {
     "data": {
      "text/plain": [
       "2018.0    4525\n",
       "2019.0    4411\n",
       "2016.0    3710\n",
       "2017.0    3273\n",
       "Name: registration, dtype: int64"
      ]
     },
     "execution_count": 14,
     "metadata": {},
     "output_type": "execute_result"
    }
   ],
   "source": [
    "df.registration.value_counts(dropna=False)"
   ]
  },
  {
   "cell_type": "markdown",
   "id": "a7b334ac",
   "metadata": {},
   "source": [
    "### Column 7: hp"
   ]
  },
  {
   "cell_type": "code",
   "execution_count": 18,
   "id": "8f1e6d0f",
   "metadata": {},
   "outputs": [],
   "source": [
    "mode_hp = df[~(df['Displacement'].isnull())]\\\n",
    "              .groupby(['make_model','Body','Displacement'])['hp']\\\n",
    "              .transform(lambda x: x.mode()[0] if list(x.mode()) != [] else np.nan)"
   ]
  },
  {
   "cell_type": "code",
   "execution_count": 19,
   "id": "5f5d2089",
   "metadata": {},
   "outputs": [],
   "source": [
    "df.loc[~(df['Displacement'].isnull()),\"hp\"] = df.loc[~(df['Displacement'].isnull()),\"hp\"].fillna(mode_hp)"
   ]
  },
  {
   "cell_type": "code",
   "execution_count": 21,
   "id": "a4b75641",
   "metadata": {},
   "outputs": [],
   "source": [
    "mode_hp1 = df[~(df['Cylinders'].isnull())]\\\n",
    "              .groupby(['make_model','Body','Cylinders'])['hp']\\\n",
    "              .transform(lambda x: x.mode()[0] if list(x.mode()) != [] else np.nan)"
   ]
  },
  {
   "cell_type": "code",
   "execution_count": 22,
   "id": "0e85cc98",
   "metadata": {},
   "outputs": [],
   "source": [
    "df.loc[~(df['Cylinders'].isnull()),\"hp\"] = df.loc[~(df['Cylinders'].isnull()),\"hp\"].fillna(mode_hp1)"
   ]
  },
  {
   "cell_type": "code",
   "execution_count": 23,
   "id": "5292075a",
   "metadata": {},
   "outputs": [],
   "source": [
    "mode_hp2 = df.groupby(['make_model','Body'])['hp']\\\n",
    "              .transform(lambda x: x.mode()[0] if list(x.mode()) != [] else np.nan)"
   ]
  },
  {
   "cell_type": "code",
   "execution_count": 24,
   "id": "8f3f7bcf",
   "metadata": {},
   "outputs": [],
   "source": [
    "df['hp'] = df['hp'].fillna(mode_hp2)"
   ]
  },
  {
   "cell_type": "code",
   "execution_count": 25,
   "id": "cabe881e",
   "metadata": {},
   "outputs": [
    {
     "data": {
      "text/plain": [
       "0"
      ]
     },
     "execution_count": 25,
     "metadata": {},
     "output_type": "execute_result"
    }
   ],
   "source": [
    "df['hp'].isnull().sum()"
   ]
  },
  {
   "cell_type": "markdown",
   "id": "ca5271f5",
   "metadata": {},
   "source": [
    "### Column 19: Displacement"
   ]
  },
  {
   "cell_type": "code",
   "execution_count": 26,
   "id": "d93fdf71",
   "metadata": {},
   "outputs": [],
   "source": [
    "mode_displacement = df.groupby(['make_model','Body','hp'])['Displacement']\\\n",
    "              .transform(lambda x: x.mode()[0] if list(x.mode()) != [] else np.nan)"
   ]
  },
  {
   "cell_type": "code",
   "execution_count": 27,
   "id": "a2631829",
   "metadata": {},
   "outputs": [],
   "source": [
    "df['Displacement'] = df['Displacement'].fillna(mode_displacement)"
   ]
  },
  {
   "cell_type": "code",
   "execution_count": 28,
   "id": "c1b9b79f",
   "metadata": {},
   "outputs": [],
   "source": [
    "mode_displacement1 = df.groupby(['make_model','Body'])['Displacement']\\\n",
    "              .transform(lambda x: x.mode()[0] if list(x.mode()) != [] else np.nan)"
   ]
  },
  {
   "cell_type": "code",
   "execution_count": 29,
   "id": "21d1dfa5",
   "metadata": {},
   "outputs": [],
   "source": [
    "df['Displacement'] = df['Displacement'].fillna(mode_displacement1)"
   ]
  },
  {
   "cell_type": "code",
   "execution_count": 30,
   "id": "ecf94c63",
   "metadata": {},
   "outputs": [],
   "source": [
    "mode_displacement2 = df.groupby(['make_model'])['Displacement']\\\n",
    "              .transform(lambda x: x.mode()[0] if list(x.mode()) != [] else np.nan)"
   ]
  },
  {
   "cell_type": "code",
   "execution_count": 31,
   "id": "392ec29d",
   "metadata": {},
   "outputs": [],
   "source": [
    "df['Displacement'] = df['Displacement'].fillna(mode_displacement2)"
   ]
  },
  {
   "cell_type": "code",
   "execution_count": 32,
   "id": "50c11fa8",
   "metadata": {},
   "outputs": [
    {
     "data": {
      "text/plain": [
       "0"
      ]
     },
     "execution_count": 32,
     "metadata": {},
     "output_type": "execute_result"
    }
   ],
   "source": [
    "df['Displacement'].isnull().sum()"
   ]
  },
  {
   "cell_type": "markdown",
   "id": "5123f267",
   "metadata": {},
   "source": [
    "### Column: 4: km"
   ]
  },
  {
   "cell_type": "code",
   "execution_count": 33,
   "id": "8d57e464",
   "metadata": {},
   "outputs": [],
   "source": [
    "df[\"km\"].fillna(df.groupby(['registration','Displacement']).km.transform(lambda x: x.mean()), inplace=True)"
   ]
  },
  {
   "cell_type": "code",
   "execution_count": 34,
   "id": "df2340ce",
   "metadata": {},
   "outputs": [],
   "source": [
    "mean_group_km1=df.groupby(['registration']).km.transform(lambda x: x.mean())"
   ]
  },
  {
   "cell_type": "code",
   "execution_count": 35,
   "id": "3112289c",
   "metadata": {},
   "outputs": [],
   "source": [
    "df[\"km\"].fillna(mean_group_km1, inplace=True)"
   ]
  },
  {
   "cell_type": "code",
   "execution_count": 36,
   "id": "07238522",
   "metadata": {},
   "outputs": [
    {
     "data": {
      "text/plain": [
       "0"
      ]
     },
     "execution_count": 36,
     "metadata": {},
     "output_type": "execute_result"
    }
   ],
   "source": [
    "df[\"km\"].isnull().sum()"
   ]
  },
  {
   "cell_type": "markdown",
   "id": "0c594dc8",
   "metadata": {},
   "source": [
    "### Column 6: prev_owner"
   ]
  },
  {
   "cell_type": "code",
   "execution_count": 37,
   "id": "4190e556",
   "metadata": {},
   "outputs": [],
   "source": [
    "#If 'km' is less than 10, we can assume that it is a new car\n",
    "index=df[df[\"km\"]<10].index"
   ]
  },
  {
   "cell_type": "code",
   "execution_count": 38,
   "id": "025b7f22",
   "metadata": {},
   "outputs": [],
   "source": [
    "df.loc[index,\"prev_owner\"]=0.0"
   ]
  },
  {
   "cell_type": "code",
   "execution_count": 39,
   "id": "6509e53a",
   "metadata": {},
   "outputs": [],
   "source": [
    "#If a car's Type is 'New', we can assume that it has only 1 previous owner \n",
    "df.loc[(df[\"Type\"]==\"New\") & (df[\"prev_owner\"].isnull()),\"prev_owner\"]=1.0"
   ]
  },
  {
   "cell_type": "code",
   "execution_count": 40,
   "id": "1d457afc",
   "metadata": {},
   "outputs": [],
   "source": [
    "#We can assume that if registration date is 2019 or km is less than 5000, it has only 1 previous owner\n",
    "df.loc[((df[\"registration\"]==2019) | (df[\"km\"]<5000)) & (df[\"prev_owner\"].isnull()),\"prev_owner\"]=1.0"
   ]
  },
  {
   "cell_type": "code",
   "execution_count": 41,
   "id": "020685cb",
   "metadata": {},
   "outputs": [],
   "source": [
    "#Fill the rest according to registration date mode\n",
    "mode_group_po = df.groupby(['registration'])['prev_owner'].transform(lambda x: x.mode()[0] if list(x.mode()) != [] else np.nan)"
   ]
  },
  {
   "cell_type": "code",
   "execution_count": 42,
   "id": "92ed38d7",
   "metadata": {},
   "outputs": [],
   "source": [
    "df[\"prev_owner\"].fillna(mode_group_po, inplace=True)"
   ]
  },
  {
   "cell_type": "code",
   "execution_count": 43,
   "id": "2dbef51a",
   "metadata": {},
   "outputs": [
    {
     "data": {
      "text/plain": [
       "1.0    14274\n",
       "0.0      848\n",
       "2.0      778\n",
       "3.0       17\n",
       "4.0        2\n",
       "Name: prev_owner, dtype: int64"
      ]
     },
     "execution_count": 43,
     "metadata": {},
     "output_type": "execute_result"
    }
   ],
   "source": [
    "df.prev_owner.value_counts(dropna=False)"
   ]
  },
  {
   "cell_type": "markdown",
   "id": "e0565473",
   "metadata": {},
   "source": [
    "### Column 9: Next Inspection"
   ]
  },
  {
   "cell_type": "code",
   "execution_count": 44,
   "id": "cf358509",
   "metadata": {},
   "outputs": [],
   "source": [
    "#Rate of NULL values is too high. We can drop this column too.\n",
    "df.drop([\"Next Inspection\"],axis=1,inplace=True)"
   ]
  },
  {
   "cell_type": "markdown",
   "id": "ffe38f2e",
   "metadata": {},
   "source": [
    "### Column 10: Inspection new"
   ]
  },
  {
   "cell_type": "code",
   "execution_count": null,
   "id": "a3a10d6e",
   "metadata": {},
   "outputs": [],
   "source": [
    "#Fill Null values as 'No'\n",
    "df['Inspection new'] = df['Inspection new'].fillna('No')"
   ]
  },
  {
   "cell_type": "markdown",
   "id": "3514f3a8",
   "metadata": {},
   "source": [
    "### Column 11: Warranty(months)"
   ]
  },
  {
   "cell_type": "code",
   "execution_count": 45,
   "id": "bdae4f00",
   "metadata": {},
   "outputs": [
    {
     "data": {
      "text/plain": [
       "NaN     11066\n",
       "12.0     2594\n",
       "24.0     1118\n",
       "60.0      401\n",
       "36.0      279\n",
       "48.0      149\n",
       "6.0       125\n",
       "72.0       59\n",
       "3.0        33\n",
       "23.0       11\n",
       "18.0       10\n",
       "20.0        7\n",
       "25.0        6\n",
       "2.0         5\n",
       "50.0        4\n",
       "26.0        4\n",
       "16.0        4\n",
       "19.0        3\n",
       "1.0         3\n",
       "4.0         3\n",
       "13.0        3\n",
       "34.0        3\n",
       "45.0        2\n",
       "14.0        2\n",
       "17.0        2\n",
       "11.0        2\n",
       "46.0        2\n",
       "28.0        2\n",
       "21.0        2\n",
       "22.0        2\n",
       "9.0         2\n",
       "30.0        1\n",
       "33.0        1\n",
       "56.0        1\n",
       "40.0        1\n",
       "7.0         1\n",
       "15.0        1\n",
       "8.0         1\n",
       "10.0        1\n",
       "49.0        1\n",
       "47.0        1\n",
       "65.0        1\n",
       "Name: Warranty(months), dtype: int64"
      ]
     },
     "execution_count": 45,
     "metadata": {},
     "output_type": "execute_result"
    }
   ],
   "source": [
    "df['Warranty(months)'].value_counts(dropna=False)"
   ]
  },
  {
   "cell_type": "code",
   "execution_count": 46,
   "id": "060fb918",
   "metadata": {},
   "outputs": [],
   "source": [
    "#We can assume that if the car has a warranty, seller is more likely to input this info\n",
    "df['Warranty(months)'] = df['Warranty(months)'].fillna(0.0)"
   ]
  },
  {
   "cell_type": "markdown",
   "id": "cd752775",
   "metadata": {},
   "source": [
    "### Column 12: Body Color"
   ]
  },
  {
   "cell_type": "code",
   "execution_count": 156,
   "id": "36f7b9cf",
   "metadata": {},
   "outputs": [],
   "source": [
    "#Fill the Null values according to make_model and Body columns\n",
    "mode_color = df.groupby(['make_model','Body'])['Body Color']\\\n",
    "              .transform(lambda x: x.mode()[0] if list(x.mode()) != [] else np.nan)"
   ]
  },
  {
   "cell_type": "code",
   "execution_count": 157,
   "id": "f09efd50",
   "metadata": {},
   "outputs": [],
   "source": [
    "df['Body Color'] = df['Body Color'].fillna(mode_color)"
   ]
  },
  {
   "cell_type": "code",
   "execution_count": 158,
   "id": "f233de3b",
   "metadata": {},
   "outputs": [
    {
     "data": {
      "text/plain": [
       "Black     3941\n",
       "Grey      3836\n",
       "White     3469\n",
       "Silver    1647\n",
       "Blue      1431\n",
       "Red        957\n",
       "Brown      289\n",
       "Green      158\n",
       "Beige      108\n",
       "Yellow      51\n",
       "Violet      18\n",
       "Bronze       6\n",
       "NaN          3\n",
       "Orange       3\n",
       "Gold         2\n",
       "Name: Body Color, dtype: int64"
      ]
     },
     "execution_count": 158,
     "metadata": {},
     "output_type": "execute_result"
    }
   ],
   "source": [
    "df['Body Color'].value_counts(dropna=False)"
   ]
  },
  {
   "cell_type": "code",
   "execution_count": 159,
   "id": "733a5403",
   "metadata": {},
   "outputs": [],
   "source": [
    "mode_color1 = df.groupby(['make_model'])['Body Color']\\\n",
    "              .transform(lambda x: x.mode()[0] if list(x.mode()) != [] else np.nan)"
   ]
  },
  {
   "cell_type": "code",
   "execution_count": 160,
   "id": "9e1eb74e",
   "metadata": {},
   "outputs": [],
   "source": [
    "df['Body Color'] = df['Body Color'].fillna(mode_color1)"
   ]
  },
  {
   "cell_type": "code",
   "execution_count": 161,
   "id": "e47bd6e0",
   "metadata": {},
   "outputs": [
    {
     "data": {
      "text/plain": [
       "Black     3941\n",
       "Grey      3839\n",
       "White     3469\n",
       "Silver    1647\n",
       "Blue      1431\n",
       "Red        957\n",
       "Brown      289\n",
       "Green      158\n",
       "Beige      108\n",
       "Yellow      51\n",
       "Violet      18\n",
       "Bronze       6\n",
       "Orange       3\n",
       "Gold         2\n",
       "Name: Body Color, dtype: int64"
      ]
     },
     "execution_count": 161,
     "metadata": {},
     "output_type": "execute_result"
    }
   ],
   "source": [
    "df['Body Color'].value_counts(dropna=False)"
   ]
  },
  {
   "cell_type": "markdown",
   "id": "be5727cd",
   "metadata": {},
   "source": [
    "### Column 13: Paint Type"
   ]
  },
  {
   "cell_type": "code",
   "execution_count": 149,
   "id": "c7f43afd",
   "metadata": {},
   "outputs": [],
   "source": [
    "mode_paint = df.groupby(['make_model','Body'])['Paint Type']\\\n",
    "              .transform(lambda x: x.mode()[0] if list(x.mode()) != [] else np.nan)"
   ]
  },
  {
   "cell_type": "code",
   "execution_count": 150,
   "id": "e5206fb6",
   "metadata": {},
   "outputs": [],
   "source": [
    "df['Paint Type'] = df['Paint Type'].fillna(mode_paint)"
   ]
  },
  {
   "cell_type": "code",
   "execution_count": 151,
   "id": "b4cc33ea",
   "metadata": {},
   "outputs": [],
   "source": [
    "mode_paint1 = df.groupby(['make_model'])['Paint Type']\\\n",
    "              .transform(lambda x: x.mode()[0] if list(x.mode()) != [] else np.nan)"
   ]
  },
  {
   "cell_type": "code",
   "execution_count": 152,
   "id": "43d42eb9",
   "metadata": {},
   "outputs": [],
   "source": [
    "df['Paint Type'] = df['Paint Type'].fillna(mode_paint1)"
   ]
  },
  {
   "cell_type": "markdown",
   "id": "f8bcc04d",
   "metadata": {},
   "source": [
    "### Column 14: Body Color Original"
   ]
  },
  {
   "cell_type": "code",
   "execution_count": 153,
   "id": "f9901b0d",
   "metadata": {},
   "outputs": [],
   "source": [
    "#I have forgotten to drop this column in the previous section\n",
    "df.drop([\"Body Color Original\"],axis=1,inplace=True)"
   ]
  },
  {
   "cell_type": "markdown",
   "id": "3a04541b",
   "metadata": {},
   "source": [
    "### Column 15: Nr. of Doors"
   ]
  },
  {
   "cell_type": "code",
   "execution_count": 48,
   "id": "236771c9",
   "metadata": {},
   "outputs": [],
   "source": [
    "#We can fill NULL values according to model and Body of the car\n",
    "mode_nr_doors = df.groupby(['make_model','Body'])['Nr. of Doors']\\\n",
    "              .transform(lambda x: x.mode()[0] if list(x.mode()) != [] else np.nan)"
   ]
  },
  {
   "cell_type": "code",
   "execution_count": 49,
   "id": "1440b4c7",
   "metadata": {},
   "outputs": [],
   "source": [
    "df['Nr. of Doors'] = df['Nr. of Doors'].fillna(mode_nr_doors)"
   ]
  },
  {
   "cell_type": "code",
   "execution_count": null,
   "id": "2bc27c37",
   "metadata": {},
   "outputs": [],
   "source": [
    "df['Nr. of Doors'].value_counts(dropna=False)"
   ]
  },
  {
   "cell_type": "code",
   "execution_count": 50,
   "id": "cb316a6f",
   "metadata": {},
   "outputs": [],
   "source": [
    "mode_nr_doors1 = df.groupby(['make_model'])['Nr. of Doors']\\\n",
    "              .transform(lambda x: x.mode()[0] if list(x.mode()) != [] else np.nan)"
   ]
  },
  {
   "cell_type": "code",
   "execution_count": 51,
   "id": "e9235ee0",
   "metadata": {},
   "outputs": [],
   "source": [
    "df['Nr. of Doors'] = df['Nr. of Doors'].fillna(mode_nr_doors1)"
   ]
  },
  {
   "cell_type": "code",
   "execution_count": 52,
   "id": "31b4c4d8",
   "metadata": {},
   "outputs": [
    {
     "data": {
      "text/plain": [
       "5.0    11787\n",
       "4.0     3079\n",
       "3.0      832\n",
       "2.0      219\n",
       "7.0        1\n",
       "1.0        1\n",
       "Name: Nr. of Doors, dtype: int64"
      ]
     },
     "execution_count": 52,
     "metadata": {},
     "output_type": "execute_result"
    }
   ],
   "source": [
    "df['Nr. of Doors'].value_counts(dropna=False)"
   ]
  },
  {
   "cell_type": "markdown",
   "id": "c2059ff9",
   "metadata": {},
   "source": [
    "### Column 16: Nr. of Seats"
   ]
  },
  {
   "cell_type": "code",
   "execution_count": 53,
   "id": "e409ccdc",
   "metadata": {},
   "outputs": [],
   "source": [
    "#We can fill NULL values according to model and Body of the car\n",
    "mode_nr_seats = df.groupby(['make_model','Body'])['Nr. of Seats']\\\n",
    "              .transform(lambda x: x.mode()[0] if list(x.mode()) != [] else np.nan)"
   ]
  },
  {
   "cell_type": "code",
   "execution_count": 54,
   "id": "629b1e2b",
   "metadata": {},
   "outputs": [],
   "source": [
    "df['Nr. of Seats'] = df['Nr. of Seats'].fillna(mode_nr_seats)"
   ]
  },
  {
   "cell_type": "code",
   "execution_count": 55,
   "id": "166d6849",
   "metadata": {},
   "outputs": [
    {
     "data": {
      "text/plain": [
       "5.0    14302\n",
       "4.0     1127\n",
       "7.0      362\n",
       "2.0      119\n",
       "NaN        6\n",
       "6.0        2\n",
       "3.0        1\n",
       "Name: Nr. of Seats, dtype: int64"
      ]
     },
     "execution_count": 55,
     "metadata": {},
     "output_type": "execute_result"
    }
   ],
   "source": [
    "df['Nr. of Seats'].value_counts(dropna=False)"
   ]
  },
  {
   "cell_type": "code",
   "execution_count": 56,
   "id": "6ad49d03",
   "metadata": {},
   "outputs": [],
   "source": [
    "mode_nr_seats1 = df.groupby(['make_model'])['Nr. of Seats']\\\n",
    "              .transform(lambda x: x.mode()[0] if list(x.mode()) != [] else np.nan)"
   ]
  },
  {
   "cell_type": "code",
   "execution_count": 57,
   "id": "27f415e1",
   "metadata": {},
   "outputs": [],
   "source": [
    "df['Nr. of Seats'] = df['Nr. of Seats'].fillna(mode_nr_seats1)"
   ]
  },
  {
   "cell_type": "code",
   "execution_count": 58,
   "id": "56fe8d18",
   "metadata": {},
   "outputs": [
    {
     "data": {
      "text/plain": [
       "5.0    14308\n",
       "4.0     1127\n",
       "7.0      362\n",
       "2.0      119\n",
       "6.0        2\n",
       "3.0        1\n",
       "Name: Nr. of Seats, dtype: int64"
      ]
     },
     "execution_count": 58,
     "metadata": {},
     "output_type": "execute_result"
    }
   ],
   "source": [
    "df['Nr. of Seats'].value_counts(dropna=False)"
   ]
  },
  {
   "cell_type": "markdown",
   "id": "8ec95d1e",
   "metadata": {},
   "source": [
    "### Column 21: Weight"
   ]
  },
  {
   "cell_type": "code",
   "execution_count": 62,
   "id": "be3ee299",
   "metadata": {},
   "outputs": [],
   "source": [
    "#Car model and Motor capacity seem ideal columns to fill weight NULLs\n",
    "mode_weight = df.groupby(['make_model', 'Displacement'])['Weight']\\\n",
    "              .transform(lambda x: x.mode()[0] if list(x.mode()) != [] else np.nan)"
   ]
  },
  {
   "cell_type": "code",
   "execution_count": 63,
   "id": "dcb88c65",
   "metadata": {},
   "outputs": [],
   "source": [
    "df['Weight'] = df['Weight'].fillna(mode_weight)"
   ]
  },
  {
   "cell_type": "code",
   "execution_count": 65,
   "id": "47527fbd",
   "metadata": {},
   "outputs": [
    {
     "data": {
      "text/plain": [
       "210"
      ]
     },
     "execution_count": 65,
     "metadata": {},
     "output_type": "execute_result"
    }
   ],
   "source": [
    "df['Weight'].isnull().sum()"
   ]
  },
  {
   "cell_type": "code",
   "execution_count": 66,
   "id": "9ca66829",
   "metadata": {},
   "outputs": [],
   "source": [
    "mode_weight1 = df.groupby(['make_model'])['Weight']\\\n",
    "              .transform(lambda x: x.mode()[0] if list(x.mode()) != [] else np.nan)"
   ]
  },
  {
   "cell_type": "code",
   "execution_count": 67,
   "id": "984aef12",
   "metadata": {},
   "outputs": [],
   "source": [
    "df['Weight'] = df['Weight'].fillna(mode_weight1)"
   ]
  },
  {
   "cell_type": "code",
   "execution_count": 68,
   "id": "a5a05d88",
   "metadata": {},
   "outputs": [
    {
     "data": {
      "text/plain": [
       "35"
      ]
     },
     "execution_count": 68,
     "metadata": {},
     "output_type": "execute_result"
    }
   ],
   "source": [
    "df['Weight'].isnull().sum()"
   ]
  },
  {
   "cell_type": "code",
   "execution_count": 69,
   "id": "54b4a175",
   "metadata": {},
   "outputs": [],
   "source": [
    "mode_weight2 = df.groupby(['make_model', 'hp'])['Weight']\\\n",
    "              .transform(lambda x: x.mode()[0] if list(x.mode()) != [] else np.nan)"
   ]
  },
  {
   "cell_type": "code",
   "execution_count": 70,
   "id": "2a604530",
   "metadata": {},
   "outputs": [],
   "source": [
    "df['Weight'] = df['Weight'].fillna(mode_weight2)"
   ]
  },
  {
   "cell_type": "code",
   "execution_count": 71,
   "id": "fb2290ee",
   "metadata": {},
   "outputs": [
    {
     "data": {
      "text/plain": [
       "35"
      ]
     },
     "execution_count": 71,
     "metadata": {},
     "output_type": "execute_result"
    }
   ],
   "source": [
    "df['Weight'].isnull().sum()"
   ]
  },
  {
   "cell_type": "code",
   "execution_count": 74,
   "id": "19744c51",
   "metadata": {},
   "outputs": [],
   "source": [
    "mode_weight3 = df.groupby(['Body'])['Weight']\\\n",
    "              .transform(lambda x: x.mode()[0] if list(x.mode()) != [] else np.nan)"
   ]
  },
  {
   "cell_type": "code",
   "execution_count": 75,
   "id": "08e4807b",
   "metadata": {},
   "outputs": [],
   "source": [
    "df['Weight'] = df['Weight'].fillna(mode_weight3)"
   ]
  },
  {
   "cell_type": "code",
   "execution_count": 76,
   "id": "dfbe2cf6",
   "metadata": {},
   "outputs": [
    {
     "data": {
      "text/plain": [
       "0"
      ]
     },
     "execution_count": 76,
     "metadata": {},
     "output_type": "execute_result"
    }
   ],
   "source": [
    "df['Weight'].isnull().sum()"
   ]
  },
  {
   "cell_type": "markdown",
   "id": "67075574",
   "metadata": {},
   "source": [
    "### Column 20: Cylinders "
   ]
  },
  {
   "cell_type": "code",
   "execution_count": 77,
   "id": "718e8fd8",
   "metadata": {},
   "outputs": [],
   "source": [
    "mode_cylinders = df.groupby(['make_model', 'Displacement'])['Cylinders']\\\n",
    "              .transform(lambda x: x.mode()[0] if list(x.mode()) != [] else np.nan)"
   ]
  },
  {
   "cell_type": "code",
   "execution_count": 60,
   "id": "10c6ad9d",
   "metadata": {},
   "outputs": [],
   "source": [
    "df['Cylinders'] = df['Cylinders'].fillna(mode_cylinders)"
   ]
  },
  {
   "cell_type": "code",
   "execution_count": 78,
   "id": "fa4e2979",
   "metadata": {},
   "outputs": [
    {
     "data": {
      "text/plain": [
       "78"
      ]
     },
     "execution_count": 78,
     "metadata": {},
     "output_type": "execute_result"
    }
   ],
   "source": [
    "df.Cylinders.isnull().sum()"
   ]
  },
  {
   "cell_type": "code",
   "execution_count": 79,
   "id": "c820a79e",
   "metadata": {},
   "outputs": [],
   "source": [
    "mode_cylinders1 = df.groupby(['make_model', 'Weight'])['Cylinders']\\\n",
    "              .transform(lambda x: x.mode()[0] if list(x.mode()) != [] else np.nan)"
   ]
  },
  {
   "cell_type": "code",
   "execution_count": 80,
   "id": "5a1ff29b",
   "metadata": {},
   "outputs": [],
   "source": [
    "df['Cylinders'] = df['Cylinders'].fillna(mode_cylinders1)"
   ]
  },
  {
   "cell_type": "code",
   "execution_count": 81,
   "id": "406dd454",
   "metadata": {},
   "outputs": [
    {
     "data": {
      "text/plain": [
       "2"
      ]
     },
     "execution_count": 81,
     "metadata": {},
     "output_type": "execute_result"
    }
   ],
   "source": [
    "df.Cylinders.isnull().sum()"
   ]
  },
  {
   "cell_type": "code",
   "execution_count": 82,
   "id": "4bd033d3",
   "metadata": {},
   "outputs": [],
   "source": [
    "mode_cylinders2 = df.groupby(['make_model'])['Cylinders']\\\n",
    "              .transform(lambda x: x.mode()[0] if list(x.mode()) != [] else np.nan)"
   ]
  },
  {
   "cell_type": "code",
   "execution_count": 83,
   "id": "7527a763",
   "metadata": {},
   "outputs": [],
   "source": [
    "df['Cylinders'] = df['Cylinders'].fillna(mode_cylinders2)"
   ]
  },
  {
   "cell_type": "code",
   "execution_count": 84,
   "id": "63505aa6",
   "metadata": {},
   "outputs": [
    {
     "data": {
      "text/plain": [
       "1"
      ]
     },
     "execution_count": 84,
     "metadata": {},
     "output_type": "execute_result"
    }
   ],
   "source": [
    "df.Cylinders.isnull().sum()"
   ]
  },
  {
   "cell_type": "code",
   "execution_count": 88,
   "id": "ede7b93d",
   "metadata": {},
   "outputs": [
    {
     "data": {
      "text/html": [
       "<div>\n",
       "<style scoped>\n",
       "    .dataframe tbody tr th:only-of-type {\n",
       "        vertical-align: middle;\n",
       "    }\n",
       "\n",
       "    .dataframe tbody tr th {\n",
       "        vertical-align: top;\n",
       "    }\n",
       "\n",
       "    .dataframe thead th {\n",
       "        text-align: right;\n",
       "    }\n",
       "</style>\n",
       "<table border=\"1\" class=\"dataframe\">\n",
       "  <thead>\n",
       "    <tr style=\"text-align: right;\">\n",
       "      <th></th>\n",
       "      <th>make_model</th>\n",
       "      <th>price</th>\n",
       "      <th>Body</th>\n",
       "      <th>Displacement</th>\n",
       "    </tr>\n",
       "  </thead>\n",
       "  <tbody>\n",
       "    <tr>\n",
       "      <th>2614</th>\n",
       "      <td>Audi A2</td>\n",
       "      <td>28200.0</td>\n",
       "      <td>Off-Road</td>\n",
       "      <td>1598.0</td>\n",
       "    </tr>\n",
       "  </tbody>\n",
       "</table>\n",
       "</div>"
      ],
      "text/plain": [
       "     make_model    price      Body  Displacement\n",
       "2614    Audi A2  28200.0  Off-Road        1598.0"
      ]
     },
     "execution_count": 88,
     "metadata": {},
     "output_type": "execute_result"
    }
   ],
   "source": [
    "df[df.Cylinders.isnull()][['make_model', 'price', 'Body', 'Displacement']]"
   ]
  },
  {
   "cell_type": "code",
   "execution_count": 89,
   "id": "7e25ac5b",
   "metadata": {},
   "outputs": [],
   "source": [
    "#We can assume that an Off-Road vehicle have 4 cylinders\n",
    "df['Cylinders'] = df['Cylinders'].fillna(4.0)"
   ]
  },
  {
   "cell_type": "markdown",
   "id": "aee8e4fc",
   "metadata": {},
   "source": [
    "### Column 22: Drive chain"
   ]
  },
  {
   "cell_type": "code",
   "execution_count": 90,
   "id": "fa09ff6e",
   "metadata": {},
   "outputs": [
    {
     "data": {
      "text/plain": [
       "front    8886\n",
       "NaN      6858\n",
       "4WD       171\n",
       "rear        4\n",
       "Name: Drive chain, dtype: int64"
      ]
     },
     "execution_count": 90,
     "metadata": {},
     "output_type": "execute_result"
    }
   ],
   "source": [
    "df['Drive chain'].value_counts(dropna=False)"
   ]
  },
  {
   "cell_type": "code",
   "execution_count": 91,
   "id": "7e741407",
   "metadata": {},
   "outputs": [],
   "source": [
    "mode_drive_chain = df.groupby(['make_model', 'Body'])['Drive chain']\\\n",
    "              .transform(lambda x: x.mode()[0] if list(x.mode()) != [] else np.nan)"
   ]
  },
  {
   "cell_type": "code",
   "execution_count": 92,
   "id": "9ae2ed7e",
   "metadata": {},
   "outputs": [],
   "source": [
    "df['Drive chain'] = df['Drive chain'].fillna(mode_drive_chain)"
   ]
  },
  {
   "cell_type": "code",
   "execution_count": 93,
   "id": "d09c4f19",
   "metadata": {},
   "outputs": [
    {
     "data": {
      "text/plain": [
       "front    15699\n",
       "4WD        204\n",
       "NaN         12\n",
       "rear         4\n",
       "Name: Drive chain, dtype: int64"
      ]
     },
     "execution_count": 93,
     "metadata": {},
     "output_type": "execute_result"
    }
   ],
   "source": [
    "#We still have some NULL values\n",
    "df['Drive chain'].value_counts(dropna=False)"
   ]
  },
  {
   "cell_type": "code",
   "execution_count": 94,
   "id": "3d2c7773",
   "metadata": {},
   "outputs": [],
   "source": [
    "mode_drive_chain1 = df.groupby(['make_model'])['Drive chain']\\\n",
    "              .transform(lambda x: x.mode()[0] if list(x.mode()) != [] else np.nan)"
   ]
  },
  {
   "cell_type": "code",
   "execution_count": 95,
   "id": "51e18b17",
   "metadata": {},
   "outputs": [],
   "source": [
    "df['Drive chain'] = df['Drive chain'].fillna(mode_drive_chain1)"
   ]
  },
  {
   "cell_type": "code",
   "execution_count": 96,
   "id": "b37cccdf",
   "metadata": {},
   "outputs": [
    {
     "data": {
      "text/plain": [
       "front    15711\n",
       "4WD        204\n",
       "rear         4\n",
       "Name: Drive chain, dtype: int64"
      ]
     },
     "execution_count": 96,
     "metadata": {},
     "output_type": "execute_result"
    }
   ],
   "source": [
    "df['Drive chain'].value_counts(dropna=False)"
   ]
  },
  {
   "cell_type": "markdown",
   "id": "d96f7bfd",
   "metadata": {},
   "source": [
    "### Column 24: CO2 Emission"
   ]
  },
  {
   "cell_type": "code",
   "execution_count": 98,
   "id": "46777977",
   "metadata": {},
   "outputs": [],
   "source": [
    "mode_CO2 = df.groupby(['make_model','Displacement'])['CO2 Emission']\\\n",
    "              .transform(lambda x: x.mode()[0] if list(x.mode()) != [] else np.nan)"
   ]
  },
  {
   "cell_type": "code",
   "execution_count": 99,
   "id": "6d39d01d",
   "metadata": {},
   "outputs": [],
   "source": [
    "df['CO2 Emission'] = df['CO2 Emission'].fillna(mode_CO2)"
   ]
  },
  {
   "cell_type": "code",
   "execution_count": 100,
   "id": "c8c1895c",
   "metadata": {},
   "outputs": [],
   "source": [
    "mode_CO2_1 = df.groupby(['make_model'])['CO2 Emission']\\\n",
    "              .transform(lambda x: x.mode()[0] if list(x.mode()) != [] else np.nan)"
   ]
  },
  {
   "cell_type": "code",
   "execution_count": 101,
   "id": "eac855fb",
   "metadata": {},
   "outputs": [],
   "source": [
    "df['CO2 Emission'] = df['CO2 Emission'].fillna(mode_CO2_1)"
   ]
  },
  {
   "cell_type": "code",
   "execution_count": 103,
   "id": "31b7bf09",
   "metadata": {},
   "outputs": [],
   "source": [
    "mode_CO2_2 = df.groupby(['Body'])['CO2 Emission']\\\n",
    "              .transform(lambda x: x.mode()[0] if list(x.mode()) != [] else np.nan)"
   ]
  },
  {
   "cell_type": "code",
   "execution_count": 104,
   "id": "7b453ec2",
   "metadata": {},
   "outputs": [],
   "source": [
    "df['CO2 Emission'] = df['CO2 Emission'].fillna(mode_CO2_2)"
   ]
  },
  {
   "cell_type": "code",
   "execution_count": 105,
   "id": "afb265a4",
   "metadata": {},
   "outputs": [
    {
     "data": {
      "text/plain": [
       "0"
      ]
     },
     "execution_count": 105,
     "metadata": {},
     "output_type": "execute_result"
    }
   ],
   "source": [
    "df['CO2 Emission'].isnull().sum()"
   ]
  },
  {
   "cell_type": "markdown",
   "id": "85255f87",
   "metadata": {},
   "source": [
    "### Column 23: Emission Class"
   ]
  },
  {
   "cell_type": "code",
   "execution_count": 107,
   "id": "608b8267",
   "metadata": {},
   "outputs": [],
   "source": [
    "mode_Emision_C= df.groupby(['CO2 Emission'])['Emission Class']\\\n",
    "              .transform(lambda x: x.mode()[0] if list(x.mode()) != [] else np.nan)"
   ]
  },
  {
   "cell_type": "code",
   "execution_count": 109,
   "id": "0b3fe725",
   "metadata": {},
   "outputs": [],
   "source": [
    "df['Emission Class'] = df['Emission Class'].fillna(mode_Emision_C)"
   ]
  },
  {
   "cell_type": "code",
   "execution_count": 110,
   "id": "9f081e70",
   "metadata": {},
   "outputs": [],
   "source": [
    "mode_Emision_C1= df.groupby(['registration'])['Emission Class']\\\n",
    "              .transform(lambda x: x.mode()[0] if list(x.mode()) != [] else np.nan)"
   ]
  },
  {
   "cell_type": "code",
   "execution_count": 111,
   "id": "4ce87c5f",
   "metadata": {},
   "outputs": [],
   "source": [
    "df['Emission Class'] = df['Emission Class'].fillna(mode_Emision_C1)"
   ]
  },
  {
   "cell_type": "code",
   "execution_count": 112,
   "id": "70c4e932",
   "metadata": {},
   "outputs": [
    {
     "data": {
      "text/plain": [
       "0"
      ]
     },
     "execution_count": 112,
     "metadata": {},
     "output_type": "execute_result"
    }
   ],
   "source": [
    "df['Emission Class'].isnull().sum()"
   ]
  },
  {
   "cell_type": "markdown",
   "id": "d3d7e379",
   "metadata": {},
   "source": [
    "### Column 24: Gears"
   ]
  },
  {
   "cell_type": "code",
   "execution_count": 114,
   "id": "1caa700e",
   "metadata": {},
   "outputs": [],
   "source": [
    "mode_Gears= df.groupby(['make_model','Gearing Type'])['Gears']\\\n",
    "              .transform(lambda x: x.mode()[0] if list(x.mode()) != [] else np.nan)"
   ]
  },
  {
   "cell_type": "code",
   "execution_count": 115,
   "id": "80a9e37d",
   "metadata": {},
   "outputs": [],
   "source": [
    "df['Gears'] = df['Gears'].fillna(mode_Gears)"
   ]
  },
  {
   "cell_type": "code",
   "execution_count": 116,
   "id": "2e0c56d7",
   "metadata": {},
   "outputs": [
    {
     "data": {
      "text/plain": [
       "9"
      ]
     },
     "execution_count": 116,
     "metadata": {},
     "output_type": "execute_result"
    }
   ],
   "source": [
    "df.Gears.isnull().sum()"
   ]
  },
  {
   "cell_type": "code",
   "execution_count": 117,
   "id": "9f3a1a07",
   "metadata": {},
   "outputs": [],
   "source": [
    "mode_Gears1= df.groupby(['Gearing Type'])['Gears']\\\n",
    "              .transform(lambda x: x.mode()[0] if list(x.mode()) != [] else np.nan)"
   ]
  },
  {
   "cell_type": "code",
   "execution_count": 118,
   "id": "e711ed82",
   "metadata": {},
   "outputs": [],
   "source": [
    "df['Gears'] = df['Gears'].fillna(mode_Gears1)"
   ]
  },
  {
   "cell_type": "code",
   "execution_count": 119,
   "id": "691705cd",
   "metadata": {},
   "outputs": [
    {
     "data": {
      "text/plain": [
       "0"
      ]
     },
     "execution_count": 119,
     "metadata": {},
     "output_type": "execute_result"
    }
   ],
   "source": [
    "df.Gears.isnull().sum()"
   ]
  },
  {
   "cell_type": "markdown",
   "id": "e3b7c12b",
   "metadata": {},
   "source": [
    "### Column 25: Country Version"
   ]
  },
  {
   "cell_type": "code",
   "execution_count": 120,
   "id": "de6e1258",
   "metadata": {},
   "outputs": [],
   "source": [
    "df.drop(['Country version'], axis=1, inplace=True)"
   ]
  },
  {
   "cell_type": "markdown",
   "id": "79124c04",
   "metadata": {},
   "source": [
    "### Column 27: Upholstery_Color"
   ]
  },
  {
   "cell_type": "code",
   "execution_count": 123,
   "id": "590db07e",
   "metadata": {},
   "outputs": [],
   "source": [
    "df.drop(['Upholstery_Color'], axis=1, inplace=True)"
   ]
  },
  {
   "cell_type": "markdown",
   "id": "df861d03",
   "metadata": {},
   "source": [
    "### Column 30: Consumption_combined"
   ]
  },
  {
   "cell_type": "code",
   "execution_count": 124,
   "id": "02ed82c8",
   "metadata": {},
   "outputs": [],
   "source": [
    "coms = ((df['Consumption_city']+df['Consumption_country'])/2)"
   ]
  },
  {
   "cell_type": "code",
   "execution_count": 125,
   "id": "e5bceb01",
   "metadata": {},
   "outputs": [],
   "source": [
    "df['Consumption_combined'] = df['Consumption_combined'].fillna(coms)"
   ]
  },
  {
   "cell_type": "code",
   "execution_count": 127,
   "id": "bcc44158",
   "metadata": {},
   "outputs": [],
   "source": [
    "mode_Cons= df.groupby(['CO2 Emission'])['Consumption_combined']\\\n",
    "              .transform(lambda x: x.mode()[0] if list(x.mode()) != [] else np.nan)"
   ]
  },
  {
   "cell_type": "code",
   "execution_count": 128,
   "id": "552cc9bb",
   "metadata": {},
   "outputs": [],
   "source": [
    "df['Consumption_combined'] = df['Consumption_combined'].fillna(mode_Cons)"
   ]
  },
  {
   "cell_type": "code",
   "execution_count": 130,
   "id": "16e77c3f",
   "metadata": {},
   "outputs": [],
   "source": [
    "mode_Cons1= df.groupby(['Displacement'])['Consumption_combined']\\\n",
    "              .transform(lambda x: x.mode()[0] if list(x.mode()) != [] else np.nan)"
   ]
  },
  {
   "cell_type": "code",
   "execution_count": 131,
   "id": "39004f00",
   "metadata": {},
   "outputs": [],
   "source": [
    "df['Consumption_combined'] = df['Consumption_combined'].fillna(mode_Cons1)"
   ]
  },
  {
   "cell_type": "code",
   "execution_count": 132,
   "id": "9b18275b",
   "metadata": {},
   "outputs": [],
   "source": [
    "mode_Cons2= df.groupby(['make_model'])['Consumption_combined']\\\n",
    "              .transform(lambda x: x.mode()[0] if list(x.mode()) != [] else np.nan)"
   ]
  },
  {
   "cell_type": "code",
   "execution_count": 133,
   "id": "91ba04b1",
   "metadata": {},
   "outputs": [],
   "source": [
    "df['Consumption_combined'] = df['Consumption_combined'].fillna(mode_Cons2)"
   ]
  },
  {
   "cell_type": "code",
   "execution_count": 134,
   "id": "59b9283c",
   "metadata": {},
   "outputs": [
    {
     "data": {
      "text/plain": [
       "0"
      ]
     },
     "execution_count": 134,
     "metadata": {},
     "output_type": "execute_result"
    }
   ],
   "source": [
    "df['Consumption_combined'].isnull().sum()"
   ]
  },
  {
   "cell_type": "code",
   "execution_count": 146,
   "id": "ad196a4a",
   "metadata": {},
   "outputs": [],
   "source": [
    "df.drop(columns = ['Consumption_city', 'Consumption_country'], inplace = True)"
   ]
  },
  {
   "cell_type": "markdown",
   "id": "b77dfb26",
   "metadata": {},
   "source": [
    "### Column 31: Extras"
   ]
  },
  {
   "cell_type": "code",
   "execution_count": 136,
   "id": "a212d003",
   "metadata": {},
   "outputs": [],
   "source": [
    "df['Extras'] = df['Extras'].fillna(0)"
   ]
  },
  {
   "cell_type": "markdown",
   "id": "82979124",
   "metadata": {},
   "source": [
    "### Column 32: Safety & Security"
   ]
  },
  {
   "cell_type": "code",
   "execution_count": 137,
   "id": "28de44a3",
   "metadata": {},
   "outputs": [],
   "source": [
    "df['Safety & Security'] = df['Safety & Security'].fillna(0)"
   ]
  },
  {
   "cell_type": "markdown",
   "id": "1ffafa7f",
   "metadata": {},
   "source": [
    "### Column 33: Entertainment & Media"
   ]
  },
  {
   "cell_type": "code",
   "execution_count": 138,
   "id": "1374654a",
   "metadata": {},
   "outputs": [],
   "source": [
    "df['Entertainment & Media'] = df['Entertainment & Media'].fillna(0)"
   ]
  },
  {
   "cell_type": "markdown",
   "id": "e57dc1a7",
   "metadata": {},
   "source": [
    "### Column 34: Comfort & Convenience"
   ]
  },
  {
   "cell_type": "code",
   "execution_count": 140,
   "id": "b3f06c8d",
   "metadata": {},
   "outputs": [],
   "source": [
    "df['Comfort & Convenience'] = df['Comfort & Convenience'].fillna(0)"
   ]
  },
  {
   "cell_type": "markdown",
   "id": "571d571e",
   "metadata": {},
   "source": [
    "## Dataset After Filling NULL Values"
   ]
  },
  {
   "cell_type": "code",
   "execution_count": 162,
   "id": "82ee4b82",
   "metadata": {},
   "outputs": [
    {
     "name": "stdout",
     "output_type": "stream",
     "text": [
      "<class 'pandas.core.frame.DataFrame'>\n",
      "RangeIndex: 15919 entries, 0 to 15918\n",
      "Data columns (total 30 columns):\n",
      " #   Column                 Non-Null Count  Dtype  \n",
      "---  ------                 --------------  -----  \n",
      " 0   make_model             15919 non-null  object \n",
      " 1   price                  15919 non-null  float64\n",
      " 2   vat                    15919 non-null  object \n",
      " 3   km                     15919 non-null  float64\n",
      " 4   registration           15919 non-null  float64\n",
      " 5   prev_owner             15919 non-null  float64\n",
      " 6   hp                     15919 non-null  float64\n",
      " 7   Type                   15919 non-null  object \n",
      " 8   Inspection new         15919 non-null  object \n",
      " 9   Warranty(months)       15919 non-null  float64\n",
      " 10  Body Color             15919 non-null  object \n",
      " 11  Paint Type             15919 non-null  object \n",
      " 12  Body                   15919 non-null  object \n",
      " 13  Nr. of Doors           15919 non-null  float64\n",
      " 14  Nr. of Seats           15919 non-null  float64\n",
      " 15  Gearing Type           15919 non-null  object \n",
      " 16  Displacement           15919 non-null  float64\n",
      " 17  Cylinders              15919 non-null  float64\n",
      " 18  Weight                 15919 non-null  float64\n",
      " 19  Drive chain            15919 non-null  object \n",
      " 20  Fuel                   15919 non-null  object \n",
      " 21  CO2 Emission           15919 non-null  float64\n",
      " 22  Emission Class         15919 non-null  object \n",
      " 23  Gears                  15919 non-null  float64\n",
      " 24  Upholstery_Texture     15919 non-null  object \n",
      " 25  Consumption_combined   15919 non-null  float64\n",
      " 26  Extras                 15919 non-null  float64\n",
      " 27  Safety & Security      15919 non-null  float64\n",
      " 28  Entertainment & Media  15919 non-null  float64\n",
      " 29  Comfort & Convenience  15919 non-null  float64\n",
      "dtypes: float64(18), object(12)\n",
      "memory usage: 3.6+ MB\n"
     ]
    }
   ],
   "source": [
    "df.info()"
   ]
  },
  {
   "cell_type": "code",
   "execution_count": 163,
   "id": "69628870",
   "metadata": {},
   "outputs": [],
   "source": [
    "#Save the dataframe as a csv file\n",
    "df.to_csv('auto_scout_filled.csv')"
   ]
  },
  {
   "cell_type": "code",
   "execution_count": null,
   "id": "52d1c21f",
   "metadata": {},
   "outputs": [],
   "source": []
  }
 ],
 "metadata": {
  "kernelspec": {
   "display_name": "Python 3",
   "language": "python",
   "name": "python3"
  },
  "language_info": {
   "codemirror_mode": {
    "name": "ipython",
    "version": 3
   },
   "file_extension": ".py",
   "mimetype": "text/x-python",
   "name": "python",
   "nbconvert_exporter": "python",
   "pygments_lexer": "ipython3",
   "version": "3.8.8"
  }
 },
 "nbformat": 4,
 "nbformat_minor": 5
}
