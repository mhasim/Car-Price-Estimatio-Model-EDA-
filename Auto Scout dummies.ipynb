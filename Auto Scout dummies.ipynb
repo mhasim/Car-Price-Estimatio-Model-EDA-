{
 "cells": [
  {
   "cell_type": "markdown",
   "id": "570c5006",
   "metadata": {},
   "source": [
    "# CAR PRICE ESTIMATION MODEL (EDA - DUMMIES)"
   ]
  },
  {
   "cell_type": "code",
   "execution_count": 1,
   "id": "f7755937",
   "metadata": {},
   "outputs": [],
   "source": [
    "import matplotlib.pyplot as plt\n",
    "%matplotlib inline\n",
    "import numpy as np\n",
    "import pandas as pd\n",
    "from scipy import stats\n",
    "import seaborn as sns\n",
    "import warnings;\n",
    "warnings.filterwarnings(\"ignore\")\n",
    "import re\n",
    "pd.set_option(\"display.max_columns\",None)"
   ]
  },
  {
   "cell_type": "code",
   "execution_count": 2,
   "id": "cfa16dab",
   "metadata": {},
   "outputs": [],
   "source": [
    "auto = pd.read_csv('auto_scout_normalized.csv')\n",
    "df= auto.copy()"
   ]
  },
  {
   "cell_type": "code",
   "execution_count": 5,
   "id": "bf83dbb8",
   "metadata": {},
   "outputs": [],
   "source": [
    "df_dummied = pd.get_dummies(df, columns=['make_model', 'vat', 'Type', 'Inspection new', 'Body Color', 'Paint Type', 'Body', 'Gearing Type', 'Drive chain', 'Fuel', 'Emission Class', 'Upholstery_Texture'])"
   ]
  },
  {
   "cell_type": "code",
   "execution_count": 3,
   "id": "2a895edb",
   "metadata": {},
   "outputs": [
    {
     "name": "stdout",
     "output_type": "stream",
     "text": [
      "<class 'pandas.core.frame.DataFrame'>\n",
      "RangeIndex: 15915 entries, 0 to 15914\n",
      "Data columns (total 30 columns):\n",
      " #   Column                 Non-Null Count  Dtype  \n",
      "---  ------                 --------------  -----  \n",
      " 0   make_model             15915 non-null  object \n",
      " 1   price                  15915 non-null  float64\n",
      " 2   vat                    15915 non-null  object \n",
      " 3   km                     15915 non-null  float64\n",
      " 4   registration           15915 non-null  float64\n",
      " 5   prev_owner             15915 non-null  float64\n",
      " 6   hp                     15915 non-null  float64\n",
      " 7   Type                   15915 non-null  object \n",
      " 8   Inspection new         15915 non-null  object \n",
      " 9   Warranty(months)       15915 non-null  float64\n",
      " 10  Body Color             15915 non-null  object \n",
      " 11  Paint Type             15915 non-null  object \n",
      " 12  Body                   15915 non-null  object \n",
      " 13  Nr. of Doors           15915 non-null  float64\n",
      " 14  Nr. of Seats           15915 non-null  float64\n",
      " 15  Gearing Type           15915 non-null  object \n",
      " 16  Displacement           15915 non-null  float64\n",
      " 17  Cylinders              15915 non-null  float64\n",
      " 18  Weight                 15915 non-null  float64\n",
      " 19  Drive chain            15915 non-null  object \n",
      " 20  Fuel                   15915 non-null  object \n",
      " 21  CO2 Emission           15915 non-null  float64\n",
      " 22  Emission Class         15915 non-null  object \n",
      " 23  Gears                  15915 non-null  float64\n",
      " 24  Upholstery_Texture     15915 non-null  object \n",
      " 25  Consumption_combined   15915 non-null  float64\n",
      " 26  Extras                 15915 non-null  float64\n",
      " 27  Safety & Security      15915 non-null  float64\n",
      " 28  Entertainment & Media  15915 non-null  float64\n",
      " 29  Comfort & Convenience  15915 non-null  float64\n",
      "dtypes: float64(18), object(12)\n",
      "memory usage: 3.6+ MB\n"
     ]
    }
   ],
   "source": [
    "df.info()"
   ]
  },
  {
   "cell_type": "code",
   "execution_count": 6,
   "id": "289b2345",
   "metadata": {},
   "outputs": [
    {
     "name": "stdout",
     "output_type": "stream",
     "text": [
      "<class 'pandas.core.frame.DataFrame'>\n",
      "RangeIndex: 15915 entries, 0 to 15914\n",
      "Data columns (total 84 columns):\n",
      " #   Column                           Non-Null Count  Dtype  \n",
      "---  ------                           --------------  -----  \n",
      " 0   price                            15915 non-null  float64\n",
      " 1   km                               15915 non-null  float64\n",
      " 2   registration                     15915 non-null  float64\n",
      " 3   prev_owner                       15915 non-null  float64\n",
      " 4   hp                               15915 non-null  float64\n",
      " 5   Warranty(months)                 15915 non-null  float64\n",
      " 6   Nr. of Doors                     15915 non-null  float64\n",
      " 7   Nr. of Seats                     15915 non-null  float64\n",
      " 8   Displacement                     15915 non-null  float64\n",
      " 9   Cylinders                        15915 non-null  float64\n",
      " 10  Weight                           15915 non-null  float64\n",
      " 11  CO2 Emission                     15915 non-null  float64\n",
      " 12  Gears                            15915 non-null  float64\n",
      " 13  Consumption_combined             15915 non-null  float64\n",
      " 14  Extras                           15915 non-null  float64\n",
      " 15  Safety & Security                15915 non-null  float64\n",
      " 16  Entertainment & Media            15915 non-null  float64\n",
      " 17  Comfort & Convenience            15915 non-null  float64\n",
      " 18  make_model_Audi A1               15915 non-null  uint8  \n",
      " 19  make_model_Audi A2               15915 non-null  uint8  \n",
      " 20  make_model_Audi A3               15915 non-null  uint8  \n",
      " 21  make_model_Opel Astra            15915 non-null  uint8  \n",
      " 22  make_model_Opel Corsa            15915 non-null  uint8  \n",
      " 23  make_model_Opel Insignia         15915 non-null  uint8  \n",
      " 24  make_model_Renault Clio          15915 non-null  uint8  \n",
      " 25  make_model_Renault Duster        15915 non-null  uint8  \n",
      " 26  make_model_Renault Espace        15915 non-null  uint8  \n",
      " 27  vat_Price negotiable             15915 non-null  uint8  \n",
      " 28  vat_VAT deductible               15915 non-null  uint8  \n",
      " 29  vat_VAT non-deductible           15915 non-null  uint8  \n",
      " 30  Type_Demonstration               15915 non-null  uint8  \n",
      " 31  Type_Employee's car              15915 non-null  uint8  \n",
      " 32  Type_New                         15915 non-null  uint8  \n",
      " 33  Type_Pre-registered              15915 non-null  uint8  \n",
      " 34  Type_Used                        15915 non-null  uint8  \n",
      " 35  Inspection new_Yes               15915 non-null  uint8  \n",
      " 36  Inspection new_unknown           15915 non-null  uint8  \n",
      " 37  Body Color_Beige                 15915 non-null  uint8  \n",
      " 38  Body Color_Black                 15915 non-null  uint8  \n",
      " 39  Body Color_Blue                  15915 non-null  uint8  \n",
      " 40  Body Color_Bronze                15915 non-null  uint8  \n",
      " 41  Body Color_Brown                 15915 non-null  uint8  \n",
      " 42  Body Color_Green                 15915 non-null  uint8  \n",
      " 43  Body Color_Grey                  15915 non-null  uint8  \n",
      " 44  Body Color_Orange                15915 non-null  uint8  \n",
      " 45  Body Color_Red                   15915 non-null  uint8  \n",
      " 46  Body Color_Silver                15915 non-null  uint8  \n",
      " 47  Body Color_Violet                15915 non-null  uint8  \n",
      " 48  Body Color_White                 15915 non-null  uint8  \n",
      " 49  Body Color_Yellow                15915 non-null  uint8  \n",
      " 50  Paint Type_Metallic              15915 non-null  uint8  \n",
      " 51  Paint Type_Perl effect           15915 non-null  uint8  \n",
      " 52  Paint Type_Uni/basic             15915 non-null  uint8  \n",
      " 53  Paint Type_unknown               15915 non-null  uint8  \n",
      " 54  Body_Compact                     15915 non-null  uint8  \n",
      " 55  Body_Convertible                 15915 non-null  uint8  \n",
      " 56  Body_Coupe                       15915 non-null  uint8  \n",
      " 57  Body_Off-Road                    15915 non-null  uint8  \n",
      " 58  Body_Other                       15915 non-null  uint8  \n",
      " 59  Body_Sedans                      15915 non-null  uint8  \n",
      " 60  Body_Station wagon               15915 non-null  uint8  \n",
      " 61  Body_Transporter                 15915 non-null  uint8  \n",
      " 62  Body_Van                         15915 non-null  uint8  \n",
      " 63  Gearing Type_Automatic           15915 non-null  uint8  \n",
      " 64  Gearing Type_Manual              15915 non-null  uint8  \n",
      " 65  Gearing Type_Semi-automatic      15915 non-null  uint8  \n",
      " 66  Drive chain_4WD                  15915 non-null  uint8  \n",
      " 67  Drive chain_front                15915 non-null  uint8  \n",
      " 68  Drive chain_rear                 15915 non-null  uint8  \n",
      " 69  Fuel_Benzine                     15915 non-null  uint8  \n",
      " 70  Fuel_Diesel                      15915 non-null  uint8  \n",
      " 71  Fuel_Gas                         15915 non-null  uint8  \n",
      " 72  Fuel_Others                      15915 non-null  uint8  \n",
      " 73  Emission Class_Euro 4            15915 non-null  uint8  \n",
      " 74  Emission Class_Euro 5            15915 non-null  uint8  \n",
      " 75  Emission Class_Euro 6            15915 non-null  uint8  \n",
      " 76  Emission Class_unknown           15915 non-null  uint8  \n",
      " 77  Upholstery_Texture_Cloth         15915 non-null  uint8  \n",
      " 78  Upholstery_Texture_Full leather  15915 non-null  uint8  \n",
      " 79  Upholstery_Texture_Other         15915 non-null  uint8  \n",
      " 80  Upholstery_Texture_Part leather  15915 non-null  uint8  \n",
      " 81  Upholstery_Texture_Velour        15915 non-null  uint8  \n",
      " 82  Upholstery_Texture_alcantara     15915 non-null  uint8  \n",
      " 83  Upholstery_Texture_unknown       15915 non-null  uint8  \n",
      "dtypes: float64(18), uint8(66)\n",
      "memory usage: 3.2 MB\n"
     ]
    }
   ],
   "source": [
    "df_dummied.info()"
   ]
  },
  {
   "cell_type": "code",
   "execution_count": 7,
   "id": "9d5ce0b1",
   "metadata": {},
   "outputs": [],
   "source": [
    "df_dummied.to_csv('auto_scout_last.csv', index=False)"
   ]
  },
  {
   "cell_type": "code",
   "execution_count": null,
   "id": "976c24bc",
   "metadata": {},
   "outputs": [],
   "source": []
  }
 ],
 "metadata": {
  "kernelspec": {
   "display_name": "Python 3",
   "language": "python",
   "name": "python3"
  },
  "language_info": {
   "codemirror_mode": {
    "name": "ipython",
    "version": 3
   },
   "file_extension": ".py",
   "mimetype": "text/x-python",
   "name": "python",
   "nbconvert_exporter": "python",
   "pygments_lexer": "ipython3",
   "version": "3.8.8"
  }
 },
 "nbformat": 4,
 "nbformat_minor": 5
}
