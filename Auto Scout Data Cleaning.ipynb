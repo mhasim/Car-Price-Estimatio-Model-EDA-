{
 "cells": [
  {
   "cell_type": "markdown",
   "id": "7ee2f813",
   "metadata": {},
   "source": [
    "# CAR PRICE ESTIMATION MODEL PROJECT (EDA - DATA CLEANING)"
   ]
  },
  {
   "cell_type": "markdown",
   "id": "f4d0fcad",
   "metadata": {},
   "source": [
    "## 1 - INTRODUCTION"
   ]
  },
  {
   "cell_type": "markdown",
   "id": "b1b3dcd0",
   "metadata": {},
   "source": [
    "Welcome to \"AutoScout Data Analysis Project\". This is the capstone project of Data Analysis Module. Auto Scout data which using for this project, scraped from the on-line car trading company in 2019, contains many features of 9 different car models. In this project, you will have the opportunity to apply many commonly used algorithms for Data Cleaning and Exploratory Data Analysis by using many Python libraries such as Numpy, Pandas, Matplotlib, Seaborn, Scipy you will analyze clean dataset.\n",
    "The project consists of 3 parts:\n",
    "- First part is related with 'data cleaning'. It deals with Incorrect Headers, Incorrect Format, Anomalies, Dropping useless columns.\n",
    "- Second part is related with 'filling data'. It deals with Missing Values. Categorical to numeric transformation is done.\n",
    "- Third part is related with 'handling outliers of data' via Visualisation libraries. Some insights are extracted."
   ]
  },
  {
   "cell_type": "markdown",
   "id": "1fcc8d6a",
   "metadata": {},
   "source": [
    "## 2- IMPORTING THE LIBRARIES"
   ]
  },
  {
   "cell_type": "code",
   "execution_count": 1,
   "id": "d603c024",
   "metadata": {},
   "outputs": [],
   "source": [
    "import matplotlib.pyplot as plt\n",
    "%matplotlib inline\n",
    "import numpy as np\n",
    "import pandas as pd\n",
    "import seaborn as sns\n",
    "import warnings;\n",
    "warnings.filterwarnings(\"ignore\")\n",
    "import re\n",
    "pd.set_option(\"display.max_columns\",None)"
   ]
  },
  {
   "cell_type": "markdown",
   "id": "60d82fd4",
   "metadata": {},
   "source": [
    "## 3 - IMPORT THE DATASET"
   ]
  },
  {
   "cell_type": "code",
   "execution_count": 2,
   "id": "a6c00a62",
   "metadata": {},
   "outputs": [],
   "source": [
    "df1 = pd.read_json('scout_car.json', lines=True)"
   ]
  },
  {
   "cell_type": "code",
   "execution_count": 3,
   "id": "52347fdf",
   "metadata": {},
   "outputs": [],
   "source": [
    "df = df1.copy()"
   ]
  },
  {
   "cell_type": "code",
   "execution_count": 4,
   "id": "e1cc35a2",
   "metadata": {},
   "outputs": [
    {
     "data": {
      "text/html": [
       "<div>\n",
       "<style scoped>\n",
       "    .dataframe tbody tr th:only-of-type {\n",
       "        vertical-align: middle;\n",
       "    }\n",
       "\n",
       "    .dataframe tbody tr th {\n",
       "        vertical-align: top;\n",
       "    }\n",
       "\n",
       "    .dataframe thead th {\n",
       "        text-align: right;\n",
       "    }\n",
       "</style>\n",
       "<table border=\"1\" class=\"dataframe\">\n",
       "  <thead>\n",
       "    <tr style=\"text-align: right;\">\n",
       "      <th></th>\n",
       "      <th>0</th>\n",
       "      <th>1</th>\n",
       "      <th>2</th>\n",
       "      <th>3</th>\n",
       "      <th>4</th>\n",
       "    </tr>\n",
       "  </thead>\n",
       "  <tbody>\n",
       "    <tr>\n",
       "      <th>url</th>\n",
       "      <td>https://www.autoscout24.com//offers/audi-a1-sp...</td>\n",
       "      <td>https://www.autoscout24.com//offers/audi-a1-1-...</td>\n",
       "      <td>https://www.autoscout24.com//offers/audi-a1-sp...</td>\n",
       "      <td>https://www.autoscout24.com//offers/audi-a1-1-...</td>\n",
       "      <td>https://www.autoscout24.com//offers/audi-a1-sp...</td>\n",
       "    </tr>\n",
       "    <tr>\n",
       "      <th>make_model</th>\n",
       "      <td>Audi A1</td>\n",
       "      <td>Audi A1</td>\n",
       "      <td>Audi A1</td>\n",
       "      <td>Audi A1</td>\n",
       "      <td>Audi A1</td>\n",
       "    </tr>\n",
       "    <tr>\n",
       "      <th>short_description</th>\n",
       "      <td>Sportback 1.4 TDI S-tronic Xenon Navi Klima</td>\n",
       "      <td>1.8 TFSI sport</td>\n",
       "      <td>Sportback 1.6 TDI S tronic Einparkhilfe plus+m...</td>\n",
       "      <td>1.4 TDi Design S tronic</td>\n",
       "      <td>Sportback 1.4 TDI S-Tronic S-Line Ext. admired...</td>\n",
       "    </tr>\n",
       "    <tr>\n",
       "      <th>body_type</th>\n",
       "      <td>Sedans</td>\n",
       "      <td>Sedans</td>\n",
       "      <td>Sedans</td>\n",
       "      <td>Sedans</td>\n",
       "      <td>Sedans</td>\n",
       "    </tr>\n",
       "    <tr>\n",
       "      <th>price</th>\n",
       "      <td>15770</td>\n",
       "      <td>14500</td>\n",
       "      <td>14640</td>\n",
       "      <td>14500</td>\n",
       "      <td>16790</td>\n",
       "    </tr>\n",
       "    <tr>\n",
       "      <th>vat</th>\n",
       "      <td>VAT deductible</td>\n",
       "      <td>Price negotiable</td>\n",
       "      <td>VAT deductible</td>\n",
       "      <td>None</td>\n",
       "      <td>None</td>\n",
       "    </tr>\n",
       "    <tr>\n",
       "      <th>km</th>\n",
       "      <td>56,013 km</td>\n",
       "      <td>80,000 km</td>\n",
       "      <td>83,450 km</td>\n",
       "      <td>73,000 km</td>\n",
       "      <td>16,200 km</td>\n",
       "    </tr>\n",
       "    <tr>\n",
       "      <th>registration</th>\n",
       "      <td>01/2016</td>\n",
       "      <td>03/2017</td>\n",
       "      <td>02/2016</td>\n",
       "      <td>08/2016</td>\n",
       "      <td>05/2016</td>\n",
       "    </tr>\n",
       "    <tr>\n",
       "      <th>prev_owner</th>\n",
       "      <td>2 previous owners</td>\n",
       "      <td>None</td>\n",
       "      <td>1 previous owner</td>\n",
       "      <td>1 previous owner</td>\n",
       "      <td>1 previous owner</td>\n",
       "    </tr>\n",
       "    <tr>\n",
       "      <th>kW</th>\n",
       "      <td>NaN</td>\n",
       "      <td>NaN</td>\n",
       "      <td>NaN</td>\n",
       "      <td>NaN</td>\n",
       "      <td>NaN</td>\n",
       "    </tr>\n",
       "    <tr>\n",
       "      <th>hp</th>\n",
       "      <td>66 kW</td>\n",
       "      <td>141 kW</td>\n",
       "      <td>85 kW</td>\n",
       "      <td>66 kW</td>\n",
       "      <td>66 kW</td>\n",
       "    </tr>\n",
       "    <tr>\n",
       "      <th>Type</th>\n",
       "      <td>[, Used, , Diesel (Particulate Filter)]</td>\n",
       "      <td>[, Used, , Gasoline]</td>\n",
       "      <td>[, Used, , Diesel (Particulate Filter)]</td>\n",
       "      <td>[, Used, , Diesel (Particulate Filter)]</td>\n",
       "      <td>[, Used, , Diesel (Particulate Filter)]</td>\n",
       "    </tr>\n",
       "    <tr>\n",
       "      <th>Previous Owners</th>\n",
       "      <td>\\n2\\n</td>\n",
       "      <td>NaN</td>\n",
       "      <td>\\n1\\n</td>\n",
       "      <td>\\n1\\n</td>\n",
       "      <td>\\n1\\n</td>\n",
       "    </tr>\n",
       "    <tr>\n",
       "      <th>Next Inspection</th>\n",
       "      <td>[\\n06/2021\\n, \\n99 g CO2/km (comb)\\n]</td>\n",
       "      <td>NaN</td>\n",
       "      <td>NaN</td>\n",
       "      <td>NaN</td>\n",
       "      <td>NaN</td>\n",
       "    </tr>\n",
       "    <tr>\n",
       "      <th>Inspection new</th>\n",
       "      <td>[\\nYes\\n, \\nEuro 6\\n]</td>\n",
       "      <td>NaN</td>\n",
       "      <td>NaN</td>\n",
       "      <td>NaN</td>\n",
       "      <td>[\\nYes\\n, \\n109 g CO2/km (comb)\\n]</td>\n",
       "    </tr>\n",
       "    <tr>\n",
       "      <th>Warranty</th>\n",
       "      <td>[\\n, \\n, \\n4 (Green)\\n]</td>\n",
       "      <td>NaN</td>\n",
       "      <td>[\\n, \\n, \\n99 g CO2/km (comb)\\n]</td>\n",
       "      <td>NaN</td>\n",
       "      <td>[\\n, \\n, \\nEuro 6\\n]</td>\n",
       "    </tr>\n",
       "    <tr>\n",
       "      <th>Full Service</th>\n",
       "      <td>[\\n, \\n]</td>\n",
       "      <td>NaN</td>\n",
       "      <td>NaN</td>\n",
       "      <td>[\\n, \\n, \\n99 g CO2/km (comb)\\n]</td>\n",
       "      <td>[\\n, \\n, \\n4 (Green)\\n]</td>\n",
       "    </tr>\n",
       "    <tr>\n",
       "      <th>Non-smoking Vehicle</th>\n",
       "      <td>[\\n, \\n]</td>\n",
       "      <td>NaN</td>\n",
       "      <td>NaN</td>\n",
       "      <td>[\\n, \\n, \\nEuro 6\\n]</td>\n",
       "      <td>[\\n, \\n]</td>\n",
       "    </tr>\n",
       "    <tr>\n",
       "      <th>null</th>\n",
       "      <td>[]</td>\n",
       "      <td>[]</td>\n",
       "      <td>[]</td>\n",
       "      <td>[]</td>\n",
       "      <td>[]</td>\n",
       "    </tr>\n",
       "    <tr>\n",
       "      <th>Make</th>\n",
       "      <td>\\nAudi\\n</td>\n",
       "      <td>\\nAudi\\n</td>\n",
       "      <td>\\nAudi\\n</td>\n",
       "      <td>\\nAudi\\n</td>\n",
       "      <td>\\nAudi\\n</td>\n",
       "    </tr>\n",
       "    <tr>\n",
       "      <th>Model</th>\n",
       "      <td>[\\n, A1, \\n]</td>\n",
       "      <td>[\\n, A1, \\n]</td>\n",
       "      <td>[\\n, A1, \\n]</td>\n",
       "      <td>[\\n, A1, \\n]</td>\n",
       "      <td>[\\n, A1, \\n]</td>\n",
       "    </tr>\n",
       "    <tr>\n",
       "      <th>Offer Number</th>\n",
       "      <td>[\\nLR-062483\\n]</td>\n",
       "      <td>NaN</td>\n",
       "      <td>[\\nAM-95365\\n]</td>\n",
       "      <td>NaN</td>\n",
       "      <td>[\\nC1626\\n]</td>\n",
       "    </tr>\n",
       "    <tr>\n",
       "      <th>First Registration</th>\n",
       "      <td>[\\n, 2016, \\n]</td>\n",
       "      <td>[\\n, 2017, \\n]</td>\n",
       "      <td>[\\n, 2016, \\n]</td>\n",
       "      <td>[\\n, 2016, \\n]</td>\n",
       "      <td>[\\n, 2016, \\n]</td>\n",
       "    </tr>\n",
       "    <tr>\n",
       "      <th>Body Color</th>\n",
       "      <td>[\\n, Black, \\n]</td>\n",
       "      <td>[\\n, Red, \\n]</td>\n",
       "      <td>[\\n, Black, \\n]</td>\n",
       "      <td>[\\n, Brown, \\n]</td>\n",
       "      <td>[\\n, Black, \\n]</td>\n",
       "    </tr>\n",
       "    <tr>\n",
       "      <th>Paint Type</th>\n",
       "      <td>[\\nMetallic\\n]</td>\n",
       "      <td>NaN</td>\n",
       "      <td>[\\nMetallic\\n]</td>\n",
       "      <td>[\\nMetallic\\n]</td>\n",
       "      <td>[\\nMetallic\\n]</td>\n",
       "    </tr>\n",
       "    <tr>\n",
       "      <th>Body Color Original</th>\n",
       "      <td>[\\nMythosschwarz\\n]</td>\n",
       "      <td>NaN</td>\n",
       "      <td>[\\nmythosschwarz metallic\\n]</td>\n",
       "      <td>NaN</td>\n",
       "      <td>[\\nMythosschwarz Metallic\\n]</td>\n",
       "    </tr>\n",
       "    <tr>\n",
       "      <th>Upholstery</th>\n",
       "      <td>[\\nCloth, Black\\n]</td>\n",
       "      <td>[\\nCloth, Grey\\n]</td>\n",
       "      <td>[\\nCloth, Black\\n]</td>\n",
       "      <td>NaN</td>\n",
       "      <td>[\\nCloth, Black\\n]</td>\n",
       "    </tr>\n",
       "    <tr>\n",
       "      <th>Body</th>\n",
       "      <td>[\\n, Sedans, \\n]</td>\n",
       "      <td>[\\n, Sedans, \\n]</td>\n",
       "      <td>[\\n, Sedans, \\n]</td>\n",
       "      <td>[\\n, Sedans, \\n]</td>\n",
       "      <td>[\\n, Sedans, \\n]</td>\n",
       "    </tr>\n",
       "    <tr>\n",
       "      <th>Nr. of Doors</th>\n",
       "      <td>[\\n5\\n]</td>\n",
       "      <td>[\\n3\\n]</td>\n",
       "      <td>[\\n4\\n]</td>\n",
       "      <td>[\\n3\\n]</td>\n",
       "      <td>[\\n5\\n]</td>\n",
       "    </tr>\n",
       "    <tr>\n",
       "      <th>Nr. of Seats</th>\n",
       "      <td>[\\n5\\n]</td>\n",
       "      <td>[\\n4\\n]</td>\n",
       "      <td>[\\n4\\n]</td>\n",
       "      <td>[\\n4\\n]</td>\n",
       "      <td>[\\n5\\n]</td>\n",
       "    </tr>\n",
       "    <tr>\n",
       "      <th>Model Code</th>\n",
       "      <td>[\\n0588/BDF\\n]</td>\n",
       "      <td>[\\n0588/BCY\\n]</td>\n",
       "      <td>NaN</td>\n",
       "      <td>NaN</td>\n",
       "      <td>[\\n0588/BDF\\n]</td>\n",
       "    </tr>\n",
       "    <tr>\n",
       "      <th>Gearing Type</th>\n",
       "      <td>[\\n, Automatic, \\n]</td>\n",
       "      <td>[\\n, Automatic, \\n]</td>\n",
       "      <td>[\\n, Automatic, \\n]</td>\n",
       "      <td>[\\n, Automatic, \\n]</td>\n",
       "      <td>[\\n, Automatic, \\n]</td>\n",
       "    </tr>\n",
       "    <tr>\n",
       "      <th>Displacement</th>\n",
       "      <td>[\\n1,422 cc\\n]</td>\n",
       "      <td>[\\n1,798 cc\\n]</td>\n",
       "      <td>[\\n1,598 cc\\n]</td>\n",
       "      <td>[\\n1,422 cc\\n]</td>\n",
       "      <td>[\\n1,422 cc\\n]</td>\n",
       "    </tr>\n",
       "    <tr>\n",
       "      <th>Cylinders</th>\n",
       "      <td>[\\n3\\n]</td>\n",
       "      <td>[\\n4\\n]</td>\n",
       "      <td>NaN</td>\n",
       "      <td>[\\n3\\n]</td>\n",
       "      <td>[\\n3\\n]</td>\n",
       "    </tr>\n",
       "    <tr>\n",
       "      <th>Weight</th>\n",
       "      <td>[\\n1,220 kg\\n]</td>\n",
       "      <td>[\\n1,255 kg\\n]</td>\n",
       "      <td>NaN</td>\n",
       "      <td>[\\n1,195 kg\\n]</td>\n",
       "      <td>NaN</td>\n",
       "    </tr>\n",
       "    <tr>\n",
       "      <th>Drive chain</th>\n",
       "      <td>[\\nfront\\n]</td>\n",
       "      <td>[\\nfront\\n]</td>\n",
       "      <td>[\\nfront\\n]</td>\n",
       "      <td>NaN</td>\n",
       "      <td>[\\nfront\\n]</td>\n",
       "    </tr>\n",
       "    <tr>\n",
       "      <th>Fuel</th>\n",
       "      <td>[\\n, Diesel (Particulate Filter), \\n]</td>\n",
       "      <td>[\\n, Gasoline, \\n]</td>\n",
       "      <td>[\\n, Diesel (Particulate Filter), \\n]</td>\n",
       "      <td>[\\n, Diesel (Particulate Filter), \\n]</td>\n",
       "      <td>[\\n, Diesel (Particulate Filter), \\n]</td>\n",
       "    </tr>\n",
       "    <tr>\n",
       "      <th>Consumption</th>\n",
       "      <td>[[3.8 l/100 km (comb)], [4.3 l/100 km (city)],...</td>\n",
       "      <td>[[5.6 l/100 km (comb)], [7.1 l/100 km (city)],...</td>\n",
       "      <td>[[3.8 l/100 km (comb)], [4.4 l/100 km (city)],...</td>\n",
       "      <td>[[3.8 l/100 km (comb)], [4.3 l/100 km (city)],...</td>\n",
       "      <td>[[4.1 l/100 km (comb)], [4.6 l/100 km (city)],...</td>\n",
       "    </tr>\n",
       "    <tr>\n",
       "      <th>CO2 Emission</th>\n",
       "      <td>[\\n99 g CO2/km (comb)\\n]</td>\n",
       "      <td>[\\n129 g CO2/km (comb)\\n]</td>\n",
       "      <td>[\\n99 g CO2/km (comb)\\n]</td>\n",
       "      <td>[\\n99 g CO2/km (comb)\\n]</td>\n",
       "      <td>[\\n109 g CO2/km (comb)\\n]</td>\n",
       "    </tr>\n",
       "    <tr>\n",
       "      <th>Emission Class</th>\n",
       "      <td>[\\nEuro 6\\n]</td>\n",
       "      <td>[\\nEuro 6\\n]</td>\n",
       "      <td>[\\nEuro 6\\n]</td>\n",
       "      <td>[\\nEuro 6\\n]</td>\n",
       "      <td>[\\nEuro 6\\n]</td>\n",
       "    </tr>\n",
       "    <tr>\n",
       "      <th>\\nComfort &amp; Convenience\\n</th>\n",
       "      <td>[Air conditioning, Armrest, Automatic climate ...</td>\n",
       "      <td>[Air conditioning, Automatic climate control, ...</td>\n",
       "      <td>[Air conditioning, Cruise control, Electrical ...</td>\n",
       "      <td>[Air suspension, Armrest, Auxiliary heating, E...</td>\n",
       "      <td>[Air conditioning, Armrest, Automatic climate ...</td>\n",
       "    </tr>\n",
       "    <tr>\n",
       "      <th>\\nEntertainment &amp; Media\\n</th>\n",
       "      <td>[Bluetooth, Hands-free equipment, On-board com...</td>\n",
       "      <td>[Bluetooth, Hands-free equipment, On-board com...</td>\n",
       "      <td>[MP3, On-board computer]</td>\n",
       "      <td>[Bluetooth, CD player, Hands-free equipment, M...</td>\n",
       "      <td>[Bluetooth, CD player, Hands-free equipment, M...</td>\n",
       "    </tr>\n",
       "    <tr>\n",
       "      <th>\\nExtras\\n</th>\n",
       "      <td>[Alloy wheels, Catalytic Converter, Voice Cont...</td>\n",
       "      <td>[Alloy wheels, Sport seats, Sport suspension, ...</td>\n",
       "      <td>[Alloy wheels, Voice Control]</td>\n",
       "      <td>[Alloy wheels, Sport seats, Voice Control]</td>\n",
       "      <td>[Alloy wheels, Sport package, Sport suspension...</td>\n",
       "    </tr>\n",
       "    <tr>\n",
       "      <th>\\nSafety &amp; Security\\n</th>\n",
       "      <td>[ABS, Central door lock, Daytime running light...</td>\n",
       "      <td>[ABS, Central door lock, Central door lock wit...</td>\n",
       "      <td>[ABS, Central door lock, Daytime running light...</td>\n",
       "      <td>[ABS, Alarm system, Central door lock with rem...</td>\n",
       "      <td>[ABS, Central door lock, Driver-side airbag, E...</td>\n",
       "    </tr>\n",
       "    <tr>\n",
       "      <th>description</th>\n",
       "      <td>[\\n, Sicherheit:,  , Deaktivierung für Beifahr...</td>\n",
       "      <td>[\\nLangstreckenfahrzeug daher die hohe Kilomet...</td>\n",
       "      <td>[\\n, Fahrzeug-Nummer: AM-95365,  , Ehem. UPE 2...</td>\n",
       "      <td>[\\nAudi A1: , - 1e eigenaar , - Perfecte staat...</td>\n",
       "      <td>[\\n, Technik &amp; Sicherheit:, Xenon plus, Klimaa...</td>\n",
       "    </tr>\n",
       "    <tr>\n",
       "      <th>Emission Label</th>\n",
       "      <td>NaN</td>\n",
       "      <td>[\\n4 (Green)\\n]</td>\n",
       "      <td>[\\n4 (Green)\\n]</td>\n",
       "      <td>NaN</td>\n",
       "      <td>NaN</td>\n",
       "    </tr>\n",
       "    <tr>\n",
       "      <th>Gears</th>\n",
       "      <td>NaN</td>\n",
       "      <td>[\\n7\\n]</td>\n",
       "      <td>NaN</td>\n",
       "      <td>[\\n6\\n]</td>\n",
       "      <td>NaN</td>\n",
       "    </tr>\n",
       "    <tr>\n",
       "      <th>Country version</th>\n",
       "      <td>NaN</td>\n",
       "      <td>NaN</td>\n",
       "      <td>NaN</td>\n",
       "      <td>NaN</td>\n",
       "      <td>[\\nGermany\\n]</td>\n",
       "    </tr>\n",
       "    <tr>\n",
       "      <th>Electricity consumption</th>\n",
       "      <td>NaN</td>\n",
       "      <td>NaN</td>\n",
       "      <td>NaN</td>\n",
       "      <td>NaN</td>\n",
       "      <td>NaN</td>\n",
       "    </tr>\n",
       "    <tr>\n",
       "      <th>Last Service Date</th>\n",
       "      <td>NaN</td>\n",
       "      <td>NaN</td>\n",
       "      <td>NaN</td>\n",
       "      <td>NaN</td>\n",
       "      <td>NaN</td>\n",
       "    </tr>\n",
       "    <tr>\n",
       "      <th>Other Fuel Types</th>\n",
       "      <td>NaN</td>\n",
       "      <td>NaN</td>\n",
       "      <td>NaN</td>\n",
       "      <td>NaN</td>\n",
       "      <td>NaN</td>\n",
       "    </tr>\n",
       "    <tr>\n",
       "      <th>Availability</th>\n",
       "      <td>NaN</td>\n",
       "      <td>NaN</td>\n",
       "      <td>NaN</td>\n",
       "      <td>NaN</td>\n",
       "      <td>NaN</td>\n",
       "    </tr>\n",
       "    <tr>\n",
       "      <th>Last Timing Belt Service Date</th>\n",
       "      <td>NaN</td>\n",
       "      <td>NaN</td>\n",
       "      <td>NaN</td>\n",
       "      <td>NaN</td>\n",
       "      <td>NaN</td>\n",
       "    </tr>\n",
       "    <tr>\n",
       "      <th>Available from</th>\n",
       "      <td>NaN</td>\n",
       "      <td>NaN</td>\n",
       "      <td>NaN</td>\n",
       "      <td>NaN</td>\n",
       "      <td>NaN</td>\n",
       "    </tr>\n",
       "  </tbody>\n",
       "</table>\n",
       "</div>"
      ],
      "text/plain": [
       "                                                                               0  \\\n",
       "url                            https://www.autoscout24.com//offers/audi-a1-sp...   \n",
       "make_model                                                               Audi A1   \n",
       "short_description                    Sportback 1.4 TDI S-tronic Xenon Navi Klima   \n",
       "body_type                                                                 Sedans   \n",
       "price                                                                      15770   \n",
       "vat                                                               VAT deductible   \n",
       "km                                                                     56,013 km   \n",
       "registration                                                             01/2016   \n",
       "prev_owner                                                     2 previous owners   \n",
       "kW                                                                           NaN   \n",
       "hp                                                                         66 kW   \n",
       "Type                                     [, Used, , Diesel (Particulate Filter)]   \n",
       "Previous Owners                                                            \\n2\\n   \n",
       "Next Inspection                            [\\n06/2021\\n, \\n99 g CO2/km (comb)\\n]   \n",
       "Inspection new                                             [\\nYes\\n, \\nEuro 6\\n]   \n",
       "Warranty                                                 [\\n, \\n, \\n4 (Green)\\n]   \n",
       "Full Service                                                            [\\n, \\n]   \n",
       "Non-smoking Vehicle                                                     [\\n, \\n]   \n",
       "null                                                                          []   \n",
       "Make                                                                    \\nAudi\\n   \n",
       "Model                                                               [\\n, A1, \\n]   \n",
       "Offer Number                                                     [\\nLR-062483\\n]   \n",
       "First Registration                                                [\\n, 2016, \\n]   \n",
       "Body Color                                                       [\\n, Black, \\n]   \n",
       "Paint Type                                                        [\\nMetallic\\n]   \n",
       "Body Color Original                                          [\\nMythosschwarz\\n]   \n",
       "Upholstery                                                    [\\nCloth, Black\\n]   \n",
       "Body                                                            [\\n, Sedans, \\n]   \n",
       "Nr. of Doors                                                             [\\n5\\n]   \n",
       "Nr. of Seats                                                             [\\n5\\n]   \n",
       "Model Code                                                        [\\n0588/BDF\\n]   \n",
       "Gearing Type                                                 [\\n, Automatic, \\n]   \n",
       "Displacement                                                      [\\n1,422 cc\\n]   \n",
       "Cylinders                                                                [\\n3\\n]   \n",
       "Weight                                                            [\\n1,220 kg\\n]   \n",
       "Drive chain                                                          [\\nfront\\n]   \n",
       "Fuel                                       [\\n, Diesel (Particulate Filter), \\n]   \n",
       "Consumption                    [[3.8 l/100 km (comb)], [4.3 l/100 km (city)],...   \n",
       "CO2 Emission                                            [\\n99 g CO2/km (comb)\\n]   \n",
       "Emission Class                                                      [\\nEuro 6\\n]   \n",
       "\\nComfort & Convenience\\n      [Air conditioning, Armrest, Automatic climate ...   \n",
       "\\nEntertainment & Media\\n      [Bluetooth, Hands-free equipment, On-board com...   \n",
       "\\nExtras\\n                     [Alloy wheels, Catalytic Converter, Voice Cont...   \n",
       "\\nSafety & Security\\n          [ABS, Central door lock, Daytime running light...   \n",
       "description                    [\\n, Sicherheit:,  , Deaktivierung für Beifahr...   \n",
       "Emission Label                                                               NaN   \n",
       "Gears                                                                        NaN   \n",
       "Country version                                                              NaN   \n",
       "Electricity consumption                                                      NaN   \n",
       "Last Service Date                                                            NaN   \n",
       "Other Fuel Types                                                             NaN   \n",
       "Availability                                                                 NaN   \n",
       "Last Timing Belt Service Date                                                NaN   \n",
       "Available from                                                               NaN   \n",
       "\n",
       "                                                                               1  \\\n",
       "url                            https://www.autoscout24.com//offers/audi-a1-1-...   \n",
       "make_model                                                               Audi A1   \n",
       "short_description                                                 1.8 TFSI sport   \n",
       "body_type                                                                 Sedans   \n",
       "price                                                                      14500   \n",
       "vat                                                             Price negotiable   \n",
       "km                                                                     80,000 km   \n",
       "registration                                                             03/2017   \n",
       "prev_owner                                                                  None   \n",
       "kW                                                                           NaN   \n",
       "hp                                                                        141 kW   \n",
       "Type                                                        [, Used, , Gasoline]   \n",
       "Previous Owners                                                              NaN   \n",
       "Next Inspection                                                              NaN   \n",
       "Inspection new                                                               NaN   \n",
       "Warranty                                                                     NaN   \n",
       "Full Service                                                                 NaN   \n",
       "Non-smoking Vehicle                                                          NaN   \n",
       "null                                                                          []   \n",
       "Make                                                                    \\nAudi\\n   \n",
       "Model                                                               [\\n, A1, \\n]   \n",
       "Offer Number                                                                 NaN   \n",
       "First Registration                                                [\\n, 2017, \\n]   \n",
       "Body Color                                                         [\\n, Red, \\n]   \n",
       "Paint Type                                                                   NaN   \n",
       "Body Color Original                                                          NaN   \n",
       "Upholstery                                                     [\\nCloth, Grey\\n]   \n",
       "Body                                                            [\\n, Sedans, \\n]   \n",
       "Nr. of Doors                                                             [\\n3\\n]   \n",
       "Nr. of Seats                                                             [\\n4\\n]   \n",
       "Model Code                                                        [\\n0588/BCY\\n]   \n",
       "Gearing Type                                                 [\\n, Automatic, \\n]   \n",
       "Displacement                                                      [\\n1,798 cc\\n]   \n",
       "Cylinders                                                                [\\n4\\n]   \n",
       "Weight                                                            [\\n1,255 kg\\n]   \n",
       "Drive chain                                                          [\\nfront\\n]   \n",
       "Fuel                                                          [\\n, Gasoline, \\n]   \n",
       "Consumption                    [[5.6 l/100 km (comb)], [7.1 l/100 km (city)],...   \n",
       "CO2 Emission                                           [\\n129 g CO2/km (comb)\\n]   \n",
       "Emission Class                                                      [\\nEuro 6\\n]   \n",
       "\\nComfort & Convenience\\n      [Air conditioning, Automatic climate control, ...   \n",
       "\\nEntertainment & Media\\n      [Bluetooth, Hands-free equipment, On-board com...   \n",
       "\\nExtras\\n                     [Alloy wheels, Sport seats, Sport suspension, ...   \n",
       "\\nSafety & Security\\n          [ABS, Central door lock, Central door lock wit...   \n",
       "description                    [\\nLangstreckenfahrzeug daher die hohe Kilomet...   \n",
       "Emission Label                                                   [\\n4 (Green)\\n]   \n",
       "Gears                                                                    [\\n7\\n]   \n",
       "Country version                                                              NaN   \n",
       "Electricity consumption                                                      NaN   \n",
       "Last Service Date                                                            NaN   \n",
       "Other Fuel Types                                                             NaN   \n",
       "Availability                                                                 NaN   \n",
       "Last Timing Belt Service Date                                                NaN   \n",
       "Available from                                                               NaN   \n",
       "\n",
       "                                                                               2  \\\n",
       "url                            https://www.autoscout24.com//offers/audi-a1-sp...   \n",
       "make_model                                                               Audi A1   \n",
       "short_description              Sportback 1.6 TDI S tronic Einparkhilfe plus+m...   \n",
       "body_type                                                                 Sedans   \n",
       "price                                                                      14640   \n",
       "vat                                                               VAT deductible   \n",
       "km                                                                     83,450 km   \n",
       "registration                                                             02/2016   \n",
       "prev_owner                                                      1 previous owner   \n",
       "kW                                                                           NaN   \n",
       "hp                                                                         85 kW   \n",
       "Type                                     [, Used, , Diesel (Particulate Filter)]   \n",
       "Previous Owners                                                            \\n1\\n   \n",
       "Next Inspection                                                              NaN   \n",
       "Inspection new                                                               NaN   \n",
       "Warranty                                        [\\n, \\n, \\n99 g CO2/km (comb)\\n]   \n",
       "Full Service                                                                 NaN   \n",
       "Non-smoking Vehicle                                                          NaN   \n",
       "null                                                                          []   \n",
       "Make                                                                    \\nAudi\\n   \n",
       "Model                                                               [\\n, A1, \\n]   \n",
       "Offer Number                                                      [\\nAM-95365\\n]   \n",
       "First Registration                                                [\\n, 2016, \\n]   \n",
       "Body Color                                                       [\\n, Black, \\n]   \n",
       "Paint Type                                                        [\\nMetallic\\n]   \n",
       "Body Color Original                                 [\\nmythosschwarz metallic\\n]   \n",
       "Upholstery                                                    [\\nCloth, Black\\n]   \n",
       "Body                                                            [\\n, Sedans, \\n]   \n",
       "Nr. of Doors                                                             [\\n4\\n]   \n",
       "Nr. of Seats                                                             [\\n4\\n]   \n",
       "Model Code                                                                   NaN   \n",
       "Gearing Type                                                 [\\n, Automatic, \\n]   \n",
       "Displacement                                                      [\\n1,598 cc\\n]   \n",
       "Cylinders                                                                    NaN   \n",
       "Weight                                                                       NaN   \n",
       "Drive chain                                                          [\\nfront\\n]   \n",
       "Fuel                                       [\\n, Diesel (Particulate Filter), \\n]   \n",
       "Consumption                    [[3.8 l/100 km (comb)], [4.4 l/100 km (city)],...   \n",
       "CO2 Emission                                            [\\n99 g CO2/km (comb)\\n]   \n",
       "Emission Class                                                      [\\nEuro 6\\n]   \n",
       "\\nComfort & Convenience\\n      [Air conditioning, Cruise control, Electrical ...   \n",
       "\\nEntertainment & Media\\n                               [MP3, On-board computer]   \n",
       "\\nExtras\\n                                         [Alloy wheels, Voice Control]   \n",
       "\\nSafety & Security\\n          [ABS, Central door lock, Daytime running light...   \n",
       "description                    [\\n, Fahrzeug-Nummer: AM-95365,  , Ehem. UPE 2...   \n",
       "Emission Label                                                   [\\n4 (Green)\\n]   \n",
       "Gears                                                                        NaN   \n",
       "Country version                                                              NaN   \n",
       "Electricity consumption                                                      NaN   \n",
       "Last Service Date                                                            NaN   \n",
       "Other Fuel Types                                                             NaN   \n",
       "Availability                                                                 NaN   \n",
       "Last Timing Belt Service Date                                                NaN   \n",
       "Available from                                                               NaN   \n",
       "\n",
       "                                                                               3  \\\n",
       "url                            https://www.autoscout24.com//offers/audi-a1-1-...   \n",
       "make_model                                                               Audi A1   \n",
       "short_description                                        1.4 TDi Design S tronic   \n",
       "body_type                                                                 Sedans   \n",
       "price                                                                      14500   \n",
       "vat                                                                         None   \n",
       "km                                                                     73,000 km   \n",
       "registration                                                             08/2016   \n",
       "prev_owner                                                      1 previous owner   \n",
       "kW                                                                           NaN   \n",
       "hp                                                                         66 kW   \n",
       "Type                                     [, Used, , Diesel (Particulate Filter)]   \n",
       "Previous Owners                                                            \\n1\\n   \n",
       "Next Inspection                                                              NaN   \n",
       "Inspection new                                                               NaN   \n",
       "Warranty                                                                     NaN   \n",
       "Full Service                                    [\\n, \\n, \\n99 g CO2/km (comb)\\n]   \n",
       "Non-smoking Vehicle                                         [\\n, \\n, \\nEuro 6\\n]   \n",
       "null                                                                          []   \n",
       "Make                                                                    \\nAudi\\n   \n",
       "Model                                                               [\\n, A1, \\n]   \n",
       "Offer Number                                                                 NaN   \n",
       "First Registration                                                [\\n, 2016, \\n]   \n",
       "Body Color                                                       [\\n, Brown, \\n]   \n",
       "Paint Type                                                        [\\nMetallic\\n]   \n",
       "Body Color Original                                                          NaN   \n",
       "Upholstery                                                                   NaN   \n",
       "Body                                                            [\\n, Sedans, \\n]   \n",
       "Nr. of Doors                                                             [\\n3\\n]   \n",
       "Nr. of Seats                                                             [\\n4\\n]   \n",
       "Model Code                                                                   NaN   \n",
       "Gearing Type                                                 [\\n, Automatic, \\n]   \n",
       "Displacement                                                      [\\n1,422 cc\\n]   \n",
       "Cylinders                                                                [\\n3\\n]   \n",
       "Weight                                                            [\\n1,195 kg\\n]   \n",
       "Drive chain                                                                  NaN   \n",
       "Fuel                                       [\\n, Diesel (Particulate Filter), \\n]   \n",
       "Consumption                    [[3.8 l/100 km (comb)], [4.3 l/100 km (city)],...   \n",
       "CO2 Emission                                            [\\n99 g CO2/km (comb)\\n]   \n",
       "Emission Class                                                      [\\nEuro 6\\n]   \n",
       "\\nComfort & Convenience\\n      [Air suspension, Armrest, Auxiliary heating, E...   \n",
       "\\nEntertainment & Media\\n      [Bluetooth, CD player, Hands-free equipment, M...   \n",
       "\\nExtras\\n                            [Alloy wheels, Sport seats, Voice Control]   \n",
       "\\nSafety & Security\\n          [ABS, Alarm system, Central door lock with rem...   \n",
       "description                    [\\nAudi A1: , - 1e eigenaar , - Perfecte staat...   \n",
       "Emission Label                                                               NaN   \n",
       "Gears                                                                    [\\n6\\n]   \n",
       "Country version                                                              NaN   \n",
       "Electricity consumption                                                      NaN   \n",
       "Last Service Date                                                            NaN   \n",
       "Other Fuel Types                                                             NaN   \n",
       "Availability                                                                 NaN   \n",
       "Last Timing Belt Service Date                                                NaN   \n",
       "Available from                                                               NaN   \n",
       "\n",
       "                                                                               4  \n",
       "url                            https://www.autoscout24.com//offers/audi-a1-sp...  \n",
       "make_model                                                               Audi A1  \n",
       "short_description              Sportback 1.4 TDI S-Tronic S-Line Ext. admired...  \n",
       "body_type                                                                 Sedans  \n",
       "price                                                                      16790  \n",
       "vat                                                                         None  \n",
       "km                                                                     16,200 km  \n",
       "registration                                                             05/2016  \n",
       "prev_owner                                                      1 previous owner  \n",
       "kW                                                                           NaN  \n",
       "hp                                                                         66 kW  \n",
       "Type                                     [, Used, , Diesel (Particulate Filter)]  \n",
       "Previous Owners                                                            \\n1\\n  \n",
       "Next Inspection                                                              NaN  \n",
       "Inspection new                                [\\nYes\\n, \\n109 g CO2/km (comb)\\n]  \n",
       "Warranty                                                    [\\n, \\n, \\nEuro 6\\n]  \n",
       "Full Service                                             [\\n, \\n, \\n4 (Green)\\n]  \n",
       "Non-smoking Vehicle                                                     [\\n, \\n]  \n",
       "null                                                                          []  \n",
       "Make                                                                    \\nAudi\\n  \n",
       "Model                                                               [\\n, A1, \\n]  \n",
       "Offer Number                                                         [\\nC1626\\n]  \n",
       "First Registration                                                [\\n, 2016, \\n]  \n",
       "Body Color                                                       [\\n, Black, \\n]  \n",
       "Paint Type                                                        [\\nMetallic\\n]  \n",
       "Body Color Original                                 [\\nMythosschwarz Metallic\\n]  \n",
       "Upholstery                                                    [\\nCloth, Black\\n]  \n",
       "Body                                                            [\\n, Sedans, \\n]  \n",
       "Nr. of Doors                                                             [\\n5\\n]  \n",
       "Nr. of Seats                                                             [\\n5\\n]  \n",
       "Model Code                                                        [\\n0588/BDF\\n]  \n",
       "Gearing Type                                                 [\\n, Automatic, \\n]  \n",
       "Displacement                                                      [\\n1,422 cc\\n]  \n",
       "Cylinders                                                                [\\n3\\n]  \n",
       "Weight                                                                       NaN  \n",
       "Drive chain                                                          [\\nfront\\n]  \n",
       "Fuel                                       [\\n, Diesel (Particulate Filter), \\n]  \n",
       "Consumption                    [[4.1 l/100 km (comb)], [4.6 l/100 km (city)],...  \n",
       "CO2 Emission                                           [\\n109 g CO2/km (comb)\\n]  \n",
       "Emission Class                                                      [\\nEuro 6\\n]  \n",
       "\\nComfort & Convenience\\n      [Air conditioning, Armrest, Automatic climate ...  \n",
       "\\nEntertainment & Media\\n      [Bluetooth, CD player, Hands-free equipment, M...  \n",
       "\\nExtras\\n                     [Alloy wheels, Sport package, Sport suspension...  \n",
       "\\nSafety & Security\\n          [ABS, Central door lock, Driver-side airbag, E...  \n",
       "description                    [\\n, Technik & Sicherheit:, Xenon plus, Klimaa...  \n",
       "Emission Label                                                               NaN  \n",
       "Gears                                                                        NaN  \n",
       "Country version                                                    [\\nGermany\\n]  \n",
       "Electricity consumption                                                      NaN  \n",
       "Last Service Date                                                            NaN  \n",
       "Other Fuel Types                                                             NaN  \n",
       "Availability                                                                 NaN  \n",
       "Last Timing Belt Service Date                                                NaN  \n",
       "Available from                                                               NaN  "
      ]
     },
     "execution_count": 4,
     "metadata": {},
     "output_type": "execute_result"
    }
   ],
   "source": [
    "df.head().T"
   ]
  },
  {
   "cell_type": "code",
   "execution_count": 5,
   "id": "541362e5",
   "metadata": {},
   "outputs": [
    {
     "name": "stdout",
     "output_type": "stream",
     "text": [
      "<class 'pandas.core.frame.DataFrame'>\n",
      "RangeIndex: 15919 entries, 0 to 15918\n",
      "Data columns (total 54 columns):\n",
      " #   Column                         Non-Null Count  Dtype  \n",
      "---  ------                         --------------  -----  \n",
      " 0   url                            15919 non-null  object \n",
      " 1   make_model                     15919 non-null  object \n",
      " 2   short_description              15873 non-null  object \n",
      " 3   body_type                      15859 non-null  object \n",
      " 4   price                          15919 non-null  int64  \n",
      " 5   vat                            11406 non-null  object \n",
      " 6   km                             15919 non-null  object \n",
      " 7   registration                   15919 non-null  object \n",
      " 8   prev_owner                     9091 non-null   object \n",
      " 9   kW                             0 non-null      float64\n",
      " 10  hp                             15919 non-null  object \n",
      " 11  Type                           15917 non-null  object \n",
      " 12  Previous Owners                9279 non-null   object \n",
      " 13  Next Inspection                3535 non-null   object \n",
      " 14  Inspection new                 3932 non-null   object \n",
      " 15  Warranty                       10499 non-null  object \n",
      " 16  Full Service                   8215 non-null   object \n",
      " 17  Non-smoking Vehicle            7177 non-null   object \n",
      " 18  null                           15919 non-null  object \n",
      " 19  Make                           15919 non-null  object \n",
      " 20  Model                          15919 non-null  object \n",
      " 21  Offer Number                   12744 non-null  object \n",
      " 22  First Registration             14322 non-null  object \n",
      " 23  Body Color                     15322 non-null  object \n",
      " 24  Paint Type                     10147 non-null  object \n",
      " 25  Body Color Original            12160 non-null  object \n",
      " 26  Upholstery                     12199 non-null  object \n",
      " 27  Body                           15859 non-null  object \n",
      " 28  Nr. of Doors                   15707 non-null  object \n",
      " 29  Nr. of Seats                   14942 non-null  object \n",
      " 30  Model Code                     4978 non-null   object \n",
      " 31  Gearing Type                   15919 non-null  object \n",
      " 32  Displacement                   15423 non-null  object \n",
      " 33  Cylinders                      10239 non-null  object \n",
      " 34  Weight                         8945 non-null   object \n",
      " 35  Drive chain                    9061 non-null   object \n",
      " 36  Fuel                           15919 non-null  object \n",
      " 37  Consumption                    14013 non-null  object \n",
      " 38  CO2 Emission                   14111 non-null  object \n",
      " 39  Emission Class                 12898 non-null  object \n",
      " 40  \n",
      "Comfort & Convenience\n",
      "        14999 non-null  object \n",
      " 41  \n",
      "Entertainment & Media\n",
      "        14545 non-null  object \n",
      " 42  \n",
      "Extras\n",
      "                       12957 non-null  object \n",
      " 43  \n",
      "Safety & Security\n",
      "            14937 non-null  object \n",
      " 44  description                    15919 non-null  object \n",
      " 45  Emission Label                 3985 non-null   object \n",
      " 46  Gears                          11207 non-null  object \n",
      " 47  Country version                7586 non-null   object \n",
      " 48  Electricity consumption        137 non-null    object \n",
      " 49  Last Service Date              566 non-null    object \n",
      " 50  Other Fuel Types               880 non-null    object \n",
      " 51  Availability                   635 non-null    object \n",
      " 52  Last Timing Belt Service Date  16 non-null     object \n",
      " 53  Available from                 272 non-null    object \n",
      "dtypes: float64(1), int64(1), object(52)\n",
      "memory usage: 6.6+ MB\n"
     ]
    }
   ],
   "source": [
    "df.info()"
   ]
  },
  {
   "cell_type": "markdown",
   "id": "859653aa",
   "metadata": {},
   "source": [
    "## 4 - DATA CLEANING"
   ]
  },
  {
   "cell_type": "markdown",
   "id": "14448cd5",
   "metadata": {},
   "source": [
    "### Column 0: url"
   ]
  },
  {
   "cell_type": "code",
   "execution_count": 6,
   "id": "78ad2cc3",
   "metadata": {},
   "outputs": [],
   "source": [
    "#df.url.value_counts()\n",
    "df.drop(columns = ['url'], inplace = True) #includes links for every index. Not necessary for our analysis"
   ]
  },
  {
   "cell_type": "markdown",
   "id": "85acb50e",
   "metadata": {},
   "source": [
    "### Column 1: make_model"
   ]
  },
  {
   "cell_type": "code",
   "execution_count": 7,
   "id": "6b4cb0d9",
   "metadata": {},
   "outputs": [
    {
     "data": {
      "text/plain": [
       "Audi A3           3097\n",
       "Audi A1           2614\n",
       "Opel Insignia     2598\n",
       "Opel Astra        2526\n",
       "Opel Corsa        2219\n",
       "Renault Clio      1839\n",
       "Renault Espace     991\n",
       "Renault Duster      34\n",
       "Audi A2              1\n",
       "Name: make_model, dtype: int64"
      ]
     },
     "execution_count": 7,
     "metadata": {},
     "output_type": "execute_result"
    }
   ],
   "source": [
    "df[\"make_model\"].value_counts(dropna=False)"
   ]
  },
  {
   "cell_type": "markdown",
   "id": "5f66f6eb",
   "metadata": {},
   "source": [
    "### Column 2: short_description"
   ]
  },
  {
   "cell_type": "code",
   "execution_count": 8,
   "id": "daf58b13",
   "metadata": {},
   "outputs": [
    {
     "data": {
      "text/plain": [
       "SPB 1.6 TDI 116 CV S tronic Sport                     64\n",
       "NaN                                                   46\n",
       "1.4 66kW (90CV) Selective                             40\n",
       "MOVE KLIMA CD USB ALLWETTER BLUETOOTH                 38\n",
       "SPB 30 TFSI S tronic Admired                          35\n",
       "                                                      ..\n",
       "2,0 CDTI Aut 4x4 Innovat Xen Navi Leder                1\n",
       "1,6 D (CDTI) Aut. ST Innov. Navi/SHZ/RFK               1\n",
       "Sportback 1.4 TFSI Bose Panorama                       1\n",
       "120 Jahre 5-Türer 1.4                                  1\n",
       "1.2B Belgium Car - Navi met Touch Screen - All Sea     1\n",
       "Name: short_description, Length: 10002, dtype: int64"
      ]
     },
     "execution_count": 8,
     "metadata": {},
     "output_type": "execute_result"
    }
   ],
   "source": [
    "df.short_description.value_counts(dropna=False)"
   ]
  },
  {
   "cell_type": "code",
   "execution_count": 9,
   "id": "17bbe3aa",
   "metadata": {
    "scrolled": true
   },
   "outputs": [
    {
     "data": {
      "text/plain": [
       "0        1400.0\n",
       "1        1800.0\n",
       "2        1600.0\n",
       "3        1400.0\n",
       "4        1400.0\n",
       "          ...  \n",
       "15914       NaN\n",
       "15915       NaN\n",
       "15916       NaN\n",
       "15917       NaN\n",
       "15918       NaN\n",
       "Name: short_description, Length: 15919, dtype: float64"
      ]
     },
     "execution_count": 9,
     "metadata": {},
     "output_type": "execute_result"
    }
   ],
   "source": [
    "df['short_description'] = df['short_description'].str.findall('\\d\\.\\d').str[0].astype(float)*1000\n",
    "df['short_description']"
   ]
  },
  {
   "cell_type": "code",
   "execution_count": 10,
   "id": "5e65bedc",
   "metadata": {},
   "outputs": [],
   "source": [
    "df['short_description'] = df['short_description'].replace(1600,1598).replace(1800,1798)"
   ]
  },
  {
   "cell_type": "code",
   "execution_count": 11,
   "id": "4dfae6e2",
   "metadata": {},
   "outputs": [
    {
     "data": {
      "text/plain": [
       "NaN       5068\n",
       "1598.0    3891\n",
       "1400.0    2535\n",
       "1000.0    1334\n",
       "1200.0     957\n",
       "1500.0     890\n",
       "2000.0     888\n",
       "1300.0     135\n",
       "1798.0      60\n",
       "900.0       49\n",
       "4000.0      28\n",
       "2500.0      21\n",
       "4300.0       9\n",
       "5700.0       8\n",
       "5000.0       3\n",
       "5500.0       3\n",
       "1700.0       3\n",
       "1100.0       3\n",
       "800.0        2\n",
       "9800.0       2\n",
       "3900.0       2\n",
       "6000.0       2\n",
       "3000.0       2\n",
       "5100.0       1\n",
       "7800.0       1\n",
       "700.0        1\n",
       "4600.0       1\n",
       "2200.0       1\n",
       "2300.0       1\n",
       "2800.0       1\n",
       "200.0        1\n",
       "8800.0       1\n",
       "8400.0       1\n",
       "600.0        1\n",
       "9900.0       1\n",
       "7300.0       1\n",
       "5300.0       1\n",
       "0.0          1\n",
       "4500.0       1\n",
       "9600.0       1\n",
       "5600.0       1\n",
       "8900.0       1\n",
       "6100.0       1\n",
       "7900.0       1\n",
       "300.0        1\n",
       "8500.0       1\n",
       "4200.0       1\n",
       "Name: short_description, dtype: int64"
      ]
     },
     "execution_count": 11,
     "metadata": {},
     "output_type": "execute_result"
    }
   ],
   "source": [
    "df['short_description'].value_counts(dropna=False)"
   ]
  },
  {
   "cell_type": "code",
   "execution_count": 12,
   "id": "e48933b4",
   "metadata": {},
   "outputs": [],
   "source": [
    "df.loc[df['short_description']<800,'short_description'] = np.nan"
   ]
  },
  {
   "cell_type": "markdown",
   "id": "cca18bf6",
   "metadata": {},
   "source": [
    "This Column will be dropped at the Column 32"
   ]
  },
  {
   "cell_type": "markdown",
   "id": "cfef20c1",
   "metadata": {},
   "source": [
    "### Column 3: body_type"
   ]
  },
  {
   "cell_type": "code",
   "execution_count": 13,
   "id": "3cabb858",
   "metadata": {},
   "outputs": [
    {
     "data": {
      "text/plain": [
       "Sedans           7903\n",
       "Station wagon    3553\n",
       "Compact          3153\n",
       "Van               783\n",
       "Other             290\n",
       "Transporter        88\n",
       "NaN                60\n",
       "Off-Road           56\n",
       "Coupe              25\n",
       "Convertible         8\n",
       "Name: body_type, dtype: int64"
      ]
     },
     "execution_count": 13,
     "metadata": {},
     "output_type": "execute_result"
    }
   ],
   "source": [
    "df.body_type.value_counts(dropna=False)"
   ]
  },
  {
   "cell_type": "code",
   "execution_count": 14,
   "id": "1ae257bd",
   "metadata": {},
   "outputs": [],
   "source": [
    "#I will drop 'body_type' too since Column 27 ('body') includes same values\n",
    "df.drop(columns = ['body_type'], inplace = True)"
   ]
  },
  {
   "cell_type": "markdown",
   "id": "d2e9b23c",
   "metadata": {},
   "source": [
    "### Column 4: price"
   ]
  },
  {
   "cell_type": "code",
   "execution_count": 15,
   "id": "d6610c30",
   "metadata": {},
   "outputs": [
    {
     "data": {
      "text/plain": [
       "count    15919.000000\n",
       "mean     18019.896727\n",
       "std       7386.169409\n",
       "min         13.000000\n",
       "25%      12850.000000\n",
       "50%      16900.000000\n",
       "75%      21900.000000\n",
       "max      74600.000000\n",
       "Name: price, dtype: float64"
      ]
     },
     "execution_count": 15,
     "metadata": {},
     "output_type": "execute_result"
    }
   ],
   "source": [
    "df.price.describe()"
   ]
  },
  {
   "cell_type": "code",
   "execution_count": 16,
   "id": "544dd712",
   "metadata": {},
   "outputs": [
    {
     "data": {
      "text/plain": [
       "0    15770.0\n",
       "1    14500.0\n",
       "2    14640.0\n",
       "Name: price, dtype: float64"
      ]
     },
     "execution_count": 16,
     "metadata": {},
     "output_type": "execute_result"
    }
   ],
   "source": [
    "df.price = df.price.astype(float)\n",
    "df.price.head(3)"
   ]
  },
  {
   "cell_type": "code",
   "execution_count": 17,
   "id": "696a1001",
   "metadata": {},
   "outputs": [
    {
     "data": {
      "text/plain": [
       "0"
      ]
     },
     "execution_count": 17,
     "metadata": {},
     "output_type": "execute_result"
    }
   ],
   "source": [
    "df.price.isnull().sum()"
   ]
  },
  {
   "cell_type": "markdown",
   "id": "1efa701e",
   "metadata": {},
   "source": [
    "### Column 5: vat"
   ]
  },
  {
   "cell_type": "code",
   "execution_count": 18,
   "id": "b3bc3390",
   "metadata": {},
   "outputs": [
    {
     "data": {
      "text/plain": [
       "VAT deductible      10980\n",
       "NaN                  4513\n",
       "Price negotiable      426\n",
       "Name: vat, dtype: int64"
      ]
     },
     "execution_count": 18,
     "metadata": {},
     "output_type": "execute_result"
    }
   ],
   "source": [
    "df.vat.value_counts(dropna=False)"
   ]
  },
  {
   "cell_type": "markdown",
   "id": "db4561d9",
   "metadata": {},
   "source": [
    "### Column 6: km"
   ]
  },
  {
   "cell_type": "code",
   "execution_count": 19,
   "id": "c99f0e42",
   "metadata": {},
   "outputs": [
    {
     "data": {
      "text/plain": [
       "0    56,013 km\n",
       "1    80,000 km\n",
       "2    83,450 km\n",
       "3    73,000 km\n",
       "4    16,200 km\n",
       "Name: km, dtype: object"
      ]
     },
     "execution_count": 19,
     "metadata": {},
     "output_type": "execute_result"
    }
   ],
   "source": [
    "df.km.head()"
   ]
  },
  {
   "cell_type": "code",
   "execution_count": 20,
   "id": "ba578c3e",
   "metadata": {},
   "outputs": [
    {
     "data": {
      "text/plain": [
       "0    56013.0\n",
       "1    80000.0\n",
       "2    83450.0\n",
       "3    73000.0\n",
       "4    16200.0\n",
       "Name: km, dtype: float64"
      ]
     },
     "execution_count": 20,
     "metadata": {},
     "output_type": "execute_result"
    }
   ],
   "source": [
    "#Remove the commas, get the numeric values, and convert to float\n",
    "df['km'] = df['km'].str.replace(',' , '').str.findall('\\d+').str[0].astype(float)\n",
    "df['km'].head()"
   ]
  },
  {
   "cell_type": "markdown",
   "id": "8f8e54dc",
   "metadata": {},
   "source": [
    "### Column 7: registration"
   ]
  },
  {
   "cell_type": "code",
   "execution_count": 21,
   "id": "59456676",
   "metadata": {},
   "outputs": [
    {
     "data": {
      "text/plain": [
       "122      -/-\n",
       "710      -/-\n",
       "734      -/-\n",
       "741      -/-\n",
       "743      -/-\n",
       "        ... \n",
       "15896    -/-\n",
       "15902    -/-\n",
       "15907    -/-\n",
       "15912    -/-\n",
       "15914    -/-\n",
       "Name: registration, Length: 1597, dtype: object"
      ]
     },
     "execution_count": 21,
     "metadata": {},
     "output_type": "execute_result"
    }
   ],
   "source": [
    "#check if there is any non-numeric value exists after removing '/'\n",
    "df.registration.loc[~(df.registration.replace('/', '', regex=True).str.isnumeric())]"
   ]
  },
  {
   "cell_type": "code",
   "execution_count": 22,
   "id": "4e394edd",
   "metadata": {},
   "outputs": [
    {
     "data": {
      "text/plain": [
       "0    2016.0\n",
       "1    2017.0\n",
       "2    2016.0\n",
       "Name: registration, dtype: float64"
      ]
     },
     "execution_count": 22,
     "metadata": {},
     "output_type": "execute_result"
    }
   ],
   "source": [
    "#infer datetime formats and return non-numeric values as NaN\n",
    "df.registration = pd.to_datetime(df.registration, infer_datetime_format=True, errors='coerce').dt.year\n",
    "df.registration.head(3)"
   ]
  },
  {
   "cell_type": "code",
   "execution_count": 23,
   "id": "94f99710",
   "metadata": {},
   "outputs": [
    {
     "data": {
      "text/plain": [
       "1597"
      ]
     },
     "execution_count": 23,
     "metadata": {},
     "output_type": "execute_result"
    }
   ],
   "source": [
    "df.registration.isnull().sum()"
   ]
  },
  {
   "cell_type": "markdown",
   "id": "74335e13",
   "metadata": {},
   "source": [
    "### Column 8: prev_owner"
   ]
  },
  {
   "cell_type": "code",
   "execution_count": 24,
   "id": "251f4e0b",
   "metadata": {},
   "outputs": [
    {
     "data": {
      "text/plain": [
       "1 previous owner     8294\n",
       "NaN                  6828\n",
       "2 previous owners     778\n",
       "3 previous owners      17\n",
       "4 previous owners       2\n",
       "Name: prev_owner, dtype: int64"
      ]
     },
     "execution_count": 24,
     "metadata": {},
     "output_type": "execute_result"
    }
   ],
   "source": [
    "#This column includes same info with Column 12 (Previous Owners)\n",
    "#df['Previous Owners'].value_counts(dropna=False)\n",
    "df.prev_owner.value_counts(dropna=False)"
   ]
  },
  {
   "cell_type": "code",
   "execution_count": 25,
   "id": "fdc22a6e",
   "metadata": {},
   "outputs": [
    {
     "data": {
      "text/html": [
       "<div>\n",
       "<style scoped>\n",
       "    .dataframe tbody tr th:only-of-type {\n",
       "        vertical-align: middle;\n",
       "    }\n",
       "\n",
       "    .dataframe tbody tr th {\n",
       "        vertical-align: top;\n",
       "    }\n",
       "\n",
       "    .dataframe thead th {\n",
       "        text-align: right;\n",
       "    }\n",
       "</style>\n",
       "<table border=\"1\" class=\"dataframe\">\n",
       "  <thead>\n",
       "    <tr style=\"text-align: right;\">\n",
       "      <th></th>\n",
       "      <th>prev_owner</th>\n",
       "      <th>Previous Owners</th>\n",
       "    </tr>\n",
       "  </thead>\n",
       "  <tbody>\n",
       "    <tr>\n",
       "      <th>0</th>\n",
       "      <td>2 previous owners</td>\n",
       "      <td>\\n2\\n</td>\n",
       "    </tr>\n",
       "    <tr>\n",
       "      <th>1</th>\n",
       "      <td>None</td>\n",
       "      <td>NaN</td>\n",
       "    </tr>\n",
       "    <tr>\n",
       "      <th>2</th>\n",
       "      <td>1 previous owner</td>\n",
       "      <td>\\n1\\n</td>\n",
       "    </tr>\n",
       "    <tr>\n",
       "      <th>3</th>\n",
       "      <td>1 previous owner</td>\n",
       "      <td>\\n1\\n</td>\n",
       "    </tr>\n",
       "    <tr>\n",
       "      <th>4</th>\n",
       "      <td>1 previous owner</td>\n",
       "      <td>\\n1\\n</td>\n",
       "    </tr>\n",
       "  </tbody>\n",
       "</table>\n",
       "</div>"
      ],
      "text/plain": [
       "          prev_owner Previous Owners\n",
       "0  2 previous owners           \\n2\\n\n",
       "1               None             NaN\n",
       "2   1 previous owner           \\n1\\n\n",
       "3   1 previous owner           \\n1\\n\n",
       "4   1 previous owner           \\n1\\n"
      ]
     },
     "execution_count": 25,
     "metadata": {},
     "output_type": "execute_result"
    }
   ],
   "source": [
    "#Maybe we can fill some of the Null values by comparing both columns.\n",
    "#But first convert both columns to same types\n",
    "df[[\"prev_owner\",\"Previous Owners\"]].head(5)"
   ]
  },
  {
   "cell_type": "code",
   "execution_count": 26,
   "id": "3af9015e",
   "metadata": {},
   "outputs": [],
   "source": [
    "df['prev_owner']=df['prev_owner'].str.findall(\"\\d+\").str[0].astype(float)\n",
    "df[\"Previous Owners\"]=df[\"Previous Owners\"].str.strip().astype(float)"
   ]
  },
  {
   "cell_type": "code",
   "execution_count": 27,
   "id": "bc19a56b",
   "metadata": {},
   "outputs": [],
   "source": [
    "#Define a function to compare columns and get available values.\n",
    "#Return Null if both columns are empty\n",
    "def prev_owner_combine(p1,p2):\n",
    "    if p1 == p2:\n",
    "        return p1\n",
    "    elif np.isnan(p1) :\n",
    "        if np.isnan(p2):\n",
    "            return np.nan\n",
    "        else:\n",
    "            return p2\n",
    "    elif np.isnan(p2):\n",
    "        if np.isnan(p1):\n",
    "            return np.nan\n",
    "        else:\n",
    "            return p1\n",
    "    else:\n",
    "        return 'conflict'"
   ]
  },
  {
   "cell_type": "code",
   "execution_count": 28,
   "id": "1da372c0",
   "metadata": {},
   "outputs": [],
   "source": [
    "df[\"prev_owner\"]=df.apply(lambda x: prev_owner_combine(x['prev_owner'],x['Previous Owners']), axis=1)"
   ]
  },
  {
   "cell_type": "code",
   "execution_count": 29,
   "id": "0d2ef6f7",
   "metadata": {},
   "outputs": [],
   "source": [
    "#Drop Column 27 (Previous Owners)\n",
    "df.drop('Previous Owners',axis=1,inplace=True)"
   ]
  },
  {
   "cell_type": "code",
   "execution_count": 206,
   "id": "e06a3911",
   "metadata": {},
   "outputs": [
    {
     "data": {
      "text/plain": [
       "1.0    8294\n",
       "NaN    6665\n",
       "2.0     778\n",
       "0.0     163\n",
       "3.0      17\n",
       "4.0       2\n",
       "Name: prev_owner, dtype: int64"
      ]
     },
     "execution_count": 206,
     "metadata": {},
     "output_type": "execute_result"
    }
   ],
   "source": [
    "df[\"prev_owner\"].value_counts(dropna=False)"
   ]
  },
  {
   "cell_type": "markdown",
   "id": "955856ec",
   "metadata": {},
   "source": [
    "### Column 9: kW"
   ]
  },
  {
   "cell_type": "code",
   "execution_count": 30,
   "id": "bfb165fe",
   "metadata": {},
   "outputs": [
    {
     "data": {
      "text/plain": [
       "Series([], Name: kW, dtype: int64)"
      ]
     },
     "execution_count": 30,
     "metadata": {},
     "output_type": "execute_result"
    }
   ],
   "source": [
    "df.kW.value_counts()"
   ]
  },
  {
   "cell_type": "code",
   "execution_count": 31,
   "id": "5c883cbc",
   "metadata": {},
   "outputs": [
    {
     "data": {
      "text/plain": [
       "array([nan])"
      ]
     },
     "execution_count": 31,
     "metadata": {},
     "output_type": "execute_result"
    }
   ],
   "source": [
    "df.kW.unique()"
   ]
  },
  {
   "cell_type": "code",
   "execution_count": 32,
   "id": "3ba5e14c",
   "metadata": {},
   "outputs": [],
   "source": [
    "#Drop the empty Column\n",
    "df.drop(columns = 'kW', inplace = True)"
   ]
  },
  {
   "cell_type": "markdown",
   "id": "fab0a812",
   "metadata": {},
   "source": [
    "### Column 10: hp"
   ]
  },
  {
   "cell_type": "code",
   "execution_count": 33,
   "id": "3b441374",
   "metadata": {},
   "outputs": [
    {
     "data": {
      "text/plain": [
       "85 kW     2542\n",
       "66 kW     2122\n",
       "81 kW     1402\n",
       "100 kW    1308\n",
       "110 kW    1112\n",
       "          ... \n",
       "75 kW        1\n",
       "239 kW       1\n",
       "123 kW       1\n",
       "44 kW        1\n",
       "137 kW       1\n",
       "Name: hp, Length: 81, dtype: int64"
      ]
     },
     "execution_count": 33,
     "metadata": {},
     "output_type": "execute_result"
    }
   ],
   "source": [
    "df.hp.value_counts()"
   ]
  },
  {
   "cell_type": "code",
   "execution_count": 34,
   "id": "dbaef3ed",
   "metadata": {},
   "outputs": [],
   "source": [
    "#remove ' kW'\n",
    "df['hp'] = df['hp'].map(lambda x: x.rstrip(' kW'))"
   ]
  },
  {
   "cell_type": "code",
   "execution_count": 35,
   "id": "58844ecd",
   "metadata": {},
   "outputs": [],
   "source": [
    "df.hp = df.hp.replace('-', np.NaN).astype('float')"
   ]
  },
  {
   "cell_type": "code",
   "execution_count": 36,
   "id": "22daaaa1",
   "metadata": {},
   "outputs": [
    {
     "data": {
      "text/plain": [
       "85.0     2542\n",
       "66.0     2122\n",
       "81.0     1402\n",
       "100.0    1308\n",
       "110.0    1112\n",
       "         ... \n",
       "239.0       1\n",
       "115.0       1\n",
       "163.0       1\n",
       "4.0         1\n",
       "75.0        1\n",
       "Name: hp, Length: 81, dtype: int64"
      ]
     },
     "execution_count": 36,
     "metadata": {},
     "output_type": "execute_result"
    }
   ],
   "source": [
    "df.hp.value_counts(dropna=False)"
   ]
  },
  {
   "cell_type": "markdown",
   "id": "3b864a9d",
   "metadata": {},
   "source": [
    "### Column 11: Type"
   ]
  },
  {
   "cell_type": "code",
   "execution_count": 37,
   "id": "3c91321a",
   "metadata": {},
   "outputs": [
    {
     "ename": "TypeError",
     "evalue": "unhashable type: 'list'",
     "output_type": "error",
     "traceback": [
      "\u001b[0;31m---------------------------------------------------------------------------\u001b[0m",
      "\u001b[0;31mTypeError\u001b[0m                                 Traceback (most recent call last)",
      "\u001b[0;32mpandas/_libs/hashtable_class_helper.pxi\u001b[0m in \u001b[0;36mpandas._libs.hashtable.PyObjectHashTable.map_locations\u001b[0;34m()\u001b[0m\n",
      "\u001b[0;31mTypeError\u001b[0m: unhashable type: 'list'"
     ]
    },
    {
     "name": "stderr",
     "output_type": "stream",
     "text": [
      "Exception ignored in: 'pandas._libs.index.IndexEngine._call_map_locations'\n",
      "Traceback (most recent call last):\n",
      "  File \"pandas/_libs/hashtable_class_helper.pxi\", line 4588, in pandas._libs.hashtable.PyObjectHashTable.map_locations\n",
      "TypeError: unhashable type: 'list'\n"
     ]
    },
    {
     "data": {
      "text/plain": [
       "[, Used, , Diesel (Particulate Filter)]                                                                                                       3475\n",
       "[, Used, , Diesel]                                                                                                                            2516\n",
       "[, Used, , Gasoline]                                                                                                                          2367\n",
       "[, Used, , Super 95]                                                                                                                          1818\n",
       "[, Pre-registered, , Super 95]                                                                                                                 500\n",
       "                                                                                                                                              ... \n",
       "[, Used, , Regular/Benzine 91 / Super 95 / Super Plus 98 / Super Plus E10 98 / Super E10 95 / Regular/Benzine E10 91 (Particulate Filter)]       1\n",
       "[, Pre-registered, , Regular/Benzine 91 / Super 95 / Regular/Benzine E10 91 / Super E10 95 / Super Plus 98 / Super Plus E10 98]                  1\n",
       "[, Demonstration, , Regular/Benzine E10 91]                                                                                                      1\n",
       "[, Demonstration, , Gasoline (Particulate Filter)]                                                                                               1\n",
       "[, Used, , Super 95 / Regular/Benzine E10 91]                                                                                                    1\n",
       "Name: Type, Length: 169, dtype: int64"
      ]
     },
     "execution_count": 37,
     "metadata": {},
     "output_type": "execute_result"
    }
   ],
   "source": [
    "#The column consists of list values\n",
    "df.Type.value_counts()"
   ]
  },
  {
   "cell_type": "code",
   "execution_count": 38,
   "id": "153070e5",
   "metadata": {},
   "outputs": [],
   "source": [
    "df.Type=df.Type.str[1].str.strip()"
   ]
  },
  {
   "cell_type": "markdown",
   "id": "f43b7bd4",
   "metadata": {},
   "source": [
    "### Column 12: Previous Owners\t"
   ]
  },
  {
   "cell_type": "code",
   "execution_count": 39,
   "id": "a193d116",
   "metadata": {},
   "outputs": [],
   "source": [
    "#I have already dropped this column (column 9)"
   ]
  },
  {
   "cell_type": "markdown",
   "id": "e055b123",
   "metadata": {},
   "source": [
    "### Column 13: Next Inspection"
   ]
  },
  {
   "cell_type": "code",
   "execution_count": 40,
   "id": "b01a3145",
   "metadata": {},
   "outputs": [
    {
     "ename": "TypeError",
     "evalue": "unhashable type: 'list'",
     "output_type": "error",
     "traceback": [
      "\u001b[0;31m---------------------------------------------------------------------------\u001b[0m",
      "\u001b[0;31mTypeError\u001b[0m                                 Traceback (most recent call last)",
      "\u001b[0;32mpandas/_libs/hashtable_class_helper.pxi\u001b[0m in \u001b[0;36mpandas._libs.hashtable.PyObjectHashTable.map_locations\u001b[0;34m()\u001b[0m\n",
      "\u001b[0;31mTypeError\u001b[0m: unhashable type: 'list'"
     ]
    },
    {
     "name": "stderr",
     "output_type": "stream",
     "text": [
      "Exception ignored in: 'pandas._libs.index.IndexEngine._call_map_locations'\n",
      "Traceback (most recent call last):\n",
      "  File \"pandas/_libs/hashtable_class_helper.pxi\", line 4588, in pandas._libs.hashtable.PyObjectHashTable.map_locations\n",
      "TypeError: unhashable type: 'list'\n"
     ]
    },
    {
     "data": {
      "text/plain": [
       "\\n04/2022\\n                                                                                      62\n",
       "\\n03/2021\\n                                                                                      38\n",
       "\\n03/2022\\n                                                                                      36\n",
       "\\n06/2021\\n                                                                                      34\n",
       "\\n01/2022\\n                                                                                      32\n",
       "                                                                                                 ..\n",
       "[\\n10/2018\\n, \\n119 g CO2/km (comb)\\n]                                                            1\n",
       "[\\n11/2020\\n, \\n119 g CO2/km (comb)\\n]                                                            1\n",
       "[\\n10/2020\\n, \\n153 g CO2/km (comb)\\n]                                                            1\n",
       "[\\n05/2022\\n, \\n, 5 l/100 km (comb), \\n, 5.9 l/100 km (city), \\n, 4.5 l/100 km (country), \\n]     1\n",
       "[\\n12/2019\\n, \\n, 6 l/100 km (comb), \\n, 7.8 l/100 km (city), \\n, 4.9 l/100 km (country), \\n]     1\n",
       "Name: Next Inspection, Length: 1399, dtype: int64"
      ]
     },
     "execution_count": 40,
     "metadata": {},
     "output_type": "execute_result"
    }
   ],
   "source": [
    "#The column consists of list values\n",
    "df['Next Inspection'].value_counts()"
   ]
  },
  {
   "cell_type": "code",
   "execution_count": 41,
   "id": "b406470b",
   "metadata": {},
   "outputs": [
    {
     "data": {
      "text/html": [
       "<div>\n",
       "<style scoped>\n",
       "    .dataframe tbody tr th:only-of-type {\n",
       "        vertical-align: middle;\n",
       "    }\n",
       "\n",
       "    .dataframe tbody tr th {\n",
       "        vertical-align: top;\n",
       "    }\n",
       "\n",
       "    .dataframe thead th {\n",
       "        text-align: right;\n",
       "    }\n",
       "</style>\n",
       "<table border=\"1\" class=\"dataframe\">\n",
       "  <thead>\n",
       "    <tr style=\"text-align: right;\">\n",
       "      <th></th>\n",
       "      <th>0</th>\n",
       "      <th>1</th>\n",
       "      <th>2</th>\n",
       "      <th>3</th>\n",
       "      <th>4</th>\n",
       "      <th>5</th>\n",
       "      <th>6</th>\n",
       "      <th>7</th>\n",
       "    </tr>\n",
       "  </thead>\n",
       "  <tbody>\n",
       "    <tr>\n",
       "      <th>0</th>\n",
       "      <td>\\n06/2021\\n</td>\n",
       "      <td>\\n99 g CO2/km (comb)\\n</td>\n",
       "      <td>NaN</td>\n",
       "      <td>NaN</td>\n",
       "      <td>NaN</td>\n",
       "      <td>NaN</td>\n",
       "      <td>NaN</td>\n",
       "      <td>NaN</td>\n",
       "    </tr>\n",
       "    <tr>\n",
       "      <th>1</th>\n",
       "      <td>NaN</td>\n",
       "      <td>NaN</td>\n",
       "      <td>NaN</td>\n",
       "      <td>NaN</td>\n",
       "      <td>NaN</td>\n",
       "      <td>NaN</td>\n",
       "      <td>NaN</td>\n",
       "      <td>NaN</td>\n",
       "    </tr>\n",
       "    <tr>\n",
       "      <th>2</th>\n",
       "      <td>NaN</td>\n",
       "      <td>NaN</td>\n",
       "      <td>NaN</td>\n",
       "      <td>NaN</td>\n",
       "      <td>NaN</td>\n",
       "      <td>NaN</td>\n",
       "      <td>NaN</td>\n",
       "      <td>NaN</td>\n",
       "    </tr>\n",
       "    <tr>\n",
       "      <th>3</th>\n",
       "      <td>NaN</td>\n",
       "      <td>NaN</td>\n",
       "      <td>NaN</td>\n",
       "      <td>NaN</td>\n",
       "      <td>NaN</td>\n",
       "      <td>NaN</td>\n",
       "      <td>NaN</td>\n",
       "      <td>NaN</td>\n",
       "    </tr>\n",
       "    <tr>\n",
       "      <th>4</th>\n",
       "      <td>NaN</td>\n",
       "      <td>NaN</td>\n",
       "      <td>NaN</td>\n",
       "      <td>NaN</td>\n",
       "      <td>NaN</td>\n",
       "      <td>NaN</td>\n",
       "      <td>NaN</td>\n",
       "      <td>NaN</td>\n",
       "    </tr>\n",
       "    <tr>\n",
       "      <th>...</th>\n",
       "      <td>...</td>\n",
       "      <td>...</td>\n",
       "      <td>...</td>\n",
       "      <td>...</td>\n",
       "      <td>...</td>\n",
       "      <td>...</td>\n",
       "      <td>...</td>\n",
       "      <td>...</td>\n",
       "    </tr>\n",
       "    <tr>\n",
       "      <th>15914</th>\n",
       "      <td>NaN</td>\n",
       "      <td>NaN</td>\n",
       "      <td>NaN</td>\n",
       "      <td>NaN</td>\n",
       "      <td>NaN</td>\n",
       "      <td>NaN</td>\n",
       "      <td>NaN</td>\n",
       "      <td>NaN</td>\n",
       "    </tr>\n",
       "    <tr>\n",
       "      <th>15915</th>\n",
       "      <td>\\n01/2022\\n</td>\n",
       "      <td>\\n168 g CO2/km (comb)\\n</td>\n",
       "      <td>NaN</td>\n",
       "      <td>NaN</td>\n",
       "      <td>NaN</td>\n",
       "      <td>NaN</td>\n",
       "      <td>NaN</td>\n",
       "      <td>NaN</td>\n",
       "    </tr>\n",
       "    <tr>\n",
       "      <th>15916</th>\n",
       "      <td>NaN</td>\n",
       "      <td>NaN</td>\n",
       "      <td>NaN</td>\n",
       "      <td>NaN</td>\n",
       "      <td>NaN</td>\n",
       "      <td>NaN</td>\n",
       "      <td>NaN</td>\n",
       "      <td>NaN</td>\n",
       "    </tr>\n",
       "    <tr>\n",
       "      <th>15917</th>\n",
       "      <td>NaN</td>\n",
       "      <td>NaN</td>\n",
       "      <td>NaN</td>\n",
       "      <td>NaN</td>\n",
       "      <td>NaN</td>\n",
       "      <td>NaN</td>\n",
       "      <td>NaN</td>\n",
       "      <td>NaN</td>\n",
       "    </tr>\n",
       "    <tr>\n",
       "      <th>15918</th>\n",
       "      <td>NaN</td>\n",
       "      <td>NaN</td>\n",
       "      <td>NaN</td>\n",
       "      <td>NaN</td>\n",
       "      <td>NaN</td>\n",
       "      <td>NaN</td>\n",
       "      <td>NaN</td>\n",
       "      <td>NaN</td>\n",
       "    </tr>\n",
       "  </tbody>\n",
       "</table>\n",
       "<p>15919 rows × 8 columns</p>\n",
       "</div>"
      ],
      "text/plain": [
       "                 0                        1    2    3    4    5    6    7\n",
       "0      \\n06/2021\\n   \\n99 g CO2/km (comb)\\n  NaN  NaN  NaN  NaN  NaN  NaN\n",
       "1              NaN                      NaN  NaN  NaN  NaN  NaN  NaN  NaN\n",
       "2              NaN                      NaN  NaN  NaN  NaN  NaN  NaN  NaN\n",
       "3              NaN                      NaN  NaN  NaN  NaN  NaN  NaN  NaN\n",
       "4              NaN                      NaN  NaN  NaN  NaN  NaN  NaN  NaN\n",
       "...            ...                      ...  ...  ...  ...  ...  ...  ...\n",
       "15914          NaN                      NaN  NaN  NaN  NaN  NaN  NaN  NaN\n",
       "15915  \\n01/2022\\n  \\n168 g CO2/km (comb)\\n  NaN  NaN  NaN  NaN  NaN  NaN\n",
       "15916          NaN                      NaN  NaN  NaN  NaN  NaN  NaN  NaN\n",
       "15917          NaN                      NaN  NaN  NaN  NaN  NaN  NaN  NaN\n",
       "15918          NaN                      NaN  NaN  NaN  NaN  NaN  NaN  NaN\n",
       "\n",
       "[15919 rows x 8 columns]"
      ]
     },
     "execution_count": 41,
     "metadata": {},
     "output_type": "execute_result"
    }
   ],
   "source": [
    "next_ins = df[\"Next Inspection\"].apply(pd.Series)\n",
    "next_ins"
   ]
  },
  {
   "cell_type": "code",
   "execution_count": 42,
   "id": "f556dcef",
   "metadata": {},
   "outputs": [
    {
     "name": "stdout",
     "output_type": "stream",
     "text": [
      "<class 'pandas.core.frame.DataFrame'>\n",
      "RangeIndex: 15919 entries, 0 to 15918\n",
      "Data columns (total 8 columns):\n",
      " #   Column  Non-Null Count  Dtype \n",
      "---  ------  --------------  ----- \n",
      " 0   0       3535 non-null   object\n",
      " 1   1       2793 non-null   object\n",
      " 2   2       242 non-null    object\n",
      " 3   3       242 non-null    object\n",
      " 4   4       242 non-null    object\n",
      " 5   5       242 non-null    object\n",
      " 6   6       239 non-null    object\n",
      " 7   7       239 non-null    object\n",
      "dtypes: object(8)\n",
      "memory usage: 995.1+ KB\n"
     ]
    }
   ],
   "source": [
    "#There are only 3535 non-null values in column 0 that shows Next Inspection date\n",
    "next_ins.info()"
   ]
  },
  {
   "cell_type": "code",
   "execution_count": 43,
   "id": "bef61eb3",
   "metadata": {},
   "outputs": [
    {
     "data": {
      "text/plain": [
       "0    2021.0\n",
       "1       NaN\n",
       "2       NaN\n",
       "3       NaN\n",
       "4       NaN\n",
       "Name: Next Inspection, dtype: float64"
      ]
     },
     "execution_count": 43,
     "metadata": {},
     "output_type": "execute_result"
    }
   ],
   "source": [
    "#Convert Column 0 to a datetime format and assign to df['Next Inspection']\n",
    "df[\"Next Inspection\"] = pd.to_datetime(next_ins[0], infer_datetime_format=True, errors='coerce').dt.year\n",
    "df[\"Next Inspection\"].head()"
   ]
  },
  {
   "cell_type": "markdown",
   "id": "f77181d9",
   "metadata": {},
   "source": [
    "### Column 14: Inspection new"
   ]
  },
  {
   "cell_type": "code",
   "execution_count": 44,
   "id": "df44fd48",
   "metadata": {},
   "outputs": [
    {
     "ename": "TypeError",
     "evalue": "unhashable type: 'list'",
     "output_type": "error",
     "traceback": [
      "\u001b[0;31m---------------------------------------------------------------------------\u001b[0m",
      "\u001b[0;31mTypeError\u001b[0m                                 Traceback (most recent call last)",
      "\u001b[0;32mpandas/_libs/hashtable_class_helper.pxi\u001b[0m in \u001b[0;36mpandas._libs.hashtable.PyObjectHashTable.map_locations\u001b[0;34m()\u001b[0m\n",
      "\u001b[0;31mTypeError\u001b[0m: unhashable type: 'list'"
     ]
    },
    {
     "name": "stderr",
     "output_type": "stream",
     "text": [
      "Exception ignored in: 'pandas._libs.index.IndexEngine._call_map_locations'\n",
      "Traceback (most recent call last):\n",
      "  File \"pandas/_libs/hashtable_class_helper.pxi\", line 4588, in pandas._libs.hashtable.PyObjectHashTable.map_locations\n",
      "TypeError: unhashable type: 'list'\n"
     ]
    },
    {
     "data": {
      "text/plain": [
       "[\\nYes\\n, \\nEuro 6\\n]                                                                          523\n",
       "\\nYes\\n                                                                                        362\n",
       "[\\nYes\\n, \\n102 g CO2/km (comb)\\n]                                                             174\n",
       "[\\nYes\\n, \\n4 (Green)\\n]                                                                       166\n",
       "[\\nYes\\n, \\nEuro 6d-TEMP\\n]                                                                    134\n",
       "                                                                                              ... \n",
       "[\\nYes\\n, \\n88 g CO2/km (comb)\\n]                                                                1\n",
       "[\\nYes\\n, \\n, 6 l/100 km (comb), \\n, 7.5 l/100 km (city), \\n, 5.2 l/100 km (country), \\n]        1\n",
       "[\\nYes\\n, \\n, 6 l/100 km (comb), \\n, 8 l/100 km (city), \\n, 4.9 l/100 km (country), \\n]          1\n",
       "[\\nYes\\n, \\n87 g CO2/km (comb)\\n]                                                                1\n",
       "[\\nYes\\n, \\n, 6.2 l/100 km (comb), \\n, 7.6 l/100 km (city), \\n, 5.4 l/100 km (country), \\n]      1\n",
       "Name: Inspection new, Length: 202, dtype: int64"
      ]
     },
     "execution_count": 44,
     "metadata": {},
     "output_type": "execute_result"
    }
   ],
   "source": [
    "df['Inspection new'].value_counts()"
   ]
  },
  {
   "cell_type": "code",
   "execution_count": 45,
   "id": "74dc0fee",
   "metadata": {},
   "outputs": [
    {
     "data": {
      "text/html": [
       "<div>\n",
       "<style scoped>\n",
       "    .dataframe tbody tr th:only-of-type {\n",
       "        vertical-align: middle;\n",
       "    }\n",
       "\n",
       "    .dataframe tbody tr th {\n",
       "        vertical-align: top;\n",
       "    }\n",
       "\n",
       "    .dataframe thead th {\n",
       "        text-align: right;\n",
       "    }\n",
       "</style>\n",
       "<table border=\"1\" class=\"dataframe\">\n",
       "  <thead>\n",
       "    <tr style=\"text-align: right;\">\n",
       "      <th></th>\n",
       "      <th>0</th>\n",
       "      <th>1</th>\n",
       "      <th>2</th>\n",
       "      <th>3</th>\n",
       "      <th>4</th>\n",
       "      <th>5</th>\n",
       "      <th>6</th>\n",
       "      <th>7</th>\n",
       "    </tr>\n",
       "  </thead>\n",
       "  <tbody>\n",
       "    <tr>\n",
       "      <th>0</th>\n",
       "      <td>\\nYes\\n</td>\n",
       "      <td>\\nEuro 6\\n</td>\n",
       "      <td>NaN</td>\n",
       "      <td>NaN</td>\n",
       "      <td>NaN</td>\n",
       "      <td>NaN</td>\n",
       "      <td>NaN</td>\n",
       "      <td>NaN</td>\n",
       "    </tr>\n",
       "    <tr>\n",
       "      <th>1</th>\n",
       "      <td>NaN</td>\n",
       "      <td>NaN</td>\n",
       "      <td>NaN</td>\n",
       "      <td>NaN</td>\n",
       "      <td>NaN</td>\n",
       "      <td>NaN</td>\n",
       "      <td>NaN</td>\n",
       "      <td>NaN</td>\n",
       "    </tr>\n",
       "    <tr>\n",
       "      <th>2</th>\n",
       "      <td>NaN</td>\n",
       "      <td>NaN</td>\n",
       "      <td>NaN</td>\n",
       "      <td>NaN</td>\n",
       "      <td>NaN</td>\n",
       "      <td>NaN</td>\n",
       "      <td>NaN</td>\n",
       "      <td>NaN</td>\n",
       "    </tr>\n",
       "    <tr>\n",
       "      <th>3</th>\n",
       "      <td>NaN</td>\n",
       "      <td>NaN</td>\n",
       "      <td>NaN</td>\n",
       "      <td>NaN</td>\n",
       "      <td>NaN</td>\n",
       "      <td>NaN</td>\n",
       "      <td>NaN</td>\n",
       "      <td>NaN</td>\n",
       "    </tr>\n",
       "    <tr>\n",
       "      <th>4</th>\n",
       "      <td>\\nYes\\n</td>\n",
       "      <td>\\n109 g CO2/km (comb)\\n</td>\n",
       "      <td>NaN</td>\n",
       "      <td>NaN</td>\n",
       "      <td>NaN</td>\n",
       "      <td>NaN</td>\n",
       "      <td>NaN</td>\n",
       "      <td>NaN</td>\n",
       "    </tr>\n",
       "    <tr>\n",
       "      <th>...</th>\n",
       "      <td>...</td>\n",
       "      <td>...</td>\n",
       "      <td>...</td>\n",
       "      <td>...</td>\n",
       "      <td>...</td>\n",
       "      <td>...</td>\n",
       "      <td>...</td>\n",
       "      <td>...</td>\n",
       "    </tr>\n",
       "    <tr>\n",
       "      <th>15914</th>\n",
       "      <td>NaN</td>\n",
       "      <td>NaN</td>\n",
       "      <td>NaN</td>\n",
       "      <td>NaN</td>\n",
       "      <td>NaN</td>\n",
       "      <td>NaN</td>\n",
       "      <td>NaN</td>\n",
       "      <td>NaN</td>\n",
       "    </tr>\n",
       "    <tr>\n",
       "      <th>15915</th>\n",
       "      <td>NaN</td>\n",
       "      <td>NaN</td>\n",
       "      <td>NaN</td>\n",
       "      <td>NaN</td>\n",
       "      <td>NaN</td>\n",
       "      <td>NaN</td>\n",
       "      <td>NaN</td>\n",
       "      <td>NaN</td>\n",
       "    </tr>\n",
       "    <tr>\n",
       "      <th>15916</th>\n",
       "      <td>\\nYes\\n</td>\n",
       "      <td>\\nEuro 6d-TEMP\\n</td>\n",
       "      <td>NaN</td>\n",
       "      <td>NaN</td>\n",
       "      <td>NaN</td>\n",
       "      <td>NaN</td>\n",
       "      <td>NaN</td>\n",
       "      <td>NaN</td>\n",
       "    </tr>\n",
       "    <tr>\n",
       "      <th>15917</th>\n",
       "      <td>NaN</td>\n",
       "      <td>NaN</td>\n",
       "      <td>NaN</td>\n",
       "      <td>NaN</td>\n",
       "      <td>NaN</td>\n",
       "      <td>NaN</td>\n",
       "      <td>NaN</td>\n",
       "      <td>NaN</td>\n",
       "    </tr>\n",
       "    <tr>\n",
       "      <th>15918</th>\n",
       "      <td>\\nYes\\n</td>\n",
       "      <td>\\n153 g CO2/km (comb)\\n</td>\n",
       "      <td>NaN</td>\n",
       "      <td>NaN</td>\n",
       "      <td>NaN</td>\n",
       "      <td>NaN</td>\n",
       "      <td>NaN</td>\n",
       "      <td>NaN</td>\n",
       "    </tr>\n",
       "  </tbody>\n",
       "</table>\n",
       "<p>15919 rows × 8 columns</p>\n",
       "</div>"
      ],
      "text/plain": [
       "             0                        1    2    3    4    5    6    7\n",
       "0      \\nYes\\n               \\nEuro 6\\n  NaN  NaN  NaN  NaN  NaN  NaN\n",
       "1          NaN                      NaN  NaN  NaN  NaN  NaN  NaN  NaN\n",
       "2          NaN                      NaN  NaN  NaN  NaN  NaN  NaN  NaN\n",
       "3          NaN                      NaN  NaN  NaN  NaN  NaN  NaN  NaN\n",
       "4      \\nYes\\n  \\n109 g CO2/km (comb)\\n  NaN  NaN  NaN  NaN  NaN  NaN\n",
       "...        ...                      ...  ...  ...  ...  ...  ...  ...\n",
       "15914      NaN                      NaN  NaN  NaN  NaN  NaN  NaN  NaN\n",
       "15915      NaN                      NaN  NaN  NaN  NaN  NaN  NaN  NaN\n",
       "15916  \\nYes\\n         \\nEuro 6d-TEMP\\n  NaN  NaN  NaN  NaN  NaN  NaN\n",
       "15917      NaN                      NaN  NaN  NaN  NaN  NaN  NaN  NaN\n",
       "15918  \\nYes\\n  \\n153 g CO2/km (comb)\\n  NaN  NaN  NaN  NaN  NaN  NaN\n",
       "\n",
       "[15919 rows x 8 columns]"
      ]
     },
     "execution_count": 45,
     "metadata": {},
     "output_type": "execute_result"
    }
   ],
   "source": [
    "#Create a new dataset from list values\n",
    "ins_new = df['Inspection new'].apply(pd.Series)\n",
    "ins_new"
   ]
  },
  {
   "cell_type": "code",
   "execution_count": 46,
   "id": "6121551f",
   "metadata": {},
   "outputs": [
    {
     "name": "stdout",
     "output_type": "stream",
     "text": [
      "<class 'pandas.core.frame.DataFrame'>\n",
      "RangeIndex: 15919 entries, 0 to 15918\n",
      "Data columns (total 8 columns):\n",
      " #   Column  Non-Null Count  Dtype \n",
      "---  ------  --------------  ----- \n",
      " 0   0       3932 non-null   object\n",
      " 1   1       3490 non-null   object\n",
      " 2   2       336 non-null    object\n",
      " 3   3       336 non-null    object\n",
      " 4   4       336 non-null    object\n",
      " 5   5       336 non-null    object\n",
      " 6   6       331 non-null    object\n",
      " 7   7       331 non-null    object\n",
      "dtypes: object(8)\n",
      "memory usage: 995.1+ KB\n"
     ]
    }
   ],
   "source": [
    "ins_new.info()"
   ]
  },
  {
   "cell_type": "code",
   "execution_count": 47,
   "id": "60599c35",
   "metadata": {},
   "outputs": [],
   "source": [
    "#Fill the Null values with 'unknown'\n",
    "ins_new.iloc[:, :1].fillna('unknown', inplace=True)"
   ]
  },
  {
   "cell_type": "code",
   "execution_count": 48,
   "id": "2aee15d9",
   "metadata": {},
   "outputs": [],
   "source": [
    "df['Inspection new'] = ins_new[0].map(lambda x: x.rstrip('\\n').lstrip('\\n'))"
   ]
  },
  {
   "cell_type": "code",
   "execution_count": 49,
   "id": "0e7e876d",
   "metadata": {},
   "outputs": [
    {
     "data": {
      "text/plain": [
       "unknown    11987\n",
       "Yes         3932\n",
       "Name: Inspection new, dtype: int64"
      ]
     },
     "execution_count": 49,
     "metadata": {},
     "output_type": "execute_result"
    }
   ],
   "source": [
    "df['Inspection new'].value_counts(dropna=False)"
   ]
  },
  {
   "cell_type": "markdown",
   "id": "8c475095",
   "metadata": {},
   "source": [
    "### Column 15: Warranty"
   ]
  },
  {
   "cell_type": "code",
   "execution_count": 50,
   "id": "7792cd87",
   "metadata": {},
   "outputs": [
    {
     "ename": "TypeError",
     "evalue": "unhashable type: 'list'",
     "output_type": "error",
     "traceback": [
      "\u001b[0;31m---------------------------------------------------------------------------\u001b[0m",
      "\u001b[0;31mTypeError\u001b[0m                                 Traceback (most recent call last)",
      "\u001b[0;32mpandas/_libs/hashtable_class_helper.pxi\u001b[0m in \u001b[0;36mpandas._libs.hashtable.PyObjectHashTable.map_locations\u001b[0;34m()\u001b[0m\n",
      "\u001b[0;31mTypeError\u001b[0m: unhashable type: 'list'"
     ]
    },
    {
     "name": "stderr",
     "output_type": "stream",
     "text": [
      "Exception ignored in: 'pandas._libs.index.IndexEngine._call_map_locations'\n",
      "Traceback (most recent call last):\n",
      "  File \"pandas/_libs/hashtable_class_helper.pxi\", line 4588, in pandas._libs.hashtable.PyObjectHashTable.map_locations\n",
      "TypeError: unhashable type: 'list'\n"
     ]
    },
    {
     "data": {
      "text/plain": [
       "NaN                                                                                                5420\n",
       "[\\n, \\n, \\nEuro 6\\n]                                                                               1868\n",
       "\\n12 months\\n                                                                                      1177\n",
       "\\n                                                                                                  979\n",
       "\\n24 months\\n                                                                                       566\n",
       "                                                                                                   ... \n",
       "[\\n33 months\\n, \\nEuro 6\\n]                                                                           1\n",
       "[\\n46 months\\n, \\n4 (Green)\\n]                                                                        1\n",
       "[\\n72 months\\n, \\n154 g CO2/km (comb)\\n]                                                              1\n",
       "[\\n, \\n, \\n144 g CO2/km (comb)\\n]                                                                     1\n",
       "[\\n60 months\\n, \\n, 6 l/100 km (comb), \\n, 7.3 l/100 km (city), \\n, 5.2 l/100 km (country), \\n]       1\n",
       "Name: Warranty, Length: 516, dtype: int64"
      ]
     },
     "execution_count": 50,
     "metadata": {},
     "output_type": "execute_result"
    }
   ],
   "source": [
    "#Some values are list and some are not\n",
    "df.Warranty.value_counts(dropna=False)"
   ]
  },
  {
   "cell_type": "code",
   "execution_count": 51,
   "id": "a523e7f6",
   "metadata": {},
   "outputs": [],
   "source": [
    "#Define a function to clean the values\n",
    "def clean_alt_list(a):\n",
    "    if type(a) == list:\n",
    "        b = re.findall(r'\\d+', a[0])\n",
    "        if len(b)== 0:\n",
    "            return np.nan\n",
    "        else:\n",
    "            return b[0]\n",
    "    elif type(a) ==str:\n",
    "        b = re.findall(r'\\d+', a)\n",
    "        if len(b)== 0:\n",
    "            return np.nan\n",
    "        else:\n",
    "            return b[0]\n",
    "    else:\n",
    "        return a"
   ]
  },
  {
   "cell_type": "code",
   "execution_count": 52,
   "id": "1823fbef",
   "metadata": {},
   "outputs": [],
   "source": [
    "df['Warranty'] = df['Warranty'].apply(clean_alt_list)"
   ]
  },
  {
   "cell_type": "code",
   "execution_count": 53,
   "id": "182fff25",
   "metadata": {},
   "outputs": [],
   "source": [
    "#Rename the column\n",
    "df = df.rename({'Warranty': 'Warranty(months)'}, axis=1)"
   ]
  },
  {
   "cell_type": "code",
   "execution_count": 54,
   "id": "53216ef2",
   "metadata": {},
   "outputs": [],
   "source": [
    "df['Warranty(months)'] = df['Warranty(months)'].astype('float')"
   ]
  },
  {
   "cell_type": "code",
   "execution_count": 55,
   "id": "bf02dd2e",
   "metadata": {},
   "outputs": [
    {
     "data": {
      "text/plain": [
       "NaN     11066\n",
       "12.0     2594\n",
       "24.0     1118\n",
       "60.0      401\n",
       "36.0      279\n",
       "48.0      149\n",
       "6.0       125\n",
       "72.0       59\n",
       "3.0        33\n",
       "23.0       11\n",
       "18.0       10\n",
       "20.0        7\n",
       "25.0        6\n",
       "2.0         5\n",
       "50.0        4\n",
       "26.0        4\n",
       "16.0        4\n",
       "19.0        3\n",
       "1.0         3\n",
       "4.0         3\n",
       "13.0        3\n",
       "34.0        3\n",
       "45.0        2\n",
       "14.0        2\n",
       "17.0        2\n",
       "11.0        2\n",
       "46.0        2\n",
       "28.0        2\n",
       "21.0        2\n",
       "22.0        2\n",
       "9.0         2\n",
       "30.0        1\n",
       "33.0        1\n",
       "56.0        1\n",
       "40.0        1\n",
       "7.0         1\n",
       "15.0        1\n",
       "8.0         1\n",
       "10.0        1\n",
       "49.0        1\n",
       "47.0        1\n",
       "65.0        1\n",
       "Name: Warranty(months), dtype: int64"
      ]
     },
     "execution_count": 55,
     "metadata": {},
     "output_type": "execute_result"
    }
   ],
   "source": [
    "df['Warranty(months)'].value_counts(dropna=False)"
   ]
  },
  {
   "cell_type": "markdown",
   "id": "bc3bbc0f",
   "metadata": {},
   "source": [
    "### Column 16: Full Service"
   ]
  },
  {
   "cell_type": "code",
   "execution_count": 56,
   "id": "aa9afd12",
   "metadata": {},
   "outputs": [
    {
     "ename": "TypeError",
     "evalue": "unhashable type: 'list'",
     "output_type": "error",
     "traceback": [
      "\u001b[0;31m---------------------------------------------------------------------------\u001b[0m",
      "\u001b[0;31mTypeError\u001b[0m                                 Traceback (most recent call last)",
      "\u001b[0;32mpandas/_libs/hashtable_class_helper.pxi\u001b[0m in \u001b[0;36mpandas._libs.hashtable.PyObjectHashTable.map_locations\u001b[0;34m()\u001b[0m\n",
      "\u001b[0;31mTypeError\u001b[0m: unhashable type: 'list'"
     ]
    },
    {
     "name": "stderr",
     "output_type": "stream",
     "text": [
      "Exception ignored in: 'pandas._libs.index.IndexEngine._call_map_locations'\n",
      "Traceback (most recent call last):\n",
      "  File \"pandas/_libs/hashtable_class_helper.pxi\", line 4588, in pandas._libs.hashtable.PyObjectHashTable.map_locations\n",
      "TypeError: unhashable type: 'list'\n"
     ]
    },
    {
     "data": {
      "text/plain": [
       "NaN                                                                                           7704\n",
       "[\\n, \\n, \\n4 (Green)\\n]                                                                       2235\n",
       "[\\n, \\n, \\nEuro 6\\n]                                                                          2097\n",
       "[\\n, \\n]                                                                                      1702\n",
       "[\\n, \\n, \\nEuro 6d-TEMP\\n]                                                                     399\n",
       "                                                                                              ... \n",
       "[\\n, \\n, \\n, 5.4 l/100 km (comb), \\n, 7 l/100 km (city), \\n, 4.5 l/100 km (country), \\n]         1\n",
       "[\\n, \\n, \\n, 4.7 l/100 km (comb), \\n, 5.4 l/100 km (city), \\n, 4.2 l/100 km (country), \\n]       1\n",
       "[\\n, \\n, \\n164 g CO2/km (comb)\\n]                                                                1\n",
       "[\\n, \\n, \\n, 5.4 l/100 km (comb), \\n, 7.3 l/100 km (city), \\n, 4.2 l/100 km (country), \\n]       1\n",
       "[\\n, \\n, \\n, 6 l/100 km (comb), \\n, 7.5 l/100 km (city), \\n, 5.2 l/100 km (country), \\n]         1\n",
       "Name: Full Service, Length: 123, dtype: int64"
      ]
     },
     "execution_count": 56,
     "metadata": {},
     "output_type": "execute_result"
    }
   ],
   "source": [
    "df['Full Service'].value_counts(dropna=False)"
   ]
  },
  {
   "cell_type": "code",
   "execution_count": 57,
   "id": "2c01c7d3",
   "metadata": {},
   "outputs": [],
   "source": [
    "#Drop this column. Same values exist in other columns\n",
    "df.drop(columns = ['Full Service'], inplace = True)"
   ]
  },
  {
   "cell_type": "markdown",
   "id": "4b858b18",
   "metadata": {},
   "source": [
    "### Column 17: Non-smoking Vehicle"
   ]
  },
  {
   "cell_type": "code",
   "execution_count": 58,
   "id": "fad87bbc",
   "metadata": {},
   "outputs": [],
   "source": [
    "#Drop this column. Same values exist in other columns\n",
    "df.drop(columns = ['Non-smoking Vehicle'], inplace = True)"
   ]
  },
  {
   "cell_type": "markdown",
   "id": "0a6a8b80",
   "metadata": {},
   "source": [
    "### Column 18: Null"
   ]
  },
  {
   "cell_type": "code",
   "execution_count": 59,
   "id": "4d30831c",
   "metadata": {},
   "outputs": [],
   "source": [
    "df.drop(columns = ['null'], inplace = True)"
   ]
  },
  {
   "cell_type": "markdown",
   "id": "f24cb94b",
   "metadata": {},
   "source": [
    "### Column 19: Make"
   ]
  },
  {
   "cell_type": "code",
   "execution_count": 60,
   "id": "940ac9b4",
   "metadata": {},
   "outputs": [
    {
     "data": {
      "text/plain": [
       "\\nOpel\\n       7343\n",
       "\\nAudi\\n       5712\n",
       "\\nRenault\\n    2864\n",
       "Name: Make, dtype: int64"
      ]
     },
     "execution_count": 60,
     "metadata": {},
     "output_type": "execute_result"
    }
   ],
   "source": [
    "#Same values with Column 1 ()\n",
    "df.Make.value_counts()"
   ]
  },
  {
   "cell_type": "code",
   "execution_count": 187,
   "id": "090d3123",
   "metadata": {},
   "outputs": [],
   "source": [
    "df.drop(columns = ['Make'], inplace = True)"
   ]
  },
  {
   "cell_type": "markdown",
   "id": "c9eaf2f6",
   "metadata": {},
   "source": [
    "### 20 Column: Model"
   ]
  },
  {
   "cell_type": "code",
   "execution_count": 62,
   "id": "c2fcc776",
   "metadata": {},
   "outputs": [
    {
     "ename": "TypeError",
     "evalue": "unhashable type: 'list'",
     "output_type": "error",
     "traceback": [
      "\u001b[0;31m---------------------------------------------------------------------------\u001b[0m",
      "\u001b[0;31mTypeError\u001b[0m                                 Traceback (most recent call last)",
      "\u001b[0;32mpandas/_libs/hashtable_class_helper.pxi\u001b[0m in \u001b[0;36mpandas._libs.hashtable.PyObjectHashTable.map_locations\u001b[0;34m()\u001b[0m\n",
      "\u001b[0;31mTypeError\u001b[0m: unhashable type: 'list'"
     ]
    },
    {
     "name": "stderr",
     "output_type": "stream",
     "text": [
      "Exception ignored in: 'pandas._libs.index.IndexEngine._call_map_locations'\n",
      "Traceback (most recent call last):\n",
      "  File \"pandas/_libs/hashtable_class_helper.pxi\", line 4588, in pandas._libs.hashtable.PyObjectHashTable.map_locations\n",
      "TypeError: unhashable type: 'list'\n"
     ]
    },
    {
     "data": {
      "text/plain": [
       "[\\n, A3, \\n]          3097\n",
       "[\\n, A1, \\n]          2614\n",
       "[\\n, Insignia, \\n]    2598\n",
       "[\\n, Astra, \\n]       2526\n",
       "[\\n, Corsa, \\n]       2219\n",
       "[\\n, Clio, \\n]        1839\n",
       "[\\n, Espace, \\n]       991\n",
       "[\\n, Duster, \\n]        34\n",
       "[\\n, A2, \\n]             1\n",
       "Name: Model, dtype: int64"
      ]
     },
     "execution_count": 62,
     "metadata": {},
     "output_type": "execute_result"
    }
   ],
   "source": [
    "#Same values with Column 1 ()\n",
    "df.Model.value_counts()"
   ]
  },
  {
   "cell_type": "code",
   "execution_count": 188,
   "id": "6311be65",
   "metadata": {},
   "outputs": [],
   "source": [
    "df.drop(columns = ['Model'], inplace = True)"
   ]
  },
  {
   "cell_type": "markdown",
   "id": "3d22047b",
   "metadata": {},
   "source": [
    "### Column 21: Offer Number"
   ]
  },
  {
   "cell_type": "code",
   "execution_count": 65,
   "id": "6f1f9d5f",
   "metadata": {},
   "outputs": [],
   "source": [
    "#I will drop the column since the values seems irrelevant for our analysis\n",
    "df.drop(columns = ['Offer Number'], inplace = True)"
   ]
  },
  {
   "cell_type": "markdown",
   "id": "82779871",
   "metadata": {},
   "source": [
    "### Column 22: First Registration"
   ]
  },
  {
   "cell_type": "code",
   "execution_count": 66,
   "id": "d7d25cf1",
   "metadata": {},
   "outputs": [
    {
     "data": {
      "text/plain": [
       "0        [\\n, 2016, \\n]\n",
       "1        [\\n, 2017, \\n]\n",
       "2        [\\n, 2016, \\n]\n",
       "3        [\\n, 2016, \\n]\n",
       "4        [\\n, 2016, \\n]\n",
       "              ...      \n",
       "15914               NaN\n",
       "15915    [\\n, 2019, \\n]\n",
       "15916    [\\n, 2019, \\n]\n",
       "15917    [\\n, 2019, \\n]\n",
       "15918    [\\n, 2019, \\n]\n",
       "Name: First Registration, Length: 15919, dtype: object"
      ]
     },
     "execution_count": 66,
     "metadata": {},
     "output_type": "execute_result"
    }
   ],
   "source": [
    "df['First Registration']"
   ]
  },
  {
   "cell_type": "code",
   "execution_count": 67,
   "id": "6ab9f64f",
   "metadata": {},
   "outputs": [],
   "source": [
    "#The values are the year part of the column 8 (registration). So, I will drop the column\n",
    "df.drop(columns = ['First Registration'], inplace = True)"
   ]
  },
  {
   "cell_type": "markdown",
   "id": "8ce38def",
   "metadata": {},
   "source": [
    "### Column 23: Body Color"
   ]
  },
  {
   "cell_type": "code",
   "execution_count": 68,
   "id": "a5c6c19d",
   "metadata": {},
   "outputs": [
    {
     "ename": "TypeError",
     "evalue": "unhashable type: 'list'",
     "output_type": "error",
     "traceback": [
      "\u001b[0;31m---------------------------------------------------------------------------\u001b[0m",
      "\u001b[0;31mTypeError\u001b[0m                                 Traceback (most recent call last)",
      "\u001b[0;32mpandas/_libs/hashtable_class_helper.pxi\u001b[0m in \u001b[0;36mpandas._libs.hashtable.PyObjectHashTable.map_locations\u001b[0;34m()\u001b[0m\n",
      "\u001b[0;31mTypeError\u001b[0m: unhashable type: 'list'"
     ]
    },
    {
     "name": "stderr",
     "output_type": "stream",
     "text": [
      "Exception ignored in: 'pandas._libs.index.IndexEngine._call_map_locations'\n",
      "Traceback (most recent call last):\n",
      "  File \"pandas/_libs/hashtable_class_helper.pxi\", line 4588, in pandas._libs.hashtable.PyObjectHashTable.map_locations\n",
      "TypeError: unhashable type: 'list'\n"
     ]
    },
    {
     "data": {
      "text/plain": [
       "[\\n, Black, \\n]     3745\n",
       "[\\n, Grey, \\n]      3505\n",
       "[\\n, White, \\n]     3406\n",
       "[\\n, Silver, \\n]    1647\n",
       "[\\n, Blue, \\n]      1431\n",
       "[\\n, Red, \\n]        957\n",
       "[\\n, Brown, \\n]      289\n",
       "[\\n, Green, \\n]      154\n",
       "[\\n, Beige, \\n]      108\n",
       "[\\n, Yellow, \\n]      51\n",
       "[\\n, Violet, \\n]      18\n",
       "[\\n, Bronze, \\n]       6\n",
       "[\\n, Orange, \\n]       3\n",
       "[\\n, Gold, \\n]         2\n",
       "Name: Body Color, dtype: int64"
      ]
     },
     "execution_count": 68,
     "metadata": {},
     "output_type": "execute_result"
    }
   ],
   "source": [
    "df['Body Color'].value_counts()"
   ]
  },
  {
   "cell_type": "code",
   "execution_count": 69,
   "id": "72e1838d",
   "metadata": {},
   "outputs": [
    {
     "data": {
      "text/plain": [
       "0        Black\n",
       "1          Red\n",
       "2        Black\n",
       "3        Brown\n",
       "4        Black\n",
       "         ...  \n",
       "15914     Grey\n",
       "15915     Grey\n",
       "15916    White\n",
       "15917     Grey\n",
       "15918     Grey\n",
       "Name: Body Color, Length: 15919, dtype: object"
      ]
     },
     "execution_count": 69,
     "metadata": {},
     "output_type": "execute_result"
    }
   ],
   "source": [
    "df['Body Color'] = df['Body Color'].str[1]\n",
    "df['Body Color']"
   ]
  },
  {
   "cell_type": "code",
   "execution_count": 70,
   "id": "554c2d07",
   "metadata": {},
   "outputs": [
    {
     "data": {
      "text/plain": [
       "597"
      ]
     },
     "execution_count": 70,
     "metadata": {},
     "output_type": "execute_result"
    }
   ],
   "source": [
    "df['Body Color'].isnull().sum()"
   ]
  },
  {
   "cell_type": "markdown",
   "id": "908415fb",
   "metadata": {},
   "source": [
    "### Column 24: Paint Type"
   ]
  },
  {
   "cell_type": "code",
   "execution_count": 71,
   "id": "0d33996a",
   "metadata": {},
   "outputs": [
    {
     "data": {
      "text/plain": [
       "0        [\\nMetallic\\n]\n",
       "1                   NaN\n",
       "2        [\\nMetallic\\n]\n",
       "3        [\\nMetallic\\n]\n",
       "4        [\\nMetallic\\n]\n",
       "              ...      \n",
       "15914    [\\nMetallic\\n]\n",
       "15915    [\\nMetallic\\n]\n",
       "15916               NaN\n",
       "15917               NaN\n",
       "15918    [\\nMetallic\\n]\n",
       "Name: Paint Type, Length: 15919, dtype: object"
      ]
     },
     "execution_count": 71,
     "metadata": {},
     "output_type": "execute_result"
    }
   ],
   "source": [
    "df['Paint Type']"
   ]
  },
  {
   "cell_type": "code",
   "execution_count": 72,
   "id": "d6d80c96",
   "metadata": {},
   "outputs": [],
   "source": [
    "df['Paint Type'] = df['Paint Type'].str[0].fillna('unknown').map(lambda x: x.rstrip('\\n').lstrip('\\n'))"
   ]
  },
  {
   "cell_type": "code",
   "execution_count": 73,
   "id": "4257a27e",
   "metadata": {},
   "outputs": [
    {
     "data": {
      "text/plain": [
       "0        Metallic\n",
       "1         unknown\n",
       "2        Metallic\n",
       "3        Metallic\n",
       "4        Metallic\n",
       "           ...   \n",
       "15914    Metallic\n",
       "15915    Metallic\n",
       "15916     unknown\n",
       "15917     unknown\n",
       "15918    Metallic\n",
       "Name: Paint Type, Length: 15919, dtype: object"
      ]
     },
     "execution_count": 73,
     "metadata": {},
     "output_type": "execute_result"
    }
   ],
   "source": [
    "df['Paint Type']"
   ]
  },
  {
   "cell_type": "markdown",
   "id": "7df6c174",
   "metadata": {},
   "source": [
    "### Column 25: Body Color Original"
   ]
  },
  {
   "cell_type": "code",
   "execution_count": 74,
   "id": "6651cd85",
   "metadata": {},
   "outputs": [
    {
     "data": {
      "text/plain": [
       "0                 [\\nMythosschwarz\\n]\n",
       "1                                 NaN\n",
       "2        [\\nmythosschwarz metallic\\n]\n",
       "3                                 NaN\n",
       "4        [\\nMythosschwarz Metallic\\n]\n",
       "                     ...             \n",
       "15914              [\\nGrigio scuro\\n]\n",
       "15915       [\\nStahl-Grau Metallic\\n]\n",
       "15916               [\\narktis-weiß\\n]\n",
       "15917                    [\\nGrigio\\n]\n",
       "15918    [\\nTitanium-Grau Metallic\\n]\n",
       "Name: Body Color Original, Length: 15919, dtype: object"
      ]
     },
     "execution_count": 74,
     "metadata": {},
     "output_type": "execute_result"
    }
   ],
   "source": [
    "df['Body Color Original']"
   ]
  },
  {
   "cell_type": "code",
   "execution_count": 75,
   "id": "17ed4240",
   "metadata": {},
   "outputs": [
    {
     "data": {
      "text/plain": [
       "0                 Mythosschwarz\n",
       "1                       unknown\n",
       "2        mythosschwarz metallic\n",
       "3                       unknown\n",
       "4        Mythosschwarz Metallic\n",
       "                  ...          \n",
       "15914              Grigio scuro\n",
       "15915       Stahl-Grau Metallic\n",
       "15916               arktis-weiß\n",
       "15917                    Grigio\n",
       "15918    Titanium-Grau Metallic\n",
       "Name: Body Color Original, Length: 15919, dtype: object"
      ]
     },
     "execution_count": 75,
     "metadata": {},
     "output_type": "execute_result"
    }
   ],
   "source": [
    "df['Body Color Original'] = df['Body Color Original'].str[0].fillna('unknown').map(lambda x: x.rstrip('\\n').lstrip('\\n'))\n",
    "df['Body Color Original']"
   ]
  },
  {
   "cell_type": "code",
   "execution_count": 76,
   "id": "ba180878",
   "metadata": {},
   "outputs": [
    {
     "data": {
      "text/plain": [
       "unknown                      3759\n",
       "Onyx Schwarz                  338\n",
       "Bianco                        282\n",
       "Mythosschwarz Metallic        238\n",
       "Brillantschwarz               216\n",
       "                             ... \n",
       "Noir mythic                     1\n",
       "Cosmos Blau Met                 1\n",
       "KOKOSNUSS BRAUN (M2)            1\n",
       "NERO MYTHOS METALLIZZATO        1\n",
       "Rouge Flamme (rood parelm       1\n",
       "Name: Body Color Original, Length: 1928, dtype: int64"
      ]
     },
     "execution_count": 76,
     "metadata": {},
     "output_type": "execute_result"
    }
   ],
   "source": [
    "df['Body Color Original'].value_counts()"
   ]
  },
  {
   "cell_type": "markdown",
   "id": "c13e5e45",
   "metadata": {},
   "source": [
    "### Column 26: Upholstery"
   ]
  },
  {
   "cell_type": "code",
   "execution_count": 77,
   "id": "3b5d4f0f",
   "metadata": {},
   "outputs": [
    {
     "data": {
      "text/plain": [
       "0               [\\nCloth, Black\\n]\n",
       "1                [\\nCloth, Grey\\n]\n",
       "2               [\\nCloth, Black\\n]\n",
       "3                              NaN\n",
       "4               [\\nCloth, Black\\n]\n",
       "                   ...            \n",
       "15914                          NaN\n",
       "15915                  [\\nCloth\\n]\n",
       "15916    [\\nFull leather, Black\\n]\n",
       "15917           [\\nPart leather\\n]\n",
       "15918    [\\nFull leather, Brown\\n]\n",
       "Name: Upholstery, Length: 15919, dtype: object"
      ]
     },
     "execution_count": 77,
     "metadata": {},
     "output_type": "execute_result"
    }
   ],
   "source": [
    "df.Upholstery"
   ]
  },
  {
   "cell_type": "code",
   "execution_count": 78,
   "id": "8a415c40",
   "metadata": {},
   "outputs": [
    {
     "data": {
      "text/plain": [
       "\\nCloth, Black\\n           5821\n",
       "\\nPart leather, Black\\n    1121\n",
       "\\nCloth\\n                  1005\n",
       "\\nCloth, Grey\\n             891\n",
       "\\nCloth, Other\\n            639\n",
       "\\nFull leather, Black\\n     575\n",
       "\\nBlack\\n                   491\n",
       "\\nGrey\\n                    273\n",
       "\\nOther, Other\\n            182\n",
       "\\nPart leather\\n            140\n",
       "\\nFull leather\\n            139\n",
       "\\nPart leather, Grey\\n      116\n",
       "\\nFull leather, Brown\\n     116\n",
       "\\nOther, Black\\n            110\n",
       "\\nFull leather, Other\\n      72\n",
       "\\nFull leather, Grey\\n       67\n",
       "\\nPart leather, Other\\n      65\n",
       "\\nOther\\n                    56\n",
       "\\nPart leather, Brown\\n      50\n",
       "\\nalcantara, Black\\n         47\n",
       "\\nVelour, Black\\n            36\n",
       "\\nFull leather, Beige\\n      36\n",
       "\\nCloth, Brown\\n             28\n",
       "\\nVelour\\n                   16\n",
       "\\nOther, Grey\\n              15\n",
       "\\nCloth, Beige\\n             13\n",
       "\\nBrown\\n                    12\n",
       "\\nCloth, Blue\\n              12\n",
       "\\nVelour, Grey\\n              8\n",
       "\\nCloth, White\\n              8\n",
       "\\nalcantara, Grey\\n           6\n",
       "\\nCloth, Red\\n                5\n",
       "\\nOther, Yellow\\n             4\n",
       "\\nPart leather, Red\\n         3\n",
       "\\nBeige\\n                     3\n",
       "\\nPart leather, Beige\\n       2\n",
       "\\nFull leather, Blue\\n        2\n",
       "\\nPart leather, White\\n       2\n",
       "\\nWhite\\n                     2\n",
       "\\nBlue\\n                      2\n",
       "\\nalcantara\\n                 2\n",
       "\\nalcantara, Other\\n          2\n",
       "\\nFull leather, White\\n       1\n",
       "\\nCloth, Orange\\n             1\n",
       "\\nOther, Brown\\n              1\n",
       "\\nFull leather, Red\\n         1\n",
       "Name: Upholstery, dtype: int64"
      ]
     },
     "execution_count": 78,
     "metadata": {},
     "output_type": "execute_result"
    }
   ],
   "source": [
    "df.Upholstery.str[0].value_counts()"
   ]
  },
  {
   "cell_type": "code",
   "execution_count": 79,
   "id": "a770f608",
   "metadata": {},
   "outputs": [
    {
     "data": {
      "text/plain": [
       "0               Cloth, Black\n",
       "1                Cloth, Grey\n",
       "2               Cloth, Black\n",
       "3                    unknown\n",
       "4               Cloth, Black\n",
       "                ...         \n",
       "15914                unknown\n",
       "15915                  Cloth\n",
       "15916    Full leather, Black\n",
       "15917           Part leather\n",
       "15918    Full leather, Brown\n",
       "Name: Upholstery, Length: 15919, dtype: object"
      ]
     },
     "execution_count": 79,
     "metadata": {},
     "output_type": "execute_result"
    }
   ],
   "source": [
    "#fill the Null values with 'unknown's and clean it\n",
    "df.Upholstery = df.Upholstery.str[0].fillna('unknown').map(lambda x: x.rstrip('\\n').lstrip('\\n'))\n",
    "df.Upholstery"
   ]
  },
  {
   "cell_type": "code",
   "execution_count": 80,
   "id": "4c377bf6",
   "metadata": {},
   "outputs": [
    {
     "data": {
      "text/plain": [
       "Cloth, Black           5821\n",
       "unknown                3720\n",
       "Part leather, Black    1121\n",
       "Cloth                  1005\n",
       "Cloth, Grey             891\n",
       "Cloth, Other            639\n",
       "Full leather, Black     575\n",
       "Black                   491\n",
       "Grey                    273\n",
       "Other, Other            182\n",
       "Part leather            140\n",
       "Full leather            139\n",
       "Full leather, Brown     116\n",
       "Part leather, Grey      116\n",
       "Other, Black            110\n",
       "Full leather, Other      72\n",
       "Full leather, Grey       67\n",
       "Part leather, Other      65\n",
       "Other                    56\n",
       "Part leather, Brown      50\n",
       "alcantara, Black         47\n",
       "Full leather, Beige      36\n",
       "Velour, Black            36\n",
       "Cloth, Brown             28\n",
       "Velour                   16\n",
       "Other, Grey              15\n",
       "Cloth, Beige             13\n",
       "Cloth, Blue              12\n",
       "Brown                    12\n",
       "Velour, Grey              8\n",
       "Cloth, White              8\n",
       "alcantara, Grey           6\n",
       "Cloth, Red                5\n",
       "Other, Yellow             4\n",
       "Beige                     3\n",
       "Part leather, Red         3\n",
       "Part leather, White       2\n",
       "alcantara, Other          2\n",
       "Blue                      2\n",
       "White                     2\n",
       "alcantara                 2\n",
       "Full leather, Blue        2\n",
       "Part leather, Beige       2\n",
       "Full leather, Red         1\n",
       "Other, Brown              1\n",
       "Cloth, Orange             1\n",
       "Full leather, White       1\n",
       "Name: Upholstery, dtype: int64"
      ]
     },
     "execution_count": 80,
     "metadata": {},
     "output_type": "execute_result"
    }
   ],
   "source": [
    "#Textures and colors are mixed\n",
    "df.Upholstery.value_counts()"
   ]
  },
  {
   "cell_type": "code",
   "execution_count": 81,
   "id": "da37e6cc",
   "metadata": {},
   "outputs": [],
   "source": [
    "#Define a function to add 'unknown' to indexes which have only color\n",
    "def func1(x):\n",
    "    if x in ['Black', 'Grey', 'Brown', 'Beige', 'Blue', 'White']:\n",
    "        x = 'unknown, ' + x\n",
    "    return x"
   ]
  },
  {
   "cell_type": "code",
   "execution_count": 82,
   "id": "8c72f428",
   "metadata": {},
   "outputs": [],
   "source": [
    "df.Upholstery = df.Upholstery.apply(func1)"
   ]
  },
  {
   "cell_type": "code",
   "execution_count": 83,
   "id": "3387db61",
   "metadata": {},
   "outputs": [
    {
     "data": {
      "text/html": [
       "<div>\n",
       "<style scoped>\n",
       "    .dataframe tbody tr th:only-of-type {\n",
       "        vertical-align: middle;\n",
       "    }\n",
       "\n",
       "    .dataframe tbody tr th {\n",
       "        vertical-align: top;\n",
       "    }\n",
       "\n",
       "    .dataframe thead th {\n",
       "        text-align: right;\n",
       "    }\n",
       "</style>\n",
       "<table border=\"1\" class=\"dataframe\">\n",
       "  <thead>\n",
       "    <tr style=\"text-align: right;\">\n",
       "      <th></th>\n",
       "      <th>0</th>\n",
       "      <th>1</th>\n",
       "    </tr>\n",
       "  </thead>\n",
       "  <tbody>\n",
       "    <tr>\n",
       "      <th>0</th>\n",
       "      <td>Cloth</td>\n",
       "      <td>Black</td>\n",
       "    </tr>\n",
       "    <tr>\n",
       "      <th>1</th>\n",
       "      <td>Cloth</td>\n",
       "      <td>Grey</td>\n",
       "    </tr>\n",
       "    <tr>\n",
       "      <th>2</th>\n",
       "      <td>Cloth</td>\n",
       "      <td>Black</td>\n",
       "    </tr>\n",
       "    <tr>\n",
       "      <th>3</th>\n",
       "      <td>unknown</td>\n",
       "      <td>None</td>\n",
       "    </tr>\n",
       "    <tr>\n",
       "      <th>4</th>\n",
       "      <td>Cloth</td>\n",
       "      <td>Black</td>\n",
       "    </tr>\n",
       "    <tr>\n",
       "      <th>...</th>\n",
       "      <td>...</td>\n",
       "      <td>...</td>\n",
       "    </tr>\n",
       "    <tr>\n",
       "      <th>15914</th>\n",
       "      <td>unknown</td>\n",
       "      <td>None</td>\n",
       "    </tr>\n",
       "    <tr>\n",
       "      <th>15915</th>\n",
       "      <td>Cloth</td>\n",
       "      <td>None</td>\n",
       "    </tr>\n",
       "    <tr>\n",
       "      <th>15916</th>\n",
       "      <td>Full leather</td>\n",
       "      <td>Black</td>\n",
       "    </tr>\n",
       "    <tr>\n",
       "      <th>15917</th>\n",
       "      <td>Part leather</td>\n",
       "      <td>None</td>\n",
       "    </tr>\n",
       "    <tr>\n",
       "      <th>15918</th>\n",
       "      <td>Full leather</td>\n",
       "      <td>Brown</td>\n",
       "    </tr>\n",
       "  </tbody>\n",
       "</table>\n",
       "<p>15919 rows × 2 columns</p>\n",
       "</div>"
      ],
      "text/plain": [
       "                  0       1\n",
       "0             Cloth   Black\n",
       "1             Cloth    Grey\n",
       "2             Cloth   Black\n",
       "3           unknown    None\n",
       "4             Cloth   Black\n",
       "...             ...     ...\n",
       "15914       unknown    None\n",
       "15915         Cloth    None\n",
       "15916  Full leather   Black\n",
       "15917  Part leather    None\n",
       "15918  Full leather   Brown\n",
       "\n",
       "[15919 rows x 2 columns]"
      ]
     },
     "execution_count": 83,
     "metadata": {},
     "output_type": "execute_result"
    }
   ],
   "source": [
    "uph = df.Upholstery.str.split(',', 1, expand=True)\n",
    "uph"
   ]
  },
  {
   "cell_type": "code",
   "execution_count": 84,
   "id": "5175d759",
   "metadata": {},
   "outputs": [
    {
     "data": {
      "text/plain": [
       "Cloth           8423\n",
       "unknown         4503\n",
       "Part leather    1499\n",
       "Full leather    1009\n",
       "Other            368\n",
       "Velour            60\n",
       "alcantara         57\n",
       "Name: 0, dtype: int64"
      ]
     },
     "execution_count": 84,
     "metadata": {},
     "output_type": "execute_result"
    }
   ],
   "source": [
    "uph[0].value_counts()"
   ]
  },
  {
   "cell_type": "code",
   "execution_count": 85,
   "id": "63526910",
   "metadata": {},
   "outputs": [
    {
     "data": {
      "text/html": [
       "<div>\n",
       "<style scoped>\n",
       "    .dataframe tbody tr th:only-of-type {\n",
       "        vertical-align: middle;\n",
       "    }\n",
       "\n",
       "    .dataframe tbody tr th {\n",
       "        vertical-align: top;\n",
       "    }\n",
       "\n",
       "    .dataframe thead th {\n",
       "        text-align: right;\n",
       "    }\n",
       "</style>\n",
       "<table border=\"1\" class=\"dataframe\">\n",
       "  <thead>\n",
       "    <tr style=\"text-align: right;\">\n",
       "      <th></th>\n",
       "      <th>0</th>\n",
       "      <th>1</th>\n",
       "    </tr>\n",
       "  </thead>\n",
       "  <tbody>\n",
       "  </tbody>\n",
       "</table>\n",
       "</div>"
      ],
      "text/plain": [
       "Empty DataFrame\n",
       "Columns: [0, 1]\n",
       "Index: []"
      ]
     },
     "execution_count": 85,
     "metadata": {},
     "output_type": "execute_result"
    }
   ],
   "source": [
    "uph[uph[0] == 'Black']"
   ]
  },
  {
   "cell_type": "code",
   "execution_count": 86,
   "id": "0849bc4c",
   "metadata": {},
   "outputs": [],
   "source": [
    "#Add both columns as separate columns to our dataset\n",
    "df['Upholstery_Texture'] = uph[0]\n",
    "df['Upholstery_Color'] = uph[1]"
   ]
  },
  {
   "cell_type": "code",
   "execution_count": 87,
   "id": "b94de6b7",
   "metadata": {},
   "outputs": [],
   "source": [
    "df.drop(columns = ['Upholstery'], inplace = True)"
   ]
  },
  {
   "cell_type": "markdown",
   "id": "da2b6989",
   "metadata": {},
   "source": [
    "### Column 27: Body"
   ]
  },
  {
   "cell_type": "code",
   "execution_count": 88,
   "id": "e743c352",
   "metadata": {},
   "outputs": [
    {
     "data": {
      "text/plain": [
       "Sedans           7903\n",
       "Station wagon    3553\n",
       "Compact          3153\n",
       "Van               783\n",
       "Other             290\n",
       "Transporter        88\n",
       "Off-Road           56\n",
       "Coupe              25\n",
       "Convertible         8\n",
       "Name: Body, dtype: int64"
      ]
     },
     "execution_count": 88,
     "metadata": {},
     "output_type": "execute_result"
    }
   ],
   "source": [
    "df.Body.str[1].value_counts()"
   ]
  },
  {
   "cell_type": "code",
   "execution_count": 89,
   "id": "f44fa62d",
   "metadata": {},
   "outputs": [],
   "source": [
    "df.Body = df.Body.str[1]"
   ]
  },
  {
   "cell_type": "markdown",
   "id": "c0b3962f",
   "metadata": {},
   "source": [
    "### Column 28: Nr. of Doors"
   ]
  },
  {
   "cell_type": "code",
   "execution_count": 90,
   "id": "a00cba3b",
   "metadata": {},
   "outputs": [
    {
     "data": {
      "text/plain": [
       "\\n5\\n    11575\n",
       "\\n4\\n     3079\n",
       "\\n3\\n      832\n",
       "\\n2\\n      219\n",
       "NaN        212\n",
       "\\n7\\n        1\n",
       "\\n1\\n        1\n",
       "Name: Nr. of Doors, dtype: int64"
      ]
     },
     "execution_count": 90,
     "metadata": {},
     "output_type": "execute_result"
    }
   ],
   "source": [
    "df['Nr. of Doors'].str[0].value_counts(dropna=False)"
   ]
  },
  {
   "cell_type": "code",
   "execution_count": 91,
   "id": "3972bfc6",
   "metadata": {},
   "outputs": [],
   "source": [
    "df['Nr. of Doors'] = df['Nr. of Doors'].str[0].str[1].astype('float')"
   ]
  },
  {
   "cell_type": "code",
   "execution_count": 92,
   "id": "ef694f0b",
   "metadata": {},
   "outputs": [
    {
     "data": {
      "text/plain": [
       "0        5.0\n",
       "1        3.0\n",
       "2        4.0\n",
       "3        3.0\n",
       "4        5.0\n",
       "        ... \n",
       "15914    5.0\n",
       "15915    5.0\n",
       "15916    5.0\n",
       "15917    5.0\n",
       "15918    5.0\n",
       "Name: Nr. of Doors, Length: 15919, dtype: float64"
      ]
     },
     "execution_count": 92,
     "metadata": {},
     "output_type": "execute_result"
    }
   ],
   "source": [
    "df['Nr. of Doors']"
   ]
  },
  {
   "cell_type": "markdown",
   "id": "f6b6d8b7",
   "metadata": {},
   "source": [
    "### Column 29: Nr. of Seats"
   ]
  },
  {
   "cell_type": "code",
   "execution_count": 93,
   "id": "2461dd0e",
   "metadata": {},
   "outputs": [],
   "source": [
    "df['Nr. of Seats'] = df['Nr. of Seats'].str[0].str[1].astype('float')"
   ]
  },
  {
   "cell_type": "code",
   "execution_count": 94,
   "id": "2fc5a2f2",
   "metadata": {},
   "outputs": [
    {
     "data": {
      "text/plain": [
       "0        5.0\n",
       "1        4.0\n",
       "2        4.0\n",
       "3        4.0\n",
       "4        5.0\n",
       "        ... \n",
       "15914    5.0\n",
       "15915    5.0\n",
       "15916    7.0\n",
       "15917    7.0\n",
       "15918    5.0\n",
       "Name: Nr. of Seats, Length: 15919, dtype: float64"
      ]
     },
     "execution_count": 94,
     "metadata": {},
     "output_type": "execute_result"
    }
   ],
   "source": [
    "df['Nr. of Seats']"
   ]
  },
  {
   "cell_type": "markdown",
   "id": "97104dd9",
   "metadata": {},
   "source": [
    "### Column 30: Model Code"
   ]
  },
  {
   "cell_type": "code",
   "execution_count": 95,
   "id": "722667f8",
   "metadata": {},
   "outputs": [
    {
     "data": {
      "text/plain": [
       "0        [\\n0588/BDF\\n]\n",
       "1        [\\n0588/BCY\\n]\n",
       "2                   NaN\n",
       "3                   NaN\n",
       "4        [\\n0588/BDF\\n]\n",
       "              ...      \n",
       "15914               NaN\n",
       "15915    [\\n0000/000\\n]\n",
       "15916               NaN\n",
       "15917               NaN\n",
       "15918    [\\n3333/BHJ\\n]\n",
       "Name: Model Code, Length: 15919, dtype: object"
      ]
     },
     "execution_count": 95,
     "metadata": {},
     "output_type": "execute_result"
    }
   ],
   "source": [
    "df['Model Code']"
   ]
  },
  {
   "cell_type": "code",
   "execution_count": 173,
   "id": "d799a48d",
   "metadata": {},
   "outputs": [],
   "source": [
    "#I think model code is not influential on price. So, I will drop this column\n",
    "df.drop(columns = ['Model Code'], inplace = True)"
   ]
  },
  {
   "cell_type": "markdown",
   "id": "4fff304e",
   "metadata": {},
   "source": [
    "### Column 31: Gearing Type"
   ]
  },
  {
   "cell_type": "code",
   "execution_count": 98,
   "id": "40044445",
   "metadata": {},
   "outputs": [
    {
     "data": {
      "text/plain": [
       "0        Automatic\n",
       "1        Automatic\n",
       "2        Automatic\n",
       "3        Automatic\n",
       "4        Automatic\n",
       "           ...    \n",
       "15914    Automatic\n",
       "15915    Automatic\n",
       "15916    Automatic\n",
       "15917    Automatic\n",
       "15918    Automatic\n",
       "Name: Gearing Type, Length: 15919, dtype: object"
      ]
     },
     "execution_count": 98,
     "metadata": {},
     "output_type": "execute_result"
    }
   ],
   "source": [
    "df['Gearing Type'] = df['Gearing Type'].str[1]\n",
    "df['Gearing Type']"
   ]
  },
  {
   "cell_type": "markdown",
   "id": "6dd1eb0c",
   "metadata": {},
   "source": [
    "### Column 32: Displacement"
   ]
  },
  {
   "cell_type": "code",
   "execution_count": 99,
   "id": "bcb4baca",
   "metadata": {},
   "outputs": [
    {
     "data": {
      "text/plain": [
       "0        1422.0\n",
       "1        1798.0\n",
       "2        1598.0\n",
       "3        1422.0\n",
       "4        1422.0\n",
       "          ...  \n",
       "15914    1997.0\n",
       "15915    1798.0\n",
       "15916    1997.0\n",
       "15917    1997.0\n",
       "15918    1798.0\n",
       "Name: Displacement, Length: 15919, dtype: float64"
      ]
     },
     "execution_count": 99,
     "metadata": {},
     "output_type": "execute_result"
    }
   ],
   "source": [
    "#Remove comma, get digits, and convert to float\n",
    "df['Displacement'] = df['Displacement'].str[0].str.replace(',', '').str.findall('\\d+').str[0].astype('float')\n",
    "df['Displacement']"
   ]
  },
  {
   "cell_type": "code",
   "execution_count": 100,
   "id": "bd3db0ef",
   "metadata": {},
   "outputs": [
    {
     "data": {
      "text/plain": [
       "1598.0    4761\n",
       "999.0     2438\n",
       "1398.0    1314\n",
       "1399.0     749\n",
       "1229.0     677\n",
       "          ... \n",
       "1368.0       1\n",
       "1390.0       1\n",
       "54.0         1\n",
       "1856.0       1\n",
       "1533.0       1\n",
       "Name: Displacement, Length: 78, dtype: int64"
      ]
     },
     "execution_count": 100,
     "metadata": {},
     "output_type": "execute_result"
    }
   ],
   "source": [
    "df['Displacement'].value_counts(dropna=False)"
   ]
  },
  {
   "cell_type": "code",
   "execution_count": 190,
   "id": "e86829b3",
   "metadata": {},
   "outputs": [],
   "source": [
    "def disp(d1,d2):\n",
    "    if (d1>4000) | (d1<700) | np.isnan(d1):\n",
    "        if np.isnan(d2):\n",
    "            return d1\n",
    "        else:\n",
    "            return d2\n",
    "    else:\n",
    "        return d1"
   ]
  },
  {
   "cell_type": "code",
   "execution_count": 192,
   "id": "4c341e71",
   "metadata": {},
   "outputs": [],
   "source": [
    "df['Displacement'] = df.apply(lambda x: disp(x['Displacement'],x['short_description']),axis=1)"
   ]
  },
  {
   "cell_type": "code",
   "execution_count": 193,
   "id": "776e72d3",
   "metadata": {},
   "outputs": [
    {
     "data": {
      "text/plain": [
       "180"
      ]
     },
     "execution_count": 193,
     "metadata": {},
     "output_type": "execute_result"
    }
   ],
   "source": [
    "df['Displacement'].isnull().sum()"
   ]
  },
  {
   "cell_type": "code",
   "execution_count": 194,
   "id": "69836275",
   "metadata": {},
   "outputs": [],
   "source": [
    "#Drop Column 2\n",
    "df.drop([\"short_description\"],axis=1,inplace=True)"
   ]
  },
  {
   "cell_type": "markdown",
   "id": "86c5f8d2",
   "metadata": {},
   "source": [
    "### Column 33: Cylinders"
   ]
  },
  {
   "cell_type": "code",
   "execution_count": 101,
   "id": "a0377ef6",
   "metadata": {},
   "outputs": [
    {
     "data": {
      "text/plain": [
       "0        3.0\n",
       "1        4.0\n",
       "2        NaN\n",
       "3        3.0\n",
       "4        3.0\n",
       "        ... \n",
       "15914    4.0\n",
       "15915    4.0\n",
       "15916    4.0\n",
       "15917    4.0\n",
       "15918    4.0\n",
       "Name: Cylinders, Length: 15919, dtype: float64"
      ]
     },
     "execution_count": 101,
     "metadata": {},
     "output_type": "execute_result"
    }
   ],
   "source": [
    "df['Cylinders'] = df['Cylinders'].str[0].str.findall('\\d+').str[0].astype('float')\n",
    "df['Cylinders']"
   ]
  },
  {
   "cell_type": "markdown",
   "id": "a7fa687f",
   "metadata": {},
   "source": [
    "### Column 34: Weight"
   ]
  },
  {
   "cell_type": "code",
   "execution_count": 102,
   "id": "731c6d81",
   "metadata": {},
   "outputs": [
    {
     "data": {
      "text/plain": [
       "0        1220.0\n",
       "1        1255.0\n",
       "2           NaN\n",
       "3        1195.0\n",
       "4           NaN\n",
       "          ...  \n",
       "15914    1758.0\n",
       "15915    1708.0\n",
       "15916       NaN\n",
       "15917    1758.0\n",
       "15918    1685.0\n",
       "Name: Weight, Length: 15919, dtype: float64"
      ]
     },
     "execution_count": 102,
     "metadata": {},
     "output_type": "execute_result"
    }
   ],
   "source": [
    "df['Weight'] = df['Weight'].str[0].str.replace(',', '').str.findall('\\d+').str[0].astype('float')\n",
    "df['Weight']"
   ]
  },
  {
   "cell_type": "markdown",
   "id": "ca4b3148",
   "metadata": {},
   "source": [
    "### Column 35: Drive chain"
   ]
  },
  {
   "cell_type": "code",
   "execution_count": 231,
   "id": "e7d1ddf5",
   "metadata": {},
   "outputs": [
    {
     "data": {
      "text/plain": [
       "0        front\n",
       "1        front\n",
       "2        front\n",
       "3          NaN\n",
       "4        front\n",
       "         ...  \n",
       "15914    front\n",
       "15915    front\n",
       "15916    front\n",
       "15917    front\n",
       "15918      4WD\n",
       "Name: Drive chain, Length: 15919, dtype: object"
      ]
     },
     "execution_count": 231,
     "metadata": {},
     "output_type": "execute_result"
    }
   ],
   "source": [
    "df[\"Drive chain\"]=df1[\"Drive chain\"].str[0].str.strip()\n",
    "df['Drive chain']"
   ]
  },
  {
   "cell_type": "markdown",
   "id": "e4f03a6a",
   "metadata": {},
   "source": [
    "### Column 36: Fuel"
   ]
  },
  {
   "cell_type": "code",
   "execution_count": 104,
   "id": "6a0142d8",
   "metadata": {},
   "outputs": [],
   "source": [
    "df[\"Fuel\"]=df[\"Fuel\"].str[1]"
   ]
  },
  {
   "cell_type": "code",
   "execution_count": 105,
   "id": "5f309e57",
   "metadata": {},
   "outputs": [],
   "source": [
    "def func2(x):\n",
    "    if 'Diesel' in x:\n",
    "        return 'Diesel'\n",
    "    elif 'Super' in x:\n",
    "        return 'Benzine'\n",
    "    elif 'Gasoline' in x:\n",
    "        return 'Benzine'\n",
    "    elif 'Benzine' in x:\n",
    "        return 'Benzine'\n",
    "    else:\n",
    "        return x"
   ]
  },
  {
   "cell_type": "code",
   "execution_count": 106,
   "id": "10140321",
   "metadata": {},
   "outputs": [],
   "source": [
    "df[\"Fuel\"]=df[\"Fuel\"].apply(func2)"
   ]
  },
  {
   "cell_type": "code",
   "execution_count": 107,
   "id": "ae0fed82",
   "metadata": {},
   "outputs": [],
   "source": [
    "df['Fuel'].replace(['CNG','LPG', 'Liquid petroleum gas (LPG)','CNG (Particulate Filter)', 'Domestic gas H','Biogas'], 'Gas',inplace = True)"
   ]
  },
  {
   "cell_type": "code",
   "execution_count": 108,
   "id": "453c6975",
   "metadata": {},
   "outputs": [],
   "source": [
    "df['Fuel'].replace(['Others (Particulate Filter)','Others','Electric'], 'Others',inplace = True)"
   ]
  },
  {
   "cell_type": "code",
   "execution_count": 109,
   "id": "ecbb258c",
   "metadata": {},
   "outputs": [
    {
     "data": {
      "text/plain": [
       "Benzine    8549\n",
       "Diesel     7299\n",
       "Gas          64\n",
       "Others        7\n",
       "Name: Fuel, dtype: int64"
      ]
     },
     "execution_count": 109,
     "metadata": {},
     "output_type": "execute_result"
    }
   ],
   "source": [
    "df[\"Fuel\"].value_counts(dropna=False)"
   ]
  },
  {
   "cell_type": "markdown",
   "id": "6593afb7",
   "metadata": {},
   "source": [
    "### Column 37: Consumption"
   ]
  },
  {
   "cell_type": "code",
   "execution_count": 197,
   "id": "8dcd90e7",
   "metadata": {},
   "outputs": [
    {
     "data": {
      "text/plain": [
       "[['3.8 l/100 km (comb)'], ['4.4 l/100 km (city)'], ['3.4 l/100 km (country)']]"
      ]
     },
     "execution_count": 197,
     "metadata": {},
     "output_type": "execute_result"
    }
   ],
   "source": [
    "df1.Consumption[2]"
   ]
  },
  {
   "cell_type": "code",
   "execution_count": 198,
   "id": "82e26966",
   "metadata": {},
   "outputs": [],
   "source": [
    "def consume_combined(a):\n",
    "    if type(a) == list:\n",
    "        if len(a) >3:\n",
    "            for i in a:\n",
    "                if 'comb' in i:\n",
    "                    return i\n",
    "        else:\n",
    "            return a[0]            \n",
    "    \n",
    "    else:\n",
    "        return a\n",
    "    \n",
    "df['Consumption_combined'] = df1['Consumption'].apply(consume_combined)"
   ]
  },
  {
   "cell_type": "code",
   "execution_count": 199,
   "id": "9eb22b51",
   "metadata": {},
   "outputs": [],
   "source": [
    "def cleaning_consumption(a):\n",
    "    if type(a) == list:\n",
    "        if len(a) > 0:\n",
    "            b = re.findall(\"\\d\\.?\\d?\", a[0])\n",
    "            return b[0]\n",
    "        else:\n",
    "            return np.nan\n",
    "    elif type(a) == str:\n",
    "        b = re.findall(\"\\d\\.?\\d?\",a)\n",
    "        return b[0]        \n",
    "    else:\n",
    "        return a"
   ]
  },
  {
   "cell_type": "code",
   "execution_count": 200,
   "id": "499a6e96",
   "metadata": {},
   "outputs": [],
   "source": [
    "def consume_city(a):\n",
    "    if type(a) == list:\n",
    "        if len(a) >3:\n",
    "            for i in a:\n",
    "                if 'city' in i:\n",
    "                    return i\n",
    "        else:\n",
    "            return a[1]           \n",
    "    \n",
    "    else:\n",
    "        return a\n",
    "    \n",
    "df['Consumption_city'] = df1['Consumption'].apply(consume_city)"
   ]
  },
  {
   "cell_type": "code",
   "execution_count": 201,
   "id": "b2817a8f",
   "metadata": {},
   "outputs": [],
   "source": [
    "def consume_country(a):\n",
    "    if type(a)== list:\n",
    "        if len(a) >3:\n",
    "            for i in a:\n",
    "                if 'country' in i:\n",
    "                    return i\n",
    "        else:\n",
    "            return a[2]            \n",
    "    \n",
    "    else:\n",
    "        return a\n",
    "    \n",
    "df['Consumption_country'] = df1['Consumption'].apply(consume_country)"
   ]
  },
  {
   "cell_type": "code",
   "execution_count": 202,
   "id": "a2f0a2e6",
   "metadata": {},
   "outputs": [],
   "source": [
    "df['Consumption_combined'] = df['Consumption_combined'].apply(cleaning_consumption).astype('float')\n",
    "df['Consumption_city'] = df['Consumption_city'].apply(cleaning_consumption).astype('float')\n",
    "df['Consumption_country'] = df['Consumption_country'].apply(cleaning_consumption).astype('float')"
   ]
  },
  {
   "cell_type": "markdown",
   "id": "5a31edf9",
   "metadata": {},
   "source": [
    "### Column 38: CO2 Emission"
   ]
  },
  {
   "cell_type": "code",
   "execution_count": 121,
   "id": "6a3e72c5",
   "metadata": {},
   "outputs": [
    {
     "data": {
      "text/plain": [
       "0         99\n",
       "1        129\n",
       "2         99\n",
       "3         99\n",
       "4        109\n",
       "        ... \n",
       "15914    139\n",
       "15915    168\n",
       "15916    139\n",
       "15917    139\n",
       "15918    153\n",
       "Name: CO2 Emission, Length: 15919, dtype: object"
      ]
     },
     "execution_count": 121,
     "metadata": {},
     "output_type": "execute_result"
    }
   ],
   "source": [
    "df['CO2 Emission'] = df['CO2 Emission'].str[0].str.findall('\\d+').str[0]\n",
    "df['CO2 Emission']"
   ]
  },
  {
   "cell_type": "code",
   "execution_count": 122,
   "id": "89fcad83",
   "metadata": {},
   "outputs": [],
   "source": [
    "df['CO2 Emission'] = df['CO2 Emission'].astype('float')"
   ]
  },
  {
   "cell_type": "markdown",
   "id": "1a501bed",
   "metadata": {},
   "source": [
    "### Column 39: Emission Class"
   ]
  },
  {
   "cell_type": "code",
   "execution_count": 123,
   "id": "c5ec5f83",
   "metadata": {},
   "outputs": [
    {
     "data": {
      "text/plain": [
       "0              Euro 6\n",
       "1              Euro 6\n",
       "2              Euro 6\n",
       "3              Euro 6\n",
       "4              Euro 6\n",
       "             ...     \n",
       "15914         unknown\n",
       "15915         unknown\n",
       "15916    Euro 6d-TEMP\n",
       "15917          Euro 6\n",
       "15918          Euro 6\n",
       "Name: Emission Class, Length: 15919, dtype: object"
      ]
     },
     "execution_count": 123,
     "metadata": {},
     "output_type": "execute_result"
    }
   ],
   "source": [
    "df['Emission Class'] = df['Emission Class'].str[0].fillna('unknown').str.rstrip('\\n').str.lstrip('\\n')\n",
    "df['Emission Class']"
   ]
  },
  {
   "cell_type": "code",
   "execution_count": 124,
   "id": "6e3eec0d",
   "metadata": {},
   "outputs": [
    {
     "data": {
      "text/plain": [
       "Euro 6          10139\n",
       "unknown          3021\n",
       "Euro 6d-TEMP     1845\n",
       "NaN               607\n",
       "Euro 6c           127\n",
       "Euro 5             78\n",
       "Euro 6d            62\n",
       "Euro 4             40\n",
       "Name: Emission Class, dtype: int64"
      ]
     },
     "execution_count": 124,
     "metadata": {},
     "output_type": "execute_result"
    }
   ],
   "source": [
    "df['Emission Class'].value_counts(dropna=False)"
   ]
  },
  {
   "cell_type": "code",
   "execution_count": 125,
   "id": "dd230cde",
   "metadata": {},
   "outputs": [],
   "source": [
    "df['Emission Class'] = df['Emission Class'].fillna('unknown')"
   ]
  },
  {
   "cell_type": "code",
   "execution_count": 126,
   "id": "44087d4d",
   "metadata": {},
   "outputs": [
    {
     "data": {
      "text/plain": [
       "Euro 6          10139\n",
       "unknown          3628\n",
       "Euro 6d-TEMP     1845\n",
       "Euro 6c           127\n",
       "Euro 5             78\n",
       "Euro 6d            62\n",
       "Euro 4             40\n",
       "Name: Emission Class, dtype: int64"
      ]
     },
     "execution_count": 126,
     "metadata": {},
     "output_type": "execute_result"
    }
   ],
   "source": [
    "df['Emission Class'].value_counts(dropna=False)"
   ]
  },
  {
   "cell_type": "code",
   "execution_count": 127,
   "id": "c2fa506d",
   "metadata": {},
   "outputs": [],
   "source": [
    "df['Emission Class'].replace(['Euro 6d-TEMP', 'Euro 6c', 'Euro 6d'], 'Euro 6', inplace = True)"
   ]
  },
  {
   "cell_type": "code",
   "execution_count": 128,
   "id": "260ed1af",
   "metadata": {},
   "outputs": [
    {
     "data": {
      "text/plain": [
       "Euro 6     12173\n",
       "unknown     3628\n",
       "Euro 5        78\n",
       "Euro 4        40\n",
       "Name: Emission Class, dtype: int64"
      ]
     },
     "execution_count": 128,
     "metadata": {},
     "output_type": "execute_result"
    }
   ],
   "source": [
    "df['Emission Class'].value_counts(dropna=False)"
   ]
  },
  {
   "cell_type": "markdown",
   "id": "b875947a",
   "metadata": {},
   "source": [
    "### Column 40: Comfort & Convenience"
   ]
  },
  {
   "cell_type": "code",
   "execution_count": 129,
   "id": "94c9bbba",
   "metadata": {},
   "outputs": [
    {
     "data": {
      "text/plain": [
       "0        [Air conditioning, Armrest, Automatic climate ...\n",
       "1        [Air conditioning, Automatic climate control, ...\n",
       "2        [Air conditioning, Cruise control, Electrical ...\n",
       "3        [Air suspension, Armrest, Auxiliary heating, E...\n",
       "4        [Air conditioning, Armrest, Automatic climate ...\n",
       "                               ...                        \n",
       "15914    [Air conditioning, Automatic climate control, ...\n",
       "15915    [Air conditioning, Automatic climate control, ...\n",
       "15916    [Air conditioning, Armrest, Automatic climate ...\n",
       "15917    [Air conditioning, Automatic climate control, ...\n",
       "15918    [Air conditioning, Automatic climate control, ...\n",
       "Name: \\nComfort & Convenience\\n, Length: 15919, dtype: object"
      ]
     },
     "execution_count": 129,
     "metadata": {},
     "output_type": "execute_result"
    }
   ],
   "source": [
    "#The Column consists of list values including Comfort & Convenience features.\n",
    "df['\\nComfort & Convenience\\n']"
   ]
  },
  {
   "cell_type": "code",
   "execution_count": 225,
   "id": "d43caf27",
   "metadata": {},
   "outputs": [],
   "source": [
    "#Assuming number of features is influential on price, I will take the numbers instead of features as categories.\n",
    "df['Comfort & Convenience'] = df['\\nComfort & Convenience\\n'].str.len()"
   ]
  },
  {
   "cell_type": "code",
   "execution_count": 226,
   "id": "4c013522",
   "metadata": {},
   "outputs": [],
   "source": [
    "df.drop(columns = ['\\nComfort & Convenience\\n'], inplace = True)"
   ]
  },
  {
   "cell_type": "markdown",
   "id": "6aba592a",
   "metadata": {},
   "source": [
    "### Column 41: Entertainment & Media"
   ]
  },
  {
   "cell_type": "code",
   "execution_count": 130,
   "id": "5fe3002f",
   "metadata": {},
   "outputs": [
    {
     "data": {
      "text/plain": [
       "0        [Bluetooth, Hands-free equipment, On-board com...\n",
       "1        [Bluetooth, Hands-free equipment, On-board com...\n",
       "2                                 [MP3, On-board computer]\n",
       "3        [Bluetooth, CD player, Hands-free equipment, M...\n",
       "4        [Bluetooth, CD player, Hands-free equipment, M...\n",
       "                               ...                        \n",
       "15914    [Bluetooth, Digital radio, Hands-free equipmen...\n",
       "15915    [Bluetooth, Digital radio, Hands-free equipmen...\n",
       "15916    [Bluetooth, Hands-free equipment, On-board com...\n",
       "15917               [Bluetooth, Digital radio, Radio, USB]\n",
       "15918                                                [USB]\n",
       "Name: \\nEntertainment & Media\\n, Length: 15919, dtype: object"
      ]
     },
     "execution_count": 130,
     "metadata": {},
     "output_type": "execute_result"
    }
   ],
   "source": [
    "df['\\nEntertainment & Media\\n']"
   ]
  },
  {
   "cell_type": "code",
   "execution_count": 219,
   "id": "66d7b4cc",
   "metadata": {},
   "outputs": [
    {
     "data": {
      "text/plain": [
       "['Bluetooth', 'Hands-free equipment', 'On-board computer', 'Radio']"
      ]
     },
     "execution_count": 219,
     "metadata": {},
     "output_type": "execute_result"
    }
   ],
   "source": [
    "df['\\nEntertainment & Media\\n'][0]"
   ]
  },
  {
   "cell_type": "code",
   "execution_count": 221,
   "id": "e9aff21e",
   "metadata": {},
   "outputs": [],
   "source": [
    "df['Entertainment & Media'] = df['\\nEntertainment & Media\\n'].str.len()"
   ]
  },
  {
   "cell_type": "code",
   "execution_count": 222,
   "id": "549ec761",
   "metadata": {},
   "outputs": [],
   "source": [
    "df.drop(columns = ['\\nEntertainment & Media\\n'], inplace = True)"
   ]
  },
  {
   "cell_type": "markdown",
   "id": "08845952",
   "metadata": {},
   "source": [
    "### Column 42: Extras"
   ]
  },
  {
   "cell_type": "code",
   "execution_count": 131,
   "id": "f7b45c38",
   "metadata": {},
   "outputs": [
    {
     "data": {
      "text/plain": [
       "0        [Alloy wheels, Catalytic Converter, Voice Cont...\n",
       "1        [Alloy wheels, Sport seats, Sport suspension, ...\n",
       "2                            [Alloy wheels, Voice Control]\n",
       "3               [Alloy wheels, Sport seats, Voice Control]\n",
       "4        [Alloy wheels, Sport package, Sport suspension...\n",
       "                               ...                        \n",
       "15914                         [Alloy wheels, Touch screen]\n",
       "15915          [Alloy wheels, Touch screen, Voice Control]\n",
       "15916                                       [Alloy wheels]\n",
       "15917                         [Alloy wheels, Touch screen]\n",
       "15918                         [Alloy wheels, Touch screen]\n",
       "Name: \\nExtras\\n, Length: 15919, dtype: object"
      ]
     },
     "execution_count": 131,
     "metadata": {},
     "output_type": "execute_result"
    }
   ],
   "source": [
    "#Consists of list values\n",
    "df['\\nExtras\\n']"
   ]
  },
  {
   "cell_type": "code",
   "execution_count": 211,
   "id": "cd4ee254",
   "metadata": {},
   "outputs": [
    {
     "data": {
      "text/plain": [
       "['Alloy wheels', 'Sport seats', 'Sport suspension', 'Voice Control']"
      ]
     },
     "execution_count": 211,
     "metadata": {},
     "output_type": "execute_result"
    }
   ],
   "source": [
    "df['\\nExtras\\n'][1]"
   ]
  },
  {
   "cell_type": "code",
   "execution_count": 212,
   "id": "01dc5604",
   "metadata": {},
   "outputs": [],
   "source": [
    "#Equate the column to the number of Extras features\n",
    "df['Extras'] = df['\\nExtras\\n'].str.len()"
   ]
  },
  {
   "cell_type": "code",
   "execution_count": 213,
   "id": "d4b55ac9",
   "metadata": {},
   "outputs": [],
   "source": [
    "df.drop(columns = ['\\nExtras\\n'], inplace = True)"
   ]
  },
  {
   "cell_type": "markdown",
   "id": "9ad40009",
   "metadata": {},
   "source": [
    "### Column 43: Safety & Security"
   ]
  },
  {
   "cell_type": "code",
   "execution_count": 132,
   "id": "9e494d65",
   "metadata": {},
   "outputs": [
    {
     "data": {
      "text/plain": [
       "0        [ABS, Central door lock, Daytime running light...\n",
       "1        [ABS, Central door lock, Central door lock wit...\n",
       "2        [ABS, Central door lock, Daytime running light...\n",
       "3        [ABS, Alarm system, Central door lock with rem...\n",
       "4        [ABS, Central door lock, Driver-side airbag, E...\n",
       "                               ...                        \n",
       "15914    [ABS, Central door lock, Central door lock wit...\n",
       "15915    [ABS, Adaptive Cruise Control, Blind spot moni...\n",
       "15916    [ABS, Adaptive Cruise Control, Blind spot moni...\n",
       "15917    [ABS, Blind spot monitor, Driver-side airbag, ...\n",
       "15918    [ABS, Blind spot monitor, Daytime running ligh...\n",
       "Name: \\nSafety & Security\\n, Length: 15919, dtype: object"
      ]
     },
     "execution_count": 132,
     "metadata": {},
     "output_type": "execute_result"
    }
   ],
   "source": [
    "#Consists of list values\n",
    "df['\\nSafety & Security\\n']"
   ]
  },
  {
   "cell_type": "code",
   "execution_count": 216,
   "id": "e1f59e48",
   "metadata": {},
   "outputs": [
    {
     "data": {
      "text/plain": [
       "['ABS',\n",
       " 'Central door lock',\n",
       " 'Daytime running lights',\n",
       " 'Driver-side airbag',\n",
       " 'Electronic stability control',\n",
       " 'Fog lights',\n",
       " 'Immobilizer',\n",
       " 'Isofix',\n",
       " 'Passenger-side airbag',\n",
       " 'Power steering',\n",
       " 'Side airbag',\n",
       " 'Tire pressure monitoring system',\n",
       " 'Traction control',\n",
       " 'Xenon headlights']"
      ]
     },
     "execution_count": 216,
     "metadata": {},
     "output_type": "execute_result"
    }
   ],
   "source": [
    "df['\\nSafety & Security\\n'][0]"
   ]
  },
  {
   "cell_type": "code",
   "execution_count": 217,
   "id": "290d3393",
   "metadata": {},
   "outputs": [],
   "source": [
    "#Equate the column to the number of Safety & Security features\n",
    "df['Safety & Security'] = df['\\nSafety & Security\\n'].str.len()"
   ]
  },
  {
   "cell_type": "code",
   "execution_count": 218,
   "id": "6f006a53",
   "metadata": {},
   "outputs": [],
   "source": [
    "df.drop(columns = ['\\nSafety & Security\\n'], inplace = True)"
   ]
  },
  {
   "cell_type": "markdown",
   "id": "0b3330ca",
   "metadata": {},
   "source": [
    "### 44 Column: description"
   ]
  },
  {
   "cell_type": "code",
   "execution_count": 133,
   "id": "489a0d2e",
   "metadata": {},
   "outputs": [
    {
     "data": {
      "text/plain": [
       "0        [\\n, Sicherheit:,  , Deaktivierung für Beifahr...\n",
       "1        [\\nLangstreckenfahrzeug daher die hohe Kilomet...\n",
       "2        [\\n, Fahrzeug-Nummer: AM-95365,  , Ehem. UPE 2...\n",
       "3        [\\nAudi A1: , - 1e eigenaar , - Perfecte staat...\n",
       "4        [\\n, Technik & Sicherheit:, Xenon plus, Klimaa...\n",
       "                               ...                        \n",
       "15914    [\\nVettura visionabile nella sede in Via Roma ...\n",
       "15915    [\\nDach: Panorama-Glas-Schiebedach, Lackierung...\n",
       "15916    [\\n, Getriebe:,  Automatik, Technik:,  Bordcom...\n",
       "15917    [\\nDEK:[2691331], Renault Espace Blue dCi 200C...\n",
       "15918    [\\n, Sicherheit Airbags:,  , Seitenairbag,  , ...\n",
       "Name: description, Length: 15919, dtype: object"
      ]
     },
     "execution_count": 133,
     "metadata": {},
     "output_type": "execute_result"
    }
   ],
   "source": [
    "df.description"
   ]
  },
  {
   "cell_type": "code",
   "execution_count": 134,
   "id": "06d550b6",
   "metadata": {},
   "outputs": [],
   "source": [
    "df.drop(columns=['description'], inplace = True)"
   ]
  },
  {
   "cell_type": "markdown",
   "id": "9df830bf",
   "metadata": {},
   "source": [
    "### Column 45: Emission Label"
   ]
  },
  {
   "cell_type": "code",
   "execution_count": 135,
   "id": "885b7565",
   "metadata": {},
   "outputs": [
    {
     "ename": "TypeError",
     "evalue": "unhashable type: 'list'",
     "output_type": "error",
     "traceback": [
      "\u001b[0;31m---------------------------------------------------------------------------\u001b[0m",
      "\u001b[0;31mTypeError\u001b[0m                                 Traceback (most recent call last)",
      "\u001b[0;32mpandas/_libs/hashtable_class_helper.pxi\u001b[0m in \u001b[0;36mpandas._libs.hashtable.PyObjectHashTable.map_locations\u001b[0;34m()\u001b[0m\n",
      "\u001b[0;31mTypeError\u001b[0m: unhashable type: 'list'"
     ]
    },
    {
     "name": "stderr",
     "output_type": "stream",
     "text": [
      "Exception ignored in: 'pandas._libs.index.IndexEngine._call_map_locations'\n",
      "Traceback (most recent call last):\n",
      "  File \"pandas/_libs/hashtable_class_helper.pxi\", line 4588, in pandas._libs.hashtable.PyObjectHashTable.map_locations\n",
      "TypeError: unhashable type: 'list'\n"
     ]
    },
    {
     "data": {
      "text/plain": [
       "NaN                     11934\n",
       "[\\n4 (Green)\\n]          3553\n",
       "[\\n1 (No sticker)\\n]      381\n",
       "[[], [], []]               40\n",
       "[\\n5 (Blue)\\n]              8\n",
       "[\\n3 (Yellow)\\n]            2\n",
       "[\\n2 (Red)\\n]               1\n",
       "Name: Emission Label, dtype: int64"
      ]
     },
     "execution_count": 135,
     "metadata": {},
     "output_type": "execute_result"
    }
   ],
   "source": [
    "df['Emission Label'].value_counts(dropna=False)"
   ]
  },
  {
   "cell_type": "code",
   "execution_count": 136,
   "id": "6c162b27",
   "metadata": {},
   "outputs": [],
   "source": [
    "#Rate of non-Null values are too low\n",
    "df.drop(columns = ['Emission Label'], inplace =True)"
   ]
  },
  {
   "cell_type": "markdown",
   "id": "e5f1ccc8",
   "metadata": {},
   "source": [
    "### Column 46: Gears"
   ]
  },
  {
   "cell_type": "code",
   "execution_count": 137,
   "id": "36eacd8f",
   "metadata": {},
   "outputs": [
    {
     "data": {
      "text/plain": [
       "0        NaN\n",
       "1        7.0\n",
       "2        NaN\n",
       "3        6.0\n",
       "4        NaN\n",
       "        ... \n",
       "15914    6.0\n",
       "15915    7.0\n",
       "15916    6.0\n",
       "15917    6.0\n",
       "15918    NaN\n",
       "Name: Gears, Length: 15919, dtype: float64"
      ]
     },
     "execution_count": 137,
     "metadata": {},
     "output_type": "execute_result"
    }
   ],
   "source": [
    "df.Gears = df.Gears.str[0].str.findall('\\d+').str[0].astype('float')\n",
    "df.Gears"
   ]
  },
  {
   "cell_type": "markdown",
   "id": "1aad2ecf",
   "metadata": {},
   "source": [
    "### Column 47: Country version"
   ]
  },
  {
   "cell_type": "code",
   "execution_count": 138,
   "id": "cbe38258",
   "metadata": {},
   "outputs": [
    {
     "ename": "TypeError",
     "evalue": "unhashable type: 'list'",
     "output_type": "error",
     "traceback": [
      "\u001b[0;31m---------------------------------------------------------------------------\u001b[0m",
      "\u001b[0;31mTypeError\u001b[0m                                 Traceback (most recent call last)",
      "\u001b[0;32mpandas/_libs/hashtable_class_helper.pxi\u001b[0m in \u001b[0;36mpandas._libs.hashtable.PyObjectHashTable.map_locations\u001b[0;34m()\u001b[0m\n",
      "\u001b[0;31mTypeError\u001b[0m: unhashable type: 'list'"
     ]
    },
    {
     "name": "stderr",
     "output_type": "stream",
     "text": [
      "Exception ignored in: 'pandas._libs.index.IndexEngine._call_map_locations'\n",
      "Traceback (most recent call last):\n",
      "  File \"pandas/_libs/hashtable_class_helper.pxi\", line 4588, in pandas._libs.hashtable.PyObjectHashTable.map_locations\n",
      "TypeError: unhashable type: 'list'\n"
     ]
    },
    {
     "data": {
      "text/plain": [
       "NaN                     8333\n",
       "[\\nGermany\\n]           4502\n",
       "[\\nItaly\\n]             1038\n",
       "[\\nEuropean Union\\n]     507\n",
       "[\\nNetherlands\\n]        464\n",
       "[\\nSpain\\n]              325\n",
       "[\\nBelgium\\n]            314\n",
       "[\\nAustria\\n]            208\n",
       "[\\nCzech Republic\\n]      52\n",
       "[\\nPoland\\n]              49\n",
       "[\\nFrance\\n]              38\n",
       "[\\nDenmark\\n]             33\n",
       "[\\nHungary\\n]             28\n",
       "[\\nJapan\\n]                8\n",
       "[\\nSlovakia\\n]             4\n",
       "[\\nCroatia\\n]              4\n",
       "[\\nSweden\\n]               3\n",
       "[\\nBulgaria\\n]             2\n",
       "[\\nRomania\\n]              2\n",
       "[\\nEgypt\\n]                1\n",
       "[\\nSerbia\\n]               1\n",
       "[\\nLuxembourg\\n]           1\n",
       "[\\nSwitzerland\\n]          1\n",
       "[\\nSlovenia\\n]             1\n",
       "Name: Country version, dtype: int64"
      ]
     },
     "execution_count": 138,
     "metadata": {},
     "output_type": "execute_result"
    }
   ],
   "source": [
    "df['Country version'].value_counts(dropna=False)"
   ]
  },
  {
   "cell_type": "code",
   "execution_count": 139,
   "id": "0621c076",
   "metadata": {},
   "outputs": [
    {
     "data": {
      "text/plain": [
       "0        unknown\n",
       "1        unknown\n",
       "2        unknown\n",
       "3        unknown\n",
       "4        Germany\n",
       "          ...   \n",
       "15914    unknown\n",
       "15915    Germany\n",
       "15916    Austria\n",
       "15917    unknown\n",
       "15918    Germany\n",
       "Name: Country version, Length: 15919, dtype: object"
      ]
     },
     "execution_count": 139,
     "metadata": {},
     "output_type": "execute_result"
    }
   ],
   "source": [
    "df['Country version'] = df['Country version'].str[0].fillna('unknown').str.rstrip('\\n').str.lstrip('\\n')\n",
    "df['Country version']"
   ]
  },
  {
   "cell_type": "markdown",
   "id": "c39f9e21",
   "metadata": {},
   "source": [
    "### Column 48: Electricity consumption"
   ]
  },
  {
   "cell_type": "code",
   "execution_count": 140,
   "id": "08aff5ee",
   "metadata": {},
   "outputs": [
    {
     "ename": "TypeError",
     "evalue": "unhashable type: 'list'",
     "output_type": "error",
     "traceback": [
      "\u001b[0;31m---------------------------------------------------------------------------\u001b[0m",
      "\u001b[0;31mTypeError\u001b[0m                                 Traceback (most recent call last)",
      "\u001b[0;32mpandas/_libs/hashtable_class_helper.pxi\u001b[0m in \u001b[0;36mpandas._libs.hashtable.PyObjectHashTable.map_locations\u001b[0;34m()\u001b[0m\n",
      "\u001b[0;31mTypeError\u001b[0m: unhashable type: 'list'"
     ]
    },
    {
     "name": "stderr",
     "output_type": "stream",
     "text": [
      "Exception ignored in: 'pandas._libs.index.IndexEngine._call_map_locations'\n",
      "Traceback (most recent call last):\n",
      "  File \"pandas/_libs/hashtable_class_helper.pxi\", line 4588, in pandas._libs.hashtable.PyObjectHashTable.map_locations\n",
      "TypeError: unhashable type: 'list'\n"
     ]
    },
    {
     "data": {
      "text/plain": [
       "NaN                          15782\n",
       "[\\n0 kWh/100 km (comb)\\n]      137\n",
       "Name: Electricity consumption, dtype: int64"
      ]
     },
     "execution_count": 140,
     "metadata": {},
     "output_type": "execute_result"
    }
   ],
   "source": [
    "df['Electricity consumption'].value_counts(dropna=False)"
   ]
  },
  {
   "cell_type": "code",
   "execution_count": 141,
   "id": "cba77c6d",
   "metadata": {},
   "outputs": [],
   "source": [
    "df.drop(columns = ['Electricity consumption'], inplace = True)"
   ]
  },
  {
   "cell_type": "markdown",
   "id": "056e3894",
   "metadata": {},
   "source": [
    "### Column 49: Last Service Date"
   ]
  },
  {
   "cell_type": "code",
   "execution_count": 142,
   "id": "80a8be96",
   "metadata": {},
   "outputs": [
    {
     "ename": "TypeError",
     "evalue": "unhashable type: 'list'",
     "output_type": "error",
     "traceback": [
      "\u001b[0;31m---------------------------------------------------------------------------\u001b[0m",
      "\u001b[0;31mTypeError\u001b[0m                                 Traceback (most recent call last)",
      "\u001b[0;32mpandas/_libs/hashtable_class_helper.pxi\u001b[0m in \u001b[0;36mpandas._libs.hashtable.PyObjectHashTable.map_locations\u001b[0;34m()\u001b[0m\n",
      "\u001b[0;31mTypeError\u001b[0m: unhashable type: 'list'"
     ]
    },
    {
     "name": "stderr",
     "output_type": "stream",
     "text": [
      "Exception ignored in: 'pandas._libs.index.IndexEngine._call_map_locations'\n",
      "Traceback (most recent call last):\n",
      "  File \"pandas/_libs/hashtable_class_helper.pxi\", line 4588, in pandas._libs.hashtable.PyObjectHashTable.map_locations\n",
      "TypeError: unhashable type: 'list'\n"
     ]
    },
    {
     "data": {
      "text/plain": [
       "NaN                                       15353\n",
       "[\\n02/2019\\n, \\nEuro 6\\n]                    23\n",
       "[\\n05/2019\\n, \\nEuro 6\\n]                    16\n",
       "[\\n01/2018\\n, \\n118 g CO2/km (comb)\\n]       15\n",
       "[\\n03/2019\\n, \\nEuro 6\\n]                    15\n",
       "                                          ...  \n",
       "[\\n06/2019\\n, \\n99 g CO2/km (comb)\\n]         1\n",
       "\\n07/2019\\n                                   1\n",
       "[\\n06/2019\\n, \\n94 g CO2/km (comb)\\n]         1\n",
       "[\\n06/2018\\n, \\n120 g CO2/km (comb)\\n]        1\n",
       "[\\n05/2019\\n, \\n135 g CO2/km (comb)\\n]        1\n",
       "Name: Last Service Date, Length: 267, dtype: int64"
      ]
     },
     "execution_count": 142,
     "metadata": {},
     "output_type": "execute_result"
    }
   ],
   "source": [
    "df['Last Service Date'].value_counts(dropna=False)"
   ]
  },
  {
   "cell_type": "code",
   "execution_count": 143,
   "id": "0c9f8161",
   "metadata": {},
   "outputs": [],
   "source": [
    "df.drop(columns = ['Last Service Date'], inplace = True)"
   ]
  },
  {
   "cell_type": "markdown",
   "id": "b6d37679",
   "metadata": {},
   "source": [
    "### Column 50: Other Fuel Types"
   ]
  },
  {
   "cell_type": "code",
   "execution_count": 144,
   "id": "3e923154",
   "metadata": {},
   "outputs": [
    {
     "ename": "TypeError",
     "evalue": "unhashable type: 'list'",
     "output_type": "error",
     "traceback": [
      "\u001b[0;31m---------------------------------------------------------------------------\u001b[0m",
      "\u001b[0;31mTypeError\u001b[0m                                 Traceback (most recent call last)",
      "\u001b[0;32mpandas/_libs/hashtable_class_helper.pxi\u001b[0m in \u001b[0;36mpandas._libs.hashtable.PyObjectHashTable.map_locations\u001b[0;34m()\u001b[0m\n",
      "\u001b[0;31mTypeError\u001b[0m: unhashable type: 'list'"
     ]
    },
    {
     "name": "stderr",
     "output_type": "stream",
     "text": [
      "Exception ignored in: 'pandas._libs.index.IndexEngine._call_map_locations'\n",
      "Traceback (most recent call last):\n",
      "  File \"pandas/_libs/hashtable_class_helper.pxi\", line 4588, in pandas._libs.hashtable.PyObjectHashTable.map_locations\n",
      "TypeError: unhashable type: 'list'\n"
     ]
    },
    {
     "data": {
      "text/plain": [
       "NaN             15039\n",
       "[[], [], []]      880\n",
       "Name: Other Fuel Types, dtype: int64"
      ]
     },
     "execution_count": 144,
     "metadata": {},
     "output_type": "execute_result"
    }
   ],
   "source": [
    "df['Other Fuel Types'].value_counts(dropna=False)"
   ]
  },
  {
   "cell_type": "code",
   "execution_count": 145,
   "id": "8a16f386",
   "metadata": {},
   "outputs": [],
   "source": [
    "df.drop(columns = ['Other Fuel Types'], inplace = True)"
   ]
  },
  {
   "cell_type": "markdown",
   "id": "9604420c",
   "metadata": {},
   "source": [
    "### Column 51: Availability"
   ]
  },
  {
   "cell_type": "code",
   "execution_count": 146,
   "id": "bde678ba",
   "metadata": {},
   "outputs": [
    {
     "data": {
      "text/plain": [
       "NaN                              15284\n",
       "\\nin 90 days from ordering\\n       196\n",
       "\\nin 120 days from ordering\\n      182\n",
       "\\nin 1 day from ordering\\n          51\n",
       "\\nin 5 days from ordering\\n         35\n",
       "\\nin 3 days from ordering\\n         35\n",
       "\\nin 180 days from ordering\\n       24\n",
       "\\nin 14 days from ordering\\n        24\n",
       "\\nin 7 days from ordering\\n         20\n",
       "\\nin 150 days from ordering\\n       18\n",
       "\\nin 2 days from ordering\\n         16\n",
       "\\nin 60 days from ordering\\n        13\n",
       "\\nin 42 days from ordering\\n        10\n",
       "\\nin 21 days from ordering\\n         8\n",
       "\\nin 4 days from ordering\\n          2\n",
       "\\nin 6 days from ordering\\n          1\n",
       "Name: Availability, dtype: int64"
      ]
     },
     "execution_count": 146,
     "metadata": {},
     "output_type": "execute_result"
    }
   ],
   "source": [
    "df.Availability.value_counts(dropna=False)"
   ]
  },
  {
   "cell_type": "code",
   "execution_count": 147,
   "id": "c28cd6c4",
   "metadata": {},
   "outputs": [],
   "source": [
    "df.drop(columns = ['Availability'], inplace = True)"
   ]
  },
  {
   "cell_type": "markdown",
   "id": "0c1e072e",
   "metadata": {},
   "source": [
    "### Column 52: Last Timing Belt Service Date"
   ]
  },
  {
   "cell_type": "code",
   "execution_count": 148,
   "id": "497123c0",
   "metadata": {},
   "outputs": [],
   "source": [
    "df.drop(columns = ['Last Timing Belt Service Date'], inplace = True)"
   ]
  },
  {
   "cell_type": "markdown",
   "id": "10d77d30",
   "metadata": {},
   "source": [
    "### Column 53: Available from"
   ]
  },
  {
   "cell_type": "code",
   "execution_count": 149,
   "id": "9753a0c1",
   "metadata": {},
   "outputs": [],
   "source": [
    "df.drop(columns = ['Available from'], inplace = True)"
   ]
  },
  {
   "cell_type": "markdown",
   "id": "ec76ff07",
   "metadata": {},
   "source": [
    "### Dataframe After Cleaning"
   ]
  },
  {
   "cell_type": "code",
   "execution_count": 207,
   "id": "7cc14dbe",
   "metadata": {},
   "outputs": [
    {
     "data": {
      "text/html": [
       "<div>\n",
       "<style scoped>\n",
       "    .dataframe tbody tr th:only-of-type {\n",
       "        vertical-align: middle;\n",
       "    }\n",
       "\n",
       "    .dataframe tbody tr th {\n",
       "        vertical-align: top;\n",
       "    }\n",
       "\n",
       "    .dataframe thead th {\n",
       "        text-align: right;\n",
       "    }\n",
       "</style>\n",
       "<table border=\"1\" class=\"dataframe\">\n",
       "  <thead>\n",
       "    <tr style=\"text-align: right;\">\n",
       "      <th></th>\n",
       "      <th>0</th>\n",
       "      <th>1</th>\n",
       "      <th>2</th>\n",
       "    </tr>\n",
       "  </thead>\n",
       "  <tbody>\n",
       "    <tr>\n",
       "      <th>make_model</th>\n",
       "      <td>Audi A1</td>\n",
       "      <td>Audi A1</td>\n",
       "      <td>Audi A1</td>\n",
       "    </tr>\n",
       "    <tr>\n",
       "      <th>price</th>\n",
       "      <td>15770.0</td>\n",
       "      <td>14500.0</td>\n",
       "      <td>14640.0</td>\n",
       "    </tr>\n",
       "    <tr>\n",
       "      <th>vat</th>\n",
       "      <td>VAT deductible</td>\n",
       "      <td>Price negotiable</td>\n",
       "      <td>VAT deductible</td>\n",
       "    </tr>\n",
       "    <tr>\n",
       "      <th>km</th>\n",
       "      <td>56013.0</td>\n",
       "      <td>80000.0</td>\n",
       "      <td>83450.0</td>\n",
       "    </tr>\n",
       "    <tr>\n",
       "      <th>registration</th>\n",
       "      <td>2016.0</td>\n",
       "      <td>2017.0</td>\n",
       "      <td>2016.0</td>\n",
       "    </tr>\n",
       "    <tr>\n",
       "      <th>prev_owner</th>\n",
       "      <td>2.0</td>\n",
       "      <td>NaN</td>\n",
       "      <td>1.0</td>\n",
       "    </tr>\n",
       "    <tr>\n",
       "      <th>hp</th>\n",
       "      <td>66.0</td>\n",
       "      <td>141.0</td>\n",
       "      <td>85.0</td>\n",
       "    </tr>\n",
       "    <tr>\n",
       "      <th>Type</th>\n",
       "      <td>Used</td>\n",
       "      <td>Used</td>\n",
       "      <td>Used</td>\n",
       "    </tr>\n",
       "    <tr>\n",
       "      <th>Next Inspection</th>\n",
       "      <td>2021.0</td>\n",
       "      <td>NaN</td>\n",
       "      <td>NaN</td>\n",
       "    </tr>\n",
       "    <tr>\n",
       "      <th>Inspection new</th>\n",
       "      <td>Yes</td>\n",
       "      <td>unknown</td>\n",
       "      <td>unknown</td>\n",
       "    </tr>\n",
       "    <tr>\n",
       "      <th>Warranty(months)</th>\n",
       "      <td>NaN</td>\n",
       "      <td>NaN</td>\n",
       "      <td>NaN</td>\n",
       "    </tr>\n",
       "    <tr>\n",
       "      <th>Body Color</th>\n",
       "      <td>Black</td>\n",
       "      <td>Red</td>\n",
       "      <td>Black</td>\n",
       "    </tr>\n",
       "    <tr>\n",
       "      <th>Paint Type</th>\n",
       "      <td>Metallic</td>\n",
       "      <td>unknown</td>\n",
       "      <td>Metallic</td>\n",
       "    </tr>\n",
       "    <tr>\n",
       "      <th>Body Color Original</th>\n",
       "      <td>Mythosschwarz</td>\n",
       "      <td>unknown</td>\n",
       "      <td>mythosschwarz metallic</td>\n",
       "    </tr>\n",
       "    <tr>\n",
       "      <th>Body</th>\n",
       "      <td>Sedans</td>\n",
       "      <td>Sedans</td>\n",
       "      <td>Sedans</td>\n",
       "    </tr>\n",
       "    <tr>\n",
       "      <th>Nr. of Doors</th>\n",
       "      <td>5.0</td>\n",
       "      <td>3.0</td>\n",
       "      <td>4.0</td>\n",
       "    </tr>\n",
       "    <tr>\n",
       "      <th>Nr. of Seats</th>\n",
       "      <td>5.0</td>\n",
       "      <td>4.0</td>\n",
       "      <td>4.0</td>\n",
       "    </tr>\n",
       "    <tr>\n",
       "      <th>Gearing Type</th>\n",
       "      <td>Automatic</td>\n",
       "      <td>Automatic</td>\n",
       "      <td>Automatic</td>\n",
       "    </tr>\n",
       "    <tr>\n",
       "      <th>Displacement</th>\n",
       "      <td>1422.0</td>\n",
       "      <td>1798.0</td>\n",
       "      <td>1598.0</td>\n",
       "    </tr>\n",
       "    <tr>\n",
       "      <th>Cylinders</th>\n",
       "      <td>3.0</td>\n",
       "      <td>4.0</td>\n",
       "      <td>NaN</td>\n",
       "    </tr>\n",
       "    <tr>\n",
       "      <th>Weight</th>\n",
       "      <td>1220.0</td>\n",
       "      <td>1255.0</td>\n",
       "      <td>NaN</td>\n",
       "    </tr>\n",
       "    <tr>\n",
       "      <th>Drive chain</th>\n",
       "      <td>front</td>\n",
       "      <td>front</td>\n",
       "      <td>front</td>\n",
       "    </tr>\n",
       "    <tr>\n",
       "      <th>Fuel</th>\n",
       "      <td>Diesel</td>\n",
       "      <td>Benzine</td>\n",
       "      <td>Diesel</td>\n",
       "    </tr>\n",
       "    <tr>\n",
       "      <th>CO2 Emission</th>\n",
       "      <td>99.0</td>\n",
       "      <td>129.0</td>\n",
       "      <td>99.0</td>\n",
       "    </tr>\n",
       "    <tr>\n",
       "      <th>Emission Class</th>\n",
       "      <td>Euro 6</td>\n",
       "      <td>Euro 6</td>\n",
       "      <td>Euro 6</td>\n",
       "    </tr>\n",
       "    <tr>\n",
       "      <th>\\nComfort &amp; Convenience\\n</th>\n",
       "      <td>[Air conditioning, Armrest, Automatic climate ...</td>\n",
       "      <td>[Air conditioning, Automatic climate control, ...</td>\n",
       "      <td>[Air conditioning, Cruise control, Electrical ...</td>\n",
       "    </tr>\n",
       "    <tr>\n",
       "      <th>\\nEntertainment &amp; Media\\n</th>\n",
       "      <td>[Bluetooth, Hands-free equipment, On-board com...</td>\n",
       "      <td>[Bluetooth, Hands-free equipment, On-board com...</td>\n",
       "      <td>[MP3, On-board computer]</td>\n",
       "    </tr>\n",
       "    <tr>\n",
       "      <th>\\nExtras\\n</th>\n",
       "      <td>[Alloy wheels, Catalytic Converter, Voice Cont...</td>\n",
       "      <td>[Alloy wheels, Sport seats, Sport suspension, ...</td>\n",
       "      <td>[Alloy wheels, Voice Control]</td>\n",
       "    </tr>\n",
       "    <tr>\n",
       "      <th>\\nSafety &amp; Security\\n</th>\n",
       "      <td>[ABS, Central door lock, Daytime running light...</td>\n",
       "      <td>[ABS, Central door lock, Central door lock wit...</td>\n",
       "      <td>[ABS, Central door lock, Daytime running light...</td>\n",
       "    </tr>\n",
       "    <tr>\n",
       "      <th>Gears</th>\n",
       "      <td>NaN</td>\n",
       "      <td>7.0</td>\n",
       "      <td>NaN</td>\n",
       "    </tr>\n",
       "    <tr>\n",
       "      <th>Country version</th>\n",
       "      <td>unknown</td>\n",
       "      <td>unknown</td>\n",
       "      <td>unknown</td>\n",
       "    </tr>\n",
       "    <tr>\n",
       "      <th>Upholstery_Texture</th>\n",
       "      <td>Cloth</td>\n",
       "      <td>Cloth</td>\n",
       "      <td>Cloth</td>\n",
       "    </tr>\n",
       "    <tr>\n",
       "      <th>Upholstery_Color</th>\n",
       "      <td>Black</td>\n",
       "      <td>Grey</td>\n",
       "      <td>Black</td>\n",
       "    </tr>\n",
       "    <tr>\n",
       "      <th>Consumption_city</th>\n",
       "      <td>4.3</td>\n",
       "      <td>7.1</td>\n",
       "      <td>4.4</td>\n",
       "    </tr>\n",
       "    <tr>\n",
       "      <th>Consumption_country</th>\n",
       "      <td>3.5</td>\n",
       "      <td>4.7</td>\n",
       "      <td>3.4</td>\n",
       "    </tr>\n",
       "    <tr>\n",
       "      <th>Consumption_combined</th>\n",
       "      <td>3.8</td>\n",
       "      <td>5.6</td>\n",
       "      <td>3.8</td>\n",
       "    </tr>\n",
       "  </tbody>\n",
       "</table>\n",
       "</div>"
      ],
      "text/plain": [
       "                                                                           0  \\\n",
       "make_model                                                           Audi A1   \n",
       "price                                                                15770.0   \n",
       "vat                                                           VAT deductible   \n",
       "km                                                                   56013.0   \n",
       "registration                                                          2016.0   \n",
       "prev_owner                                                               2.0   \n",
       "hp                                                                      66.0   \n",
       "Type                                                                    Used   \n",
       "Next Inspection                                                       2021.0   \n",
       "Inspection new                                                           Yes   \n",
       "Warranty(months)                                                         NaN   \n",
       "Body Color                                                             Black   \n",
       "Paint Type                                                          Metallic   \n",
       "Body Color Original                                            Mythosschwarz   \n",
       "Body                                                                  Sedans   \n",
       "Nr. of Doors                                                             5.0   \n",
       "Nr. of Seats                                                             5.0   \n",
       "Gearing Type                                                       Automatic   \n",
       "Displacement                                                          1422.0   \n",
       "Cylinders                                                                3.0   \n",
       "Weight                                                                1220.0   \n",
       "Drive chain                                                            front   \n",
       "Fuel                                                                  Diesel   \n",
       "CO2 Emission                                                            99.0   \n",
       "Emission Class                                                        Euro 6   \n",
       "\\nComfort & Convenience\\n  [Air conditioning, Armrest, Automatic climate ...   \n",
       "\\nEntertainment & Media\\n  [Bluetooth, Hands-free equipment, On-board com...   \n",
       "\\nExtras\\n                 [Alloy wheels, Catalytic Converter, Voice Cont...   \n",
       "\\nSafety & Security\\n      [ABS, Central door lock, Daytime running light...   \n",
       "Gears                                                                    NaN   \n",
       "Country version                                                      unknown   \n",
       "Upholstery_Texture                                                     Cloth   \n",
       "Upholstery_Color                                                       Black   \n",
       "Consumption_city                                                         4.3   \n",
       "Consumption_country                                                      3.5   \n",
       "Consumption_combined                                                     3.8   \n",
       "\n",
       "                                                                           1  \\\n",
       "make_model                                                           Audi A1   \n",
       "price                                                                14500.0   \n",
       "vat                                                         Price negotiable   \n",
       "km                                                                   80000.0   \n",
       "registration                                                          2017.0   \n",
       "prev_owner                                                               NaN   \n",
       "hp                                                                     141.0   \n",
       "Type                                                                    Used   \n",
       "Next Inspection                                                          NaN   \n",
       "Inspection new                                                       unknown   \n",
       "Warranty(months)                                                         NaN   \n",
       "Body Color                                                               Red   \n",
       "Paint Type                                                           unknown   \n",
       "Body Color Original                                                  unknown   \n",
       "Body                                                                  Sedans   \n",
       "Nr. of Doors                                                             3.0   \n",
       "Nr. of Seats                                                             4.0   \n",
       "Gearing Type                                                       Automatic   \n",
       "Displacement                                                          1798.0   \n",
       "Cylinders                                                                4.0   \n",
       "Weight                                                                1255.0   \n",
       "Drive chain                                                            front   \n",
       "Fuel                                                                 Benzine   \n",
       "CO2 Emission                                                           129.0   \n",
       "Emission Class                                                        Euro 6   \n",
       "\\nComfort & Convenience\\n  [Air conditioning, Automatic climate control, ...   \n",
       "\\nEntertainment & Media\\n  [Bluetooth, Hands-free equipment, On-board com...   \n",
       "\\nExtras\\n                 [Alloy wheels, Sport seats, Sport suspension, ...   \n",
       "\\nSafety & Security\\n      [ABS, Central door lock, Central door lock wit...   \n",
       "Gears                                                                    7.0   \n",
       "Country version                                                      unknown   \n",
       "Upholstery_Texture                                                     Cloth   \n",
       "Upholstery_Color                                                        Grey   \n",
       "Consumption_city                                                         7.1   \n",
       "Consumption_country                                                      4.7   \n",
       "Consumption_combined                                                     5.6   \n",
       "\n",
       "                                                                           2  \n",
       "make_model                                                           Audi A1  \n",
       "price                                                                14640.0  \n",
       "vat                                                           VAT deductible  \n",
       "km                                                                   83450.0  \n",
       "registration                                                          2016.0  \n",
       "prev_owner                                                               1.0  \n",
       "hp                                                                      85.0  \n",
       "Type                                                                    Used  \n",
       "Next Inspection                                                          NaN  \n",
       "Inspection new                                                       unknown  \n",
       "Warranty(months)                                                         NaN  \n",
       "Body Color                                                             Black  \n",
       "Paint Type                                                          Metallic  \n",
       "Body Color Original                                   mythosschwarz metallic  \n",
       "Body                                                                  Sedans  \n",
       "Nr. of Doors                                                             4.0  \n",
       "Nr. of Seats                                                             4.0  \n",
       "Gearing Type                                                       Automatic  \n",
       "Displacement                                                          1598.0  \n",
       "Cylinders                                                                NaN  \n",
       "Weight                                                                   NaN  \n",
       "Drive chain                                                            front  \n",
       "Fuel                                                                  Diesel  \n",
       "CO2 Emission                                                            99.0  \n",
       "Emission Class                                                        Euro 6  \n",
       "\\nComfort & Convenience\\n  [Air conditioning, Cruise control, Electrical ...  \n",
       "\\nEntertainment & Media\\n                           [MP3, On-board computer]  \n",
       "\\nExtras\\n                                     [Alloy wheels, Voice Control]  \n",
       "\\nSafety & Security\\n      [ABS, Central door lock, Daytime running light...  \n",
       "Gears                                                                    NaN  \n",
       "Country version                                                      unknown  \n",
       "Upholstery_Texture                                                     Cloth  \n",
       "Upholstery_Color                                                       Black  \n",
       "Consumption_city                                                         4.4  \n",
       "Consumption_country                                                      3.4  \n",
       "Consumption_combined                                                     3.8  "
      ]
     },
     "execution_count": 207,
     "metadata": {},
     "output_type": "execute_result"
    }
   ],
   "source": [
    "df.head(3).T"
   ]
  },
  {
   "cell_type": "code",
   "execution_count": 232,
   "id": "fba25875",
   "metadata": {},
   "outputs": [
    {
     "name": "stdout",
     "output_type": "stream",
     "text": [
      "<class 'pandas.core.frame.DataFrame'>\n",
      "RangeIndex: 15919 entries, 0 to 15918\n",
      "Data columns (total 36 columns):\n",
      " #   Column                 Non-Null Count  Dtype  \n",
      "---  ------                 --------------  -----  \n",
      " 0   make_model             15919 non-null  object \n",
      " 1   price                  15919 non-null  float64\n",
      " 2   vat                    11406 non-null  object \n",
      " 3   km                     14895 non-null  float64\n",
      " 4   registration           14322 non-null  float64\n",
      " 5   prev_owner             9254 non-null   float64\n",
      " 6   hp                     15831 non-null  float64\n",
      " 7   Type                   15917 non-null  object \n",
      " 8   Next Inspection        3535 non-null   float64\n",
      " 9   Inspection new         15919 non-null  object \n",
      " 10  Warranty(months)       4853 non-null   float64\n",
      " 11  Body Color             15322 non-null  object \n",
      " 12  Paint Type             15919 non-null  object \n",
      " 13  Body Color Original    15919 non-null  object \n",
      " 14  Body                   15859 non-null  object \n",
      " 15  Nr. of Doors           15707 non-null  float64\n",
      " 16  Nr. of Seats           14942 non-null  float64\n",
      " 17  Gearing Type           15919 non-null  object \n",
      " 18  Displacement           15739 non-null  float64\n",
      " 19  Cylinders              10239 non-null  float64\n",
      " 20  Weight                 8945 non-null   float64\n",
      " 21  Drive chain            9061 non-null   object \n",
      " 22  Fuel                   15919 non-null  object \n",
      " 23  CO2 Emission           13483 non-null  float64\n",
      " 24  Emission Class         15919 non-null  object \n",
      " 25  Gears                  11207 non-null  float64\n",
      " 26  Country version        15919 non-null  object \n",
      " 27  Upholstery_Texture     15919 non-null  object \n",
      " 28  Upholstery_Color       10841 non-null  object \n",
      " 29  Consumption_city       13483 non-null  float64\n",
      " 30  Consumption_country    13543 non-null  float64\n",
      " 31  Consumption_combined   13886 non-null  float64\n",
      " 32  Extras                 12957 non-null  float64\n",
      " 33  Safety & Security      14937 non-null  float64\n",
      " 34  Entertainment & Media  14545 non-null  float64\n",
      " 35  Comfort & Convenience  14999 non-null  float64\n",
      "dtypes: float64(21), object(15)\n",
      "memory usage: 4.4+ MB\n"
     ]
    }
   ],
   "source": [
    "df.info()"
   ]
  },
  {
   "cell_type": "code",
   "execution_count": 233,
   "id": "e7300dc0",
   "metadata": {},
   "outputs": [],
   "source": [
    "#Save the dataframe as a csv file\n",
    "df.to_csv('auto_scout_cleaned.csv')"
   ]
  },
  {
   "cell_type": "code",
   "execution_count": null,
   "id": "09cb51e4",
   "metadata": {},
   "outputs": [],
   "source": []
  }
 ],
 "metadata": {
  "kernelspec": {
   "display_name": "Python 3",
   "language": "python",
   "name": "python3"
  },
  "language_info": {
   "codemirror_mode": {
    "name": "ipython",
    "version": 3
   },
   "file_extension": ".py",
   "mimetype": "text/x-python",
   "name": "python",
   "nbconvert_exporter": "python",
   "pygments_lexer": "ipython3",
   "version": "3.8.8"
  }
 },
 "nbformat": 4,
 "nbformat_minor": 5
}
